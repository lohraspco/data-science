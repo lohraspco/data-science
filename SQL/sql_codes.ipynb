{
 "cells": [
  {
   "cell_type": "code",
   "execution_count": 6,
   "metadata": {},
   "outputs": [
    {
     "name": "stdout",
     "output_type": "stream",
     "text": [
      "Collecting psycopg2-binary\n",
      "  Downloading psycopg2_binary-2.9.3-cp38-cp38-manylinux_2_17_x86_64.manylinux2014_x86_64.whl (3.0 MB)\n",
      "\u001b[K     |████████████████████████████████| 3.0 MB 5.7 MB/s eta 0:00:01\n",
      "\u001b[?25hInstalling collected packages: psycopg2-binary\n",
      "Successfully installed psycopg2-binary-2.9.3\n",
      "Note: you may need to restart the kernel to use updated packages.\n"
     ]
    }
   ],
   "source": [
    "%pip install psycopg2-binary\n"
   ]
  },
  {
   "cell_type": "code",
   "execution_count": 3,
   "metadata": {},
   "outputs": [],
   "source": [
    "import psycopg2\n",
    "conn = psycopg2.connect(\n",
    "        host=\"192.168.0.108\",\n",
    "        database=\"postgres\",\n",
    "        user=\"postgres\",\n",
    "        password=\"reallyStrongPwd123\")\n",
    "cur = conn.cursor()"
   ]
  },
  {
   "cell_type": "code",
   "execution_count": 1,
   "metadata": {},
   "outputs": [],
   "source": [
    "import pandas as pd\n",
    "\n",
    "df = pd.read_csv(\"la_restaurants.csv\")\n",
    "\n",
    "\n"
   ]
  },
  {
   "cell_type": "code",
   "execution_count": null,
   "metadata": {},
   "outputs": [],
   "source": [
    "df.iloc[:2].to_sql()"
   ]
  },
  {
   "cell_type": "code",
   "execution_count": null,
   "metadata": {},
   "outputs": [],
   "source": [
    "query = \"INSERT INTO vendors(vendor_name) VALUES(%s)\""
   ]
  },
  {
   "cell_type": "code",
   "execution_count": 2,
   "metadata": {},
   "outputs": [
    {
     "data": {
      "text/plain": [
       "Index(['ACTIVITY DATE', 'OWNER ID', 'OWNER NAME', 'FACILITY ID',\n",
       "       'FACILITY NAME', 'RECORD ID', 'PROGRAM NAME', 'PROGRAM STATUS',\n",
       "       'PROGRAM ELEMENT (PE)', 'PE DESCRIPTION', 'FACILITY ADDRESS',\n",
       "       'FACILITY CITY', 'FACILITY STATE', 'FACILITY ZIP', 'SERVICE CODE',\n",
       "       'SERVICE DESCRIPTION', 'SCORE', 'SERIAL NUMBER', 'EMPLOYEE ID'],\n",
       "      dtype='object')"
      ]
     },
     "execution_count": 2,
     "metadata": {},
     "output_type": "execute_result"
    }
   ],
   "source": [
    "df.columns"
   ]
  },
  {
   "cell_type": "code",
   "execution_count": 6,
   "metadata": {},
   "outputs": [],
   "source": [
    "from io import StringIO"
   ]
  },
  {
   "cell_type": "code",
   "execution_count": 17,
   "metadata": {},
   "outputs": [],
   "source": [
    "data = StringIO(\"\"\"col_names\n",
    "serial_number:\n",
    "varchar\n",
    "activity_date:\n",
    "datetime\n",
    "facility_name:\n",
    "varchar\n",
    "score:\n",
    "int\n",
    "grade:\n",
    "varchar\n",
    "service_code:\n",
    "int\n",
    "service_description:\n",
    "varchar\n",
    "employee_id:\n",
    "varchar\n",
    "facility_address:\n",
    "varchar\n",
    "facility_city:\n",
    "varchar\n",
    "facility_id:\n",
    "varchar\n",
    "facility_state:\n",
    "varchar\n",
    "facility_zip:\n",
    "varchar\n",
    "owner_id:\n",
    "varchar\n",
    "owner_name:\n",
    "varchar\n",
    "pe_description:\n",
    "varchar\n",
    "program_element_pe:\n",
    "int\n",
    "program_name:\n",
    "varchar\n",
    "program_status:\n",
    "varchar\n",
    "record_id:\n",
    "varchar\"\"\")\n"
   ]
  },
  {
   "cell_type": "code",
   "execution_count": 18,
   "metadata": {},
   "outputs": [],
   "source": [
    "df2 = pd.read_csv(data)\n",
    "df3  = df2[0::2].assign(start=df2[::2].index)\n"
   ]
  },
  {
   "cell_type": "code",
   "execution_count": 23,
   "metadata": {},
   "outputs": [],
   "source": []
  },
  {
   "cell_type": "code",
   "execution_count": null,
   "metadata": {},
   "outputs": [],
   "source": [
    "['serial_number:', 'activity_date:', 'facility_name:', 'score:',\n",
    "       'grade:', 'service_code:', 'service_description:', 'employee_id:',\n",
    "       'facility_address:', 'facility_city:', 'facility_id:',\n",
    "       'facility_state:', 'facility_zip:', 'owner_id:', 'owner_name:',\n",
    "       'pe_description:', 'program_element_pe:', 'program_name:',\n",
    "       'program_status:', 'record_id:']"
   ]
  },
  {
   "cell_type": "code",
   "execution_count": null,
   "metadata": {},
   "outputs": [],
   "source": [
    "[ 'SERIAL NUMBER','ACTIVITY DATE','FACILITY NAME', 'SCORE','SERVICE CODE',\n",
    "       'SERVICE DESCRIPTION', 'EMPLOYEE ID', 'FACILITY ADDRESS',\n",
    "       'FACILITY CITY','FACILITY ID', 'FACILITY STATE', 'FACILITY ZIP', 'OWNER ID', 'OWNER NAME', \n",
    "        'PE DESCRIPTION',  'PROGRAM ELEMENT (PE)', 'PROGRAM NAME', 'PROGRAM STATUS', 'RECORD ID' \n",
    "        ]"
   ]
  },
  {
   "cell_type": "code",
   "execution_count": 11,
   "metadata": {},
   "outputs": [
    {
     "data": {
      "text/plain": [
       "[(datetime.datetime(2018, 4, 25, 0, 0),\n",
       "  'PNR',\n",
       "  42.88638687133789,\n",
       "  45.42646026611328,\n",
       "  45.5674934387207,\n",
       "  44.613834381103516,\n",
       "  45.070518493652344,\n",
       "  1470090,\n",
       "  7449,\n",
       "  1),\n",
       " (datetime.datetime(2018, 4, 25, 0, 0),\n",
       "  'PNW',\n",
       "  69.47084045410156,\n",
       "  79.91999816894531,\n",
       "  80.11000061035156,\n",
       "  78.94000244140625,\n",
       "  79.30999755859375,\n",
       "  1088200,\n",
       "  7451,\n",
       "  1)]"
      ]
     },
     "execution_count": 11,
     "metadata": {},
     "output_type": "execute_result"
    }
   ],
   "source": [
    "cur.execute(\"SELECT * FROM saffron.daily_price GROUP BY  \")\n",
    "cur.fetchmany(2)\n"
   ]
  },
  {
   "cell_type": "markdown",
   "metadata": {},
   "source": [
    "# Delete duplicaties"
   ]
  },
  {
   "cell_type": "code",
   "execution_count": 12,
   "metadata": {},
   "outputs": [],
   "source": [
    "cur.execute(\"\"\"delete from saffron.security a \n",
    "    using saffron.security b\n",
    "    where a.id<b.id\n",
    "    and a.ticker = b.ticker\"\"\")"
   ]
  },
  {
   "cell_type": "markdown",
   "metadata": {},
   "source": [
    "# Fetch data"
   ]
  },
  {
   "cell_type": "code",
   "execution_count": 17,
   "metadata": {},
   "outputs": [
    {
     "data": {
      "text/plain": [
       "('A',\n",
       " datetime.datetime(2017, 1, 3, 0, 0),\n",
       " datetime.datetime(2022, 2, 23, 0, 0))"
      ]
     },
     "execution_count": 17,
     "metadata": {},
     "output_type": "execute_result"
    }
   ],
   "source": [
    "# find the earliest availability of stocks in the database\n",
    "\n",
    "cur.execute(\"\"\"select t1.ticker  , min(t1.date), max(t1.date)\n",
    "from saffron.daily_price t1\n",
    "group by t1.ticker\"\"\")\n",
    "cur.fetchone()\n"
   ]
  },
  {
   "cell_type": "code",
   "execution_count": null,
   "metadata": {},
   "outputs": [],
   "source": [
    "\n",
    "cur.execute(\"\"\"select ticker, count(ticker) from saffron.security\n",
    "group by ticker\n",
    "having count(ticker)>1\n",
    "order by ticker\"\"\""
   ]
  }
 ],
 "metadata": {
  "interpreter": {
   "hash": "916dbcbb3f70747c44a77c7bcd40155683ae19c65e1c03b4aa3499c5328201f1"
  },
  "kernelspec": {
   "display_name": "Python 3.8.10 64-bit",
   "language": "python",
   "name": "python3"
  },
  "language_info": {
   "codemirror_mode": {
    "name": "ipython",
    "version": 3
   },
   "file_extension": ".py",
   "mimetype": "text/x-python",
   "name": "python",
   "nbconvert_exporter": "python",
   "pygments_lexer": "ipython3",
   "version": "3.8.10"
  },
  "orig_nbformat": 4
 },
 "nbformat": 4,
 "nbformat_minor": 2
}
