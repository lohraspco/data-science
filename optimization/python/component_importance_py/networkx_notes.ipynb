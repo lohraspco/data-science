{
 "cells": [
  {
   "cell_type": "code",
   "execution_count": null,
   "metadata": {
    "collapsed": true,
    "pycharm": {}
   },
   "outputs": [],
   "source": []
  },
  {
   "cell_type": "markdown",
   "metadata": {
    "pycharm": {
     "metadata": false
    }
   },
   "source": [
    "Networkx Cheatsheet\n",
    "\n",
    "http://sparkandshine.net/en/networkx-application-notes-draw-a-graph-with-matplotlib/"
   ]
  },
  {
   "cell_type": "code",
   "execution_count": null,
   "metadata": {
    "pycharm": {
     "metadata": false,
     "name": "#%%\n"
    }
   },
   "outputs": [],
   "source": [
    "G(graph)  # A networkx graph\n",
    "pos(dictionary, optional)  # A dictionary with nodes as keys and positions as values.\n",
    "                            # If not specified a spring layout positioning will be computed.\n",
    "#                           See networkx.layout for functions that compute node positions.\n",
    "\n",
    "arrows(bool, optional(default=True))  # For directed graphs, if True draw arrowheads.\n",
    "with_labels(bool, optional(default=True))  # Set to True to draw labels on the nodes.\n",
    "ax(Matplotlib Axes object, optional)  # Draw the graph in the specified Matplotlib axes.\n",
    "nodelist(list, optional(default G.nodes()))  # Draw only specified nodes\n",
    "edgelist(list, optional(default=G.edges()))  # Draw only specified edges\n",
    "node_size(scalar or array,           optional(default=300))  # Size of nodes. If an array is\n",
    "                                                                # specified it must be the same length as nodelist.\n",
    "\n",
    "node_color(color string, or array of floats, (default          =’r’))  # Node color. Can be a single color format\n",
    "# string, or a sequence of colors with the same length as nodelist. If numeric values are specified they will \\\n",
    "# be mapped to colors using the cmap and vmin,vmax parameters. See matplotlib.scatter for more details.\n",
    "\n",
    "node_shape(string, optional(default=’o’))  # The shape of the node. Specification is as matplotlib.scatter marker.\n",
    "alpha(float, optional(default=1.0))  # The node and edge transparency\n",
    "cmap( colormap, optional(default=None))  # Colormap for mapping intensities of nodes\n",
    "\n",
    "vmin, vmax(float, optional(default=None))  # Minimum and maximum for node colormap scaling\n",
    "linewidths([None | scalar | sequence])  # Line width of symbol border (default =1.0)\n",
    "width(float, optional(default=1.0))  # Line width of edges\n",
    "\n",
    "edge_color( string, or array of floats( default=’r’))  # Edge color. Can be a single color format string, or a\n",
    "# sequence of colors with the same length as edgelist. If numeric values are specified they will be mapped to\n",
    "# colors using the edge_cmap and edge_vmin,edge_vmax parameters.\n",
    "\n",
    "edge_cmap( colormap, optional(default=None))  # Colormap for mapping intensities of edges\n",
    "edge_vmin, edge_vmax(floats, optional(default=None))  # Minimum and maximum for edge colormap scaling\n",
    "style(string, optional(default=’solid’))  # Edge line style (solid|dashed|dotted,dashdot)\n",
    "labels(dictionary, optional(default=None))  # Node labels in a dictionary keyed by node of text labels\n",
    "font_size(int, optional(default=12))  # Font size for text labels\n",
    "font_color(string, optional(default=’k’ black))  # Font color string\n",
    "font_weight(string, optional(default=’normal’))  # Font weight\n",
    "font_family(string, optional(default=’sans - serif’))  # Font family\n",
    "label(string, optional)  # Label for graph legend\n",
    "\n",
    "\n",
    "Classic graph operations\n",
    "subgraph(G, nbunch) - induce subgraph of G on nodes in nbunch\n",
    "union(G1,G2) - graph union\n",
    "disjoint_union(G1,G2) - graph union assuming all nodes are different\n",
    "cartesian_product(G1,G2) - return Cartesian product graph\n",
    "compose(G1,G2) - combine graphs identifying nodes common to both\n",
    "complement(G) - graph complement\n",
    "create_empty_copy(G) - return an empty copy of the same graph class\n",
    "convert_to_undirected(G) - return an undirected representation of G\n",
    "convert_to_directed(G) - return a directed representation of G"
   ]
  },
  {
   "cell_type": "markdown",
   "metadata": {
    "pycharm": {
     "metadata": false,
     "name": "#%% md\n"
    }
   },
   "source": [
    "Multigraph display"
   ]
  },
  {
   "cell_type": "code",
   "execution_count": null,
   "metadata": {
    "pycharm": {
     "metadata": false,
     "name": "#%%\n"
    }
   },
   "outputs": [],
   "source": []
  },
  {
   "cell_type": "code",
   "execution_count": null,
   "metadata": {
    "pycharm": {
     "metadata": false,
     "name": "#%% multidigraph\n"
    }
   },
   "outputs": [],
   "source": []
  },
  {
   "cell_type": "markdown",
   "metadata": {
    "pycharm": {
     "metadata": false,
     "name": "#%% md\n"
    }
   },
   "source": [
    "add edge labels"
   ]
  },
  {
   "cell_type": "code",
   "execution_count": null,
   "metadata": {
    "pycharm": {
     "metadata": false,
     "name": "#%% \n"
    }
   },
   "outputs": [],
   "source": [
    "G=nx.Graph()\n",
    "e = [('a', 'b', 0.3), ('b', 'c', 0.9), ('a', 'c', 0.5), ('c', 'd', 1.2)]\n",
    "G.add_weighted_edges_from(e)\n",
    "\n",
    "pos = nx.spring_layout(G)\n",
    "nx.draw(G,pos,node_size=700)\n",
    "nx.draw_networkx_labels(G, pos)\n",
    "\n",
    "labels = nx.get_edge_attributes(G, 'weight')\n",
    "nx.draw_networkx_edge_labels(G, pos, edge_labels=labels)\n",
    "\n",
    "plt.show()\n",
    "\n"
   ]
  },
  {
   "cell_type": "code",
   "execution_count": null,
   "metadata": {
    "pycharm": {
     "metadata": false,
     "name": "#%%\n"
    }
   },
   "outputs": [],
   "source": [
    "# %%\n",
    "sourceFile = os.path.join('two_component', \"network_flow.xlsx\")\n",
    "\n",
    "net2 = pd.read_excel(io=sourceFile, sheet_name=\"multigraph\")\n",
    "import networkx  as nx\n",
    "G= nx.from_pandas_edgelist(net2,source=\"from\",target=\"to\" , edge_attr = [\"capacity\"], create_using=nx.MultiGraph())\n",
    "G.add_edges_from([(\"a\",\"b\")])\n",
    "nx.draw(G)\n",
    "plt.show()"
   ]
  },
  {
   "cell_type": "code",
   "execution_count": 4,
   "metadata": {
    "pycharm": {
     "is_executing": false,
     "metadata": false,
     "name": "#%%\n"
    }
   },
   "outputs": [
    {
     "name": "stderr",
     "output_type": "stream",
     "text": [
      "C:\\Users\\User\\Anaconda3\\lib\\site-packages\\networkx\\drawing\\nx_pylab.py:611: MatplotlibDeprecationWarning: isinstance(..., numbers.Number)\n",
      "  if cb.is_numlike(alpha):\n"
     ]
    },
    {
     "data": {
      "image/png": "[encoded data removed]",
      "text/plain": [
       "<Figure size 432x288 with 2 Axes>"
      ]
     },
     "metadata": {
      "needs_background": "light"
     },
     "output_type": "display_data"
    }
   ],
   "source": [
    "import collections\n",
    "import matplotlib.pyplot as plt\n",
    "import networkx as nx\n",
    "\n",
    "G = nx.gnp_random_graph(100, 0.02)\n",
    "\n",
    "degree_sequence = sorted([d for n, d in G.degree()], reverse=True)  # degree sequence\n",
    "# print \"Degree sequence\", degree_sequence\n",
    "degreeCount = collections.Counter(degree_sequence)\n",
    "deg, cnt = zip(*degreeCount.items())\n",
    "fig, ax = plt.subplots()\n",
    "plt.bar(deg, cnt, width=0.80, color='b')\n",
    "\n",
    "plt.title(\"Degree Histogram\")\n",
    "plt.ylabel(\"Count\")\n",
    "plt.xlabel(\"Degree\")\n",
    "ax.set_xticks([d + 0.4 for d in deg])\n",
    "ax.set_xticklabels(deg)\n",
    "\n",
    "# draw graph in inset\n",
    "plt.axes([0.4, 0.4, 0.5, 0.5])\n",
    "Gcc = sorted(nx.connected_component_subgraphs(G), key=len, reverse=True)[0]\n",
    "pos = nx.spring_layout(G)\n",
    "plt.axis('off')\n",
    "nx.draw_networkx_nodes(G, pos, node_size=20)\n",
    "nx.draw_networkx_edges(G, pos, alpha=0.4)\n",
    "\n",
    "plt.show()"
   ]
  },
  {
   "cell_type": "markdown",
   "metadata": {
    "pycharm": {
     "metadata": false
    }
   },
   "source": [
    "max flow"
   ]
  },
  {
   "cell_type": "code",
   "execution_count": 5,
   "metadata": {
    "pycharm": {
     "is_executing": false,
     "metadata": false,
     "name": "#%%\n"
    }
   },
   "outputs": [
    {
     "name": "stdout",
     "output_type": "stream",
     "text": [
      "mincost 373\n",
      "True\n",
      "True\n"
     ]
    }
   ],
   "source": [
    "dg = nx.DiGraph()\n",
    "dg.add_edges_from([(1, 2, {'capacity': 12, 'weight': 4}),\n",
    "                   (1, 3, {'capacity': 20, 'weight': 6}),\n",
    "                   (2, 3, {'capacity': 6, 'weight': -3}),\n",
    "                   (2, 6, {'capacity': 14, 'weight': 1}),\n",
    "                   (3, 4, {'weight': 9}),\n",
    "                   (3, 5, {'capacity': 10, 'weight': 5}),\n",
    "                   (4, 2, {'capacity': 19, 'weight': 13}),\n",
    "                   (4, 5, {'capacity': 4, 'weight': 0}),\n",
    "                   (5, 7, {'capacity': 28, 'weight': 2}),\n",
    "                   (6, 5, {'capacity': 11, 'weight': 1}),\n",
    "                   (6, 7, {'weight': 8}),\n",
    "                   (7, 4, {'capacity': 6, 'weight': 6})])\n",
    "mincostFlow = nx.max_flow_min_cost(dg, 1, 7)\n",
    "mincost = nx.cost_of_flow(dg, mincostFlow)\n",
    "print (\"mincost\", mincost)\n",
    "from networkx.algorithms.flow import maximum_flow\n",
    "maxFlow = maximum_flow(dg, 1, 7)[1]\n",
    "print( nx.cost_of_flow(dg, maxFlow) >= mincost)\n",
    "\n",
    "mincostFlowValue = (sum((mincostFlow[u][7] for u in G.predecessors(7)))\n",
    "                     - sum((mincostFlow[7][v] for v in G.successors(7))))\n",
    "print(mincostFlowValue == nx.maximum_flow_value(G, 1, 7))\n",
    "\n",
    "\n"
   ]
  },
  {
   "cell_type": "markdown",
   "metadata": {
    "pycharm": {
     "metadata": false,
     "name": "#%% md\n"
    }
   },
   "source": [
    "back up\n",
    "\n",
    "import numpy as np\n",
    "import pandas as pd\n",
    "import os\n",
    "import networkx as nx\n",
    "import matplotlib.pyplot as plt\n",
    "import gurobipy as gu\n",
    "\n",
    "\n",
    "def read_data(sheetName, header=0):\n",
    "    sourceFile = \"network_flow.xlsx\"\n",
    "    if not os.path.isfile(sourceFile):\n",
    "        sourceFile = os.path.join(\"two_component\", \"network_flow20190516.xlsx\")\n",
    "    assert os.path.isfile(sourceFile)\n",
    "    df = pd.read_excel(io=sourceFile, sheet_name=sheetName, header=header)\n",
    "\n",
    "    if isinstance(header, list):\n",
    "\n",
    "        if len(header) > 1:\n",
    "\n",
    "            nets = {}\n",
    "            for i in df.columns.levels[0]:\n",
    "                nets[i] = df[i].dropna()\n",
    "            df = nets\n",
    "    return df\n",
    "\n",
    "\n",
    "net2 = read_data(\"net2\", header=[0, 1])\n",
    "\n",
    "\n",
    "\n",
    "def maxFlowMinCost(diNet):\n",
    "    ''' graph must have one node s and one node t '''\n",
    "    w = {}\n",
    "    mfmc = nx.max_flow_min_cost(diNet, s='s', t='t', capacity='capacity', weight='weight')\n",
    "    for k, v in mfmc.items():\n",
    "        if isinstance(v, dict):\n",
    "            for k2, v2 in v.items():\n",
    "                w[(k, k2)] = (diNet.get_edge_data(k, k2)['capacity'], v2)\n",
    "        else:\n",
    "            print(\"oops\")\n",
    "    return w\n",
    "\n",
    "\n",
    "# %%\n",
    "\n",
    "\n",
    "def permianNet():\n",
    "    df = pd.read_excel(sourceFile, sheet_name=\"Permian_pipelines\", usecols=\"A:M\", nrows=56)\n",
    "\n",
    "    df3 = df[[\"from\", \"to\", 2022]]\n",
    "    df3 = df3.pivot_table(values=2022, index=[\"from\", \"to\"], aggfunc=np.sum)\n",
    "    nodes = set(df3.index.levels[0]).union(set(df3.index.levels[1])).union([\"end\"])\n",
    "    # df2.index = df2.index.values  # convert multinidex to tuple index # no need for this since to dict makes tupel index\n",
    "\n",
    "    data_dict = df3.to_dict()[2022]\n",
    "    end_nodes = {(\"Export\", \"end\"): 100000.0, (\"Refineries\", \"end\"): 100000.0}\n",
    "    data_dict = {**data_dict, **end_nodes}\n",
    "    nodes_noPermina = list(set(nodes) - set([\"end\", \"Permian\"]))\n",
    "\n",
    "    # the max flow optimization\n",
    "    arcs, capacity = gu.multidict(data_dict)\n",
    "    model = gu.Model(\"Permian\")\n",
    "    flow = model.addVars(arcs, name=\"flow\")\n",
    "    source = model.addVar(name=\"source\")\n",
    "    arcCapacity = model.addConstrs((flow[i, j] <= capacity[i, j] for i, j in arcs), 'arc capacity')\n",
    "    model.addConstrs((flow.sum(i, '*') == flow.sum('*', i) for i in nodes_noPermina), name=\"in out flow equality\")\n",
    "    model.addConstr(flow.sum('Permian', '*') == flow.sum('*', 'end'))\n",
    "    model.setObjective(gu.quicksum(flow['Permian', j] for i, j in arcs.select('Permian', '*')), sense=gu.GRB.MAXIMIZE)\n",
    "    model.write('permian.lp')\n",
    "    model.optimize()\n",
    "\n",
    "    underutilized_arcs = {}\n",
    "    for k, v in arcCapacity.items():\n",
    "        if (v.slack > 0) and (k[1] not in [\"Export\", \"Refineries\", 'end']):\n",
    "            underutilized_arcs[k] = v.slack\n",
    "\n",
    "    plt.figure(figsize=(30, 20))\n",
    "    G = nx.DiGraph()\n",
    "    G.add_edges_from(arcs)\n",
    "    z = {}\n",
    "    for a in list(G.node.keys()):\n",
    "        z[a] = a[:2]\n",
    "    G = nx.relabel_nodes(G, z, copy=False)\n",
    "    underutilizesd = [(it[0][:2], it[1][:2]) for it in underutilized_arcs.keys()]\n",
    "\n",
    "    fixed_positions = {'Pe': (0, 0), 'Wi': (720, 250), 'Cu': (1088, 300), 'El': (1700, 300),\n",
    "                       'Lo': (1250, 100), 'Be': (1622, -300),\n",
    "                       'Ho': (1600, 0), 'Se': (1100, -290),\n",
    "                       'Ga': (700, -300), 'Co': (800, -500),\n",
    "                       'Fr': (1300, -500), 'Ga': (2000, -500),\n",
    "                       # 'Te':(1660,-500),\n",
    "                       'Me': (2000, 400),\n",
    "                       'La': (1888, -270), 'Lo': (2168, -200),\n",
    "                       'Th': (800, -400),\n",
    "                       'Re': (2500, 100), 'Ex': (2500, -200), 'en': (2800, -50)}\n",
    "\n",
    "    fixed_nodes = fixed_positions.keys()\n",
    "    pos = nx.spring_layout(G, pos=fixed_positions, fixed=fixed_nodes)\n",
    "    nx.draw(G, pos, with_labels=True, node_size=4000, font_size=30)\n",
    "    nx.draw(G, pos, edgelist=underutilizesd, width=8, edge_color='b')\n",
    "    plt.savefig(\"network.jpg\", )\n",
    "    plt.show()\n",
    "    optimalFlow = {}\n",
    "    for k, v in flow.items():\n",
    "        optimalFlow[k] = v.x\n",
    "    of = pd.DataFrame(pd.Series(optimalFlow)).unstack()[0].fillna(0)\n",
    "    of.loc[\"Permian\", :].sum()\n",
    "\n",
    "    # for c in model.getConstrs():\n",
    "    #     if c.Pi > 0:\n",
    "    #         print(c.ConstrName, c.Pi)\n",
    "\n",
    "\n",
    "permianNet()\n",
    "# %%\n",
    "net1 = read_data(\"net1\")\n",
    "\n",
    "dg = nx.DiGraph()\n",
    "edge_labels = {}\n",
    "for i, elrow in net1.iterrows():\n",
    "    dg.add_edge(elrow[0], elrow[1], capacity=elrow[2], cost=elrow[2])\n",
    "    edge_labels[(elrow[0], elrow[1])] = elrow[2]\n",
    "\n",
    "edge_colors = list(net1.color)\n",
    "\n",
    "# G.add_weighted_edges_from(net1)\n",
    "bb = nx.edge_betweenness_centrality(dg, normalized=False)\n",
    "pos = nx.spring_layout(dg)\n",
    "dc = nx.degree_centrality(dg)\n",
    "deg = list(dict(dg.degree).values())\n",
    "deg = [d * 100 for d in deg]\n",
    "dg.node['a']['fillcolor'] = 'red'\n",
    "nodes = nx.draw_networkx_nodes(dg, pos, node_color='blue', node_size=deg, alpha=0.5)\n",
    "# edges = nx.draw_networkx_edges(G, pos, node_size=dc, arrowstyle='->',\n",
    "#                                arrowsize=10, edge_color=edge_colors,\n",
    "#                                edge_cmap=plt.cm.Blues, width=2)\n",
    "edges = nx.draw_networkx_edges(dg, pos, arrowstyle='->', width=net1[\"capacity\"].__array__(), edge_color=net1[\"color\"])\n",
    "# nx.draw(G, pos, edge_color=edge_colors, node, with_labels=True)\n",
    "nx.draw_networkx_labels(dg, pos)\n",
    "\n",
    "# edge_labels= nx.get_edge_attributes(G,'attr_dict')\n",
    "nx.draw_networkx_edge_labels(dg, pos, edge_labels)\n",
    "\n",
    "plt.show()\n",
    "\n",
    "# %%\n",
    "for u in dg.edges.data('capacity'):\n",
    "    print(u)\n",
    "\n",
    "# %%\n",
    "print(nx.max_flow_min_cost(dg, _s='a', _t='e', capacity=\"capacity\"))\n",
    "print(nx.maximum_flow(dg, _s='a', _t='e'))\n",
    "print(nx.minimum_cut(dg, _s='a', _t='e'))\n",
    "# %%\n",
    "# components = nx.connected_components(dg)\n",
    "degree_dict = dict(dg.out_degree(dg.nodes()))\n",
    "betweenness_dict = nx.betweenness_centrality(dg)  # Run betweenness centrality\n",
    "# eigenvector_dict = nx.eigenvector_centrality(dg) # Run eigenvector centrality\n",
    "\n",
    "# Assign each to an attribute in your network\n",
    "nx.set_node_attributes(dg, betweenness_dict, 'betweenness')\n",
    "# nx.set_node_attributes(dg, eigenvector_dict, 'eigenvector')\n",
    "nx.set_node_attributes(dg, degree_dict, \"degree\")\n",
    "edge_betweeness = nx.edge_betweenness_centrality(dg)\n",
    "\n",
    "# %%\n",
    "from operator import itemgetter\n",
    "\n",
    "sorted_degree = sorted(degree_dict.items(), key=itemgetter(1), reverse=True)\n",
    "\n",
    "# %% nets\n",
    "nets = read_data(\"net3\", header=[0, 1])\n",
    "\n",
    "nets\n",
    "# g3 = nx.from_pandas_edgelist(net3,create_using=nx.DiGraph)\n",
    "# nx.draw(g3)\n",
    "# plt.show()\n",
    "# %%\n",
    "net2 = read_data(\"net2\", header=[0, 1])\n",
    "net2['nodes']['pos'] = list(zip(net2['nodes'].x, net2['nodes'].y))\n",
    "net2['nodes'].set_index(net2['nodes']['node'], inplace=True)\n",
    "dg2 = nx.from_pandas_edgelist(net2['edges'], source='source', target='target', edge_attr=True, create_using=nx.DiGraph)\n",
    "pos = nx.spring_layout(dg2)\n",
    "edge_betweeness = nx.edge_betweenness_centrality(dg2)\n",
    "edge_betweeness = dict(zip(edge_betweeness.keys(), [round(v, 2) for v in edge_betweeness.values()]))\n",
    "# %%\n",
    "nx.draw(dg2, pos=pos, with_labels=True)\n",
    "nx.draw_networkx_edge_labels(dg2, pos, edge_labels=edge_betweeness)\n",
    "\n",
    "plt.show()\n",
    "\n",
    "print(nx.maximum_flow_value(dg2, _s=1, _t=12, capacity=\"capacity\"))\n",
    "print(nx.maximum_flow(dg2, _s=1, _t=12))\n",
    "print(nx.minimum_cut(dg2, _s=1, _t=12))\n",
    "# %%\n",
    "# %%\n",
    "net2 = read_data(\"net2\", header=[0, 1])\n",
    "net2['nodes']['pos'] = list(zip(net2['nodes'].x, net2['nodes'].y))\n",
    "net2['nodes'].set_index(net2['nodes']['node'], inplace=True)\n",
    "dg2 = nx.from_pandas_edgelist(net2['edges'], source='source', target='target', edge_attr=True, create_using=nx.DiGraph)\n",
    "w = maxFlowMinCost(dg2)\n",
    "mfv = nx.maximum_flow_value(dg2, _s='s', _t='t')\n",
    "# %%\n",
    "edgeFaultEffectonFlow = {}\n",
    "faultyEdgeFlow = {}\n",
    "for e in dg2.edges:\n",
    "    g = dg2.copy()\n",
    "    g[e[0]][e[1]]['capacity'] = 0\n",
    "    edgeFaultEffectonFlow[e] = maxFlowMinCost(g)\n",
    "\n",
    "    faultyEdgeFlow[e] = nx.maximum_flow_value(g, _s='s', _t='t')\n",
    "\n",
    "faultDF = pd.DataFrame.from_dict(edgeFaultEffectonFlow)\n",
    "faultDF.set_index(faultDF.index.values, inplace=True)\n",
    "faultDF.columns = faultDF.columns.values\n",
    "fault2 = faultDF.copy()\n",
    "\n",
    "faultDF = faultDF.applymap(lambda x: x[1])\n",
    "faultDF[\"normal\"] = pd.Series(w)\n",
    "faultDF\n",
    "# def firstElement(row):\n",
    "#     for i, flowww in enumerate(row):\n",
    "#\n",
    "#         row[i]=flowww[1]\n",
    "#     return row\n",
    "# faultDF.apply(lambda x: firstElement(x),axis=1)\n",
    "\n",
    "# %%\n",
    "# %%\n",
    "e_labels = {}\n",
    "ebc = nx.edge_betweenness_centrality(dg2)\n",
    "for k, e in w.items():\n",
    "    e_labels[k] = str(e) + \"\\n\" + str(round(ebc[k], 3)) + \"-\" + str(mfv - faultyEdgeFlow[k], )\n",
    "\n",
    "# %%\n",
    "def networkChart(g,pos,e_labels):\n",
    "    nx.draw(g, pos=pos, with_labels=True)\n",
    "    nx.draw_networkx_edge_labels(g, pos=pos, edge_labels=e_labels)\n",
    "    plt.savefig(str(e)+'.jpg')\n",
    "    plt.show()\n",
    "\n",
    "nx.draw(dg2, pos=net2['nodes']['pos'].to_dict(), with_labels=True)\n",
    "\n",
    "nx.draw_networkx_edge_labels(dg2, pos=net2['nodes']['pos'].to_dict(), edge_labels=e_labels)\n",
    "plt.show()\n",
    "\n"
   ]
  },
  {
   "cell_type": "markdown",
   "metadata": {
    "pycharm": {
     "metadata": false,
     "name": "#%% md\n"
    }
   },
   "source": [
    "geometric \n"
   ]
  },
  {
   "cell_type": "code",
   "execution_count": null,
   "metadata": {
    "pycharm": {
     "metadata": false,
     "name": "#%%\n"
    }
   },
   "outputs": [],
   "source": []
  },
  {
   "cell_type": "code",
   "execution_count": null,
   "metadata": {
    "pycharm": {
     "metadata": false,
     "name": "#%%\n"
    }
   },
   "outputs": [],
   "source": [
    "G = nx.random_geometric_graph(50, 0.25)\n",
    "# position is stored as node attribute data for random_geometric_graph\n",
    "\n",
    "\n",
    "pos = nx.get_node_attributes(G, 'pos')\n",
    "\n",
    "# find node near center (0.5,0.5)\n",
    "dmin = 1\n",
    "ncenter = 0\n",
    "for n in pos:\n",
    "    x, y = pos[n]\n",
    "    d = (x - 0.5)**2 + (y - 0.5)**2\n",
    "    if d < dmin:\n",
    "        ncenter = n\n",
    "        dmin = d\n",
    "\n",
    "# color by path length from node near center\n",
    "p = dict(nx.single_source_shortest_path_length(G, ncenter))\n",
    "\n",
    "plt.figure(figsize=(20, 20))\n",
    "nx.draw_networkx_edges(G, pos, nodelist=[ncenter], alpha=0.4)\n",
    "nx.draw_networkx_nodes(G, pos, nodelist=list(p.keys()),\n",
    "                       node_size=80,\n",
    "                       node_color=list(p.values()),\n",
    "                       cmap=plt.cm.Reds_r)\n",
    "nx.draw_networkx_labels(G,pos)\n",
    "plt.xlim(-0.05, 1.05)\n",
    "plt.ylim(-0.05, 1.05)\n",
    "plt.axis('off')\n",
    "plt.savefig(\"bignet3.jpg\")\n",
    "plt.show()\n"
   ]
  },
  {
   "cell_type": "code",
   "execution_count": 6,
   "metadata": {
    "pycharm": {
     "is_executing": false,
     "metadata": false,
     "name": "#%% \n"
    }
   },
   "outputs": [
    {
     "data": {
      "text/html": [
       "<div id=\"graph-6302fbc3-99f5-4037-b2db-8a83a1522e5b\"></div>\n",
       "           <script type=\"text/javascript\">\n",
       "           require.config({baseUrl: '/',\n",
       "                             paths: {jgraph: ['nbextensions/jgraph.min', 'https://rawgit.com/patrickfuller/jgraph/master/js/build/jgraph.min']}});\n",
       "           require(['jgraph'], function () {\n",
       "               var $d = $('#graph-6302fbc3-99f5-4037-b2db-8a83a1522e5b');\n",
       "               $d.width(600); $d.height(400);\n",
       "               $d.jgraph = jQuery.extend({}, jgraph);\n",
       "               $d.jgraph.create($d, {nodeSize: 2.000000,\n",
       "                                     edgeSize: 0.250000,\n",
       "                                     defaultNodeColor: '0x5bc0de',\n",
       "                                     defaultEdgeColor: '0xaaaaaa',\n",
       "                                     shader: 'basic',\n",
       "                                     z: 100,\n",
       "                                     runOptimization: true,\n",
       "                                     directed: true,\n",
       "                                     showSave: false});\n",
       "               $d.jgraph.draw({\n",
       "    \"edges\": [\n",
       "        { \"source\": 1, \"target\": 2 },\n",
       "        { \"source\": 2, \"target\": 3 },\n",
       "        { \"source\": 3, \"target\": 4 },\n",
       "        { \"source\": 4, \"target\": 1 },\n",
       "        { \"source\": 4, \"target\": 5 },\n",
       "        { \"source\": 5, \"target\": 2 }\n",
       "    ],\n",
       "    \"nodes\": {\n",
       "        \"1\": { \"location\": [ -2.0, -2.0, -2.0 ] },\n",
       "        \"2\": { \"location\": [ -0.9994229986238818, -1.2351510833855628, -0.8928270141991068 ] },\n",
       "        \"3\": { \"location\": [ -0.060683910562619695, 0.2536896082661963, 0.06203575993007417 ] },\n",
       "        \"4\": { \"location\": [ 1.182451765535493, 1.0947116104444155, 1.009872769097132 ] },\n",
       "        \"5\": { \"location\": [ 2.0, 1.9573672085335232, 2.0 ] }\n",
       "    }\n",
       "});\n",
       "\n",
       "               $d.resizable({\n",
       "                   aspectRatio: 600 / 400,\n",
       "                   resize: function (evt, ui) {\n",
       "                       $d.jgraph.renderer.setSize(ui.size.width,\n",
       "                                                  ui.size.height);\n",
       "                   }\n",
       "               });\n",
       "           });\n",
       "           </script>"
      ],
      "text/plain": [
       "<IPython.core.display.HTML object>"
      ]
     },
     "metadata": {},
     "output_type": "display_data"
    }
   ],
   "source": [
    "import matplotlib.pyplot as plt\n",
    "import jgraph\n",
    "jgraph.draw([(1, 2), (2, 3), (3, 4), (4, 1), (4, 5), (5, 2)])\n",
    "plt.show()"
   ]
  }
 ],
 "metadata": {
  "kernelspec": {
   "display_name": "Python 3",
   "language": "python",
   "name": "python3"
  },
  "language_info": {
   "codemirror_mode": {
    "name": "ipython",
    "version": 3
   },
   "file_extension": ".py",
   "mimetype": "text/x-python",
   "name": "python",
   "nbconvert_exporter": "python",
   "pygments_lexer": "ipython3",
   "version": "3.7.4"
  },
  "toc": {
   "base_numbering": 1,
   "nav_menu": {},
   "number_sections": true,
   "sideBar": true,
   "skip_h1_title": false,
   "title_cell": "Table of Contents",
   "title_sidebar": "Contents",
   "toc_cell": false,
   "toc_position": {},
   "toc_section_display": true,
   "toc_window_display": false
  }
 },
 "nbformat": 4,
 "nbformat_minor": 1
}
