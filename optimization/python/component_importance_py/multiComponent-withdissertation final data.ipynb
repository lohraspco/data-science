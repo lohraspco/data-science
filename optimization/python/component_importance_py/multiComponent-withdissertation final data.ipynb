{
 "cells": [
  {
   "cell_type": "code",
   "execution_count": 149,
   "metadata": {},
   "outputs": [
    {
     "name": "stdout",
     "output_type": "stream",
     "text": [
      "The autoreload extension is already loaded. To reload it, use:\n",
      "  %reload_ext autoreload\n"
     ]
    }
   ],
   "source": [
    "import pandas as pd\n",
    "import sys\n",
    "import os\n",
    "import json\n",
    "import dash\n",
    "from dash import html, dcc\n",
    "\n",
    "from dash.dependencies import Output, Input\n",
    "import plotly.tools as tls\n",
    "import dash_cytoscape as cyto\n",
    "import matplotlib.pyplot as plt\n",
    "import seaborn as sns\n",
    "import operator\n",
    "import networkx as nx\n",
    "from cyjupyter import Cytoscape\n",
    "from networkx.readwrite import cytoscape_data\n",
    "import pdb\n",
    "import pixiedust\n",
    "#import the class \n",
    "file_dir = os.path.dirname('__file__')\n",
    "sys.path.append(file_dir)\n",
    "file_dir = os.path.dirname('__file__')\n",
    "sys.path.append(file_dir)\n",
    "from NetAnalysis import NetAnalysis\n",
    "import gurobipy as gu\n",
    "import time\n",
    "import pickle\n",
    "\n",
    "%load_ext autoreload\n",
    "%autoreload 2"
   ]
  },
  {
   "cell_type": "markdown",
   "metadata": {},
   "source": [
    "# functions"
   ]
  },
  {
   "cell_type": "code",
   "execution_count": 61,
   "metadata": {},
   "outputs": [],
   "source": [
    "def saveData(net, name):\n",
    "    with open(\"pickled/{}.pickle\".format(name), \"wb\") as f:\n",
    "            pickle.dump(net,f)\n",
    "    nx.write_gml(net.G ,\"pickled/{}.csv\".format(name))"
   ]
  },
  {
   "cell_type": "markdown",
   "metadata": {},
   "source": [
    "## column Generation"
   ]
  },
  {
   "cell_type": "code",
   "execution_count": 246,
   "metadata": {},
   "outputs": [],
   "source": [
    "def getDuals(constr):\n",
    "    dual = {}\n",
    "    slacks = {}\n",
    "    for k,v in constr.items():\n",
    "        dual[k] = v.PI\n",
    "        slacks[k] = v.slack\n",
    "    return dual, slacks\n",
    "def getPrimalval(x):\n",
    "    res = {}\n",
    "    for k,v in x.items():\n",
    "        res[k] = v.x\n",
    "    return res\n",
    "def edgeStatGetCapacityDict(es, labeldict):\n",
    "    es.index = es.index.values\n",
    "    es[\"edge\"] = es.index.to_series().map(labeldict)\n",
    "    return es.set_index(\"edge\").maxPossibleFlow.to_dict()"
   ]
  },
  {
   "cell_type": "code",
   "execution_count": 766,
   "metadata": {},
   "outputs": [],
   "source": [
    "def getInitial(self,k):\n",
    "    it1 =  self.initialSolution(k)\n",
    "    y_init = {e:1 if e in it1[2] else 0 for e in self.pathEdgeIncidence.columns}\n",
    "    return y_init\n",
    "def masterProblem(self, yHat):\n",
    "    p = self.pathEdgeIncidence\n",
    "    c= {}\n",
    "    for e in self.G.edges:\n",
    "        c[self.edgesLableDictReverse[e]] = self.G.edges[e]['capacity']\n",
    "    # ce = {self.edgesLableDictReverse[e]:v for e,v in c.items() }\n",
    "    q = self.pathCapacity\n",
    "    I = self.pathEdgeIncidence.index\n",
    "\n",
    "    m = gu.Model()\n",
    "    f = m.addVars(I, name=\"f\")\n",
    "    y = m.addVars(p.columns)\n",
    "\n",
    "    c_edgeCapacity = m.addConstrs((gu.quicksum(p.loc[i, e] * f[i] for i in p.index) \n",
    "                                   <= c[e] * (1 -yHat[e]) for e in p.columns), name='c3')\n",
    "    m.setObjective(f.sum(), gu.GRB.MAXIMIZE)\n",
    "    m.optimize()\n",
    "    return getDuals(c_edgeCapacity), m.objVal\n",
    "def subProblem(pi,c,k):\n",
    "    msub = gu.Model(\"sub\")\n",
    "    a = msub.addVars(pi.keys(),vtype = gu.GRB.BINARY ,name  =\"a\")\n",
    "    msub.addConstr(a.sum()==k)\n",
    "    msub.setObjective(gu.quicksum(pi[e]*c[e]*a[e] for e in a.keys()) , gu.GRB.MAXIMIZE)\n",
    "    msub.optimize()\n",
    "    return getPrimalval(a)"
   ]
  },
  {
   "cell_type": "code",
   "execution_count": 768,
   "metadata": {},
   "outputs": [],
   "source": [
    "from IPython.display import HTML\n",
    "def colGen(self, k ):\n",
    "    timeRecord = {}\n",
    "    t = time.time()\n",
    "    yHat1 = getInitial(self,k)\n",
    "    t2 = time.time()\n",
    "    timeRecord[\"init\"] = {'t':t2-t, 'y' : [k for k,v in yHat1.items() if v==1] }\n",
    "    c = {}\n",
    "    for e in self.G.edges:\n",
    "        c[self.edgesLableDictReverse[e]] = self.G.edges[e]['capacity']\n",
    "\n",
    "    print(\"================================================== master problem\")\n",
    "    counter = 1\n",
    "    t = time.time()\n",
    "    (pi, sl) , obj= masterProblem(self,yHat1)\n",
    "    print(\"\\n\\n\\n\\n======================sub problem============================ \")\n",
    "    t2 = time.time()\n",
    "    timeRecord[\"master{}\".format(counter)] = {\"t\": t2-t , \"obj\":obj }\n",
    "    yHat = subProblem(pi,c,k)\n",
    "    t3 = time.time()\n",
    "    timeRecord[\"sub{}\".format(counter)] = {'t':t3-t2, 'y' : [k for k,v in yHat.items() if v==1] }\n",
    "    print(\"\\n\\n\\================================================== master problem\")\n",
    "    \n",
    "    while ((yHat != yHat1) & (counter<10)):\n",
    "        counter += 1\n",
    "        t = time.time()\n",
    "        (pi, sl), obj = masterProblem(self,yHat)\n",
    "        t2 = time.time()\n",
    "        timeRecord[\"master{}\".format(counter)] = {\"t\": t2-t , \"obj\":obj }\n",
    "        HTML(\"<text style=color:{}>{}</text>\".format('blue', \"\\n\\n====================sub problem============================== \"))\n",
    "        print(\"\\n\\n\\n\\n======================sub problem============================ \")\n",
    "        yHat1 = yHat\n",
    "        yHat = subProblem(pi,c,k)\n",
    "        t3 = time.time()\n",
    "        timeRecord[\"sub{}\".format(counter)] = {'t':t3-t2, 'y' : [k for k,v in yHat.items() if v==1] }\n",
    "        print(\"\\n\\n================================================== master problem\")\n",
    "#         pi, sl = masterProblem(self,yHat)\n",
    "#         print(\"\\n\\n\\n\\n\\x1b[31m\\\"============= counter={0}, same solution={1}\\\"\\x1b[0m\".format(counter,(yHat == yHat1)))\n",
    "    return timeRecord"
   ]
  },
  {
   "cell_type": "markdown",
   "metadata": {},
   "source": [
    "# (5,7)"
   ]
  },
  {
   "cell_type": "code",
   "execution_count": 756,
   "metadata": {},
   "outputs": [
    {
     "name": "stdout",
     "output_type": "stream",
     "text": [
      "data contains two rows of header\n",
      "['s', '1', '2', '3', 't']\n"
     ]
    }
   ],
   "source": [
    "from NetAnalysis import NetAnalysis\n",
    "p1 = NetAnalysis.import_graph_from_excel(\"paper1\", header=[0, 1], nodepos=True)"
   ]
  },
  {
   "cell_type": "code",
   "execution_count": 759,
   "metadata": {},
   "outputs": [
    {
     "data": {
      "text/html": [
       "<div>\n",
       "<style scoped>\n",
       "    .dataframe tbody tr th:only-of-type {\n",
       "        vertical-align: middle;\n",
       "    }\n",
       "\n",
       "    .dataframe tbody tr th {\n",
       "        vertical-align: top;\n",
       "    }\n",
       "\n",
       "    .dataframe thead th {\n",
       "        text-align: right;\n",
       "    }\n",
       "</style>\n",
       "<table border=\"1\" class=\"dataframe\">\n",
       "  <thead>\n",
       "    <tr style=\"text-align: right;\">\n",
       "      <th></th>\n",
       "      <th></th>\n",
       "      <th>time</th>\n",
       "      <th>obj</th>\n",
       "      <th>sol</th>\n",
       "    </tr>\n",
       "    <tr>\n",
       "      <th>k</th>\n",
       "      <th>method</th>\n",
       "      <th></th>\n",
       "      <th></th>\n",
       "      <th></th>\n",
       "    </tr>\n",
       "  </thead>\n",
       "  <tbody>\n",
       "    <tr>\n",
       "      <td rowspan=\"3\" valign=\"top\">1</td>\n",
       "      <td>MIP</td>\n",
       "      <td>0.0250</td>\n",
       "      <td>2.0</td>\n",
       "      <td>[e7]</td>\n",
       "    </tr>\n",
       "    <tr>\n",
       "      <td>init</td>\n",
       "      <td>0.0020</td>\n",
       "      <td>2.0</td>\n",
       "      <td>[e7]</td>\n",
       "    </tr>\n",
       "    <tr>\n",
       "      <td>MIP_init</td>\n",
       "      <td>0.0130</td>\n",
       "      <td>2.0</td>\n",
       "      <td>[e7]</td>\n",
       "    </tr>\n",
       "    <tr>\n",
       "      <td rowspan=\"3\" valign=\"top\">2</td>\n",
       "      <td>MIP</td>\n",
       "      <td>0.0180</td>\n",
       "      <td>-0.0</td>\n",
       "      <td>[e2, e7]</td>\n",
       "    </tr>\n",
       "    <tr>\n",
       "      <td>init</td>\n",
       "      <td>0.0030</td>\n",
       "      <td>0.0</td>\n",
       "      <td>[e7, e2]</td>\n",
       "    </tr>\n",
       "    <tr>\n",
       "      <td>MIP_init</td>\n",
       "      <td>-1</td>\n",
       "      <td>-1.0</td>\n",
       "      <td>[]</td>\n",
       "    </tr>\n",
       "  </tbody>\n",
       "</table>\n",
       "</div>"
      ],
      "text/plain": [
       "              time  obj       sol\n",
       "k method                         \n",
       "1 MIP       0.0250  2.0      [e7]\n",
       "  init      0.0020  2.0      [e7]\n",
       "  MIP_init  0.0130  2.0      [e7]\n",
       "2 MIP       0.0180 -0.0  [e2, e7]\n",
       "  init      0.0030  0.0  [e7, e2]\n",
       "  MIP_init      -1 -1.0        []"
      ]
     },
     "execution_count": 759,
     "metadata": {},
     "output_type": "execute_result"
    }
   ],
   "source": [
    "p1.solvefork(1)\n",
    "p1.solvefork(2)\n",
    "p1.results"
   ]
  },
  {
   "cell_type": "code",
   "execution_count": 761,
   "metadata": {},
   "outputs": [
    {
     "name": "stdout",
     "output_type": "stream",
     "text": [
      "================================================== master problem\n",
      "\n",
      "\n",
      "\n",
      "\n",
      "======================sub problem============================ \n",
      "\n",
      "\n",
      "\\================================================== master problem\n"
     ]
    },
    {
     "data": {
      "text/plain": [
       "{'init': {'t': 0.012993812561035156, 'y': ['e7']},\n",
       " 'master1': {'t': 0.004996061325073242, 'obj': 2.0},\n",
       " 'sub1': {'t': 0.002000093460083008, 'y': ['e7']}}"
      ]
     },
     "execution_count": 761,
     "metadata": {},
     "output_type": "execute_result"
    }
   ],
   "source": [
    "p1.colGen2(1)"
   ]
  },
  {
   "cell_type": "markdown",
   "metadata": {},
   "source": [
    "## plot RCI"
   ]
  },
  {
   "cell_type": "code",
   "execution_count": 5,
   "metadata": {},
   "outputs": [
    {
     "data": {
      "text/plain": [
       "<matplotlib.axes._subplots.AxesSubplot at 0x1635a9e8e08>"
      ]
     },
     "execution_count": 5,
     "metadata": {},
     "output_type": "execute_result"
    },
    {
     "data": {
      "image/png": "[encoded data removed]",
      "text/plain": [
       "<Figure size 432x288 with 1 Axes>"
      ]
     },
     "metadata": {
      "needs_background": "light"
     },
     "output_type": "display_data"
    }
   ],
   "source": [
    "import matplotlib\n",
    "# Say, \"the default sans-serif font is COMIC SANS\"\n",
    "matplotlib.rcParams['font.sans-serif'] = \"Comic Sans MS\"\n",
    "# Then, \"ALWAYS use sans-serif fonts\"\n",
    "matplotlib.rcParams['font.family'] = \"sans-serif\"\n",
    "mpf = p1.edgeStatistics.minPossibleFlow.copy()\n",
    "mpf = pd.DataFrame(mpf)\n",
    "mpf[\"idx\"]=mpf.index.to_series().map(p1.edgesLableDictReverse)\n",
    "mpf =mpf.set_index(\"idx\")\n",
    "mpf.sort_index().plot.bar(fontsize = 16)"
   ]
  },
  {
   "cell_type": "markdown",
   "metadata": {},
   "source": [
    "## column generation"
   ]
  },
  {
   "cell_type": "code",
   "execution_count": 721,
   "metadata": {
    "scrolled": true
   },
   "outputs": [
    {
     "name": "stdout",
     "output_type": "stream",
     "text": [
      "================================================== master problem\n",
      "Optimize a model with 7 rows, 11 columns and 10 nonzeros\n",
      "Coefficient statistics:\n",
      "  Matrix range     [1e+00, 1e+00]\n",
      "  Objective range  [1e+00, 1e+00]\n",
      "  Bounds range     [0e+00, 0e+00]\n",
      "  RHS range        [1e+00, 3e+00]\n",
      "Presolve removed 7 rows and 11 columns\n",
      "Presolve time: 0.00s\n",
      "Presolve: All rows and columns removed\n",
      "Iteration    Objective       Primal Inf.    Dual Inf.      Time\n",
      "       0   -0.0000000e+00   0.000000e+00   0.000000e+00      0s\n",
      "\n",
      "Solved in 0 iterations and 0.01 seconds\n",
      "Optimal objective -0.000000000e+00\n",
      "\n",
      "\n",
      "\n",
      "\n",
      "======================sub problem============================ \n",
      "Optimize a model with 1 rows, 7 columns and 7 nonzeros\n",
      "Variable types: 0 continuous, 7 integer (7 binary)\n",
      "Coefficient statistics:\n",
      "  Matrix range     [1e+00, 1e+00]\n",
      "  Objective range  [2e+00, 5e+00]\n",
      "  Bounds range     [1e+00, 1e+00]\n",
      "  RHS range        [2e+00, 2e+00]\n",
      "Found heuristic solution: objective 2.0000000\n",
      "Presolve removed 1 rows and 7 columns\n",
      "Presolve time: 0.00s\n",
      "Presolve: All rows and columns removed\n",
      "\n",
      "Explored 0 nodes (0 simplex iterations) in 0.01 seconds\n",
      "Thread count was 1 (of 4 available processors)\n",
      "\n",
      "Solution count 2: 7 2 \n",
      "\n",
      "Optimal solution found (tolerance 1.00e-04)\n",
      "Best objective 7.000000000000e+00, best bound 7.000000000000e+00, gap 0.0000%\n",
      "\n",
      "\n",
      "\\================================================== master problem\n"
     ]
    }
   ],
   "source": [
    "res21cg = colGen(p1,2)"
   ]
  },
  {
   "cell_type": "code",
   "execution_count": 722,
   "metadata": {},
   "outputs": [
    {
     "data": {
      "text/plain": [
       "{'init': {'t': 0.00999307632446289, 'y': ['e2', 'e7']},\n",
       " 'master1': {'t': 0.0159909725189209, 'obj': -0.0},\n",
       " 'sub1': {'t': 0.016988754272460938, 'y': ['e2', 'e7']}}"
      ]
     },
     "execution_count": 722,
     "metadata": {},
     "output_type": "execute_result"
    }
   ],
   "source": [
    "res21cg"
   ]
  },
  {
   "cell_type": "markdown",
   "metadata": {},
   "source": [
    "# (14, 32)"
   ]
  },
  {
   "cell_type": "code",
   "execution_count": 815,
   "metadata": {},
   "outputs": [
    {
     "name": "stdout",
     "output_type": "stream",
     "text": [
      "['s', '2', '3', '4', '5', '7', '9', '10', '12', '13', '14', '15', '16', 't']\n"
     ]
    },
    {
     "data": {
      "text/plain": [
       "(14, 32)"
      ]
     },
     "execution_count": 815,
     "metadata": {},
     "output_type": "execute_result"
    }
   ],
   "source": [
    "from NetAnalysis import NetAnalysis\n",
    "n15 = NetAnalysis.generate_random([2,  12, 2])\n",
    "saveData(n15,\"N13E27\")\n",
    "n15.size"
   ]
  },
  {
   "cell_type": "code",
   "execution_count": 834,
   "metadata": {
    "scrolled": true
   },
   "outputs": [
    {
     "data": {
      "text/html": [
       "<div>\n",
       "<style scoped>\n",
       "    .dataframe tbody tr th:only-of-type {\n",
       "        vertical-align: middle;\n",
       "    }\n",
       "\n",
       "    .dataframe tbody tr th {\n",
       "        vertical-align: top;\n",
       "    }\n",
       "\n",
       "    .dataframe thead th {\n",
       "        text-align: right;\n",
       "    }\n",
       "</style>\n",
       "<table border=\"1\" class=\"dataframe\">\n",
       "  <thead>\n",
       "    <tr style=\"text-align: right;\">\n",
       "      <th></th>\n",
       "      <th></th>\n",
       "      <th>time</th>\n",
       "      <th>obj</th>\n",
       "      <th>sol</th>\n",
       "    </tr>\n",
       "    <tr>\n",
       "      <th>k</th>\n",
       "      <th>method</th>\n",
       "      <th></th>\n",
       "      <th></th>\n",
       "      <th></th>\n",
       "    </tr>\n",
       "  </thead>\n",
       "  <tbody>\n",
       "    <tr>\n",
       "      <td rowspan=\"3\" valign=\"top\">1</td>\n",
       "      <td>MIP</td>\n",
       "      <td>0.1996</td>\n",
       "      <td>17.0</td>\n",
       "      <td>[e32]</td>\n",
       "    </tr>\n",
       "    <tr>\n",
       "      <td>init</td>\n",
       "      <td>0.0040</td>\n",
       "      <td>17.0</td>\n",
       "      <td>[e32]</td>\n",
       "    </tr>\n",
       "    <tr>\n",
       "      <td>MIP_init</td>\n",
       "      <td>0.1749</td>\n",
       "      <td>17.0</td>\n",
       "      <td>[e32]</td>\n",
       "    </tr>\n",
       "    <tr>\n",
       "      <td rowspan=\"3\" valign=\"top\">2</td>\n",
       "      <td>MIP</td>\n",
       "      <td>0.1539</td>\n",
       "      <td>10.0</td>\n",
       "      <td>[e5, e32]</td>\n",
       "    </tr>\n",
       "    <tr>\n",
       "      <td>init</td>\n",
       "      <td>0.0060</td>\n",
       "      <td>12.0</td>\n",
       "      <td>[e32, e26]</td>\n",
       "    </tr>\n",
       "    <tr>\n",
       "      <td>MIP_init</td>\n",
       "      <td>0.1799</td>\n",
       "      <td>10.0</td>\n",
       "      <td>[e5, e32]</td>\n",
       "    </tr>\n",
       "    <tr>\n",
       "      <td rowspan=\"3\" valign=\"top\">3</td>\n",
       "      <td>MIP</td>\n",
       "      <td>0.2429</td>\n",
       "      <td>5.0</td>\n",
       "      <td>[e24, e27, e32]</td>\n",
       "    </tr>\n",
       "    <tr>\n",
       "      <td>init</td>\n",
       "      <td>0.0060</td>\n",
       "      <td>9.0</td>\n",
       "      <td>[e32, e26, e30]</td>\n",
       "    </tr>\n",
       "    <tr>\n",
       "      <td>MIP_init</td>\n",
       "      <td>0.2668</td>\n",
       "      <td>5.0</td>\n",
       "      <td>[e26, e27, e32]</td>\n",
       "    </tr>\n",
       "  </tbody>\n",
       "</table>\n",
       "</div>"
      ],
      "text/plain": [
       "              time   obj              sol\n",
       "k method                                 \n",
       "1 MIP       0.1996  17.0            [e32]\n",
       "  init      0.0040  17.0            [e32]\n",
       "  MIP_init  0.1749  17.0            [e32]\n",
       "2 MIP       0.1539  10.0        [e5, e32]\n",
       "  init      0.0060  12.0       [e32, e26]\n",
       "  MIP_init  0.1799  10.0        [e5, e32]\n",
       "3 MIP       0.2429   5.0  [e24, e27, e32]\n",
       "  init      0.0060   9.0  [e32, e26, e30]\n",
       "  MIP_init  0.2668   5.0  [e26, e27, e32]"
      ]
     },
     "execution_count": 834,
     "metadata": {},
     "output_type": "execute_result"
    }
   ],
   "source": [
    "n15.solvefork(1)\n",
    "n15.solvefork(2)\n",
    "n15.solvefork(3)\n",
    "n15.results"
   ]
  },
  {
   "cell_type": "code",
   "execution_count": 836,
   "metadata": {},
   "outputs": [
    {
     "data": {
      "text/html": [
       "<div>\n",
       "<style scoped>\n",
       "    .dataframe tbody tr th:only-of-type {\n",
       "        vertical-align: middle;\n",
       "    }\n",
       "\n",
       "    .dataframe tbody tr th {\n",
       "        vertical-align: top;\n",
       "    }\n",
       "\n",
       "    .dataframe thead tr th {\n",
       "        text-align: left;\n",
       "    }\n",
       "\n",
       "    .dataframe thead tr:last-of-type th {\n",
       "        text-align: right;\n",
       "    }\n",
       "</style>\n",
       "<table border=\"1\" class=\"dataframe\">\n",
       "  <thead>\n",
       "    <tr>\n",
       "      <th></th>\n",
       "      <th colspan=\"3\" halign=\"left\">time</th>\n",
       "      <th colspan=\"3\" halign=\"left\">obj</th>\n",
       "      <th colspan=\"3\" halign=\"left\">sol</th>\n",
       "    </tr>\n",
       "    <tr>\n",
       "      <th>method</th>\n",
       "      <th>MIP</th>\n",
       "      <th>init</th>\n",
       "      <th>MIP_init</th>\n",
       "      <th>MIP</th>\n",
       "      <th>init</th>\n",
       "      <th>MIP_init</th>\n",
       "      <th>MIP</th>\n",
       "      <th>init</th>\n",
       "      <th>MIP_init</th>\n",
       "    </tr>\n",
       "    <tr>\n",
       "      <th>k</th>\n",
       "      <th></th>\n",
       "      <th></th>\n",
       "      <th></th>\n",
       "      <th></th>\n",
       "      <th></th>\n",
       "      <th></th>\n",
       "      <th></th>\n",
       "      <th></th>\n",
       "      <th></th>\n",
       "    </tr>\n",
       "  </thead>\n",
       "  <tbody>\n",
       "    <tr>\n",
       "      <td>1</td>\n",
       "      <td>0.1996</td>\n",
       "      <td>0.0040</td>\n",
       "      <td>0.1749</td>\n",
       "      <td>17.0</td>\n",
       "      <td>17.0</td>\n",
       "      <td>17.0</td>\n",
       "      <td>[e32]</td>\n",
       "      <td>[e32]</td>\n",
       "      <td>[e32]</td>\n",
       "    </tr>\n",
       "    <tr>\n",
       "      <td>2</td>\n",
       "      <td>0.1539</td>\n",
       "      <td>0.0060</td>\n",
       "      <td>0.1799</td>\n",
       "      <td>10.0</td>\n",
       "      <td>12.0</td>\n",
       "      <td>10.0</td>\n",
       "      <td>[e5, e32]</td>\n",
       "      <td>[e32, e26]</td>\n",
       "      <td>[e5, e32]</td>\n",
       "    </tr>\n",
       "    <tr>\n",
       "      <td>3</td>\n",
       "      <td>0.2429</td>\n",
       "      <td>0.0060</td>\n",
       "      <td>0.2668</td>\n",
       "      <td>5.0</td>\n",
       "      <td>9.0</td>\n",
       "      <td>5.0</td>\n",
       "      <td>[e24, e27, e32]</td>\n",
       "      <td>[e32, e26, e30]</td>\n",
       "      <td>[e26, e27, e32]</td>\n",
       "    </tr>\n",
       "  </tbody>\n",
       "</table>\n",
       "</div>"
      ],
      "text/plain": [
       "          time                    obj                             sol  \\\n",
       "method     MIP    init MIP_init   MIP  init MIP_init              MIP   \n",
       "k                                                                       \n",
       "1       0.1996  0.0040   0.1749  17.0  17.0     17.0            [e32]   \n",
       "2       0.1539  0.0060   0.1799  10.0  12.0     10.0        [e5, e32]   \n",
       "3       0.2429  0.0060   0.2668   5.0   9.0      5.0  [e24, e27, e32]   \n",
       "\n",
       "                                          \n",
       "method             init         MIP_init  \n",
       "k                                         \n",
       "1                 [e32]            [e32]  \n",
       "2            [e32, e26]        [e5, e32]  \n",
       "3       [e32, e26, e30]  [e26, e27, e32]  "
      ]
     },
     "execution_count": 836,
     "metadata": {},
     "output_type": "execute_result"
    }
   ],
   "source": [
    "n15.results.unstack()"
   ]
  },
  {
   "cell_type": "markdown",
   "metadata": {},
   "source": [
    "## column generation"
   ]
  },
  {
   "cell_type": "code",
   "execution_count": 840,
   "metadata": {},
   "outputs": [
    {
     "data": {
      "text/html": [
       "<div>\n",
       "<style scoped>\n",
       "    .dataframe tbody tr th:only-of-type {\n",
       "        vertical-align: middle;\n",
       "    }\n",
       "\n",
       "    .dataframe tbody tr th {\n",
       "        vertical-align: top;\n",
       "    }\n",
       "\n",
       "    .dataframe thead th {\n",
       "        text-align: right;\n",
       "    }\n",
       "</style>\n",
       "<table border=\"1\" class=\"dataframe\">\n",
       "  <thead>\n",
       "    <tr style=\"text-align: right;\">\n",
       "      <th></th>\n",
       "      <th>int</th>\n",
       "      <th>iny</th>\n",
       "      <th>m1t</th>\n",
       "      <th>m1obj</th>\n",
       "      <th>s1t</th>\n",
       "      <th>s1y</th>\n",
       "      <th>m2t</th>\n",
       "      <th>m2obj</th>\n",
       "      <th>s2t</th>\n",
       "      <th>s2y</th>\n",
       "    </tr>\n",
       "  </thead>\n",
       "  <tbody>\n",
       "    <tr>\n",
       "      <td>2</td>\n",
       "      <td>0.015990</td>\n",
       "      <td>['e26', 'e32']</td>\n",
       "      <td>0.123923</td>\n",
       "      <td>12.0</td>\n",
       "      <td>0.002999</td>\n",
       "      <td>['e26', 'e32']</td>\n",
       "      <td></td>\n",
       "      <td></td>\n",
       "      <td></td>\n",
       "      <td></td>\n",
       "    </tr>\n",
       "    <tr>\n",
       "      <td>1</td>\n",
       "      <td>0.013991</td>\n",
       "      <td>['e32']</td>\n",
       "      <td>0.112930</td>\n",
       "      <td>17.0</td>\n",
       "      <td>0.001999</td>\n",
       "      <td>['e32']</td>\n",
       "      <td></td>\n",
       "      <td></td>\n",
       "      <td></td>\n",
       "      <td></td>\n",
       "    </tr>\n",
       "    <tr>\n",
       "      <td>3</td>\n",
       "      <td>0.013991</td>\n",
       "      <td>['e26', 'e30', 'e32']</td>\n",
       "      <td>0.098940</td>\n",
       "      <td>9.0</td>\n",
       "      <td>0.003998</td>\n",
       "      <td>['e5', 'e26', 'e32']</td>\n",
       "      <td></td>\n",
       "      <td></td>\n",
       "      <td></td>\n",
       "      <td></td>\n",
       "    </tr>\n",
       "  </tbody>\n",
       "</table>\n",
       "</div>"
      ],
      "text/plain": [
       "        int                    iny       m1t  m1obj       s1t  \\\n",
       "2  0.015990         ['e26', 'e32']  0.123923   12.0  0.002999   \n",
       "1  0.013991                ['e32']  0.112930   17.0  0.001999   \n",
       "3  0.013991  ['e26', 'e30', 'e32']  0.098940    9.0  0.003998   \n",
       "\n",
       "                    s1y m2t m2obj s2t s2y  \n",
       "2        ['e26', 'e32']                    \n",
       "1               ['e32']                    \n",
       "3  ['e5', 'e26', 'e32']                    "
      ]
     },
     "execution_count": 840,
     "metadata": {},
     "output_type": "execute_result"
    }
   ],
   "source": [
    "n15.resultsGC[\"\"]"
   ]
  },
  {
   "cell_type": "code",
   "execution_count": 839,
   "metadata": {
    "collapsed": true
   },
   "outputs": [
    {
     "name": "stdout",
     "output_type": "stream",
     "text": [
      "================================================== master problem\n",
      "\n",
      "\n",
      "\n",
      "\n",
      "======================sub problem============================ \n",
      "\n",
      "\n",
      "\\================================================== master problem\n",
      "\n",
      "\n",
      "\n",
      "\n",
      "======================sub problem============================ \n",
      "\n",
      "\n",
      "================================================== master problem\n",
      "{'init': {'t': 0.013991117477416992, 'y': ['e26', 'e30', 'e32']}, 'master1': {'t': 0.09893989562988281, 'obj': 9.0}, 'sub1': {'t': 0.0039975643157958984, 'y': ['e5', 'e26', 'e32']}, 'master2': {'t': 0.09794187545776367, 'obj': 5.0}, 'sub2': {'t': 0.003996372222900391, 'y': ['e5', 'e26', 'e32']}}\n"
     ]
    },
    {
     "data": {
      "text/plain": [
       "{'init': {'t': 0.013991117477416992, 'y': ['e26', 'e30', 'e32']},\n",
       " 'master1': {'t': 0.09893989562988281, 'obj': 9.0},\n",
       " 'sub1': {'t': 0.0039975643157958984, 'y': ['e5', 'e26', 'e32']},\n",
       " 'master2': {'t': 0.09794187545776367, 'obj': 5.0},\n",
       " 'sub2': {'t': 0.003996372222900391, 'y': ['e5', 'e26', 'e32']}}"
      ]
     },
     "execution_count": 839,
     "metadata": {},
     "output_type": "execute_result"
    }
   ],
   "source": [
    "n15.colGen2(3)"
   ]
  },
  {
   "cell_type": "raw",
   "metadata": {},
   "source": [
    "n15cg = {i:colGen(n15,i) for i in [1,2,3]}\n",
    "n15cg"
   ]
  },
  {
   "cell_type": "markdown",
   "metadata": {},
   "source": [
    "# (21,78)"
   ]
  },
  {
   "cell_type": "code",
   "execution_count": 818,
   "metadata": {},
   "outputs": [
    {
     "name": "stdout",
     "output_type": "stream",
     "text": [
      "['s', '2', '3', '4', '5', '6', '7', '8', '9', '10', '11', '12', '13', '14', '15', '16', '17', '18', '19', '20', '21', '22', '23', '24', 't']\n"
     ]
    },
    {
     "data": {
      "text/plain": [
       "(25, 89)"
      ]
     },
     "execution_count": 818,
     "metadata": {},
     "output_type": "execute_result"
    }
   ],
   "source": [
    "from NetAnalysis import NetAnalysis\n",
    "n21 = NetAnalysis.generate_random([2, 10, 10, 2])\n",
    "n21.size"
   ]
  },
  {
   "cell_type": "code",
   "execution_count": 841,
   "metadata": {},
   "outputs": [
    {
     "data": {
      "text/html": [
       "<div>\n",
       "<style scoped>\n",
       "    .dataframe tbody tr th:only-of-type {\n",
       "        vertical-align: middle;\n",
       "    }\n",
       "\n",
       "    .dataframe tbody tr th {\n",
       "        vertical-align: top;\n",
       "    }\n",
       "\n",
       "    .dataframe thead tr th {\n",
       "        text-align: left;\n",
       "    }\n",
       "\n",
       "    .dataframe thead tr:last-of-type th {\n",
       "        text-align: right;\n",
       "    }\n",
       "</style>\n",
       "<table border=\"1\" class=\"dataframe\">\n",
       "  <thead>\n",
       "    <tr>\n",
       "      <th></th>\n",
       "      <th colspan=\"3\" halign=\"left\">time</th>\n",
       "      <th colspan=\"3\" halign=\"left\">obj</th>\n",
       "      <th colspan=\"3\" halign=\"left\">sol</th>\n",
       "    </tr>\n",
       "    <tr>\n",
       "      <th>method</th>\n",
       "      <th>MIP</th>\n",
       "      <th>init</th>\n",
       "      <th>MIP_init</th>\n",
       "      <th>MIP</th>\n",
       "      <th>init</th>\n",
       "      <th>MIP_init</th>\n",
       "      <th>MIP</th>\n",
       "      <th>init</th>\n",
       "      <th>MIP_init</th>\n",
       "    </tr>\n",
       "    <tr>\n",
       "      <th>k</th>\n",
       "      <th></th>\n",
       "      <th></th>\n",
       "      <th></th>\n",
       "      <th></th>\n",
       "      <th></th>\n",
       "      <th></th>\n",
       "      <th></th>\n",
       "      <th></th>\n",
       "      <th></th>\n",
       "    </tr>\n",
       "  </thead>\n",
       "  <tbody>\n",
       "    <tr>\n",
       "      <td>1</td>\n",
       "      <td>4.1913</td>\n",
       "      <td>0.0030</td>\n",
       "      <td>3.9088</td>\n",
       "      <td>21.0</td>\n",
       "      <td>21.0</td>\n",
       "      <td>21.0</td>\n",
       "      <td>[e6]</td>\n",
       "      <td>[e88]</td>\n",
       "      <td>[e88]</td>\n",
       "    </tr>\n",
       "    <tr>\n",
       "      <td>2</td>\n",
       "      <td>3.6645</td>\n",
       "      <td>0.0070</td>\n",
       "      <td>3.8154</td>\n",
       "      <td>14.0</td>\n",
       "      <td>16.0</td>\n",
       "      <td>14.0</td>\n",
       "      <td>[e5, e89]</td>\n",
       "      <td>[e88, e1]</td>\n",
       "      <td>[e5, e89]</td>\n",
       "    </tr>\n",
       "    <tr>\n",
       "      <td>3</td>\n",
       "      <td>3.9975</td>\n",
       "      <td>0.0100</td>\n",
       "      <td>7.7511</td>\n",
       "      <td>9.0</td>\n",
       "      <td>11.0</td>\n",
       "      <td>9.0</td>\n",
       "      <td>[e3, e88, e89]</td>\n",
       "      <td>[e88, e1, e3]</td>\n",
       "      <td>[e1, e5, e6]</td>\n",
       "    </tr>\n",
       "    <tr>\n",
       "      <td>4</td>\n",
       "      <td>4.2209</td>\n",
       "      <td>0.0110</td>\n",
       "      <td>4.7403</td>\n",
       "      <td>4.0</td>\n",
       "      <td>4.0</td>\n",
       "      <td>4.0</td>\n",
       "      <td>[e1, e3, e88, e89]</td>\n",
       "      <td>[e88, e1, e3, e89]</td>\n",
       "      <td>[e1, e3, e88, e89]</td>\n",
       "    </tr>\n",
       "    <tr>\n",
       "      <td>5</td>\n",
       "      <td>5.1970</td>\n",
       "      <td>0.0180</td>\n",
       "      <td>4.7786</td>\n",
       "      <td>2.0</td>\n",
       "      <td>2.0</td>\n",
       "      <td>2.0</td>\n",
       "      <td>[e1, e3, e88, e89]</td>\n",
       "      <td>[e88, e1, e3, e89, e2]</td>\n",
       "      <td>[e1, e3, e88, e89]</td>\n",
       "    </tr>\n",
       "    <tr>\n",
       "      <td>6</td>\n",
       "      <td>3.8417</td>\n",
       "      <td>0.0140</td>\n",
       "      <td>-1</td>\n",
       "      <td>-0.0</td>\n",
       "      <td>0.0</td>\n",
       "      <td>-1.0</td>\n",
       "      <td>[e1, e2, e3, e4, e5, e89]</td>\n",
       "      <td>[e88, e1, e3, e89, e2, e4]</td>\n",
       "      <td>[]</td>\n",
       "    </tr>\n",
       "  </tbody>\n",
       "</table>\n",
       "</div>"
      ],
      "text/plain": [
       "          time                    obj                 \\\n",
       "method     MIP    init MIP_init   MIP  init MIP_init   \n",
       "k                                                      \n",
       "1       4.1913  0.0030   3.9088  21.0  21.0     21.0   \n",
       "2       3.6645  0.0070   3.8154  14.0  16.0     14.0   \n",
       "3       3.9975  0.0100   7.7511   9.0  11.0      9.0   \n",
       "4       4.2209  0.0110   4.7403   4.0   4.0      4.0   \n",
       "5       5.1970  0.0180   4.7786   2.0   2.0      2.0   \n",
       "6       3.8417  0.0140       -1  -0.0   0.0     -1.0   \n",
       "\n",
       "                              sol                              \\\n",
       "method                        MIP                        init   \n",
       "k                                                               \n",
       "1                            [e6]                       [e88]   \n",
       "2                       [e5, e89]                   [e88, e1]   \n",
       "3                  [e3, e88, e89]               [e88, e1, e3]   \n",
       "4              [e1, e3, e88, e89]          [e88, e1, e3, e89]   \n",
       "5              [e1, e3, e88, e89]      [e88, e1, e3, e89, e2]   \n",
       "6       [e1, e2, e3, e4, e5, e89]  [e88, e1, e3, e89, e2, e4]   \n",
       "\n",
       "                            \n",
       "method            MIP_init  \n",
       "k                           \n",
       "1                    [e88]  \n",
       "2                [e5, e89]  \n",
       "3             [e1, e5, e6]  \n",
       "4       [e1, e3, e88, e89]  \n",
       "5       [e1, e3, e88, e89]  \n",
       "6                       []  "
      ]
     },
     "execution_count": 841,
     "metadata": {},
     "output_type": "execute_result"
    }
   ],
   "source": [
    "# for i in range(1,6):\n",
    "#     n21.solvefork(i)\n",
    "n21.results.unstack()"
   ]
  },
  {
   "cell_type": "code",
   "execution_count": null,
   "metadata": {},
   "outputs": [],
   "source": []
  },
  {
   "cell_type": "markdown",
   "metadata": {},
   "source": [
    "## Column Gen"
   ]
  },
  {
   "cell_type": "code",
   "execution_count": 826,
   "metadata": {
    "scrolled": false
   },
   "outputs": [
    {
     "name": "stdout",
     "output_type": "stream",
     "text": [
      "================================================== master problem\n",
      "\n",
      "\n",
      "\n",
      "\n",
      "======================sub problem============================ \n",
      "\n",
      "\n",
      "\\================================================== master problem\n",
      "{'init': {'t': 0.015990734100341797, 'y': ['e88']}, 'master1': {'t': 2.8594038486480713, 'obj': 21.0}, 'sub1': {'t': 0.002998828887939453, 'y': ['e88']}}\n",
      "================================================== master problem\n",
      "\n",
      "\n",
      "\n",
      "\n",
      "======================sub problem============================ \n",
      "\n",
      "\n",
      "\\================================================== master problem\n",
      "\n",
      "\n",
      "\n",
      "\n",
      "======================sub problem============================ \n",
      "\n",
      "\n",
      "================================================== master problem\n",
      "{'init': {'t': 0.01499032974243164, 'y': ['e1', 'e88']}, 'master1': {'t': 2.855358839035034, 'obj': 16.0}, 'sub1': {'t': 0.0019986629486083984, 'y': ['e6', 'e88']}, 'master2': {'t': 2.858813762664795, 'obj': 14.0}, 'sub2': {'t': 0.002998828887939453, 'y': ['e6', 'e88']}}\n",
      "================================================== master problem\n",
      "\n",
      "\n",
      "\n",
      "\n",
      "======================sub problem============================ \n",
      "\n",
      "\n",
      "\\================================================== master problem\n",
      "\n",
      "\n",
      "\n",
      "\n",
      "======================sub problem============================ \n",
      "\n",
      "\n",
      "================================================== master problem\n",
      "{'init': {'t': 0.021986007690429688, 'y': ['e1', 'e3', 'e88']}, 'master1': {'t': 3.0730040073394775, 'obj': 11.0}, 'sub1': {'t': 0.003997087478637695, 'y': ['e3', 'e6', 'e88']}, 'master2': {'t': 2.8940107822418213, 'obj': 9.0}, 'sub2': {'t': 0.00699615478515625, 'y': ['e3', 'e6', 'e88']}}\n",
      "================================================== master problem\n",
      "\n",
      "\n",
      "\n",
      "\n",
      "======================sub problem============================ \n",
      "\n",
      "\n",
      "\\================================================== master problem\n",
      "{'init': {'t': 0.02398681640625, 'y': ['e1', 'e3', 'e88', 'e89']}, 'master1': {'t': 2.754575490951538, 'obj': 4.0}, 'sub1': {'t': 0.002997875213623047, 'y': ['e1', 'e3', 'e88', 'e89']}}\n",
      "================================================== master problem\n",
      "\n",
      "\n",
      "\n",
      "\n",
      "======================sub problem============================ \n",
      "\n",
      "\n",
      "\\================================================== master problem\n",
      "\n",
      "\n",
      "\n",
      "\n",
      "======================sub problem============================ \n",
      "\n",
      "\n",
      "================================================== master problem\n",
      "{'init': {'t': 0.02098703384399414, 'y': ['e1', 'e2', 'e3', 'e88', 'e89']}, 'master1': {'t': 3.05413818359375, 'obj': 2.0}, 'sub1': {'t': 0.0030002593994140625, 'y': ['e1', 'e3', 'e4', 'e88', 'e89']}, 'master2': {'t': 2.7606711387634277, 'obj': 2.0}, 'sub2': {'t': 0.00299835205078125, 'y': ['e1', 'e3', 'e4', 'e88', 'e89']}}\n"
     ]
    }
   ],
   "source": [
    "for i in range(1,6):\n",
    "    n21.colGen2(i)"
   ]
  },
  {
   "cell_type": "code",
   "execution_count": 845,
   "metadata": {},
   "outputs": [
    {
     "data": {
      "text/html": [
       "<div>\n",
       "<style scoped>\n",
       "    .dataframe tbody tr th:only-of-type {\n",
       "        vertical-align: middle;\n",
       "    }\n",
       "\n",
       "    .dataframe tbody tr th {\n",
       "        vertical-align: top;\n",
       "    }\n",
       "\n",
       "    .dataframe thead th {\n",
       "        text-align: right;\n",
       "    }\n",
       "</style>\n",
       "<table border=\"1\" class=\"dataframe\">\n",
       "  <thead>\n",
       "    <tr style=\"text-align: right;\">\n",
       "      <th></th>\n",
       "      <th>int</th>\n",
       "      <th>iny</th>\n",
       "      <th>m1t</th>\n",
       "      <th>m1obj</th>\n",
       "      <th>s1t</th>\n",
       "      <th>s1y</th>\n",
       "      <th>m2t</th>\n",
       "      <th>m2obj</th>\n",
       "      <th>s2t</th>\n",
       "      <th>s2y</th>\n",
       "    </tr>\n",
       "  </thead>\n",
       "  <tbody>\n",
       "    <tr>\n",
       "      <td>1</td>\n",
       "      <td>0.015991</td>\n",
       "      <td>['e88']</td>\n",
       "      <td>2.859404</td>\n",
       "      <td>21.0</td>\n",
       "      <td>0.002999</td>\n",
       "      <td>['e88']</td>\n",
       "      <td></td>\n",
       "      <td></td>\n",
       "      <td></td>\n",
       "      <td></td>\n",
       "    </tr>\n",
       "    <tr>\n",
       "      <td>2</td>\n",
       "      <td>0.014990</td>\n",
       "      <td>['e1', 'e88']</td>\n",
       "      <td>2.855359</td>\n",
       "      <td>16.0</td>\n",
       "      <td>0.001999</td>\n",
       "      <td>['e6', 'e88']</td>\n",
       "      <td></td>\n",
       "      <td></td>\n",
       "      <td></td>\n",
       "      <td></td>\n",
       "    </tr>\n",
       "    <tr>\n",
       "      <td>3</td>\n",
       "      <td>0.021986</td>\n",
       "      <td>['e1', 'e3', 'e88']</td>\n",
       "      <td>3.073004</td>\n",
       "      <td>11.0</td>\n",
       "      <td>0.003997</td>\n",
       "      <td>['e3', 'e6', 'e88']</td>\n",
       "      <td></td>\n",
       "      <td></td>\n",
       "      <td></td>\n",
       "      <td></td>\n",
       "    </tr>\n",
       "    <tr>\n",
       "      <td>4</td>\n",
       "      <td>0.023987</td>\n",
       "      <td>['e1', 'e3', 'e88', 'e89']</td>\n",
       "      <td>2.754575</td>\n",
       "      <td>4.0</td>\n",
       "      <td>0.002998</td>\n",
       "      <td>['e1', 'e3', 'e88', 'e89']</td>\n",
       "      <td></td>\n",
       "      <td></td>\n",
       "      <td></td>\n",
       "      <td></td>\n",
       "    </tr>\n",
       "    <tr>\n",
       "      <td>5</td>\n",
       "      <td>0.020987</td>\n",
       "      <td>['e1', 'e2', 'e3', 'e88', 'e89']</td>\n",
       "      <td>3.054138</td>\n",
       "      <td>2.0</td>\n",
       "      <td>0.003000</td>\n",
       "      <td>['e1', 'e3', 'e4', 'e88', 'e89']</td>\n",
       "      <td></td>\n",
       "      <td></td>\n",
       "      <td></td>\n",
       "      <td></td>\n",
       "    </tr>\n",
       "    <tr>\n",
       "      <td>6</td>\n",
       "      <td>0.030981</td>\n",
       "      <td>['e1', 'e2', 'e3', 'e4', 'e88', 'e89']</td>\n",
       "      <td>2.737313</td>\n",
       "      <td>-0.0</td>\n",
       "      <td>0.002997</td>\n",
       "      <td>['e1', 'e2', 'e3', 'e4', 'e88', 'e89']</td>\n",
       "      <td></td>\n",
       "      <td></td>\n",
       "      <td></td>\n",
       "      <td></td>\n",
       "    </tr>\n",
       "  </tbody>\n",
       "</table>\n",
       "</div>"
      ],
      "text/plain": [
       "        int                                     iny       m1t  m1obj  \\\n",
       "1  0.015991                                 ['e88']  2.859404   21.0   \n",
       "2  0.014990                           ['e1', 'e88']  2.855359   16.0   \n",
       "3  0.021986                     ['e1', 'e3', 'e88']  3.073004   11.0   \n",
       "4  0.023987              ['e1', 'e3', 'e88', 'e89']  2.754575    4.0   \n",
       "5  0.020987        ['e1', 'e2', 'e3', 'e88', 'e89']  3.054138    2.0   \n",
       "6  0.030981  ['e1', 'e2', 'e3', 'e4', 'e88', 'e89']  2.737313   -0.0   \n",
       "\n",
       "        s1t                                     s1y m2t m2obj s2t s2y  \n",
       "1  0.002999                                 ['e88']                    \n",
       "2  0.001999                           ['e6', 'e88']                    \n",
       "3  0.003997                     ['e3', 'e6', 'e88']                    \n",
       "4  0.002998              ['e1', 'e3', 'e88', 'e89']                    \n",
       "5  0.003000        ['e1', 'e3', 'e4', 'e88', 'e89']                    \n",
       "6  0.002997  ['e1', 'e2', 'e3', 'e4', 'e88', 'e89']                    "
      ]
     },
     "execution_count": 845,
     "metadata": {},
     "output_type": "execute_result"
    }
   ],
   "source": [
    "n21.resultsGC"
   ]
  },
  {
   "cell_type": "markdown",
   "metadata": {},
   "source": [
    "# (32,166)"
   ]
  },
  {
   "cell_type": "code",
   "execution_count": 732,
   "metadata": {},
   "outputs": [
    {
     "data": {
      "text/plain": [
       "(32, 166)"
      ]
     },
     "execution_count": 732,
     "metadata": {},
     "output_type": "execute_result"
    }
   ],
   "source": [
    "from NetAnalysis import NetAnalysis\n",
    "n40 = NetAnalysis.generate_random([6, 15, 15, 6])\n",
    "n40.size"
   ]
  },
  {
   "cell_type": "code",
   "execution_count": 731,
   "metadata": {},
   "outputs": [],
   "source": [
    "with open(\"large166.pickel\",'wb') as f:\n",
    "    pickle.dump(n40,f)"
   ]
  },
  {
   "cell_type": "code",
   "execution_count": 858,
   "metadata": {},
   "outputs": [
    {
     "data": {
      "text/html": [
       "<div>\n",
       "<style scoped>\n",
       "    .dataframe tbody tr th:only-of-type {\n",
       "        vertical-align: middle;\n",
       "    }\n",
       "\n",
       "    .dataframe tbody tr th {\n",
       "        vertical-align: top;\n",
       "    }\n",
       "\n",
       "    .dataframe thead tr th {\n",
       "        text-align: left;\n",
       "    }\n",
       "\n",
       "    .dataframe thead tr:last-of-type th {\n",
       "        text-align: right;\n",
       "    }\n",
       "</style>\n",
       "<table border=\"1\" class=\"dataframe\">\n",
       "  <thead>\n",
       "    <tr>\n",
       "      <th></th>\n",
       "      <th colspan=\"3\" halign=\"left\">time</th>\n",
       "      <th colspan=\"3\" halign=\"left\">obj</th>\n",
       "      <th colspan=\"3\" halign=\"left\">sol</th>\n",
       "    </tr>\n",
       "    <tr>\n",
       "      <th>method</th>\n",
       "      <th>MIP</th>\n",
       "      <th>init</th>\n",
       "      <th>MIP_init</th>\n",
       "      <th>MIP</th>\n",
       "      <th>init</th>\n",
       "      <th>MIP_init</th>\n",
       "      <th>MIP</th>\n",
       "      <th>init</th>\n",
       "      <th>MIP_init</th>\n",
       "    </tr>\n",
       "    <tr>\n",
       "      <th>k</th>\n",
       "      <th></th>\n",
       "      <th></th>\n",
       "      <th></th>\n",
       "      <th></th>\n",
       "      <th></th>\n",
       "      <th></th>\n",
       "      <th></th>\n",
       "      <th></th>\n",
       "      <th></th>\n",
       "    </tr>\n",
       "  </thead>\n",
       "  <tbody>\n",
       "    <tr>\n",
       "      <td>2</td>\n",
       "      <td>87.8738</td>\n",
       "      <td>0.0110</td>\n",
       "      <td>85.5879</td>\n",
       "      <td>18.0</td>\n",
       "      <td>22.0</td>\n",
       "      <td>18.0</td>\n",
       "      <td>[e3, e166]</td>\n",
       "      <td>[e166, e1]</td>\n",
       "      <td>[e3, e166]</td>\n",
       "    </tr>\n",
       "    <tr>\n",
       "      <td>3</td>\n",
       "      <td>113.4332</td>\n",
       "      <td>0.0230</td>\n",
       "      <td>114.0796</td>\n",
       "      <td>14.0</td>\n",
       "      <td>21.0</td>\n",
       "      <td>14.0</td>\n",
       "      <td>[e1, e3, e166]</td>\n",
       "      <td>[e166, e1, e2]</td>\n",
       "      <td>[e1, e3, e166]</td>\n",
       "    </tr>\n",
       "    <tr>\n",
       "      <td>1</td>\n",
       "      <td>89.0502</td>\n",
       "      <td>0.0070</td>\n",
       "      <td>81.2760</td>\n",
       "      <td>26.0</td>\n",
       "      <td>26.0</td>\n",
       "      <td>26.0</td>\n",
       "      <td>[e166]</td>\n",
       "      <td>[e166]</td>\n",
       "      <td>[e166]</td>\n",
       "    </tr>\n",
       "    <tr>\n",
       "      <td>4</td>\n",
       "      <td>137.6250</td>\n",
       "      <td>0.0260</td>\n",
       "      <td>165.0181</td>\n",
       "      <td>10.0</td>\n",
       "      <td>13.0</td>\n",
       "      <td>10.0</td>\n",
       "      <td>[e1, e3, e161, e166]</td>\n",
       "      <td>[e166, e1, e2, e3]</td>\n",
       "      <td>[e1, e3, e161, e166]</td>\n",
       "    </tr>\n",
       "    <tr>\n",
       "      <td>5</td>\n",
       "      <td>149.3595</td>\n",
       "      <td>0.0310</td>\n",
       "      <td>128.3938</td>\n",
       "      <td>7.0</td>\n",
       "      <td>11.0</td>\n",
       "      <td>7.0</td>\n",
       "      <td>[e1, e3, e161, e163, e166]</td>\n",
       "      <td>[e166, e1, e2, e3, e4]</td>\n",
       "      <td>[e1, e3, e161, e163, e166]</td>\n",
       "    </tr>\n",
       "    <tr>\n",
       "      <td>6</td>\n",
       "      <td>230.6420</td>\n",
       "      <td>0.0300</td>\n",
       "      <td>296.3112</td>\n",
       "      <td>5.0</td>\n",
       "      <td>11.0</td>\n",
       "      <td>5.0</td>\n",
       "      <td>[e1, e3, e5, e161, e166]</td>\n",
       "      <td>[e166, e1, e2, e3, e4, e95]</td>\n",
       "      <td>[e1, e3, e4, e5, e161, e166]</td>\n",
       "    </tr>\n",
       "  </tbody>\n",
       "</table>\n",
       "</div>"
      ],
      "text/plain": [
       "            time                     obj                 \\\n",
       "method       MIP    init  MIP_init   MIP  init MIP_init   \n",
       "k                                                         \n",
       "2        87.8738  0.0110   85.5879  18.0  22.0     18.0   \n",
       "3       113.4332  0.0230  114.0796  14.0  21.0     14.0   \n",
       "1        89.0502  0.0070   81.2760  26.0  26.0     26.0   \n",
       "4       137.6250  0.0260  165.0181  10.0  13.0     10.0   \n",
       "5       149.3595  0.0310  128.3938   7.0  11.0      7.0   \n",
       "6       230.6420  0.0300  296.3112   5.0  11.0      5.0   \n",
       "\n",
       "                               sol                               \\\n",
       "method                         MIP                         init   \n",
       "k                                                                 \n",
       "2                       [e3, e166]                   [e166, e1]   \n",
       "3                   [e1, e3, e166]               [e166, e1, e2]   \n",
       "1                           [e166]                       [e166]   \n",
       "4             [e1, e3, e161, e166]           [e166, e1, e2, e3]   \n",
       "5       [e1, e3, e161, e163, e166]       [e166, e1, e2, e3, e4]   \n",
       "6         [e1, e3, e5, e161, e166]  [e166, e1, e2, e3, e4, e95]   \n",
       "\n",
       "                                      \n",
       "method                      MIP_init  \n",
       "k                                     \n",
       "2                         [e3, e166]  \n",
       "3                     [e1, e3, e166]  \n",
       "1                             [e166]  \n",
       "4               [e1, e3, e161, e166]  \n",
       "5         [e1, e3, e161, e163, e166]  \n",
       "6       [e1, e3, e4, e5, e161, e166]  "
      ]
     },
     "execution_count": 858,
     "metadata": {},
     "output_type": "execute_result"
    }
   ],
   "source": [
    "n40.results.unstack()"
   ]
  },
  {
   "cell_type": "markdown",
   "metadata": {},
   "source": [
    "## column generation"
   ]
  },
  {
   "cell_type": "code",
   "execution_count": 859,
   "metadata": {},
   "outputs": [
    {
     "name": "stdout",
     "output_type": "stream",
     "text": [
      "================================================== master problem\n",
      "Optimize a model with 166 rows, 4472 columns and 35076 nonzeros\n",
      "Coefficient statistics:\n",
      "  Matrix range     [1e+00, 1e+00]\n",
      "  Objective range  [1e+00, 1e+00]\n",
      "  Bounds range     [0e+00, 0e+00]\n",
      "  RHS range        [1e+00, 1e+01]\n",
      "\n",
      "Concurrent LP optimizer: dual simplex and barrier\n",
      "Showing barrier log only...\n",
      "\n",
      "Presolve removed 141 rows and 4416 columns\n",
      "Presolve time: 0.02s\n",
      "Presolved: 25 rows, 56 columns, 269 nonzeros\n",
      "\n",
      "Ordering time: 0.00s\n",
      "\n",
      "Barrier performed 0 iterations in 0.02 seconds\n",
      "Barrier solve interrupted - model solved by another algorithm\n",
      "\n",
      "\n",
      "Solved with dual simplex\n",
      "Solved in 18 iterations and 0.03 seconds\n",
      "Optimal objective  1.100000000e+01\n",
      "\n",
      "\n",
      "\n",
      "\n",
      "======================sub problem============================ \n",
      "Optimize a model with 1 rows, 166 columns and 166 nonzeros\n",
      "Variable types: 0 continuous, 166 integer (166 binary)\n",
      "Coefficient statistics:\n",
      "  Matrix range     [1e+00, 1e+00]\n",
      "  Objective range  [1e+00, 3e+01]\n",
      "  Bounds range     [1e+00, 1e+00]\n",
      "  RHS range        [6e+00, 6e+00]\n",
      "Found heuristic solution: objective 16.0000000\n",
      "Presolve removed 0 rows and 160 columns\n",
      "Presolve time: 0.00s\n",
      "Presolved: 1 rows, 6 columns, 6 nonzeros\n",
      "Variable types: 0 continuous, 6 integer (3 binary)\n",
      "\n",
      "Root relaxation: objective 4.600000e+01, 1 iterations, 0.00 seconds\n",
      "\n",
      "    Nodes    |    Current Node    |     Objective Bounds      |     Work\n",
      " Expl Unexpl |  Obj  Depth IntInf | Incumbent    BestBd   Gap | It/Node Time\n",
      "\n",
      "*    0     0               0      46.0000000   46.00000  0.00%     -    0s\n",
      "\n",
      "Explored 0 nodes (1 simplex iterations) in 0.02 seconds\n",
      "Thread count was 4 (of 4 available processors)\n",
      "\n",
      "Solution count 2: 46 16 \n",
      "\n",
      "Optimal solution found (tolerance 1.00e-04)\n",
      "Best objective 4.600000000000e+01, best bound 4.600000000000e+01, gap 0.0000%\n",
      "\n",
      "\n",
      "\\================================================== master problem\n",
      "Optimize a model with 166 rows, 4472 columns and 35076 nonzeros\n",
      "Coefficient statistics:\n",
      "  Matrix range     [1e+00, 1e+00]\n",
      "  Objective range  [1e+00, 1e+00]\n",
      "  Bounds range     [0e+00, 0e+00]\n",
      "  RHS range        [1e+00, 1e+01]\n",
      "\n",
      "Concurrent LP optimizer: dual simplex and barrier\n",
      "Showing barrier log only...\n",
      "\n",
      "Presolve removed 76 rows and 3813 columns\n",
      "Presolve time: 0.02s\n",
      "Presolved: 90 rows, 659 columns, 5430 nonzeros\n",
      "\n",
      "Ordering time: 0.00s\n",
      "\n",
      "Barrier performed 0 iterations in 0.02 seconds\n",
      "Barrier solve interrupted - model solved by another algorithm\n",
      "\n",
      "\n",
      "Solved with dual simplex\n",
      "Solved in 17 iterations and 0.03 seconds\n",
      "Optimal objective  5.000000000e+00\n",
      "\n",
      "\n",
      "\n",
      "\n",
      "======================sub problem============================ \n",
      "Optimize a model with 1 rows, 166 columns and 166 nonzeros\n",
      "Variable types: 0 continuous, 166 integer (166 binary)\n",
      "Coefficient statistics:\n",
      "  Matrix range     [1e+00, 1e+00]\n",
      "  Objective range  [1e+00, 3e+01]\n",
      "  Bounds range     [1e+00, 1e+00]\n",
      "  RHS range        [6e+00, 6e+00]\n",
      "Found heuristic solution: objective 16.0000000\n",
      "Presolve removed 0 rows and 160 columns\n",
      "Presolve time: 0.00s\n",
      "Presolved: 1 rows, 6 columns, 6 nonzeros\n",
      "Variable types: 0 continuous, 6 integer (3 binary)\n",
      "\n",
      "Root relaxation: objective 4.600000e+01, 1 iterations, 0.00 seconds\n",
      "\n",
      "    Nodes    |    Current Node    |     Objective Bounds      |     Work\n",
      " Expl Unexpl |  Obj  Depth IntInf | Incumbent    BestBd   Gap | It/Node Time\n",
      "\n",
      "*    0     0               0      46.0000000   46.00000  0.00%     -    0s\n",
      "\n",
      "Explored 0 nodes (1 simplex iterations) in 0.03 seconds\n",
      "Thread count was 4 (of 4 available processors)\n",
      "\n",
      "Solution count 2: 46 16 \n",
      "\n",
      "Optimal solution found (tolerance 1.00e-04)\n",
      "Best objective 4.600000000000e+01, best bound 4.600000000000e+01, gap 0.0000%\n",
      "\n",
      "\n",
      "================================================== master problem\n"
     ]
    }
   ],
   "source": [
    "n40.resultsGC = {i: colGen(n40, i) for i in range(1,7)}"
   ]
  },
  {
   "cell_type": "code",
   "execution_count": 862,
   "metadata": {},
   "outputs": [
    {
     "data": {
      "text/plain": [
       "{2: {'init': {'t': 0.025983572006225586, 'y': ['e1', 'e166']},\n",
       "  'master1': {'t': 61.59287071228027, 'obj': 22.0},\n",
       "  'sub1': {'t': 0.03297996520996094, 'y': ['e3', 'e166']},\n",
       "  'master2': {'t': 65.90098667144775, 'obj': 18.0},\n",
       "  'sub2': {'t': 0.024982929229736328, 'y': ['e3', 'e166']}},\n",
       " 3: {'init': {'t': 0.026983976364135742, 'y': ['e1', 'e166']},\n",
       "  'master1': {'t': 70.0919873714447, 'obj': 22.0},\n",
       "  'sub1': {'t': 0.05996298789978027, 'y': ['e3', 'e161', 'e166']},\n",
       "  'master2': {'t': 68.9248743057251, 'obj': 14.0},\n",
       "  'sub2': {'t': 0.06096196174621582, 'y': ['e3', 'e161', 'e166']}},\n",
       " 4: {'init': {'t': 0.041974544525146484, 'y': ['e1', 'e166']},\n",
       "  'master1': {'t': 65.0201678276062, 'obj': 22.0},\n",
       "  'sub1': {'t': 0.06196260452270508, 'y': ['e1', 'e3', 'e161', 'e166']},\n",
       "  'master2': {'t': 66.94494652748108, 'obj': 10.0},\n",
       "  'sub2': {'t': 0.05296635627746582, 'y': ['e1', 'e3', 'e161', 'e166']}},\n",
       " 5: {'init': {'t': 0.06296133995056152, 'y': ['e1', 'e2', 'e3', 'e4', 'e166']},\n",
       "  'master1': {'t': 65.04151010513306, 'obj': 11.0},\n",
       "  'sub1': {'t': 0.039975881576538086,\n",
       "   'y': ['e1', 'e3', 'e161', 'e163', 'e166']},\n",
       "  'master2': {'t': 65.74002766609192, 'obj': 7.0},\n",
       "  'sub2': {'t': 0.03797650337219238,\n",
       "   'y': ['e1', 'e3', 'e161', 'e163', 'e166']}},\n",
       " 1: {'init': {'t': 0.020987749099731445, 'y': ['e166']},\n",
       "  'master1': {'t': 68.89143657684326, 'obj': 26.0},\n",
       "  'sub1': {'t': 0.036977529525756836, 'y': ['e166']}},\n",
       " 6: {'init': {'t': 0.046970367431640625,\n",
       "   'y': ['e1', 'e2', 'e3', 'e4', 'e95', 'e166']},\n",
       "  'master1': {'t': 56.22930693626404, 'obj': 11.0},\n",
       "  'sub1': {'t': 0.03997516632080078,\n",
       "   'y': ['e1', 'e3', 'e149', 'e161', 'e163', 'e166']},\n",
       "  'master2': {'t': 55.462780475616455, 'obj': 5.0},\n",
       "  'sub2': {'t': 0.041973114013671875,\n",
       "   'y': ['e1', 'e3', 'e149', 'e161', 'e163', 'e166']}}}"
      ]
     },
     "execution_count": 862,
     "metadata": {},
     "output_type": "execute_result"
    }
   ],
   "source": [
    "n40.resultsGC"
   ]
  },
  {
   "cell_type": "markdown",
   "metadata": {},
   "source": [
    "# (50)"
   ]
  },
  {
   "cell_type": "code",
   "execution_count": null,
   "metadata": {},
   "outputs": [
    {
     "name": "stdout",
     "output_type": "stream",
     "text": [
      "['s', '3', '4', '5', '6', '9', '10', '11', '12', '13', '14', '15', '16', '17', '18', '19', '20', '21', '22', '23', '24', '25', '26', '27', '28', '29', '30', '31', '32', '33', '34', '35', '36', '37', '38', '39', '40', '41', '42', '43', '44', '45', '46', '47', '48', '49', '50', '51', '52', '53', '54', '55', '56', '57', '58', '59', '60', '61', '62', 't']\n"
     ]
    }
   ],
   "source": [
    "from NetAnalysis import NetAnalysis\n",
    "n40 = NetAnalysis.generate_random([6, 25, 25, 6])"
   ]
  },
  {
   "cell_type": "code",
   "execution_count": null,
   "metadata": {},
   "outputs": [],
   "source": []
  },
  {
   "cell_type": "markdown",
   "metadata": {},
   "source": [
    "#  (11,23)"
   ]
  },
  {
   "cell_type": "code",
   "execution_count": 753,
   "metadata": {},
   "outputs": [
    {
     "data": {
      "text/plain": [
       "(11, 23)"
      ]
     },
     "execution_count": 753,
     "metadata": {},
     "output_type": "execute_result"
    }
   ],
   "source": [
    "from NetAnalysis import NetAnalysis\n",
    "n18 = NetAnalysis.generate_random([2,  12, 2])\n",
    "n18.size"
   ]
  },
  {
   "cell_type": "code",
   "execution_count": 755,
   "metadata": {},
   "outputs": [
    {
     "data": {
      "text/plain": [
       "{2: {'init': {'t': 0.01898813247680664, 'y': ['e22', 'e23']},\n",
       "  'master1': {'t': 0.05296635627746582, 'obj': 15.0},\n",
       "  'sub1': {'t': 0.0039980411529541016, 'y': ['e22', 'e23']}},\n",
       " 3: {'init': {'t': 0.016989707946777344, 'y': ['e3', 'e22', 'e23']},\n",
       "  'master1': {'t': 0.040975093841552734, 'obj': 15.0},\n",
       "  'sub1': {'t': 0.0049970149993896484, 'y': ['e19', 'e22', 'e23']},\n",
       "  'master2': {'t': 0.03897356986999512, 'obj': 8.0},\n",
       "  'sub2': {'t': 0.006996870040893555, 'y': ['e19', 'e22', 'e23']}},\n",
       " 4: {'init': {'t': 0.018988847732543945, 'y': ['e3', 'e19', 'e22', 'e23']},\n",
       "  'master1': {'t': 0.03997540473937988, 'obj': 8.0},\n",
       "  'sub1': {'t': 0.0009989738464355469, 'y': ['e15', 'e19', 'e22', 'e23']},\n",
       "  'master2': {'t': 0.04097437858581543, 'obj': 2.0},\n",
       "  'sub2': {'t': 0.0019998550415039062, 'y': ['e15', 'e19', 'e22', 'e23']}}}"
      ]
     },
     "execution_count": 755,
     "metadata": {},
     "output_type": "execute_result"
    }
   ],
   "source": [
    "n18.colGen2(2)\n",
    "n18.colGen2(3)\n",
    "n18.colGen2(4)\n",
    "n18.resultsGC"
   ]
  },
  {
   "cell_type": "markdown",
   "metadata": {},
   "source": [
    "# a-2.4.2 very interesting"
   ]
  },
  {
   "cell_type": "code",
   "execution_count": 136,
   "metadata": {},
   "outputs": [
    {
     "data": {
      "text/plain": [
       "(('s', '6'), ('s', '4'))"
      ]
     },
     "execution_count": 136,
     "metadata": {},
     "output_type": "execute_result"
    }
   ],
   "source": [
    "n1.edgesLableDict['e4'],n1.edgesLableDict['e2']"
   ]
  },
  {
   "cell_type": "code",
   "execution_count": 130,
   "metadata": {},
   "outputs": [
    {
     "name": "stdout",
     "output_type": "stream",
     "text": [
      "True\n"
     ]
    },
    {
     "data": {
      "application/vnd.jupyter.widget-view+json": {
       "model_id": "3498f4c9ed464b5cbe3417b7891cc073",
       "version_major": 2,
       "version_minor": 0
      },
      "text/plain": [
       "Cytoscape(data={'data': [], 'directed': True, 'multigraph': False, 'elements': {'nodes': [{'data': {'pos': (0,…"
      ]
     },
     "metadata": {},
     "output_type": "display_data"
    }
   ],
   "source": [
    "rs = NetAnalysis.style_loader()\n",
    "\n",
    "Cytoscape(data=cytoscape_data(n1.G),\n",
    "                     layout_name='breadthfirst',\n",
    "                     visual_style=rs[0]['style'])"
   ]
  },
  {
   "cell_type": "code",
   "execution_count": 132,
   "metadata": {},
   "outputs": [
    {
     "data": {
      "text/html": [
       "<div>\n",
       "<style scoped>\n",
       "    .dataframe tbody tr th:only-of-type {\n",
       "        vertical-align: middle;\n",
       "    }\n",
       "\n",
       "    .dataframe tbody tr th {\n",
       "        vertical-align: top;\n",
       "    }\n",
       "\n",
       "    .dataframe thead th {\n",
       "        text-align: right;\n",
       "    }\n",
       "</style>\n",
       "<table border=\"1\" class=\"dataframe\">\n",
       "  <thead>\n",
       "    <tr style=\"text-align: right;\">\n",
       "      <th></th>\n",
       "      <th></th>\n",
       "      <th>time</th>\n",
       "      <th>obj</th>\n",
       "      <th>sol</th>\n",
       "    </tr>\n",
       "    <tr>\n",
       "      <th>inop</th>\n",
       "      <th>method</th>\n",
       "      <th></th>\n",
       "      <th></th>\n",
       "      <th></th>\n",
       "    </tr>\n",
       "  </thead>\n",
       "  <tbody>\n",
       "    <tr>\n",
       "      <td rowspan=\"3\" valign=\"top\">2</td>\n",
       "      <td>bp</td>\n",
       "      <td>0.000000</td>\n",
       "      <td>4.0</td>\n",
       "      <td>[e4, e3]</td>\n",
       "    </tr>\n",
       "    <tr>\n",
       "      <td>bb</td>\n",
       "      <td>0.015624</td>\n",
       "      <td>5.0</td>\n",
       "      <td>[e4, e27]</td>\n",
       "    </tr>\n",
       "    <tr>\n",
       "      <td>bm</td>\n",
       "      <td>0.406239</td>\n",
       "      <td>3.0</td>\n",
       "      <td>(e2, e4)</td>\n",
       "    </tr>\n",
       "    <tr>\n",
       "      <td rowspan=\"3\" valign=\"top\">3</td>\n",
       "      <td>bp</td>\n",
       "      <td>0.000000</td>\n",
       "      <td>2.0</td>\n",
       "      <td>[e4, e3, e2]</td>\n",
       "    </tr>\n",
       "    <tr>\n",
       "      <td>bb</td>\n",
       "      <td>0.015622</td>\n",
       "      <td>2.0</td>\n",
       "      <td>[e4, e27, e9]</td>\n",
       "    </tr>\n",
       "    <tr>\n",
       "      <td>bm</td>\n",
       "      <td>3.739119</td>\n",
       "      <td>2.0</td>\n",
       "      <td>(e1, e2, e4)</td>\n",
       "    </tr>\n",
       "  </tbody>\n",
       "</table>\n",
       "</div>"
      ],
      "text/plain": [
       "                 time  obj            sol\n",
       "inop method                              \n",
       "2    bp      0.000000  4.0       [e4, e3]\n",
       "     bb      0.015624  5.0      [e4, e27]\n",
       "     bm      0.406239  3.0       (e2, e4)\n",
       "3    bp      0.000000  2.0   [e4, e3, e2]\n",
       "     bb      0.015622  2.0  [e4, e27, e9]\n",
       "     bm      3.739119  2.0   (e1, e2, e4)"
      ]
     },
     "execution_count": 132,
     "metadata": {},
     "output_type": "execute_result"
    }
   ],
   "source": [
    "n1.mm"
   ]
  },
  {
   "cell_type": "code",
   "execution_count": 126,
   "metadata": {
    "scrolled": true
   },
   "outputs": [
    {
     "name": "stdout",
     "output_type": "stream",
     "text": [
      "['s', '1', '4', '5', '6', '7', '8', '9', '10', '11', '12', '13', '14', 't']\n"
     ]
    },
    {
     "data": {
      "text/html": [
       "<div>\n",
       "<style scoped>\n",
       "    .dataframe tbody tr th:only-of-type {\n",
       "        vertical-align: middle;\n",
       "    }\n",
       "\n",
       "    .dataframe tbody tr th {\n",
       "        vertical-align: top;\n",
       "    }\n",
       "\n",
       "    .dataframe thead th {\n",
       "        text-align: right;\n",
       "    }\n",
       "</style>\n",
       "<table border=\"1\" class=\"dataframe\">\n",
       "  <thead>\n",
       "    <tr style=\"text-align: right;\">\n",
       "      <th></th>\n",
       "      <th>dual</th>\n",
       "      <th>pattern1</th>\n",
       "      <th>pattern2</th>\n",
       "      <th>optimal</th>\n",
       "    </tr>\n",
       "  </thead>\n",
       "  <tbody>\n",
       "    <tr>\n",
       "      <td>e10</td>\n",
       "      <td>1.0</td>\n",
       "      <td>0</td>\n",
       "      <td>0.0</td>\n",
       "      <td>0.0</td>\n",
       "    </tr>\n",
       "    <tr>\n",
       "      <td>e11</td>\n",
       "      <td>1.0</td>\n",
       "      <td>0</td>\n",
       "      <td>0.0</td>\n",
       "      <td>0.0</td>\n",
       "    </tr>\n",
       "    <tr>\n",
       "      <td>e12</td>\n",
       "      <td>1.0</td>\n",
       "      <td>0</td>\n",
       "      <td>0.0</td>\n",
       "      <td>0.0</td>\n",
       "    </tr>\n",
       "    <tr>\n",
       "      <td>e13</td>\n",
       "      <td>1.0</td>\n",
       "      <td>0</td>\n",
       "      <td>0.0</td>\n",
       "      <td>0.0</td>\n",
       "    </tr>\n",
       "    <tr>\n",
       "      <td>e14</td>\n",
       "      <td>1.0</td>\n",
       "      <td>0</td>\n",
       "      <td>0.0</td>\n",
       "      <td>0.0</td>\n",
       "    </tr>\n",
       "    <tr>\n",
       "      <td>e16</td>\n",
       "      <td>1.0</td>\n",
       "      <td>0</td>\n",
       "      <td>0.0</td>\n",
       "      <td>0.0</td>\n",
       "    </tr>\n",
       "    <tr>\n",
       "      <td>e17</td>\n",
       "      <td>1.0</td>\n",
       "      <td>0</td>\n",
       "      <td>0.0</td>\n",
       "      <td>0.0</td>\n",
       "    </tr>\n",
       "    <tr>\n",
       "      <td>e18</td>\n",
       "      <td>1.0</td>\n",
       "      <td>0</td>\n",
       "      <td>0.0</td>\n",
       "      <td>0.0</td>\n",
       "    </tr>\n",
       "    <tr>\n",
       "      <td>e19</td>\n",
       "      <td>1.0</td>\n",
       "      <td>0</td>\n",
       "      <td>0.0</td>\n",
       "      <td>0.0</td>\n",
       "    </tr>\n",
       "    <tr>\n",
       "      <td>e2</td>\n",
       "      <td>0.0</td>\n",
       "      <td>0</td>\n",
       "      <td>0.0</td>\n",
       "      <td>1.0</td>\n",
       "    </tr>\n",
       "    <tr>\n",
       "      <td>e21</td>\n",
       "      <td>1.0</td>\n",
       "      <td>0</td>\n",
       "      <td>0.0</td>\n",
       "      <td>0.0</td>\n",
       "    </tr>\n",
       "    <tr>\n",
       "      <td>e23</td>\n",
       "      <td>1.0</td>\n",
       "      <td>0</td>\n",
       "      <td>0.0</td>\n",
       "      <td>0.0</td>\n",
       "    </tr>\n",
       "    <tr>\n",
       "      <td>e24</td>\n",
       "      <td>1.0</td>\n",
       "      <td>0</td>\n",
       "      <td>0.0</td>\n",
       "      <td>0.0</td>\n",
       "    </tr>\n",
       "    <tr>\n",
       "      <td>e25</td>\n",
       "      <td>1.0</td>\n",
       "      <td>0</td>\n",
       "      <td>0.0</td>\n",
       "      <td>0.0</td>\n",
       "    </tr>\n",
       "    <tr>\n",
       "      <td>e26</td>\n",
       "      <td>1.0</td>\n",
       "      <td>0</td>\n",
       "      <td>0.0</td>\n",
       "      <td>0.0</td>\n",
       "    </tr>\n",
       "    <tr>\n",
       "      <td>e31</td>\n",
       "      <td>0.0</td>\n",
       "      <td>1</td>\n",
       "      <td>0.0</td>\n",
       "      <td>0.0</td>\n",
       "    </tr>\n",
       "    <tr>\n",
       "      <td>e4</td>\n",
       "      <td>0.0</td>\n",
       "      <td>1</td>\n",
       "      <td>0.0</td>\n",
       "      <td>1.0</td>\n",
       "    </tr>\n",
       "    <tr>\n",
       "      <td>e5</td>\n",
       "      <td>1.0</td>\n",
       "      <td>0</td>\n",
       "      <td>1.0</td>\n",
       "      <td>0.0</td>\n",
       "    </tr>\n",
       "    <tr>\n",
       "      <td>e6</td>\n",
       "      <td>1.0</td>\n",
       "      <td>0</td>\n",
       "      <td>1.0</td>\n",
       "      <td>0.0</td>\n",
       "    </tr>\n",
       "    <tr>\n",
       "      <td>e8</td>\n",
       "      <td>1.0</td>\n",
       "      <td>0</td>\n",
       "      <td>0.0</td>\n",
       "      <td>0.0</td>\n",
       "    </tr>\n",
       "    <tr>\n",
       "      <td>e9</td>\n",
       "      <td>1.0</td>\n",
       "      <td>0</td>\n",
       "      <td>0.0</td>\n",
       "      <td>0.0</td>\n",
       "    </tr>\n",
       "  </tbody>\n",
       "</table>\n",
       "</div>"
      ],
      "text/plain": [
       "     dual  pattern1  pattern2  optimal\n",
       "e10   1.0         0       0.0      0.0\n",
       "e11   1.0         0       0.0      0.0\n",
       "e12   1.0         0       0.0      0.0\n",
       "e13   1.0         0       0.0      0.0\n",
       "e14   1.0         0       0.0      0.0\n",
       "e16   1.0         0       0.0      0.0\n",
       "e17   1.0         0       0.0      0.0\n",
       "e18   1.0         0       0.0      0.0\n",
       "e19   1.0         0       0.0      0.0\n",
       "e2    0.0         0       0.0      1.0\n",
       "e21   1.0         0       0.0      0.0\n",
       "e23   1.0         0       0.0      0.0\n",
       "e24   1.0         0       0.0      0.0\n",
       "e25   1.0         0       0.0      0.0\n",
       "e26   1.0         0       0.0      0.0\n",
       "e31   0.0         1       0.0      0.0\n",
       "e4    0.0         1       0.0      1.0\n",
       "e5    1.0         0       1.0      0.0\n",
       "e6    1.0         0       1.0      0.0\n",
       "e8    1.0         0       0.0      0.0\n",
       "e9    1.0         0       0.0      0.0"
      ]
     },
     "execution_count": 126,
     "metadata": {},
     "output_type": "execute_result"
    }
   ],
   "source": [
    "n1 = NetAnalysis.generate_random([2,  10, 2])\n",
    "n1.solvefork(2)\n",
    "n1.solvefork(3)\n",
    "A1 , _ = getInitialColumn(n1,2)\n",
    "dual1,primal1, slack1, obj1 =  masterProblemNew(A1,n1)\n",
    "A211, objVal21 = subProblemNew(dual1,n1,2)\n",
    "# df = pd.DataFrame({'dual':dual1,'slack':slack1, 'pattern1': A1, \"pattern2\":A211})\n",
    "df = pd.DataFrame({'dual':dual1, 'pattern1': A1, \"pattern2\":A211})\n",
    "\n",
    "df.loc[list(n1.mm.loc[2].sol.bm),\"optimal\"]=1\n",
    "df.fillna(0,inplace=True)\n",
    "df.loc[~(df==0).all(axis=1)]"
   ]
  },
  {
   "cell_type": "markdown",
   "metadata": {},
   "source": [
    "## cyto"
   ]
  },
  {
   "cell_type": "code",
   "execution_count": 39,
   "metadata": {},
   "outputs": [
    {
     "data": {
      "text/plain": [
       "{'weight': 2, 'capacity': 10, 'source': 's', 'target': '5'}"
      ]
     },
     "execution_count": 39,
     "metadata": {},
     "output_type": "execute_result"
    }
   ],
   "source": [
    "cytoscape_data(n1.G)['elements']['edges'][0]['data']"
   ]
  },
  {
   "cell_type": "code",
   "execution_count": null,
   "metadata": {},
   "outputs": [],
   "source": []
  },
  {
   "cell_type": "code",
   "execution_count": 313,
   "metadata": {},
   "outputs": [
    {
     "name": "stdout",
     "output_type": "stream",
     "text": [
      "True\n"
     ]
    },
    {
     "data": {
      "application/vnd.jupyter.widget-view+json": {
       "model_id": "573234b21b07472095845ab7165f238f",
       "version_major": 2,
       "version_minor": 0
      },
      "text/plain": [
       "Cytoscape(data={'data': [], 'directed': True, 'multigraph': False, 'elements': {'nodes': [{'data': {'pos': (0,…"
      ]
     },
     "metadata": {},
     "output_type": "display_data"
    }
   ],
   "source": [
    "rs = NetAnalysis.style_loader()\n",
    "Cytoscape(data=cytoscape_data(n1.G),\n",
    "                     layout_name='breadthfirst',\n",
    "                     visual_style=rs[0]['style'])"
   ]
  },
  {
   "cell_type": "code",
   "execution_count": 118,
   "metadata": {},
   "outputs": [],
   "source": [
    "n2.solvefork(2)"
   ]
  },
  {
   "cell_type": "code",
   "execution_count": 87,
   "metadata": {},
   "outputs": [
    {
     "name": "stderr",
     "output_type": "stream",
     "text": [
      "C:\\Users\\User\\Anaconda3\\lib\\site-packages\\networkx\\drawing\\nx_pylab.py:579: MatplotlibDeprecationWarning:\n",
      "\n",
      "\n",
      "The iterable function was deprecated in Matplotlib 3.1 and will be removed in 3.3. Use np.iterable instead.\n",
      "\n",
      "C:\\Users\\User\\Anaconda3\\lib\\site-packages\\networkx\\drawing\\nx_pylab.py:676: MatplotlibDeprecationWarning:\n",
      "\n",
      "\n",
      "The iterable function was deprecated in Matplotlib 3.1 and will be removed in 3.3. Use np.iterable instead.\n",
      "\n"
     ]
    },
    {
     "data": {
      "image/png": "[encoded data removed]",
      "text/plain": [
       "<Figure size 432x288 with 1 Axes>"
      ]
     },
     "metadata": {},
     "output_type": "display_data"
    }
   ],
   "source": [
    "nx.draw(n1.G)"
   ]
  },
  {
   "cell_type": "code",
   "execution_count": 117,
   "metadata": {},
   "outputs": [
    {
     "data": {
      "text/html": [
       "<div>\n",
       "<style scoped>\n",
       "    .dataframe tbody tr th:only-of-type {\n",
       "        vertical-align: middle;\n",
       "    }\n",
       "\n",
       "    .dataframe tbody tr th {\n",
       "        vertical-align: top;\n",
       "    }\n",
       "\n",
       "    .dataframe thead th {\n",
       "        text-align: right;\n",
       "    }\n",
       "</style>\n",
       "<table border=\"1\" class=\"dataframe\">\n",
       "  <thead>\n",
       "    <tr style=\"text-align: right;\">\n",
       "      <th></th>\n",
       "      <th>dual</th>\n",
       "      <th>slack</th>\n",
       "      <th>pattern1</th>\n",
       "      <th>pattern2</th>\n",
       "      <th>optimal</th>\n",
       "    </tr>\n",
       "  </thead>\n",
       "  <tbody>\n",
       "    <tr>\n",
       "      <td>e10</td>\n",
       "      <td>1.0</td>\n",
       "      <td>0.0</td>\n",
       "      <td>0</td>\n",
       "      <td>0.0</td>\n",
       "      <td>0.0</td>\n",
       "    </tr>\n",
       "    <tr>\n",
       "      <td>e12</td>\n",
       "      <td>1.0</td>\n",
       "      <td>0.0</td>\n",
       "      <td>0</td>\n",
       "      <td>0.0</td>\n",
       "      <td>0.0</td>\n",
       "    </tr>\n",
       "    <tr>\n",
       "      <td>e13</td>\n",
       "      <td>1.0</td>\n",
       "      <td>0.0</td>\n",
       "      <td>0</td>\n",
       "      <td>0.0</td>\n",
       "      <td>0.0</td>\n",
       "    </tr>\n",
       "    <tr>\n",
       "      <td>e14</td>\n",
       "      <td>1.0</td>\n",
       "      <td>0.0</td>\n",
       "      <td>0</td>\n",
       "      <td>0.0</td>\n",
       "      <td>0.0</td>\n",
       "    </tr>\n",
       "    <tr>\n",
       "      <td>e15</td>\n",
       "      <td>1.0</td>\n",
       "      <td>0.0</td>\n",
       "      <td>0</td>\n",
       "      <td>0.0</td>\n",
       "      <td>0.0</td>\n",
       "    </tr>\n",
       "    <tr>\n",
       "      <td>e16</td>\n",
       "      <td>1.0</td>\n",
       "      <td>0.0</td>\n",
       "      <td>0</td>\n",
       "      <td>0.0</td>\n",
       "      <td>0.0</td>\n",
       "    </tr>\n",
       "    <tr>\n",
       "      <td>e17</td>\n",
       "      <td>1.0</td>\n",
       "      <td>0.0</td>\n",
       "      <td>0</td>\n",
       "      <td>0.0</td>\n",
       "      <td>0.0</td>\n",
       "    </tr>\n",
       "    <tr>\n",
       "      <td>e18</td>\n",
       "      <td>1.0</td>\n",
       "      <td>0.0</td>\n",
       "      <td>0</td>\n",
       "      <td>0.0</td>\n",
       "      <td>0.0</td>\n",
       "    </tr>\n",
       "    <tr>\n",
       "      <td>e19</td>\n",
       "      <td>1.0</td>\n",
       "      <td>0.0</td>\n",
       "      <td>0</td>\n",
       "      <td>0.0</td>\n",
       "      <td>0.0</td>\n",
       "    </tr>\n",
       "    <tr>\n",
       "      <td>e2</td>\n",
       "      <td>0.0</td>\n",
       "      <td>4.0</td>\n",
       "      <td>0</td>\n",
       "      <td>0.0</td>\n",
       "      <td>0.0</td>\n",
       "    </tr>\n",
       "    <tr>\n",
       "      <td>e20</td>\n",
       "      <td>1.0</td>\n",
       "      <td>0.0</td>\n",
       "      <td>0</td>\n",
       "      <td>0.0</td>\n",
       "      <td>0.0</td>\n",
       "    </tr>\n",
       "    <tr>\n",
       "      <td>e21</td>\n",
       "      <td>1.0</td>\n",
       "      <td>0.0</td>\n",
       "      <td>0</td>\n",
       "      <td>0.0</td>\n",
       "      <td>0.0</td>\n",
       "    </tr>\n",
       "    <tr>\n",
       "      <td>e22</td>\n",
       "      <td>1.0</td>\n",
       "      <td>0.0</td>\n",
       "      <td>0</td>\n",
       "      <td>0.0</td>\n",
       "      <td>0.0</td>\n",
       "    </tr>\n",
       "    <tr>\n",
       "      <td>e23</td>\n",
       "      <td>1.0</td>\n",
       "      <td>0.0</td>\n",
       "      <td>0</td>\n",
       "      <td>0.0</td>\n",
       "      <td>0.0</td>\n",
       "    </tr>\n",
       "    <tr>\n",
       "      <td>e24</td>\n",
       "      <td>1.0</td>\n",
       "      <td>0.0</td>\n",
       "      <td>0</td>\n",
       "      <td>0.0</td>\n",
       "      <td>0.0</td>\n",
       "    </tr>\n",
       "    <tr>\n",
       "      <td>e25</td>\n",
       "      <td>1.0</td>\n",
       "      <td>0.0</td>\n",
       "      <td>0</td>\n",
       "      <td>0.0</td>\n",
       "      <td>0.0</td>\n",
       "    </tr>\n",
       "    <tr>\n",
       "      <td>e26</td>\n",
       "      <td>1.0</td>\n",
       "      <td>0.0</td>\n",
       "      <td>0</td>\n",
       "      <td>0.0</td>\n",
       "      <td>0.0</td>\n",
       "    </tr>\n",
       "    <tr>\n",
       "      <td>e27</td>\n",
       "      <td>1.0</td>\n",
       "      <td>0.0</td>\n",
       "      <td>0</td>\n",
       "      <td>0.0</td>\n",
       "      <td>0.0</td>\n",
       "    </tr>\n",
       "    <tr>\n",
       "      <td>e28</td>\n",
       "      <td>1.0</td>\n",
       "      <td>0.0</td>\n",
       "      <td>0</td>\n",
       "      <td>0.0</td>\n",
       "      <td>0.0</td>\n",
       "    </tr>\n",
       "    <tr>\n",
       "      <td>e29</td>\n",
       "      <td>1.0</td>\n",
       "      <td>0.0</td>\n",
       "      <td>0</td>\n",
       "      <td>0.0</td>\n",
       "      <td>0.0</td>\n",
       "    </tr>\n",
       "    <tr>\n",
       "      <td>e3</td>\n",
       "      <td>0.0</td>\n",
       "      <td>7.0</td>\n",
       "      <td>0</td>\n",
       "      <td>0.0</td>\n",
       "      <td>0.0</td>\n",
       "    </tr>\n",
       "    <tr>\n",
       "      <td>e38</td>\n",
       "      <td>1.0</td>\n",
       "      <td>0.0</td>\n",
       "      <td>0</td>\n",
       "      <td>0.0</td>\n",
       "      <td>0.0</td>\n",
       "    </tr>\n",
       "    <tr>\n",
       "      <td>e39</td>\n",
       "      <td>1.0</td>\n",
       "      <td>0.0</td>\n",
       "      <td>0</td>\n",
       "      <td>0.0</td>\n",
       "      <td>0.0</td>\n",
       "    </tr>\n",
       "    <tr>\n",
       "      <td>e4</td>\n",
       "      <td>1.0</td>\n",
       "      <td>0.0</td>\n",
       "      <td>1</td>\n",
       "      <td>0.0</td>\n",
       "      <td>1.0</td>\n",
       "    </tr>\n",
       "    <tr>\n",
       "      <td>e40</td>\n",
       "      <td>0.0</td>\n",
       "      <td>1.0</td>\n",
       "      <td>0</td>\n",
       "      <td>0.0</td>\n",
       "      <td>0.0</td>\n",
       "    </tr>\n",
       "    <tr>\n",
       "      <td>e41</td>\n",
       "      <td>1.0</td>\n",
       "      <td>0.0</td>\n",
       "      <td>0</td>\n",
       "      <td>0.0</td>\n",
       "      <td>0.0</td>\n",
       "    </tr>\n",
       "    <tr>\n",
       "      <td>e42</td>\n",
       "      <td>1.0</td>\n",
       "      <td>0.0</td>\n",
       "      <td>0</td>\n",
       "      <td>0.0</td>\n",
       "      <td>0.0</td>\n",
       "    </tr>\n",
       "    <tr>\n",
       "      <td>e48</td>\n",
       "      <td>0.0</td>\n",
       "      <td>2.0</td>\n",
       "      <td>0</td>\n",
       "      <td>0.0</td>\n",
       "      <td>0.0</td>\n",
       "    </tr>\n",
       "    <tr>\n",
       "      <td>e5</td>\n",
       "      <td>0.0</td>\n",
       "      <td>8.0</td>\n",
       "      <td>0</td>\n",
       "      <td>0.0</td>\n",
       "      <td>1.0</td>\n",
       "    </tr>\n",
       "    <tr>\n",
       "      <td>e50</td>\n",
       "      <td>0.0</td>\n",
       "      <td>3.0</td>\n",
       "      <td>0</td>\n",
       "      <td>0.0</td>\n",
       "      <td>0.0</td>\n",
       "    </tr>\n",
       "    <tr>\n",
       "      <td>e51</td>\n",
       "      <td>0.0</td>\n",
       "      <td>3.0</td>\n",
       "      <td>0</td>\n",
       "      <td>0.0</td>\n",
       "      <td>0.0</td>\n",
       "    </tr>\n",
       "    <tr>\n",
       "      <td>e6</td>\n",
       "      <td>1.0</td>\n",
       "      <td>0.0</td>\n",
       "      <td>0</td>\n",
       "      <td>1.0</td>\n",
       "      <td>0.0</td>\n",
       "    </tr>\n",
       "    <tr>\n",
       "      <td>e68</td>\n",
       "      <td>1.0</td>\n",
       "      <td>0.0</td>\n",
       "      <td>0</td>\n",
       "      <td>0.0</td>\n",
       "      <td>0.0</td>\n",
       "    </tr>\n",
       "    <tr>\n",
       "      <td>e69</td>\n",
       "      <td>1.0</td>\n",
       "      <td>0.0</td>\n",
       "      <td>1</td>\n",
       "      <td>0.0</td>\n",
       "      <td>0.0</td>\n",
       "    </tr>\n",
       "    <tr>\n",
       "      <td>e7</td>\n",
       "      <td>1.0</td>\n",
       "      <td>0.0</td>\n",
       "      <td>0</td>\n",
       "      <td>1.0</td>\n",
       "      <td>0.0</td>\n",
       "    </tr>\n",
       "    <tr>\n",
       "      <td>e76</td>\n",
       "      <td>1.0</td>\n",
       "      <td>0.0</td>\n",
       "      <td>0</td>\n",
       "      <td>0.0</td>\n",
       "      <td>0.0</td>\n",
       "    </tr>\n",
       "    <tr>\n",
       "      <td>e77</td>\n",
       "      <td>1.0</td>\n",
       "      <td>0.0</td>\n",
       "      <td>0</td>\n",
       "      <td>0.0</td>\n",
       "      <td>0.0</td>\n",
       "    </tr>\n",
       "    <tr>\n",
       "      <td>e78</td>\n",
       "      <td>1.0</td>\n",
       "      <td>0.0</td>\n",
       "      <td>0</td>\n",
       "      <td>0.0</td>\n",
       "      <td>0.0</td>\n",
       "    </tr>\n",
       "    <tr>\n",
       "      <td>e8</td>\n",
       "      <td>1.0</td>\n",
       "      <td>0.0</td>\n",
       "      <td>0</td>\n",
       "      <td>0.0</td>\n",
       "      <td>0.0</td>\n",
       "    </tr>\n",
       "    <tr>\n",
       "      <td>e83</td>\n",
       "      <td>0.0</td>\n",
       "      <td>3.0</td>\n",
       "      <td>0</td>\n",
       "      <td>0.0</td>\n",
       "      <td>0.0</td>\n",
       "    </tr>\n",
       "    <tr>\n",
       "      <td>e86</td>\n",
       "      <td>0.0</td>\n",
       "      <td>3.0</td>\n",
       "      <td>0</td>\n",
       "      <td>0.0</td>\n",
       "      <td>0.0</td>\n",
       "    </tr>\n",
       "    <tr>\n",
       "      <td>e9</td>\n",
       "      <td>1.0</td>\n",
       "      <td>0.0</td>\n",
       "      <td>0</td>\n",
       "      <td>0.0</td>\n",
       "      <td>0.0</td>\n",
       "    </tr>\n",
       "  </tbody>\n",
       "</table>\n",
       "</div>"
      ],
      "text/plain": [
       "     dual  slack  pattern1  pattern2  optimal\n",
       "e10   1.0    0.0         0       0.0      0.0\n",
       "e12   1.0    0.0         0       0.0      0.0\n",
       "e13   1.0    0.0         0       0.0      0.0\n",
       "e14   1.0    0.0         0       0.0      0.0\n",
       "e15   1.0    0.0         0       0.0      0.0\n",
       "e16   1.0    0.0         0       0.0      0.0\n",
       "e17   1.0    0.0         0       0.0      0.0\n",
       "e18   1.0    0.0         0       0.0      0.0\n",
       "e19   1.0    0.0         0       0.0      0.0\n",
       "e2    0.0    4.0         0       0.0      0.0\n",
       "e20   1.0    0.0         0       0.0      0.0\n",
       "e21   1.0    0.0         0       0.0      0.0\n",
       "e22   1.0    0.0         0       0.0      0.0\n",
       "e23   1.0    0.0         0       0.0      0.0\n",
       "e24   1.0    0.0         0       0.0      0.0\n",
       "e25   1.0    0.0         0       0.0      0.0\n",
       "e26   1.0    0.0         0       0.0      0.0\n",
       "e27   1.0    0.0         0       0.0      0.0\n",
       "e28   1.0    0.0         0       0.0      0.0\n",
       "e29   1.0    0.0         0       0.0      0.0\n",
       "e3    0.0    7.0         0       0.0      0.0\n",
       "e38   1.0    0.0         0       0.0      0.0\n",
       "e39   1.0    0.0         0       0.0      0.0\n",
       "e4    1.0    0.0         1       0.0      1.0\n",
       "e40   0.0    1.0         0       0.0      0.0\n",
       "e41   1.0    0.0         0       0.0      0.0\n",
       "e42   1.0    0.0         0       0.0      0.0\n",
       "e48   0.0    2.0         0       0.0      0.0\n",
       "e5    0.0    8.0         0       0.0      1.0\n",
       "e50   0.0    3.0         0       0.0      0.0\n",
       "e51   0.0    3.0         0       0.0      0.0\n",
       "e6    1.0    0.0         0       1.0      0.0\n",
       "e68   1.0    0.0         0       0.0      0.0\n",
       "e69   1.0    0.0         1       0.0      0.0\n",
       "e7    1.0    0.0         0       1.0      0.0\n",
       "e76   1.0    0.0         0       0.0      0.0\n",
       "e77   1.0    0.0         0       0.0      0.0\n",
       "e78   1.0    0.0         0       0.0      0.0\n",
       "e8    1.0    0.0         0       0.0      0.0\n",
       "e83   0.0    3.0         0       0.0      0.0\n",
       "e86   0.0    3.0         0       0.0      0.0\n",
       "e9    1.0    0.0         0       0.0      0.0"
      ]
     },
     "execution_count": 117,
     "metadata": {},
     "output_type": "execute_result"
    }
   ],
   "source": [
    "A2 , _ = getInitialColumn(n2,2)\n",
    "dual2,primal2, slack2, obj2 =  masterProblemNew(A2,n2)\n",
    "A212, objVal22 = subProblemNew(dual2,n2,2)\n",
    "df = pd.DataFrame({'dual':dual2,'slack':slack2, 'pattern1': A2, \"pattern2\":A212})\n",
    "df.loc[list(n2.mm.loc[2].sol.bm),\"optimal\"]=1\n",
    "df.fillna(0,inplace=True)\n",
    "df.loc[~(df==0).all(axis=1)]"
   ]
  },
  {
   "cell_type": "markdown",
   "metadata": {},
   "source": [
    "# A-2.3.2"
   ]
  },
  {
   "cell_type": "code",
   "execution_count": 314,
   "metadata": {},
   "outputs": [
    {
     "name": "stdout",
     "output_type": "stream",
     "text": [
      "['s', '1', '5', '6', '7', 't']\n"
     ]
    }
   ],
   "source": [
    "from NetAnalysis import NetAnalysis as na\n",
    "n2 = na.generate_random([2,3,2])\n"
   ]
  },
  {
   "cell_type": "markdown",
   "metadata": {},
   "source": [
    "# (17, 47)"
   ]
  },
  {
   "cell_type": "code",
   "execution_count": 208,
   "metadata": {},
   "outputs": [],
   "source": [
    "with open(\"afterdefense.pickel\",'wb') as f:\n",
    "    pickle.dump(n15,f)"
   ]
  },
  {
   "cell_type": "code",
   "execution_count": 206,
   "metadata": {},
   "outputs": [
    {
     "name": "stdout",
     "output_type": "stream",
     "text": [
      "['s', '7', '10', '12', '13', '14', '15', '16', '17', '18', '19', '20', '21', '22', '23', '24', 't']\n"
     ]
    },
    {
     "data": {
      "text/html": [
       "<div>\n",
       "<style scoped>\n",
       "    .dataframe tbody tr th:only-of-type {\n",
       "        vertical-align: middle;\n",
       "    }\n",
       "\n",
       "    .dataframe tbody tr th {\n",
       "        vertical-align: top;\n",
       "    }\n",
       "\n",
       "    .dataframe thead th {\n",
       "        text-align: right;\n",
       "    }\n",
       "</style>\n",
       "<table border=\"1\" class=\"dataframe\">\n",
       "  <thead>\n",
       "    <tr style=\"text-align: right;\">\n",
       "      <th></th>\n",
       "      <th></th>\n",
       "      <th>time</th>\n",
       "      <th>obj</th>\n",
       "      <th>sol</th>\n",
       "    </tr>\n",
       "    <tr>\n",
       "      <th>k</th>\n",
       "      <th>method</th>\n",
       "      <th></th>\n",
       "      <th></th>\n",
       "      <th></th>\n",
       "    </tr>\n",
       "  </thead>\n",
       "  <tbody>\n",
       "    <tr>\n",
       "      <td rowspan=\"4\" valign=\"top\">2</td>\n",
       "      <td>Bilevel_enum</td>\n",
       "      <td>1.3612</td>\n",
       "      <td>9.0</td>\n",
       "      <td>(e4, e46)</td>\n",
       "    </tr>\n",
       "    <tr>\n",
       "      <td>MIP</td>\n",
       "      <td>0.3628</td>\n",
       "      <td>9.0</td>\n",
       "      <td>[e4, e46]</td>\n",
       "    </tr>\n",
       "    <tr>\n",
       "      <td>init</td>\n",
       "      <td>0.0030</td>\n",
       "      <td>10.0</td>\n",
       "      <td>[e46, e1]</td>\n",
       "    </tr>\n",
       "    <tr>\n",
       "      <td>MIP_init</td>\n",
       "      <td>0.3688</td>\n",
       "      <td>9.0</td>\n",
       "      <td>[e4, e46]</td>\n",
       "    </tr>\n",
       "  </tbody>\n",
       "</table>\n",
       "</div>"
      ],
      "text/plain": [
       "                  time   obj        sol\n",
       "k method                               \n",
       "2 Bilevel_enum  1.3612   9.0  (e4, e46)\n",
       "  MIP           0.3628   9.0  [e4, e46]\n",
       "  init          0.0030  10.0  [e46, e1]\n",
       "  MIP_init      0.3688   9.0  [e4, e46]"
      ]
     },
     "execution_count": 206,
     "metadata": {},
     "output_type": "execute_result"
    }
   ],
   "source": [
    "from NetAnalysis import NetAnalysis\n",
    "n15 = NetAnalysis.generate_random([7,  12, 5])\n",
    "n15.solvefork(2)\n",
    "n15.results"
   ]
  },
  {
   "cell_type": "code",
   "execution_count": 221,
   "metadata": {},
   "outputs": [],
   "source": [
    "self = n15\n",
    "it1 =  self.initialSolution(2)\n"
   ]
  },
  {
   "cell_type": "code",
   "execution_count": 282,
   "metadata": {},
   "outputs": [
    {
     "name": "stdout",
     "output_type": "stream",
     "text": [
      "\u001b[31m\"red\"\u001b[0m\n"
     ]
    }
   ],
   "source": [
    "print(\"\\x1b[31m\\\"red\\\"\\x1b[0m\")"
   ]
  },
  {
   "cell_type": "code",
   "execution_count": 301,
   "metadata": {},
   "outputs": [
    {
     "name": "stdout",
     "output_type": "stream",
     "text": [
      "\n",
      "\n",
      "\n",
      "\n",
      "================================================== master problem\n",
      "Optimize a model with 47 rows, 116 columns and 308 nonzeros\n",
      "Coefficient statistics:\n",
      "  Matrix range     [1e+00, 1e+00]\n",
      "  Objective range  [1e+00, 1e+00]\n",
      "  Bounds range     [0e+00, 0e+00]\n",
      "  RHS range        [1e+00, 8e+00]\n",
      "Presolve removed 26 rows and 85 columns\n",
      "Presolve time: 0.02s\n",
      "Presolved: 21 rows, 31 columns, 115 nonzeros\n",
      "\n",
      "Iteration    Objective       Primal Inf.    Dual Inf.      Time\n",
      "       0    1.3004000e+01   3.104650e+01   0.000000e+00      0s\n",
      "      12    1.0000000e+01   0.000000e+00   0.000000e+00      0s\n",
      "\n",
      "Solved in 12 iterations and 0.03 seconds\n",
      "Optimal objective  1.000000000e+01\n",
      "\n",
      "\n",
      "\n",
      "\n",
      "======================sub problem============================ \n",
      "Optimize a model with 1 rows, 47 columns and 47 nonzeros\n",
      "Variable types: 0 continuous, 47 integer (47 binary)\n",
      "Coefficient statistics:\n",
      "  Matrix range     [1e+00, 1e+00]\n",
      "  Objective range  [1e+00, 8e+00]\n",
      "  Bounds range     [1e+00, 1e+00]\n",
      "  RHS range        [2e+00, 2e+00]\n",
      "Found heuristic solution: objective 6.0000000\n",
      "Presolve removed 0 rows and 43 columns\n",
      "Presolve time: 0.00s\n",
      "Presolved: 1 rows, 4 columns, 4 nonzeros\n",
      "Variable types: 0 continuous, 4 integer (3 binary)\n",
      "\n",
      "Root relaxation: objective 1.300000e+01, 1 iterations, 0.00 seconds\n",
      "\n",
      "    Nodes    |    Current Node    |     Objective Bounds      |     Work\n",
      " Expl Unexpl |  Obj  Depth IntInf | Incumbent    BestBd   Gap | It/Node Time\n",
      "\n",
      "*    0     0               0      13.0000000   13.00000  0.00%     -    0s\n",
      "\n",
      "Explored 0 nodes (1 simplex iterations) in 0.03 seconds\n",
      "Thread count was 4 (of 4 available processors)\n",
      "\n",
      "Solution count 2: 13 6 \n",
      "\n",
      "Optimal solution found (tolerance 1.00e-04)\n",
      "Best objective 1.300000000000e+01, best bound 1.300000000000e+01, gap 0.0000%\n",
      "\n",
      "\n",
      "\\================================================== master problem\n",
      "Optimize a model with 47 rows, 116 columns and 308 nonzeros\n",
      "Coefficient statistics:\n",
      "  Matrix range     [1e+00, 1e+00]\n",
      "  Objective range  [1e+00, 1e+00]\n",
      "  Bounds range     [0e+00, 0e+00]\n",
      "  RHS range        [1e+00, 8e+00]\n",
      "Presolve removed 22 rows and 75 columns\n",
      "Presolve time: 0.02s\n",
      "Presolved: 25 rows, 41 columns, 180 nonzeros\n",
      "\n",
      "Iteration    Objective       Primal Inf.    Dual Inf.      Time\n",
      "       0    1.2004000e+01   2.800400e+01   0.000000e+00      0s\n",
      "       7    9.0000000e+00   0.000000e+00   0.000000e+00      0s\n",
      "\n",
      "Solved in 7 iterations and 0.02 seconds\n",
      "Optimal objective  9.000000000e+00\n",
      "Optimize a model with 1 rows, 47 columns and 47 nonzeros\n",
      "Variable types: 0 continuous, 47 integer (47 binary)\n",
      "Coefficient statistics:\n",
      "  Matrix range     [1e+00, 1e+00]\n",
      "  Objective range  [1e+00, 8e+00]\n",
      "  Bounds range     [1e+00, 1e+00]\n",
      "  RHS range        [2e+00, 2e+00]\n",
      "Found heuristic solution: objective 6.0000000\n",
      "Presolve removed 0 rows and 43 columns\n",
      "Presolve time: 0.00s\n",
      "Presolved: 1 rows, 4 columns, 4 nonzeros\n",
      "Variable types: 0 continuous, 4 integer (3 binary)\n",
      "\n",
      "Root relaxation: objective 1.300000e+01, 1 iterations, 0.00 seconds\n",
      "\n",
      "    Nodes    |    Current Node    |     Objective Bounds      |     Work\n",
      " Expl Unexpl |  Obj  Depth IntInf | Incumbent    BestBd   Gap | It/Node Time\n",
      "\n",
      "*    0     0               0      13.0000000   13.00000  0.00%     -    0s\n",
      "\n",
      "Explored 0 nodes (1 simplex iterations) in 0.02 seconds\n",
      "Thread count was 4 (of 4 available processors)\n",
      "\n",
      "Solution count 2: 13 6 \n",
      "\n",
      "Optimal solution found (tolerance 1.00e-04)\n",
      "Best objective 1.300000000000e+01, best bound 1.300000000000e+01, gap 0.0000%\n",
      "\n",
      "\n",
      "================================================== master problem\n",
      "Optimize a model with 47 rows, 116 columns and 308 nonzeros\n",
      "Coefficient statistics:\n",
      "  Matrix range     [1e+00, 1e+00]\n",
      "  Objective range  [1e+00, 1e+00]\n",
      "  Bounds range     [0e+00, 0e+00]\n",
      "  RHS range        [1e+00, 8e+00]\n",
      "Presolve removed 22 rows and 75 columns\n",
      "Presolve time: 0.00s\n",
      "Presolved: 25 rows, 41 columns, 180 nonzeros\n",
      "\n",
      "Iteration    Objective       Primal Inf.    Dual Inf.      Time\n",
      "       0    1.2004000e+01   2.800400e+01   0.000000e+00      0s\n",
      "       7    9.0000000e+00   0.000000e+00   0.000000e+00      0s\n",
      "\n",
      "Solved in 7 iterations and 0.02 seconds\n",
      "Optimal objective  9.000000000e+00\n",
      "\n",
      "\n",
      "\n",
      "\n",
      "\u001b[31m\"============= counter=1, same solution=True\"\u001b[0m\n"
     ]
    }
   ],
   "source": [
    "colGen(n15,2)"
   ]
  },
  {
   "cell_type": "code",
   "execution_count": 261,
   "metadata": {},
   "outputs": [
    {
     "name": "stdout",
     "output_type": "stream",
     "text": [
      "Optimize a model with 1 rows, 47 columns and 47 nonzeros\n",
      "Variable types: 0 continuous, 47 integer (47 binary)\n",
      "Coefficient statistics:\n",
      "  Matrix range     [1e+00, 1e+00]\n",
      "  Objective range  [1e+00, 8e+00]\n",
      "  Bounds range     [1e+00, 1e+00]\n",
      "  RHS range        [2e+00, 2e+00]\n",
      "Found heuristic solution: objective 6.0000000\n",
      "Presolve removed 0 rows and 43 columns\n",
      "Presolve time: 0.00s\n",
      "Presolved: 1 rows, 4 columns, 4 nonzeros\n",
      "Variable types: 0 continuous, 4 integer (3 binary)\n",
      "\n",
      "Root relaxation: objective 1.300000e+01, 1 iterations, 0.00 seconds\n",
      "\n",
      "    Nodes    |    Current Node    |     Objective Bounds      |     Work\n",
      " Expl Unexpl |  Obj  Depth IntInf | Incumbent    BestBd   Gap | It/Node Time\n",
      "\n",
      "*    0     0               0      13.0000000   13.00000  0.00%     -    0s\n",
      "\n",
      "Explored 0 nodes (1 simplex iterations) in 0.03 seconds\n",
      "Thread count was 4 (of 4 available processors)\n",
      "\n",
      "Solution count 2: 13 6 \n",
      "\n",
      "Optimal solution found (tolerance 1.00e-04)\n",
      "Best objective 1.300000000000e+01, best bound 1.300000000000e+01, gap 0.0000%\n",
      "Optimize a model with 47 rows, 116 columns and 308 nonzeros\n",
      "Coefficient statistics:\n",
      "  Matrix range     [1e+00, 1e+00]\n",
      "  Objective range  [1e+00, 1e+00]\n",
      "  Bounds range     [0e+00, 0e+00]\n",
      "  RHS range        [1e+00, 8e+00]\n",
      "Presolve removed 22 rows and 75 columns\n",
      "Presolve time: 0.01s\n",
      "Presolved: 25 rows, 41 columns, 180 nonzeros\n",
      "\n",
      "Iteration    Objective       Primal Inf.    Dual Inf.      Time\n",
      "       0    1.2004000e+01   2.800400e+01   0.000000e+00      0s\n",
      "       7    9.0000000e+00   0.000000e+00   0.000000e+00      0s\n",
      "\n",
      "Solved in 7 iterations and 0.01 seconds\n",
      "Optimal objective  9.000000000e+00\n"
     ]
    }
   ],
   "source": [
    "yHat = subProblem(pi,c,2)\n",
    "pi, sl = masterProblem(n15,yHat)"
   ]
  },
  {
   "cell_type": "markdown",
   "metadata": {},
   "source": [
    "# (19, 58)"
   ]
  },
  {
   "cell_type": "code",
   "execution_count": 269,
   "metadata": {},
   "outputs": [
    {
     "name": "stdout",
     "output_type": "stream",
     "text": [
      "['s', '6', '8', '9', '11', '12', '13', '14', '15', '16', '17', '18', '19', '20', '21', '22', '23', '24', 't']\n"
     ]
    }
   ],
   "source": [
    "from NetAnalysis import NetAnalysis\n",
    "n16 = NetAnalysis.generate_random([2, 10, 10, 2])"
   ]
  },
  {
   "cell_type": "code",
   "execution_count": 334,
   "metadata": {},
   "outputs": [
    {
     "data": {
      "text/plain": [
       "OutEdgeView([('s', '6'), ('s', '8'), ('s', '9'), ('s', '14'), ('s', '15'), ('s', '17'), ('s', '23'), ('s', '24'), ('6', '14'), ('6', '19'), ('6', '20'), ('6', '21'), ('6', '22'), ('6', 't'), ('8', '11'), ('8', '15'), ('8', '19'), ('8', '20'), ('8', '24'), ('9', '11'), ('9', '12'), ('9', '13'), ('9', '14'), ('9', '15'), ('9', '19'), ('9', '24'), ('11', '13'), ('11', '15'), ('11', 't'), ('12', '18'), ('12', '19'), ('12', '21'), ('12', '22'), ('12', '24'), ('13', '14'), ('13', '16'), ('13', '17'), ('13', '20'), ('13', '23'), ('13', '24'), ('14', '15'), ('14', '17'), ('14', '21'), ('14', 't'), ('15', '17'), ('15', '21'), ('15', '24'), ('16', '21'), ('17', '24'), ('17', 't'), ('18', '19'), ('19', '22'), ('20', 't'), ('21', 't'), ('22', 't'), ('23', '24'), ('23', 't'), ('24', 't')])"
      ]
     },
     "execution_count": 334,
     "metadata": {},
     "output_type": "execute_result"
    }
   ],
   "source": [
    "n16.G.edges"
   ]
  },
  {
   "cell_type": "code",
   "execution_count": 332,
   "metadata": {},
   "outputs": [
    {
     "name": "stderr",
     "output_type": "stream",
     "text": [
      "C:\\Users\\User\\Anaconda3\\lib\\site-packages\\networkx\\drawing\\nx_pylab.py:579: MatplotlibDeprecationWarning:\n",
      "\n",
      "\n",
      "The iterable function was deprecated in Matplotlib 3.1 and will be removed in 3.3. Use np.iterable instead.\n",
      "\n",
      "C:\\Users\\User\\Anaconda3\\lib\\site-packages\\networkx\\drawing\\nx_pylab.py:676: MatplotlibDeprecationWarning:\n",
      "\n",
      "\n",
      "The iterable function was deprecated in Matplotlib 3.1 and will be removed in 3.3. Use np.iterable instead.\n",
      "\n"
     ]
    },
    {
     "data": {
      "image/png": "[encoded data removed]",
      "text/plain": [
       "<Figure size 432x288 with 1 Axes>"
      ]
     },
     "metadata": {},
     "output_type": "display_data"
    }
   ],
   "source": [
    "nx.draw(n16.G)"
   ]
  },
  {
   "cell_type": "code",
   "execution_count": 325,
   "metadata": {},
   "outputs": [
    {
     "name": "stdout",
     "output_type": "stream",
     "text": [
      "True\n"
     ]
    },
    {
     "data": {
      "application/vnd.jupyter.widget-view+json": {
       "model_id": "1b5a6d7f52914a0ca5da5c5bafdcbcf2",
       "version_major": 2,
       "version_minor": 0
      },
      "text/plain": [
       "Cytoscape(data={'data': [], 'directed': True, 'multigraph': False, 'elements': {'nodes': [{'data': {'pos': (0,…"
      ]
     },
     "metadata": {},
     "output_type": "display_data"
    }
   ],
   "source": [
    "rs = NetAnalysis.style_loader()\n",
    "Cytoscape(data=cytoscape_data(n16.G),\n",
    "                     layout_name='breadthfirst',\n",
    "                     visual_style=rs[0]['style'])"
   ]
  },
  {
   "cell_type": "code",
   "execution_count": 271,
   "metadata": {},
   "outputs": [
    {
     "data": {
      "text/html": [
       "<div>\n",
       "<style scoped>\n",
       "    .dataframe tbody tr th:only-of-type {\n",
       "        vertical-align: middle;\n",
       "    }\n",
       "\n",
       "    .dataframe tbody tr th {\n",
       "        vertical-align: top;\n",
       "    }\n",
       "\n",
       "    .dataframe thead th {\n",
       "        text-align: right;\n",
       "    }\n",
       "</style>\n",
       "<table border=\"1\" class=\"dataframe\">\n",
       "  <thead>\n",
       "    <tr style=\"text-align: right;\">\n",
       "      <th></th>\n",
       "      <th></th>\n",
       "      <th>time</th>\n",
       "      <th>obj</th>\n",
       "      <th>sol</th>\n",
       "    </tr>\n",
       "    <tr>\n",
       "      <th>k</th>\n",
       "      <th>method</th>\n",
       "      <th></th>\n",
       "      <th></th>\n",
       "      <th></th>\n",
       "    </tr>\n",
       "  </thead>\n",
       "  <tbody>\n",
       "    <tr>\n",
       "      <td rowspan=\"4\" valign=\"top\">2</td>\n",
       "      <td>Bilevel_enum</td>\n",
       "      <td>2.8882</td>\n",
       "      <td>21.0</td>\n",
       "      <td>(e44, e54)</td>\n",
       "    </tr>\n",
       "    <tr>\n",
       "      <td>MIP</td>\n",
       "      <td>0.7375</td>\n",
       "      <td>21.0</td>\n",
       "      <td>[e44, e54]</td>\n",
       "    </tr>\n",
       "    <tr>\n",
       "      <td>init</td>\n",
       "      <td>0.0040</td>\n",
       "      <td>23.0</td>\n",
       "      <td>[e44, e58]</td>\n",
       "    </tr>\n",
       "    <tr>\n",
       "      <td>MIP_init</td>\n",
       "      <td>0.7186</td>\n",
       "      <td>21.0</td>\n",
       "      <td>[e44, e54]</td>\n",
       "    </tr>\n",
       "  </tbody>\n",
       "</table>\n",
       "</div>"
      ],
      "text/plain": [
       "                  time   obj         sol\n",
       "k method                                \n",
       "2 Bilevel_enum  2.8882  21.0  (e44, e54)\n",
       "  MIP           0.7375  21.0  [e44, e54]\n",
       "  init          0.0040  23.0  [e44, e58]\n",
       "  MIP_init      0.7186  21.0  [e44, e54]"
      ]
     },
     "execution_count": 271,
     "metadata": {},
     "output_type": "execute_result"
    }
   ],
   "source": [
    "n16.solvefork(2)\n",
    "n16.results"
   ]
  },
  {
   "cell_type": "code",
   "execution_count": 287,
   "metadata": {},
   "outputs": [
    {
     "name": "stdout",
     "output_type": "stream",
     "text": [
      "\n",
      "\n",
      "\n",
      "\n",
      "================================================== master problem\n",
      "Optimize a model with 58 rows, 169 columns and 523 nonzeros\n",
      "Coefficient statistics:\n",
      "  Matrix range     [1e+00, 1e+00]\n",
      "  Objective range  [1e+00, 1e+00]\n",
      "  Bounds range     [0e+00, 0e+00]\n",
      "  RHS range        [1e+00, 9e+00]\n",
      "Presolve removed 28 rows and 111 columns\n",
      "Presolve time: 0.00s\n",
      "Presolved: 30 rows, 58 columns, 240 nonzeros\n",
      "\n",
      "Iteration    Objective       Primal Inf.    Dual Inf.      Time\n",
      "       0    3.3000000e+01   7.150950e+01   0.000000e+00      0s\n",
      "      19    2.3000000e+01   0.000000e+00   0.000000e+00      0s\n",
      "\n",
      "Solved in 19 iterations and 0.02 seconds\n",
      "Optimal objective  2.300000000e+01\n",
      "\n",
      "\n",
      "\n",
      "\n",
      "======================sub problem============================ \n",
      "Optimize a model with 1 rows, 58 columns and 58 nonzeros\n",
      "Variable types: 0 continuous, 58 integer (58 binary)\n",
      "Coefficient statistics:\n",
      "  Matrix range     [1e+00, 1e+00]\n",
      "  Objective range  [1e+00, 8e+00]\n",
      "  Bounds range     [1e+00, 1e+00]\n",
      "  RHS range        [2e+00, 2e+00]\n",
      "Found heuristic solution: objective 5.0000000\n",
      "Presolve removed 0 rows and 54 columns\n",
      "Presolve time: 0.00s\n",
      "Presolved: 1 rows, 4 columns, 4 nonzeros\n",
      "Found heuristic solution: objective 14.0000000\n",
      "Variable types: 0 continuous, 4 integer (3 binary)\n",
      "\n",
      "Root relaxation: cutoff, 0 iterations, 0.00 seconds\n",
      "\n",
      "Explored 0 nodes (0 simplex iterations) in 0.01 seconds\n",
      "Thread count was 4 (of 4 available processors)\n",
      "\n",
      "Solution count 1: 14 \n",
      "\n",
      "Optimal solution found (tolerance 1.00e-04)\n",
      "Best objective 1.400000000000e+01, best bound 1.400000000000e+01, gap 0.0000%\n",
      "\n",
      "\n",
      "\\================================================== master problem\n",
      "Optimize a model with 58 rows, 169 columns and 523 nonzeros\n",
      "Coefficient statistics:\n",
      "  Matrix range     [1e+00, 1e+00]\n",
      "  Objective range  [1e+00, 1e+00]\n",
      "  Bounds range     [0e+00, 0e+00]\n",
      "  RHS range        [1e+00, 9e+00]\n",
      "Presolve removed 23 rows and 90 columns\n",
      "Presolve time: 0.01s\n",
      "Presolved: 35 rows, 79 columns, 359 nonzeros\n",
      "\n",
      "Iteration    Objective       Primal Inf.    Dual Inf.      Time\n",
      "       0    4.1000000e+01   7.650500e+01   0.000000e+00      0s\n",
      "      13    2.1000000e+01   0.000000e+00   0.000000e+00      0s\n",
      "\n",
      "Solved in 13 iterations and 0.02 seconds\n",
      "Optimal objective  2.100000000e+01\n",
      "\n",
      "\n",
      "====================sub problem============================== \n",
      "Optimize a model with 1 rows, 58 columns and 58 nonzeros\n",
      "Variable types: 0 continuous, 58 integer (58 binary)\n",
      "Coefficient statistics:\n",
      "  Matrix range     [1e+00, 1e+00]\n",
      "  Objective range  [1e+00, 8e+00]\n",
      "  Bounds range     [1e+00, 1e+00]\n",
      "  RHS range        [2e+00, 2e+00]\n",
      "Found heuristic solution: objective 5.0000000\n",
      "Presolve removed 0 rows and 54 columns\n",
      "Presolve time: 0.00s\n",
      "Presolved: 1 rows, 4 columns, 4 nonzeros\n",
      "Found heuristic solution: objective 14.0000000\n",
      "Variable types: 0 continuous, 4 integer (3 binary)\n",
      "\n",
      "Root relaxation: cutoff, 0 iterations, 0.00 seconds\n",
      "\n",
      "Explored 0 nodes (0 simplex iterations) in 0.02 seconds\n",
      "Thread count was 4 (of 4 available processors)\n",
      "\n",
      "Solution count 1: 14 \n",
      "\n",
      "Optimal solution found (tolerance 1.00e-04)\n",
      "Best objective 1.400000000000e+01, best bound 1.400000000000e+01, gap 0.0000%\n",
      "\n",
      "\n",
      "================================================== master problem\n",
      "Optimize a model with 58 rows, 169 columns and 523 nonzeros\n",
      "Coefficient statistics:\n",
      "  Matrix range     [1e+00, 1e+00]\n",
      "  Objective range  [1e+00, 1e+00]\n",
      "  Bounds range     [0e+00, 0e+00]\n",
      "  RHS range        [1e+00, 9e+00]\n",
      "Presolve removed 23 rows and 90 columns\n",
      "Presolve time: 0.01s\n",
      "Presolved: 35 rows, 79 columns, 359 nonzeros\n",
      "\n",
      "Iteration    Objective       Primal Inf.    Dual Inf.      Time\n",
      "       0    4.1000000e+01   7.650500e+01   0.000000e+00      0s\n",
      "      13    2.1000000e+01   0.000000e+00   0.000000e+00      0s\n",
      "\n",
      "Solved in 13 iterations and 0.01 seconds\n",
      "Optimal objective  2.100000000e+01\n",
      "\n",
      "\n",
      "\n",
      "\n",
      "\u001b[31m\"============= counter=1, same solution=True\"\u001b[0m\n"
     ]
    }
   ],
   "source": [
    "colGen(n16,2)"
   ]
  },
  {
   "cell_type": "markdown",
   "metadata": {},
   "source": []
  },
  {
   "cell_type": "markdown",
   "metadata": {},
   "source": [
    "# large problem"
   ]
  },
  {
   "cell_type": "markdown",
   "metadata": {},
   "source": [
    "# large graph gen"
   ]
  },
  {
   "cell_type": "code",
   "execution_count": 440,
   "metadata": {
    "scrolled": true
   },
   "outputs": [],
   "source": [
    "import random\n",
    "def randomGraphGenLarge():\n",
    "    g = {}\n",
    "    counter = 1\n",
    "    i = 1\n",
    "    g[counter ] = randomGraphGenForLargeNet(start=i)\n",
    "def randomGraphGenForLargeNet(m=[2,3, 2], p=0.7, start = 1):\n",
    "    g = nx.DiGraph()\n",
    "    g.add_node(start, pos=(0, 0))\n",
    "    newNode = start\n",
    "    for i in m:\n",
    "        for k in range(i):\n",
    "            newNode += 1\n",
    "            NetAnalysis.randomEdges(g, newNode, p)\n",
    "    g1 = g.copy()\n",
    "    for nod in g1.nodes:\n",
    "        if len(list(g.successors(nod))) < 1 and nod != newNode:\n",
    "            g.add_edge(nod, newNode, weight=random.randint(1, 10), capacity=random.randint(1, 10))\n",
    "    return {\"G\":g, \"s\":start , \"t\":newNode}\n",
    "\n"
   ]
  },
  {
   "cell_type": "code",
   "execution_count": 337,
   "metadata": {},
   "outputs": [
    {
     "name": "stderr",
     "output_type": "stream",
     "text": [
      "C:\\Users\\User\\Anaconda3\\lib\\site-packages\\networkx\\drawing\\nx_pylab.py:579: MatplotlibDeprecationWarning:\n",
      "\n",
      "\n",
      "The iterable function was deprecated in Matplotlib 3.1 and will be removed in 3.3. Use np.iterable instead.\n",
      "\n",
      "C:\\Users\\User\\Anaconda3\\lib\\site-packages\\networkx\\drawing\\nx_pylab.py:676: MatplotlibDeprecationWarning:\n",
      "\n",
      "\n",
      "The iterable function was deprecated in Matplotlib 3.1 and will be removed in 3.3. Use np.iterable instead.\n",
      "\n"
     ]
    },
    {
     "data": {
      "image/png": "[encoded data removed]",
      "text/plain": [
       "<Figure size 432x288 with 1 Axes>"
      ]
     },
     "metadata": {},
     "output_type": "display_data"
    }
   ],
   "source": [
    "g,_ = NetAnalysis.randomGraphGen(m=[3,4,5])\n",
    "nx.draw(g, with_labels = True)"
   ]
  },
  {
   "cell_type": "code",
   "execution_count": 492,
   "metadata": {},
   "outputs": [],
   "source": [
    "graphs = {}\n",
    "st = 1 \n",
    "paths = {\"s\":[[\"s\"]],\"t\":[[\"t\"]]}\n",
    "for n in g.nodes:\n",
    "    if n not in [\"s\",\"t\"]:\n",
    "        graphs[n]=randomGraphGenForLargeNet(start=st)\n",
    "        paths[n] = list(nx.all_simple_paths(graphs[n][\"G\"],graphs[n][\"s\"], graphs[n][\"t\"]))\n",
    "        st=graphs[n][\"t\"] + 1\n"
   ]
  },
  {
   "cell_type": "code",
   "execution_count": 494,
   "metadata": {},
   "outputs": [],
   "source": [
    "def getSequence(g):\n",
    "    # g is the parent graph\n",
    "    currents = set(g.successors('s'))\n",
    "    sequene = ['s']\n",
    "\n",
    "    while currents != set('t'):\n",
    "        newItems = []\n",
    "        for i in currents:\n",
    "            iInSuccJ = False\n",
    "            for j in currents:\n",
    "                if i!= j and i in list(g.successors(j)):\n",
    "                        iInSuccJ = True\n",
    "                        break\n",
    "            if not iInSuccJ:\n",
    "                sequene.append(i)\n",
    "                newItems.append(i)\n",
    "        currents = currents.difference(newItems)\n",
    "        for i in newItems:\n",
    "            currents.update(set(g.successors(i)))\n",
    "    sequene.append(\"t\")\n",
    "    return sequene\n"
   ]
  },
  {
   "cell_type": "code",
   "execution_count": 470,
   "metadata": {},
   "outputs": [],
   "source": [
    "import itertools\n",
    "def updatePaths(g,node):\n",
    "    predPaths = []\n",
    "    newPaths = []\n",
    "    for p in g.predecessors(node):\n",
    "        predPaths += paths2[p]\n",
    "    \n",
    "    for i in itertools.product(predPaths,paths[node]):\n",
    "        newPaths.append(i[0]+i[1])\n",
    "    return newPaths\n",
    "\n",
    "def getSingleGraphPaths(g):\n",
    "    graphs = {}\n",
    "    st = 1 \n",
    "    paths = {\"s\":[[\"s\"]],\"t\":[[\"t\"]]}\n",
    "    for n in g.nodes:\n",
    "        if n not in [\"s\",\"t\"]:\n",
    "            graphs[n]=randomGraphGenForLargeNet(start=st)\n",
    "            paths[n] = list(nx.all_simple_paths(graphs[n][\"G\"],graphs[n][\"s\"], graphs[n][\"t\"]))\n",
    "            st=graphs[n][\"t\"] + 1\n",
    "    \n",
    "    return graphs, paths"
   ]
  },
  {
   "cell_type": "code",
   "execution_count": 589,
   "metadata": {},
   "outputs": [],
   "source": [
    "    \n",
    "g2 = nx.compose_all( [gr['G'] for gr in graphs.values()])\n",
    "for k in g.edges:\n",
    "    if k[0] == \"s\" and k[1] != 't':\n",
    "        g2.add_edge(\"s\", graphs[k[1]][\"s\"] ,weight=random.randint(1, 10), capacity=random.randint(1, 10))\n",
    "    elif k[1] == 't' and k[0] != \"s\":\n",
    "        g2.add_edge( graphs[k[0]][\"t\"],\"t\" ,weight=random.randint(1, 10), capacity=random.randint(1, 10))\n",
    "    elif k[0] != \"s\" and k[1] != 't':\n",
    "        g2.add_edge(graphs[k[0]][\"t\"], graphs[k[1]][\"s\"],weight=random.randint(1, 10), capacity=random.randint(1, 10) )"
   ]
  },
  {
   "cell_type": "code",
   "execution_count": 531,
   "metadata": {},
   "outputs": [],
   "source": [
    "def pathsGen(g):\n",
    "    seq = getSequence(g)\n",
    "    graphs,paths = getSingleGraphPaths()\n",
    "    paths2 = {\"s\":[[\"s\"]],\"t\":[[\"t\"]]}\n",
    "    for n in seq[1:]:\n",
    "        paths2[n]=updatePaths(g,n)\n",
    "    return paths2[\"t\"]\n",
    "paths = pathsGen(g)"
   ]
  },
  {
   "cell_type": "code",
   "execution_count": 611,
   "metadata": {},
   "outputs": [],
   "source": [
    "aa  = NetAnalysisUsingPath(\"e167\", g2,paths[1:])\n"
   ]
  },
  {
   "cell_type": "code",
   "execution_count": 612,
   "metadata": {},
   "outputs": [
    {
     "ename": "ValueError",
     "evalue": "Cannot mix scalar and tuple values in a tuplelist",
     "output_type": "error",
     "traceback": [
      "\u001b[1;31m---------------------------------------------------------------------------\u001b[0m",
      "\u001b[1;31mValueError\u001b[0m                                Traceback (most recent call last)",
      "\u001b[1;32m<ipython-input-612-6e41cc6fe162>\u001b[0m in \u001b[0;36m<module>\u001b[1;34m\u001b[0m\n\u001b[1;32m----> 1\u001b[1;33m \u001b[0maa\u001b[0m\u001b[1;33m.\u001b[0m\u001b[0msolvefork\u001b[0m\u001b[1;33m(\u001b[0m\u001b[1;36m2\u001b[0m\u001b[1;33m)\u001b[0m\u001b[1;33m\u001b[0m\u001b[1;33m\u001b[0m\u001b[0m\n\u001b[0m",
      "\u001b[1;32m<ipython-input-610-fca8f9c9ef96>\u001b[0m in \u001b[0;36msolvefork\u001b[1;34m(self, k)\u001b[0m\n\u001b[0;32m     55\u001b[0m \u001b[1;33m\u001b[0m\u001b[0m\n\u001b[0;32m     56\u001b[0m     \u001b[1;32mdef\u001b[0m \u001b[0msolvefork\u001b[0m\u001b[1;33m(\u001b[0m\u001b[0mself\u001b[0m\u001b[1;33m,\u001b[0m \u001b[0mk\u001b[0m\u001b[1;33m)\u001b[0m\u001b[1;33m:\u001b[0m\u001b[1;33m\u001b[0m\u001b[1;33m\u001b[0m\u001b[0m\n\u001b[1;32m---> 57\u001b[1;33m         \u001b[0mlr\u001b[0m \u001b[1;33m=\u001b[0m \u001b[0mself\u001b[0m\u001b[1;33m.\u001b[0m\u001b[0mlagrangian\u001b[0m\u001b[1;33m(\u001b[0m\u001b[0mk\u001b[0m\u001b[1;33m)\u001b[0m\u001b[1;33m\u001b[0m\u001b[1;33m\u001b[0m\u001b[0m\n\u001b[0m\u001b[0;32m     58\u001b[0m         \u001b[0mself\u001b[0m\u001b[1;33m.\u001b[0m\u001b[0mresults\u001b[0m\u001b[1;33m.\u001b[0m\u001b[0mloc\u001b[0m\u001b[1;33m[\u001b[0m\u001b[1;33m(\u001b[0m\u001b[0mk\u001b[0m\u001b[1;33m,\u001b[0m \u001b[1;34m\"MIP\"\u001b[0m\u001b[1;33m)\u001b[0m\u001b[1;33m,\u001b[0m \u001b[1;33m:\u001b[0m\u001b[1;33m]\u001b[0m \u001b[1;33m=\u001b[0m \u001b[0mlr\u001b[0m\u001b[1;33m\u001b[0m\u001b[1;33m\u001b[0m\u001b[0m\n\u001b[0;32m     59\u001b[0m         \u001b[0mlrwi\u001b[0m \u001b[1;33m=\u001b[0m \u001b[0mself\u001b[0m\u001b[1;33m.\u001b[0m\u001b[0mlagrangianWithStart\u001b[0m\u001b[1;33m(\u001b[0m\u001b[0mk\u001b[0m\u001b[1;33m)\u001b[0m\u001b[1;33m\u001b[0m\u001b[1;33m\u001b[0m\u001b[0m\n",
      "\u001b[1;32m<ipython-input-610-fca8f9c9ef96>\u001b[0m in \u001b[0;36mlagrangian\u001b[1;34m(self, k)\u001b[0m\n\u001b[0;32m    187\u001b[0m         constr3 = m_relax.addConstrs(\n\u001b[0;32m    188\u001b[0m             gu.quicksum(p[i, j] * w[j] for j in pa.columns) >= 1 for i in pa.index)\n\u001b[1;32m--> 189\u001b[1;33m         \u001b[0mconstr11\u001b[0m \u001b[1;33m=\u001b[0m \u001b[0mm_relax\u001b[0m\u001b[1;33m.\u001b[0m\u001b[0maddConstr\u001b[0m\u001b[1;33m(\u001b[0m\u001b[0my\u001b[0m\u001b[1;33m.\u001b[0m\u001b[0msum\u001b[0m\u001b[1;33m(\u001b[0m\u001b[1;33m)\u001b[0m \u001b[1;33m==\u001b[0m \u001b[0mk\u001b[0m\u001b[1;33m)\u001b[0m\u001b[1;33m\u001b[0m\u001b[1;33m\u001b[0m\u001b[0m\n\u001b[0m\u001b[0;32m    190\u001b[0m         \u001b[0mm_relax\u001b[0m\u001b[1;33m.\u001b[0m\u001b[0msetObjective\u001b[0m\u001b[1;33m(\u001b[0m\u001b[0mgu\u001b[0m\u001b[1;33m.\u001b[0m\u001b[0mquicksum\u001b[0m\u001b[1;33m(\u001b[0m\u001b[0mc\u001b[0m\u001b[1;33m[\u001b[0m\u001b[0mj\u001b[0m\u001b[1;33m]\u001b[0m \u001b[1;33m*\u001b[0m \u001b[1;33m(\u001b[0m\u001b[0mw\u001b[0m\u001b[1;33m[\u001b[0m\u001b[0mj\u001b[0m\u001b[1;33m]\u001b[0m \u001b[1;33m-\u001b[0m \u001b[0mx\u001b[0m\u001b[1;33m[\u001b[0m\u001b[0mj\u001b[0m\u001b[1;33m]\u001b[0m\u001b[1;33m)\u001b[0m \u001b[1;32mfor\u001b[0m \u001b[0mj\u001b[0m \u001b[1;32min\u001b[0m \u001b[0mpa\u001b[0m\u001b[1;33m.\u001b[0m\u001b[0mcolumns\u001b[0m\u001b[1;33m)\u001b[0m\u001b[1;33m,\u001b[0m \u001b[0mgu\u001b[0m\u001b[1;33m.\u001b[0m\u001b[0mGRB\u001b[0m\u001b[1;33m.\u001b[0m\u001b[0mMINIMIZE\u001b[0m\u001b[1;33m)\u001b[0m\u001b[1;33m\u001b[0m\u001b[1;33m\u001b[0m\u001b[0m\n\u001b[0;32m    191\u001b[0m \u001b[1;33m\u001b[0m\u001b[0m\n",
      "\u001b[1;32mtupledict.pxi\u001b[0m in \u001b[0;36mgenexpr\u001b[1;34m()\u001b[0m\n",
      "\u001b[1;32mgurobi.pxi\u001b[0m in \u001b[0;36mgurobipy.quicksum\u001b[1;34m()\u001b[0m\n",
      "\u001b[1;32mtupledict.pxi\u001b[0m in \u001b[0;36mgenexpr\u001b[1;34m()\u001b[0m\n",
      "\u001b[1;32mtupledict.pxi\u001b[0m in \u001b[0;36miteritems\u001b[1;34m()\u001b[0m\n",
      "\u001b[1;32mtupledict.pxi\u001b[0m in \u001b[0;36mgurobipy.tupledict.keys\u001b[1;34m()\u001b[0m\n",
      "\u001b[1;32mtuplelist.pxi\u001b[0m in \u001b[0;36mgurobipy.tuplelist.__init__\u001b[1;34m()\u001b[0m\n",
      "\u001b[1;32mtuplelist.pxi\u001b[0m in \u001b[0;36mgurobipy.tuplelist.extend\u001b[1;34m()\u001b[0m\n",
      "\u001b[1;32mtuplelist.pxi\u001b[0m in \u001b[0;36mgurobipy.tuplelist.__scalaraddcheck\u001b[1;34m()\u001b[0m\n",
      "\u001b[1;31mValueError\u001b[0m: Cannot mix scalar and tuple values in a tuplelist"
     ]
    }
   ],
   "source": [
    "aa.solvefork(2)"
   ]
  },
  {
   "cell_type": "code",
   "execution_count": 389,
   "metadata": {},
   "outputs": [
    {
     "name": "stdout",
     "output_type": "stream",
     "text": [
      "True\n"
     ]
    },
    {
     "data": {
      "application/vnd.jupyter.widget-view+json": {
       "model_id": "",
       "version_major": 2,
       "version_minor": 0
      },
      "text/plain": [
       "Cytoscape(data={'data': [], 'directed': True, 'multigraph': False, 'elements': {'nodes': [{'data': {'pos': (0,…"
      ]
     },
     "metadata": {},
     "output_type": "display_data"
    }
   ],
   "source": [
    "rs = NetAnalysis.style_loader()\n",
    "Cytoscape(data=cytoscape_data(g),\n",
    "                     layout_name='breadthfirst',\n",
    "                     visual_style=rs[0]['style'])"
   ]
  }
 ],
 "metadata": {
  "kernelspec": {
   "display_name": "Python 3",
   "language": "python",
   "name": "python3"
  },
  "language_info": {
   "codemirror_mode": {
    "name": "ipython",
    "version": 3
   },
   "file_extension": ".py",
   "mimetype": "text/x-python",
   "name": "python",
   "nbconvert_exporter": "python",
   "pygments_lexer": "ipython3",
   "version": "3.7.4"
  },
  "toc": {
   "base_numbering": 1,
   "nav_menu": {},
   "number_sections": true,
   "sideBar": true,
   "skip_h1_title": false,
   "title_cell": "Table of Contents",
   "title_sidebar": "Contents",
   "toc_cell": false,
   "toc_position": {
    "height": "calc(100% - 180px)",
    "left": "10px",
    "top": "150px",
    "width": "165px"
   },
   "toc_section_display": true,
   "toc_window_display": true
  }
 },
 "nbformat": 4,
 "nbformat_minor": 2
}
