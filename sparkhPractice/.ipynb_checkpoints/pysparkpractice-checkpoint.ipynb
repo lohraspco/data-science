{
 "cells": [
  {
   "cell_type": "markdown",
   "metadata": {},
   "source": [
    "https://www.youtube.com/watch?v=639JCua-bQU\n",
    "<br>set the .bashrc variables as in https://opensource.com/article/18/11/pyspark-jupyter-notebook\n"
   ]
  },
  {
   "cell_type": "code",
   "execution_count": 96,
   "metadata": {
    "ExecuteTime": {
     "end_time": "2021-05-27T05:43:54.914470Z",
     "start_time": "2021-05-27T05:43:54.912111Z"
    }
   },
   "outputs": [],
   "source": [
    "import pandas as pd\n",
    "import dask.dataframe as dd\n",
    "from nltk.corpus import stopwords\n",
    "from configparser import  ConfigParser\n",
    "import os\n",
    "import psycopg2\n",
    "from pyspark.sql import types\n",
    "from pyspark.sql import functions as func"
   ]
  },
  {
   "cell_type": "code",
   "execution_count": null,
   "metadata": {
    "ExecuteTime": {
     "end_time": "2021-05-26T02:55:33.478807Z",
     "start_time": "2021-05-26T02:55:33.464802Z"
    }
   },
   "outputs": [],
   "source": [
    "sc.getConf().getAll()"
   ]
  },
  {
   "cell_type": "markdown",
   "metadata": {},
   "source": [
    "# RDD book"
   ]
  },
  {
   "cell_type": "markdown",
   "metadata": {},
   "source": [
    "## RDD functions "
   ]
  },
  {
   "cell_type": "code",
   "execution_count": 79,
   "metadata": {
    "ExecuteTime": {
     "end_time": "2021-05-26T02:56:15.225615Z",
     "start_time": "2021-05-26T02:56:15.153856Z"
    }
   },
   "outputs": [
    {
     "data": {
      "text/plain": [
       "['Project', \"Gutenberg's\"]"
      ]
     },
     "execution_count": 79,
     "metadata": {},
     "output_type": "execute_result"
    }
   ],
   "source": [
    "data = sc.textFile('63190-0.txt')\n",
    "data2 = data.flatMap(lambda line: line.split())\n",
    "data2.take(2)"
   ]
  },
  {
   "cell_type": "code",
   "execution_count": 97,
   "metadata": {
    "ExecuteTime": {
     "end_time": "2021-05-27T19:47:01.437490Z",
     "start_time": "2021-05-27T19:47:01.434730Z"
    }
   },
   "outputs": [
    {
     "data": {
      "text/plain": [
       "63190-0.txt MapPartitionsRDD[140] at textFile at NativeMethodAccessorImpl.java:0"
      ]
     },
     "execution_count": 97,
     "metadata": {},
     "output_type": "execute_result"
    }
   ],
   "source": [
    "data.partitionBy()\n",
    "data.join()\n",
    "data.cogroup()\n",
    "data.groupWith()\n",
    "data.leftOuterJoin()\n",
    "data.groupByKey()\n",
    "data.reduceByKey()\n",
    "data.lookup()\n"
   ]
  },
  {
   "cell_type": "code",
   "execution_count": 92,
   "metadata": {
    "ExecuteTime": {
     "end_time": "2021-05-26T03:00:38.738030Z",
     "start_time": "2021-05-26T03:00:38.691092Z"
    }
   },
   "outputs": [
    {
     "name": "stdout",
     "output_type": "stream",
     "text": [
      "Pro ['Project', 'Proverbs', 'Project', 'Proverbs', 'Produced', 'Proofreading', 'Promethean', 'Provence,', 'Provence', 'Prov.', 'Prov.', 'Provençals,', 'Protestant,', 'Protestant', 'Probably', 'Proverbs\"', 'Procuratoren.', 'Project', 'Proverbs', 'Produced', 'Proofreading', 'Project', 'Project', 'Project', 'Project', 'Project', 'Project', 'Project', 'Project', 'Project', 'Project', 'Project', 'Project', 'Project', 'Project', 'Project', 'Project', 'Project', 'Project', 'Project', 'Project', 'Project', 'Project', 'Project', 'Project', 'Project', 'Project', 'Project', 'Project', 'Project', 'Project', 'Project', 'Project', 'Project', 'Project', 'Project', 'Project', 'Project', 'Project', 'Project', 'Project', 'Project', 'Project', 'Project', 'Project', 'Project', 'Project', 'Project', 'Project', 'Project', 'Project', 'Project', 'Project', 'Project', 'Project', 'Project', 'Project', 'Project', 'Project', 'Project', 'Project', 'Project', 'Project', 'Project', 'Project', 'Project', 'Project', 'Project', 'Project', 'Project', 'Project', 'Project', 'Professor', 'Project', 'Project', 'Project', 'Project', 'Project']\n",
      "Kea ['Keating', 'Keating', 'Keating']\n",
      "Kel ['Kelly', 'Kelly', 'Kelly,', 'Kelly,', \"Kelly's\", 'Kelly', 'Kelly,', 'Kelly']\n"
     ]
    }
   ],
   "source": [
    "data3 = data2.filter(lambda x: x not in stopwords.words(\"english\"))\n",
    "dat10 = data3.groupBy(lambda x : x[:3])\n",
    "for k,v in dat10.take(3):\n",
    "        print(k,list(v))"
   ]
  },
  {
   "cell_type": "code",
   "execution_count": 95,
   "metadata": {
    "ExecuteTime": {
     "end_time": "2021-05-26T03:01:53.372611Z",
     "start_time": "2021-05-26T03:01:53.369148Z"
    }
   },
   "outputs": [
    {
     "data": {
      "text/plain": [
       "2"
      ]
     },
     "execution_count": 95,
     "metadata": {},
     "output_type": "execute_result"
    }
   ],
   "source": [
    "dat10.getNumPartitions()"
   ]
  },
  {
   "cell_type": "markdown",
   "metadata": {},
   "source": [
    "# SparkContext read file"
   ]
  },
  {
   "cell_type": "code",
   "execution_count": 28,
   "metadata": {
    "ExecuteTime": {
     "end_time": "2020-10-13T00:29:07.337129Z",
     "start_time": "2020-10-13T00:29:07.334546Z"
    }
   },
   "outputs": [],
   "source": [
    "data.take(5)\n",
    "data2 = data.map(lambda x: x.split(',')[2])\n",
    "data2.countByValue()"
   ]
  },
  {
   "cell_type": "code",
   "execution_count": 9,
   "metadata": {
    "ExecuteTime": {
     "end_time": "2020-10-12T23:40:51.540716Z",
     "start_time": "2020-10-12T23:40:51.523634Z"
    }
   },
   "outputs": [],
   "source": [
    "data2 = data.distinct()"
   ]
  },
  {
   "cell_type": "code",
   "execution_count": 5,
   "metadata": {
    "ExecuteTime": {
     "end_time": "2020-10-13T00:22:15.453464Z",
     "start_time": "2020-10-13T00:22:15.449591Z"
    }
   },
   "outputs": [
    {
     "data": {
      "text/plain": [
       "2"
      ]
     },
     "execution_count": 5,
     "metadata": {},
     "output_type": "execute_result"
    }
   ],
   "source": [
    "data.getNumPartitions()"
   ]
  },
  {
   "cell_type": "markdown",
   "metadata": {},
   "source": [
    "# Write to sql using pyspark"
   ]
  },
  {
   "cell_type": "code",
   "execution_count": null,
   "metadata": {
    "ExecuteTime": {
     "start_time": "2021-01-16T05:03:50.304Z"
    }
   },
   "outputs": [],
   "source": [
    "df = spark.read.csv(\"stockdata10.csv\", header=True, inferSchema=True)"
   ]
  },
  {
   "cell_type": "code",
   "execution_count": 59,
   "metadata": {
    "ExecuteTime": {
     "end_time": "2020-10-14T02:50:57.355337Z",
     "start_time": "2020-10-14T02:50:57.351826Z"
    }
   },
   "outputs": [
    {
     "data": {
      "text/plain": [
       "StructType(List(StructField(_c0,IntegerType,true),StructField(date,StringType,true),StructField(symbol,StringType,true),StructField(adj_close,DoubleType,true),StructField(close,DoubleType,true),StructField(high,DoubleType,true),StructField(low,DoubleType,true),StructField(open,DoubleType,true),StructField(volume,DoubleType,true)))"
      ]
     },
     "execution_count": 59,
     "metadata": {},
     "output_type": "execute_result"
    }
   ],
   "source": [
    "df.schema"
   ]
  },
  {
   "cell_type": "code",
   "execution_count": 60,
   "metadata": {
    "ExecuteTime": {
     "end_time": "2020-10-14T02:52:09.740485Z",
     "start_time": "2020-10-14T02:52:09.727412Z"
    }
   },
   "outputs": [],
   "source": [
    "df.createOrReplaceTempView(\"stocks\")"
   ]
  },
  {
   "cell_type": "code",
   "execution_count": 63,
   "metadata": {
    "ExecuteTime": {
     "end_time": "2020-10-14T02:54:50.422446Z",
     "start_time": "2020-10-14T02:54:50.244310Z"
    }
   },
   "outputs": [
    {
     "name": "stdout",
     "output_type": "stream",
     "text": [
      "+---+----------+------+---------+---------+--------+---------+--------+------+\n",
      "|_c0|      date|symbol|adj_close|    close|    high|      low|    open|volume|\n",
      "+---+----------+------+---------+---------+--------+---------+--------+------+\n",
      "|230|2013-10-17|  ACHV|  18788.0|  18788.0| 19096.0|  18282.0| 18722.0| 100.0|\n",
      "|501|2013-10-17|  BCEI|5851.6748|5851.6748|5980.001|5690.9878|5791.417|5500.0|\n",
      "+---+----------+------+---------+---------+--------+---------+--------+------+\n",
      "only showing top 2 rows\n",
      "\n"
     ]
    }
   ],
   "source": [
    "spark.sql(\"select * from stocks where close >1000\").show(2)"
   ]
  },
  {
   "cell_type": "code",
   "execution_count": 30,
   "metadata": {
    "ExecuteTime": {
     "end_time": "2020-10-13T00:57:51.165202Z",
     "start_time": "2020-10-13T00:57:47.105117Z"
    }
   },
   "outputs": [],
   "source": [
    "df = spark.read.csv(\"stockdata0.csv\",header=True, inferSchema=True)"
   ]
  },
  {
   "cell_type": "code",
   "execution_count": 45,
   "metadata": {
    "ExecuteTime": {
     "end_time": "2020-10-13T01:17:33.057589Z",
     "start_time": "2020-10-13T01:17:32.930801Z"
    }
   },
   "outputs": [
    {
     "name": "stdout",
     "output_type": "stream",
     "text": [
      "+-------+\n",
      "|  close|\n",
      "+-------+\n",
      "|29.9571|\n",
      "|  13.98|\n",
      "+-------+\n",
      "only showing top 2 rows\n",
      "\n"
     ]
    }
   ],
   "source": [
    "df.select('close').show(2)"
   ]
  },
  {
   "cell_type": "code",
   "execution_count": 53,
   "metadata": {
    "ExecuteTime": {
     "end_time": "2020-10-13T01:22:19.046534Z",
     "start_time": "2020-10-13T01:22:19.036392Z"
    }
   },
   "outputs": [],
   "source": [
    "df.createOrReplaceGlobalTempView(\"stock\")"
   ]
  },
  {
   "cell_type": "code",
   "execution_count": 55,
   "metadata": {
    "ExecuteTime": {
     "end_time": "2020-10-13T01:23:40.349903Z",
     "start_time": "2020-10-13T01:23:40.339930Z"
    }
   },
   "outputs": [],
   "source": [
    "res = spark.sql(\"select * from stock where close > 1000\")"
   ]
  },
  {
   "cell_type": "code",
   "execution_count": 69,
   "metadata": {
    "ExecuteTime": {
     "end_time": "2020-10-14T03:15:26.379128Z",
     "start_time": "2020-10-14T03:15:26.192052Z"
    }
   },
   "outputs": [
    {
     "name": "stdout",
     "output_type": "stream",
     "text": [
      "Row(_c0=30, date='2013-01-02', symbol='ACHV', adj_close=29458.0, close=29458.0, high=29568.0, low=27544.0, open=29150.0, volume=0.0)\n",
      "Row(_c0=189, date='2013-01-02', symbol='ARMP', adj_close=1260.0, close=1260.0, high=1260.0, low=1260.0, open=1260.0, volume=0.0)\n",
      "Row(_c0=292, date='2013-01-02', symbol='BCEI', adj_close=3199.228, close=3199.228, high=3287.3826, low=3160.1721, open=3199.228, volume=3700.0)\n",
      "Row(_c0=344, date='2013-01-02', symbol='BIS', adj_close=1213.4722, close=1239.0, high=1267.6, low=1239.0, open=1266.8, volume=1000.0)\n",
      "Row(_c0=511, date='2013-01-02', symbol='CEI', adj_close=29101562.0, close=29101562.0, high=30078124.0, low=27343750.0, open=29296876.0, volume=0.0)\n",
      "Row(_c0=539, date='2013-01-02', symbol='CHFS', adj_close=52164.0, close=52164.0, high=53172.0, low=51660.0, open=52080.0, volume=0.0)\n",
      "Row(_c0=731, date='2013-01-02', symbol='CYCC', adj_close=1440.0, close=1440.0, high=1502.4, low=1428.0, open=1492.8, volume=1800.0)\n",
      "Row(_c0=746, date='2013-01-02', symbol='DCAR', adj_close=1588.89, close=1588.89, high=1625.85, low=1478.38, open=1515.34, volume=3.0)\n",
      "Row(_c0=761, date='2013-01-02', symbol='DFFN', adj_close=2850.0, close=2850.0, high=2850.0, low=2850.0, open=2850.0, volume=0.0)\n",
      "Row(_c0=876, date='2013-01-02', symbol='EFOI', adj_close=148437.5, close=148437.5, high=156250.0, low=125000.0, open=125000.0, volume=0.0)\n",
      "Row(_c0=881, date='2013-01-02', symbol='EGLE', adj_close=4738.6553, close=4738.6553, high=4789.6084, low=4025.3091, open=4152.6924, volume=200.0)\n",
      "Row(_c0=893, date='2013-01-02', symbol='ELC', adj_close=21397.8008, close=21397.8008, high=22027.0996, low=20611.0996, open=21633.8008, volume=8631.0)\n",
      "Row(_c0=1195, date='2013-01-02', symbol='GEVO', adj_close=10920.0, close=10920.0, high=11460.0, low=9720.0, open=9720.0, volume=200.0)\n",
      "Row(_c0=1477, date='2013-01-02', symbol='INPX', adj_close=324000.0, close=324000.0, high=324000.0, low=324000.0, open=324000.0, volume=0.0)\n",
      "Row(_c0=1730, date='2013-01-02', symbol='MBOT', adj_close=2770.2, close=2770.2, high=2883.6001, low=2721.6001, open=2883.6001, volume=300.0)\n",
      "Row(_c0=1921, date='2013-01-02', symbol='NAKD', adj_close=5200.0, close=5200.0, high=5200.0, low=5200.0, open=5200.0, volume=0.0)\n",
      "Row(_c0=2014, date='2013-01-02', symbol='NSPR', adj_close=48750.0, close=48750.0, high=50000.0, low=48625.0, open=48625.0, volume=0.0)\n",
      "Row(_c0=2035, date='2013-01-02', symbol='NVCN', adj_close=1700.0, close=1700.0, high=1700.0, low=1700.0, open=1700.0, volume=0.0)\n",
      "Row(_c0=2039, date='2013-01-02', symbol='NVIV', adj_close=5250.0, close=5250.0, high=5550.0, low=4890.0, open=5550.0, volume=0.0)\n",
      "Row(_c0=2134, date='2013-01-02', symbol='PACD', adj_close=954000.0, close=954000.0, high=962000.0, low=941000.0, open=950000.0, volume=0.0)\n",
      "Row(_c0=2210, date='2013-01-02', symbol='PHIO', adj_close=11880.0, close=11880.0, high=13200.0, low=11550.0, open=13200.0, volume=0.0)\n",
      "Row(_c0=2258, date='2013-01-02', symbol='POAI', adj_close=2250.0, close=2250.0, high=2437.5, low=2250.0, open=2437.5, volume=0.0)\n",
      "Row(_c0=2301, date='2013-01-02', symbol='PSHG', adj_close=291378.4062, close=305242.5625, high=308700.0, low=300797.2812, open=306724.3125, volume=0.0)\n",
      "Row(_c0=2306, date='2013-01-02', symbol='PSTV', adj_close=21300.0, close=21300.0, high=22050.0, low=21000.0, open=21675.0, volume=100.0)\n",
      "Row(_c0=2460, date='2013-01-02', symbol='SAEX', adj_close=26757.0, close=26757.0, high=26757.0, low=26757.0, open=26757.0, volume=0.0)\n",
      "Row(_c0=2492, date='2013-01-02', symbol='SCON', adj_close=5400.0, close=5400.0, high=5580.0, low=5400.0, open=5580.0, volume=0.0)\n",
      "Row(_c0=2500, date='2013-01-02', symbol='SEB', adj_close=2622.8923, close=2642.6399, high=2736.0, low=2546.24, open=2546.24, volume=1600.0)\n",
      "Row(_c0=2562, date='2013-01-02', symbol='SLS', adj_close=47700.0, close=47700.0, high=48000.0, low=46500.0, open=48000.0, volume=100.0)\n",
      "Row(_c0=2616, date='2013-01-02', symbol='SQQQ', adj_close=11325.4473, close=11740.7998, high=12172.7998, low=11740.7998, open=12038.4004, volume=8400.0)\n",
      "Row(_c0=2630, date='2013-01-02', symbol='SRV', adj_close=102082.3906, close=153600.0, high=154828.7969, low=150528.0, open=151552.0, volume=0.0)\n",
      "Row(_c0=2700, date='2013-01-02', symbol='SZC', adj_close=5967.3599, close=5967.3599, high=5985.2798, low=5841.9199, open=5841.9199, volume=100.0)\n",
      "Row(_c0=2706, date='2013-01-02', symbol='TAPM', adj_close=1600.0, close=1600.0, high=1600.0, low=1600.0, open=1600.0, volume=0.0)\n",
      "Row(_c0=2735, date='2013-01-02', symbol='TDW', adj_close=1340.6372, close=1487.7419, high=1488.0646, low=1456.129, open=1468.3871, volume=11300.0)\n",
      "Row(_c0=2780, date='2013-01-02', symbol='TLGT', adj_close=104000.0, close=104000.0, high=104000.0, low=101000.0, open=104000.0, volume=0.0)\n",
      "Row(_c0=2794, date='2013-01-02', symbol='TNXP', adj_close=11000.0, close=11000.0, high=11000.0, low=11000.0, open=11000.0, volume=0.0)\n",
      "Row(_c0=2795, date='2013-01-02', symbol='TOPS', adj_close=5795999744.0, close=5795999744.0, high=6300000256.0, low=5670000128.0, open=6300000256.0, volume=0.0)\n",
      "Row(_c0=2854, date='2013-01-02', symbol='TVIX', adj_close=18475000.0, close=18475000.0, high=20200000.0, low=18375000.0, open=19150000.0, volume=0.0)\n",
      "Row(_c0=2920, date='2013-01-02', symbol='USLV', adj_close=2759.0, close=2759.0, high=2902.0, low=2747.0, open=2870.0, volume=9000.0)\n",
      "Row(_c0=2967, date='2013-01-02', symbol='VHI', adj_close=450526784.0, close=456497248.0, high=461513696.0, low=450764160.0, open=456138912.0, volume=0.0)\n",
      "Row(_c0=2970, date='2013-01-02', symbol='VIIX', adj_close=3770.0, close=3770.0, high=3990.0, low=3770.0, open=3867.5, volume=2200.0)\n",
      "Row(_c0=2973, date='2013-01-02', symbol='VISL', adj_close=23760.0, close=23760.0, high=23760.0, low=23040.0, open=23040.0, volume=0.0)\n",
      "Row(_c0=2975, date='2013-01-02', symbol='VIVE', adj_close=10800.0, close=10800.0, high=10800.0, low=10400.0, open=10400.0, volume=0.0)\n",
      "Row(_c0=3052, date='2013-01-02', symbol='WINT', adj_close=1873.2, close=1873.2, high=1890.0, low=1797.6, open=1881.6, volume=400.0)\n",
      "Row(_c0=3091, date='2013-01-02', symbol='WWR', adj_close=1980.0, close=1980.0, high=2040.0, low=1980.0, open=1980.0, volume=0.0)\n",
      "Row(_c0=3108, date='2013-01-02', symbol='XSPA', adj_close=141912.0, close=141912.0, high=145800.0, low=138024.0, open=144342.0, volume=0.0)\n",
      "Row(_c0=3117, date='2013-01-02', symbol='YTEN', adj_close=3624.0, close=3624.0, high=3744.0, low=3576.0, open=3648.0, volume=0.0)\n",
      "Row(_c0=3163, date='2013-01-03', symbol='ACHV', adj_close=29348.0, close=29348.0, high=29700.0, low=29216.0, open=29414.0, volume=0.0)\n",
      "Row(_c0=3320, date='2013-01-03', symbol='ARMP', adj_close=1190.0, close=1190.0, high=1190.0, low=1190.0, open=1190.0, volume=0.0)\n",
      "Row(_c0=3421, date='2013-01-03', symbol='BCEI', adj_close=3170.2151, close=3170.2151, high=3223.7773, low=3150.1292, open=3199.228, volume=3300.0)\n",
      "Row(_c0=3472, date='2013-01-03', symbol='BIS', adj_close=1212.297, close=1237.8, high=1253.0, low=1227.2, open=1242.0, volume=300.0)\n",
      "Row(_c0=3635, date='2013-01-03', symbol='CEI', adj_close=30273438.0, close=30273438.0, high=30273438.0, low=28515624.0, open=29296876.0, volume=0.0)\n",
      "Row(_c0=3663, date='2013-01-03', symbol='CHFS', adj_close=51912.0, close=51912.0, high=52668.0, low=51324.0, open=51912.0, volume=0.0)\n",
      "Row(_c0=3853, date='2013-01-03', symbol='CYCC', adj_close=1387.2, close=1387.2, high=1459.2, low=1384.8, open=1459.2, volume=900.0)\n",
      "Row(_c0=3868, date='2013-01-03', symbol='DCAR', adj_close=1597.02, close=1597.02, high=1625.85, low=1552.3, open=1589.26, volume=1.0)\n",
      "Row(_c0=3994, date='2013-01-03', symbol='EFOI', adj_close=148437.5, close=148437.5, high=156250.0, low=148437.5, open=148437.5, volume=0.0)\n",
      "Row(_c0=3999, date='2013-01-03', symbol='EGLE', adj_close=4585.7954, close=4585.7954, high=4840.5615, low=4458.4121, open=4840.5615, volume=100.0)\n",
      "Row(_c0=4011, date='2013-01-03', symbol='ELC', adj_close=21397.8008, close=21397.8008, high=21397.8008, low=21397.8008, open=21397.8008, volume=0.0)\n",
      "Row(_c0=4307, date='2013-01-03', symbol='GEVO', adj_close=10920.0, close=10920.0, high=11760.0, low=10620.0, open=10860.0, volume=100.0)\n",
      "Row(_c0=4836, date='2013-01-03', symbol='MBOT', adj_close=2721.6001, close=2721.6001, high=2786.3999, low=2689.2, open=2786.3999, volume=100.0)\n",
      "Row(_c0=5113, date='2013-01-03', symbol='NSPR', adj_close=50625.0, close=50625.0, high=50625.0, low=48750.0, open=50625.0, volume=0.0)\n",
      "Row(_c0=5137, date='2013-01-03', symbol='NVIV', adj_close=5340.0, close=5340.0, high=5730.0, low=5220.0, open=5460.0, volume=0.0)\n",
      "Row(_c0=5231, date='2013-01-03', symbol='PACD', adj_close=970000.0, close=970000.0, high=970000.0, low=940000.0, open=953000.0, volume=0.0)\n",
      "Row(_c0=5305, date='2013-01-03', symbol='PHIO', adj_close=12870.0, close=12870.0, high=13200.0, low=11880.0, open=11880.0, volume=0.0)\n",
      "Row(_c0=5353, date='2013-01-03', symbol='POAI', adj_close=2250.0, close=2250.0, high=2250.0, low=2250.0, open=2250.0, volume=0.0)\n",
      "Row(_c0=5396, date='2013-01-03', symbol='PSHG', adj_close=297979.0938, close=312157.4375, high=314133.125, low=305242.5625, open=305242.5625, volume=0.0)\n",
      "Row(_c0=5401, date='2013-01-03', symbol='PSTV', adj_close=20625.0, close=20625.0, high=21600.0, low=20475.0, open=21000.0, volume=0.0)\n",
      "Row(_c0=5584, date='2013-01-03', symbol='SCON', adj_close=5760.0, close=5760.0, high=5940.0, low=5580.0, open=5580.0, volume=0.0)\n",
      "Row(_c0=5592, date='2013-01-03', symbol='SEB', adj_close=2595.9451, close=2615.49, high=2688.0, low=2550.0, open=2638.2, volume=300.0)\n",
      "Row(_c0=5654, date='2013-01-03', symbol='SLS', adj_close=51000.0, close=51000.0, high=52200.0, low=47700.0, open=48000.0, volume=200.0)\n",
      "Row(_c0=5706, date='2013-01-03', symbol='SQQQ', adj_close=11495.2197, close=11916.7998, high=12032.0, low=11676.7998, open=11753.5996, volume=6800.0)\n",
      "Row(_c0=5718, date='2013-01-03', symbol='SRV', adj_close=103715.75, close=156057.5938, high=157696.0, low=151756.7969, open=152576.0, volume=0.0)\n",
      "Row(_c0=5788, date='2013-01-03', symbol='SZC', adj_close=6069.7598, close=6069.7598, high=6097.9199, low=5964.7998, open=6005.7598, volume=0.0)\n",
      "Row(_c0=5821, date='2013-01-03', symbol='TDW', adj_close=1335.1145, close=1481.6129, high=1498.0646, low=1466.4517, open=1481.2903, volume=16300.0)\n",
      "Row(_c0=5865, date='2013-01-03', symbol='TLGT', adj_close=103000.0, close=103000.0, high=104000.0, low=100000.0, open=102000.0, volume=0.0)\n",
      "Row(_c0=5879, date='2013-01-03', symbol='TOPS', adj_close=5921999872.0, close=5921999872.0, high=6237000192.0, low=5858999808.0, open=6174000128.0, volume=0.0)\n",
      "Row(_c0=5938, date='2013-01-03', symbol='TVIX', adj_close=18375000.0, close=18375000.0, high=18875000.0, low=17600000.0, open=18525000.0, volume=0.0)\n",
      "Row(_c0=6004, date='2013-01-03', symbol='USLV', adj_close=2550.0, close=2550.0, high=2785.0, low=2508.0, open=2725.0, volume=10300.0)\n",
      "Row(_c0=6051, date='2013-01-03', symbol='VHI', adj_close=453002304.0, close=459005472.0, high=462946944.0, low=449689184.0, open=456138912.0, volume=0.0)\n",
      "Row(_c0=6054, date='2013-01-03', symbol='VIIX', adj_close=3800.0, close=3800.0, high=3855.0, low=3730.0, open=3807.5, volume=1800.0)\n",
      "Row(_c0=6057, date='2013-01-03', symbol='VISL', adj_close=23760.0, close=23760.0, high=23760.0, low=23760.0, open=23760.0, volume=0.0)\n",
      "Row(_c0=6059, date='2013-01-03', symbol='VIVE', adj_close=10800.0, close=10800.0, high=10800.0, low=10800.0, open=10800.0, volume=0.0)\n",
      "Row(_c0=6135, date='2013-01-03', symbol='WINT', adj_close=1965.6, close=1965.6, high=1982.4, low=1848.0, open=1881.6, volume=400.0)\n",
      "Row(_c0=6174, date='2013-01-03', symbol='WWR', adj_close=2040.0, close=2040.0, high=2040.0, low=1980.0, open=2040.0, volume=0.0)\n",
      "Row(_c0=6191, date='2013-01-03', symbol='XSPA', adj_close=170100.0, close=170100.0, high=170100.0, low=138996.0, open=139968.0, volume=200.0)\n",
      "Row(_c0=6200, date='2013-01-03', symbol='YTEN', adj_close=3888.0, close=3888.0, high=4272.0, low=3672.0, open=3672.0, volume=100.0)\n",
      "Row(_c0=6245, date='2013-01-04', symbol='ACHV', adj_close=29084.0, close=29084.0, high=29700.0, low=28754.0, open=29568.0, volume=0.0)\n",
      "Row(_c0=6401, date='2013-01-04', symbol='ARMP', adj_close=1120.0, close=1120.0, high=1260.0, low=840.0, open=1260.0, volume=0.0)\n",
      "Row(_c0=6502, date='2013-01-04', symbol='BCEI', adj_close=3358.7988, close=3358.7988, high=3483.7773, low=3280.6873, open=3320.8589, volume=11300.0)\n",
      "Row(_c0=6553, date='2013-01-04', symbol='BIS', adj_close=1196.6266, close=1221.8, high=1240.0, low=1221.8, open=1240.0, volume=100.0)\n",
      "Row(_c0=6717, date='2013-01-04', symbol='CEI', adj_close=32031250.0, close=32031250.0, high=32031250.0, low=30273438.0, open=30273438.0, volume=0.0)\n",
      "Row(_c0=6745, date='2013-01-04', symbol='CHFS', adj_close=53508.0, close=53508.0, high=53844.0, low=51744.0, open=51912.0, volume=0.0)\n",
      "Row(_c0=6935, date='2013-01-04', symbol='CYCC', adj_close=1387.2, close=1387.2, high=1440.0, low=1380.0, open=1428.0, volume=700.0)\n",
      "Row(_c0=6949, date='2013-01-04', symbol='DCAR', adj_close=1552.3, close=1552.3, high=1588.52, low=1496.86, open=1552.3, volume=0.0)\n",
      "Row(_c0=6964, date='2013-01-04', symbol='DFFN', adj_close=2850.0, close=2850.0, high=2850.0, low=2700.0, open=2700.0, volume=0.0)\n",
      "Row(_c0=7074, date='2013-01-04', symbol='EFOI', adj_close=132812.5, close=132812.5, high=148437.5, low=125000.0, open=148437.5, volume=0.0)\n",
      "Row(_c0=7079, date='2013-01-04', symbol='EGLE', adj_close=5757.7207, close=5757.7207, high=6827.7397, low=4687.7017, open=4789.6084, volume=1000.0)\n",
      "Row(_c0=7386, date='2013-01-04', symbol='GEVO', adj_close=13080.0, close=13080.0, high=13320.0, low=10980.0, open=11160.0, volume=500.0)\n",
      "Row(_c0=7910, date='2013-01-04', symbol='MBOT', adj_close=2754.0, close=2754.0, high=2802.6001, low=2721.6001, open=2754.0, volume=100.0)\n",
      "Row(_c0=8189, date='2013-01-04', symbol='NSPR', adj_close=50000.0, close=50000.0, high=53125.0, low=44000.0, open=53125.0, volume=0.0)\n",
      "Row(_c0=8210, date='2013-01-04', symbol='NVCN', adj_close=1810.0, close=1810.0, high=1820.0, low=1810.0, open=1820.0, volume=0.0)\n",
      "Row(_c0=8213, date='2013-01-04', symbol='NVIV', adj_close=5640.0, close=5640.0, high=5640.0, low=5160.0, open=5310.0, volume=0.0)\n",
      "Row(_c0=8306, date='2013-01-04', symbol='PACD', adj_close=1000000.0, close=1000000.0, high=1006000.0, low=962000.0, open=970000.0, volume=0.0)\n",
      "Row(_c0=8428, date='2013-01-04', symbol='POAI', adj_close=2062.5, close=2062.5, high=2062.5, low=1931.25, open=1968.75, volume=0.0)\n",
      "Row(_c0=8471, date='2013-01-04', symbol='PSHG', adj_close=303636.9375, close=318084.4688, high=319072.3125, low=312157.4375, open=314627.0312, volume=0.0)\n",
      "Row(_c0=8476, date='2013-01-04', symbol='PSTV', adj_close=21075.0, close=21075.0, high=21150.0, low=20250.0, open=20925.0, volume=0.0)\n",
      "Row(_c0=8665, date='2013-01-04', symbol='SEB', adj_close=2589.5037, close=2609.0, high=2620.0, low=2548.0, open=2616.21, volume=300.0)\n",
      "Row(_c0=8726, date='2013-01-04', symbol='SLS', adj_close=53700.0, close=53700.0, high=54300.0, low=51600.0, open=51600.0, volume=100.0)\n",
      "Row(_c0=8778, date='2013-01-04', symbol='SQQQ', adj_close=11609.4336, close=12035.2002, high=12128.0, low=11913.5996, open=11913.5996, volume=4300.0)\n",
      "Row(_c0=8790, date='2013-01-04', symbol='SRV', adj_close=103307.4219, close=155443.2031, high=156057.5938, low=153190.4062, open=156057.5938, volume=0.0)\n",
      "Row(_c0=8860, date='2013-01-04', symbol='SZC', adj_close=6046.7202, close=6046.7202, high=6149.1201, low=6013.4399, open=6131.2002, volume=100.0)\n",
      "Row(_c0=8893, date='2013-01-04', symbol='TDW', adj_close=1342.6721, close=1490.0, high=1504.5161, low=1479.6774, open=1479.6774, volume=14200.0)\n",
      "Row(_c0=8936, date='2013-01-04', symbol='TLGT', adj_close=104000.0, close=104000.0, high=104000.0, low=102000.0, open=104000.0, volume=0.0)\n",
      "Row(_c0=8950, date='2013-01-04', symbol='TOPS', adj_close=6615000064.0, close=6615000064.0, high=7560000000.0, low=6237000192.0, open=6237000192.0, volume=0.0)\n",
      "Row(_c0=9008, date='2013-01-04', symbol='TVIX', adj_close=17575000.0, close=17575000.0, high=18425000.0, low=17375000.0, open=18225000.0, volume=0.0)\n",
      "Row(_c0=9074, date='2013-01-04', symbol='USLV', adj_close=2558.0, close=2558.0, high=2572.0, low=2390.0, open=2455.0, volume=8600.0)\n",
      "Row(_c0=9121, date='2013-01-04', symbol='VHI', adj_close=458306592.0, close=464380224.0, high=465813504.0, low=458647136.0, open=458647136.0, volume=0.0)\n",
      "Row(_c0=9124, date='2013-01-04', symbol='VIIX', adj_close=3720.0, close=3720.0, high=3807.5, low=3702.5, open=3787.5, volume=1900.0)\n",
      "Row(_c0=9204, date='2013-01-04', symbol='WINT', adj_close=1873.2, close=1873.2, high=1990.8, low=1831.2, open=1990.8, volume=500.0)\n",
      "Row(_c0=9243, date='2013-01-04', symbol='WWR', adj_close=2160.0, close=2160.0, high=2280.0, low=2040.0, open=2040.0, volume=100.0)\n",
      "Row(_c0=9260, date='2013-01-04', symbol='XSPA', adj_close=161352.0, close=161352.0, high=186138.0, low=156978.0, open=177390.0, volume=200.0)\n",
      "Row(_c0=9269, date='2013-01-04', symbol='YTEN', adj_close=3840.0, close=3840.0, high=4080.0, low=3792.0, open=3840.0, volume=100.0)\n",
      "Row(_c0=9315, date='2013-01-07', symbol='ACHV', adj_close=28842.0, close=28842.0, high=29392.0, low=28776.0, open=28842.0, volume=0.0)\n",
      "Row(_c0=9474, date='2013-01-07', symbol='ARMP', adj_close=1050.0, close=1050.0, high=1050.0, low=980.0, open=1050.0, volume=0.0)\n",
      "Row(_c0=9574, date='2013-01-07', symbol='BCEI', adj_close=3406.7817, close=3406.7817, high=3413.4768, low=3308.5842, open=3346.5242, volume=9300.0)\n",
      "Row(_c0=9625, date='2013-01-07', symbol='BIS', adj_close=1182.7189, close=1207.6, high=1239.0, low=1207.6, open=1239.0, volume=1200.0)\n",
      "Row(_c0=9789, date='2013-01-07', symbol='CEI', adj_close=33007812.0, close=33007812.0, high=33789064.0, low=31250000.0, open=32031250.0, volume=0.0)\n",
      "Row(_c0=9817, date='2013-01-07', symbol='CHFS', adj_close=52920.0, close=52920.0, high=53508.0, low=51912.0, open=53508.0, volume=0.0)\n",
      "Row(_c0=10007, date='2013-01-07', symbol='CYCC', adj_close=1351.2, close=1351.2, high=1452.0, low=1336.8, open=1452.0, volume=1300.0)\n",
      "Row(_c0=10021, date='2013-01-07', symbol='DCAR', adj_close=1625.85, close=1625.85, high=1625.85, low=1589.26, open=1589.26, volume=0.0)\n",
      "Row(_c0=10036, date='2013-01-07', symbol='DFFN', adj_close=2850.0, close=2850.0, high=2850.0, low=2400.0, open=2550.0, volume=0.0)\n",
      "Row(_c0=10146, date='2013-01-07', symbol='EFOI', adj_close=156250.0, close=156250.0, high=156250.0, low=132812.5, open=132812.5, volume=0.0)\n",
      "Row(_c0=10151, date='2013-01-07', symbol='EGLE', adj_close=5630.3374, close=5630.3374, high=6241.7769, low=5477.4775, open=5808.6738, volume=400.0)\n",
      "Row(_c0=10163, date='2013-01-07', symbol='ELC', adj_close=21476.4004, close=21476.4004, high=21476.4004, low=19667.0996, open=19667.0996, volume=1220.0)\n",
      "Row(_c0=10463, date='2013-01-07', symbol='GEVO', adj_close=13260.0, close=13260.0, high=14580.0, low=12600.0, open=13260.0, volume=500.0)\n",
      "Row(_c0=10984, date='2013-01-07', symbol='MBOT', adj_close=3013.2, close=3013.2, high=3013.2, low=2721.6001, open=2721.6001, volume=400.0)\n",
      "Row(_c0=11263, date='2013-01-07', symbol='NSPR', adj_close=50625.0, close=50625.0, high=51250.0, low=48750.0, open=50000.0, volume=0.0)\n",
      "Row(_c0=11284, date='2013-01-07', symbol='NVCN', adj_close=1810.0, close=1810.0, high=1810.0, low=1810.0, open=1810.0, volume=0.0)\n",
      "Row(_c0=11287, date='2013-01-07', symbol='NVIV', adj_close=6120.0, close=6120.0, high=6240.0, low=5700.0, open=5790.0, volume=100.0)\n",
      "Row(_c0=11380, date='2013-01-07', symbol='PACD', adj_close=997000.0, close=997000.0, high=1000000.0, low=976000.0, open=994000.0, volume=0.0)\n",
      "Row(_c0=11455, date='2013-01-07', symbol='PHIO', adj_close=12375.0, close=12375.0, high=13530.0, low=12375.0, open=13200.0, volume=0.0)\n",
      "Row(_c0=11503, date='2013-01-07', symbol='POAI', adj_close=2062.5, close=2062.5, high=2062.5, low=2062.5, open=2062.5, volume=0.0)\n",
      "Row(_c0=11546, date='2013-01-07', symbol='PSHG', adj_close=299865.0625, close=314133.125, high=317590.5625, low=311169.5938, open=316108.8125, volume=0.0)\n",
      "Row(_c0=11551, date='2013-01-07', symbol='PSTV', adj_close=21075.0, close=21075.0, high=21225.0, low=20850.0, open=21075.0, volume=0.0)\n",
      "Row(_c0=11735, date='2013-01-07', symbol='SCON', adj_close=6300.0, close=6300.0, high=6300.0, low=5580.0, open=5760.0, volume=0.0)\n",
      "Row(_c0=11743, date='2013-01-07', symbol='SEB', adj_close=2496.2358, close=2515.03, high=2639.0, low=2510.0, open=2597.6399, volume=400.0)\n",
      "Row(_c0=11804, date='2013-01-07', symbol='SLS', adj_close=57000.0, close=57000.0, high=57000.0, low=53700.0, open=54600.0, volume=100.0)\n",
      "Row(_c0=11856, date='2013-01-07', symbol='SQQQ', adj_close=11587.8232, close=12012.7998, high=12249.5996, low=11977.5996, open=12156.7998, volume=3800.0)\n",
      "Row(_c0=11869, date='2013-01-07', symbol='SRV', adj_close=104124.0703, close=156672.0, high=156672.0, low=154214.4062, open=156057.5938, volume=0.0)\n",
      "Row(_c0=11939, date='2013-01-07', symbol='SZC', adj_close=6128.6401, close=6128.6401, high=6128.6401, low=5987.8398, open=5987.8398, volume=100.0)\n",
      "Row(_c0=11972, date='2013-01-07', symbol='TDW', adj_close=1347.6138, close=1495.4839, high=1500.9678, low=1469.3549, open=1480.0, volume=12100.0)\n",
      "Row(_c0=12016, date='2013-01-07', symbol='TLGT', adj_close=106000.0, close=106000.0, high=106000.0, low=101000.0, open=101000.0, volume=0.0)\n",
      "Row(_c0=12030, date='2013-01-07', symbol='TNXP', adj_close=8800.0, close=8800.0, high=9000.0, low=8800.0, open=9000.0, volume=0.0)\n",
      "Row(_c0=12031, date='2013-01-07', symbol='TOPS', adj_close=6992999936.0, close=6992999936.0, high=7560000000.0, low=6615000064.0, open=6866999808.0, volume=0.0)\n",
      "Row(_c0=12089, date='2013-01-07', symbol='TVIX', adj_close=17700000.0, close=17700000.0, high=18375000.0, low=17500000.0, open=18275000.0, volume=0.0)\n",
      "Row(_c0=12154, date='2013-01-07', symbol='USLV', adj_close=2542.0, close=2542.0, high=2562.0, low=2488.0, open=2495.0, volume=4600.0)\n",
      "Row(_c0=12201, date='2013-01-07', symbol='VHI', adj_close=476341856.0, close=482654464.0, high=485520992.0, low=464380224.0, open=464380224.0, volume=0.0)\n",
      "Row(_c0=12204, date='2013-01-07', symbol='VIIX', adj_close=3715.0, close=3715.0, high=3790.0, low=3700.0, open=3760.0, volume=600.0)\n",
      "Row(_c0=12208, date='2013-01-07', symbol='VIVE', adj_close=11600.0, close=11600.0, high=13200.0, low=10800.0, open=10800.0, volume=0.0)\n",
      "Row(_c0=12284, date='2013-01-07', symbol='WINT', adj_close=1814.4, close=1814.4, high=1864.8, low=1772.4, open=1864.8, volume=300.0)\n",
      "Row(_c0=12323, date='2013-01-07', symbol='WWR', adj_close=2340.0, close=2340.0, high=2460.0, low=2220.0, open=2340.0, volume=200.0)\n",
      "Row(_c0=12340, date='2013-01-07', symbol='XSPA', adj_close=176418.0, close=176418.0, high=176418.0, low=154548.0, open=161352.0, volume=100.0)\n",
      "Row(_c0=12349, date='2013-01-07', symbol='YTEN', adj_close=3864.0, close=3864.0, high=4008.0, low=3840.0, open=3888.0, volume=0.0)\n",
      "Row(_c0=12395, date='2013-01-08', symbol='ACHV', adj_close=28292.0, close=28292.0, high=28974.0, low=28160.0, open=28908.0, volume=0.0)\n",
      "Row(_c0=12551, date='2013-01-08', symbol='ARMP', adj_close=1050.0, close=1050.0, high=1050.0, low=980.0, open=980.0, volume=0.0)\n",
      "Row(_c0=12652, date='2013-01-08', symbol='BCEI', adj_close=3482.6614, close=3482.6614, high=3613.2195, low=3395.6228, open=3395.6228, volume=7300.0)\n",
      "Row(_c0=12704, date='2013-01-08', symbol='BIS', adj_close=1171.3579, close=1196.0, high=1215.2, low=1190.0, open=1215.2, volume=400.0)\n",
      "Row(_c0=12867, date='2013-01-08', symbol='CEI', adj_close=31445312.0, close=31445312.0, high=33007812.0, low=31054688.0, open=32812500.0, volume=0.0)\n",
      "Row(_c0=12895, date='2013-01-08', symbol='CHFS', adj_close=53508.0, close=53508.0, high=53928.0, low=51828.0, open=53256.0, volume=0.0)\n",
      "Row(_c0=13084, date='2013-01-08', symbol='CYCC', adj_close=1382.4, close=1382.4, high=1401.6, low=1303.2, open=1332.0, volume=900.0)\n",
      "Row(_c0=13098, date='2013-01-08', symbol='DCAR', adj_close=1588.89, close=1588.89, high=1626.22, low=1481.34, open=1589.26, volume=6.0)\n",
      "Row(_c0=13113, date='2013-01-08', symbol='DFFN', adj_close=3000.0, close=3000.0, high=3000.0, low=2550.0, open=2850.0, volume=0.0)\n",
      "Row(_c0=13224, date='2013-01-08', symbol='EFOI', adj_close=148437.5, close=148437.5, high=156250.0, low=132812.5, open=156250.0, volume=0.0)\n",
      "Row(_c0=13229, date='2013-01-08', symbol='EGLE', adj_close=5732.2441, close=5732.2441, high=6139.8701, low=5630.3374, open=6037.9639, volume=200.0)\n",
      "Row(_c0=13241, date='2013-01-08', symbol='ELC', adj_close=22341.8008, close=22341.8008, high=22499.0996, low=21476.4004, open=21476.4004, volume=9343.0)\n",
      "Row(_c0=13538, date='2013-01-08', symbol='GEVO', adj_close=12180.0, close=12180.0, high=13500.0, low=12060.0, open=13500.0, volume=100.0)\n",
      "Row(_c0=14061, date='2013-01-08', symbol='MBOT', adj_close=2899.8, close=2899.8, high=3029.3999, low=2899.8, open=3013.2, volume=200.0)\n",
      "Row(_c0=14337, date='2013-01-08', symbol='NSPR', adj_close=50625.0, close=50625.0, high=50625.0, low=48750.0, open=49875.0, volume=0.0)\n",
      "Row(_c0=14358, date='2013-01-08', symbol='NVCN', adj_close=1790.0, close=1790.0, high=1800.0, low=1790.0, open=1790.0, volume=0.0)\n",
      "Row(_c0=14361, date='2013-01-08', symbol='NVIV', adj_close=6390.0, close=6390.0, high=6450.0, low=6180.0, open=6270.0, volume=100.0)\n",
      "Row(_c0=14455, date='2013-01-08', symbol='PACD', adj_close=1001000.0, close=1001000.0, high=1001000.0, low=975000.0, open=989000.0, volume=0.0)\n",
      "Row(_c0=14530, date='2013-01-08', symbol='PHIO', adj_close=12375.0, close=12375.0, high=13200.0, low=11715.0, open=13200.0, volume=0.0)\n",
      "Row(_c0=14578, date='2013-01-08', symbol='POAI', adj_close=1743.75, close=1743.75, high=1931.25, low=1687.5, open=1931.25, volume=0.0)\n",
      "Row(_c0=14621, date='2013-01-08', symbol='PSHG', adj_close=309294.7812, close=324011.5312, high=327962.875, low=315120.9688, open=317096.625, volume=0.0)\n",
      "Row(_c0=14626, date='2013-01-08', symbol='PSTV', adj_close=21525.0, close=21525.0, high=21600.0, low=20925.0, open=21075.0, volume=0.0)\n",
      "Row(_c0=14810, date='2013-01-08', symbol='SCON', adj_close=6300.0, close=6300.0, high=6480.0, low=6120.0, open=6300.0, volume=0.0)\n",
      "Row(_c0=14818, date='2013-01-08', symbol='SEB', adj_close=2573.3354, close=2592.71, high=2609.3701, low=2518.01, open=2522.1799, volume=400.0)\n",
      "Row(_c0=14879, date='2013-01-08', symbol='SLS', adj_close=56100.0, close=56100.0, high=57900.0, low=55200.0, open=57900.0, volume=100.0)\n",
      "Row(_c0=14930, date='2013-01-08', symbol='SQQQ', adj_close=11652.6475, close=12080.0, high=12291.2002, low=11948.7998, open=12044.7998, volume=3900.0)\n",
      "Row(_c0=14944, date='2013-01-08', symbol='SRV', adj_close=102762.9297, close=154624.0, high=156262.4062, low=154214.4062, open=155648.0, volume=0.0)\n",
      "Row(_c0=15013, date='2013-01-08', symbol='SZC', adj_close=6056.96, close=6056.96, high=6128.6401, low=6056.96, open=6128.6401, volume=100.0)\n",
      "Row(_c0=15046, date='2013-01-08', symbol='TDW', adj_close=1328.1379, close=1473.871, high=1497.7419, low=1467.0968, open=1490.3226, volume=9800.0)\n",
      "Row(_c0=15090, date='2013-01-08', symbol='TLGT', adj_close=106000.0, close=106000.0, high=106000.0, low=104000.0, open=104000.0, volume=0.0)\n",
      "Row(_c0=15104, date='2013-01-08', symbol='TNXP', adj_close=11000.0, close=11000.0, high=14600.0, low=10000.0, open=10000.0, volume=0.0)\n",
      "Row(_c0=15105, date='2013-01-08', symbol='TOPS', adj_close=7119000064.0, close=7119000064.0, high=7245000192.0, low=6929999872.0, open=6992999936.0, volume=0.0)\n",
      "Row(_c0=15162, date='2013-01-08', symbol='TVIX', adj_close=17250000.0, close=17250000.0, high=17950000.0, low=17175000.0, open=17475000.0, volume=0.0)\n",
      "Row(_c0=15228, date='2013-01-08', symbol='USLV', adj_close=2595.0, close=2595.0, high=2645.0, low=2550.0, open=2612.0, volume=6600.0)\n",
      "Row(_c0=15275, date='2013-01-08', symbol='VHI', adj_close=497206112.0, close=503795232.0, high=516336352.0, low=482654464.0, open=482654464.0, volume=0.0)\n",
      "Row(_c0=15278, date='2013-01-08', symbol='VIIX', adj_close=3672.5, close=3672.5, high=3755.0, low=3662.5, open=3697.5, volume=800.0)\n",
      "Row(_c0=15282, date='2013-01-08', symbol='VIVE', adj_close=12000.0, close=12000.0, high=13440.0, low=10400.0, open=10400.0, volume=0.0)\n",
      "Row(_c0=15358, date='2013-01-08', symbol='WINT', adj_close=1873.2, close=1873.2, high=1890.0, low=1797.6, open=1814.4, volume=100.0)\n",
      "Row(_c0=15397, date='2013-01-08', symbol='WWR', adj_close=2640.0, close=2640.0, high=2700.0, low=2340.0, open=2460.0, volume=300.0)\n",
      "Row(_c0=15414, date='2013-01-08', symbol='XSPA', adj_close=160380.0, close=160380.0, high=168156.0, low=159408.0, open=167184.0, volume=0.0)\n",
      "Row(_c0=15423, date='2013-01-08', symbol='YTEN', adj_close=3792.0, close=3792.0, high=4080.0, low=3744.0, open=3864.0, volume=0.0)\n",
      "Row(_c0=15469, date='2013-01-09', symbol='ACHV', adj_close=29106.0, close=29106.0, high=29238.0, low=28556.0, open=28578.0, volume=0.0)\n",
      "Row(_c0=15724, date='2013-01-09', symbol='BCEI', adj_close=3415.7087, close=3415.7087, high=3500.5156, low=3375.5371, open=3492.7043, volume=5100.0)\n",
      "Row(_c0=15775, date='2013-01-09', symbol='BIS', adj_close=1138.2543, close=1162.2, high=1192.6, low=1160.2, open=1192.6, volume=400.0)\n",
      "Row(_c0=15937, date='2013-01-09', symbol='CEI', adj_close=30859376.0, close=30859376.0, high=32421876.0, low=30273438.0, open=32226562.0, volume=0.0)\n",
      "Row(_c0=15965, date='2013-01-09', symbol='CHFS', adj_close=52920.0, close=52920.0, high=53760.0, low=52584.0, open=53760.0, volume=0.0)\n",
      "Row(_c0=16155, date='2013-01-09', symbol='CYCC', adj_close=1368.0, close=1368.0, high=1428.0, low=1327.2, open=1392.0, volume=500.0)\n",
      "Row(_c0=16169, date='2013-01-09', symbol='DCAR', adj_close=1589.26, close=1589.26, high=1589.26, low=1589.26, open=1589.26, volume=0.0)\n",
      "Row(_c0=16297, date='2013-01-09', symbol='EGLE', adj_close=5706.7676, close=5706.7676, high=6063.4404, low=5324.6177, open=6063.4404, volume=100.0)\n",
      "Row(_c0=16309, date='2013-01-09', symbol='ELC', adj_close=21240.4004, close=21240.4004, high=22577.8008, low=21240.4004, open=22577.8008, volume=2669.0)\n",
      "Row(_c0=16601, date='2013-01-09', symbol='GEVO', adj_close=11700.0, close=11700.0, high=12600.0, low=11220.0, open=12600.0, volume=100.0)\n",
      "Row(_c0=16876, date='2013-01-09', symbol='INPX', adj_close=275400.0, close=275400.0, high=275400.0, low=275400.0, open=275400.0, volume=0.0)\n",
      "Row(_c0=17124, date='2013-01-09', symbol='MBOT', adj_close=2932.2, close=2932.2, high=2948.3999, low=2835.0, open=2851.2, volume=100.0)\n",
      "Row(_c0=17399, date='2013-01-09', symbol='NSPR', adj_close=48750.0, close=48750.0, high=50000.0, low=47000.0, open=47000.0, volume=0.0)\n",
      "Row(_c0=17420, date='2013-01-09', symbol='NVCN', adj_close=1790.0, close=1790.0, high=1790.0, low=1790.0, open=1790.0, volume=0.0)\n",
      "Row(_c0=17424, date='2013-01-09', symbol='NVIV', adj_close=7050.0, close=7050.0, high=7500.0, low=6420.0, open=6420.0, volume=100.0)\n",
      "Row(_c0=17519, date='2013-01-09', symbol='PACD', adj_close=997000.0, close=997000.0, high=1003000.0, low=986000.0, open=1003000.0, volume=0.0)\n",
      "Row(_c0=17594, date='2013-01-09', symbol='PHIO', adj_close=11880.0, close=11880.0, high=13200.0, low=11880.0, open=12375.0, volume=0.0)\n",
      "Row(_c0=17642, date='2013-01-09', symbol='POAI', adj_close=1743.75, close=1743.75, high=1743.75, low=1743.75, open=1743.75, volume=0.0)\n",
      "Row(_c0=17684, date='2013-01-09', symbol='PSHG', adj_close=314952.7188, close=329938.5625, high=330432.4688, low=322529.75, open=326975.0312, volume=0.0)\n",
      "Row(_c0=17689, date='2013-01-09', symbol='PSTV', adj_close=21375.0, close=21375.0, high=21750.0, low=21075.0, open=21675.0, volume=0.0)\n",
      "Row(_c0=17872, date='2013-01-09', symbol='SCON', adj_close=5940.0, close=5940.0, high=6480.0, low=5760.0, open=6480.0, volume=0.0)\n",
      "Row(_c0=17880, date='2013-01-09', symbol='SEB', adj_close=2549.8025, close=2569.0, high=2600.0, low=2553.02, open=2590.7, volume=300.0)\n",
      "Row(_c0=17942, date='2013-01-09', symbol='SLS', adj_close=55800.0, close=55800.0, high=57000.0, low=55200.0, open=57000.0, volume=100.0)\n",
      "Row(_c0=17993, date='2013-01-09', symbol='SQQQ', adj_close=11547.6963, close=11971.2002, high=12076.7998, low=11865.5996, open=12048.0, volume=3500.0)\n",
      "Row(_c0=18006, date='2013-01-09', symbol='SRV', adj_close=104532.4141, close=157286.4062, high=157286.4062, low=154419.2031, open=155852.7969, volume=0.0)\n",
      "Row(_c0=18076, date='2013-01-09', symbol='SZC', adj_close=6149.1201, close=6149.1201, high=6177.2798, low=6077.4399, open=6092.7998, volume=100.0)\n",
      "Row(_c0=18109, date='2013-01-09', symbol='TDW', adj_close=1333.0797, close=1479.3549, high=1485.1613, low=1470.3226, open=1477.0968, volume=9000.0)\n",
      "Row(_c0=18153, date='2013-01-09', symbol='TLGT', adj_close=105000.0, close=105000.0, high=106000.0, low=102000.0, open=102000.0, volume=0.0)\n",
      "Row(_c0=18167, date='2013-01-09', symbol='TNXP', adj_close=12000.0, close=12000.0, high=12000.0, low=12000.0, open=12000.0, volume=0.0)\n",
      "Row(_c0=18168, date='2013-01-09', symbol='TOPS', adj_close=7874999808.0, close=7874999808.0, high=8127000064.0, low=7056000000.0, open=7056000000.0, volume=0.0)\n",
      "Row(_c0=18227, date='2013-01-09', symbol='TVIX', adj_close=17125000.0, close=17125000.0, high=17425000.0, low=16600000.0, open=16750000.0, volume=0.0)\n",
      "Row(_c0=18292, date='2013-01-09', symbol='USLV', adj_close=2591.0, close=2591.0, high=2599.0, low=2519.0, open=2583.0, volume=5900.0)\n",
      "Row(_c0=18339, date='2013-01-09', symbol='VHI', adj_close=506046944.0, close=512753184.0, high=518127936.0, low=507378400.0, open=507378400.0, volume=0.0)\n",
      "Row(_c0=18342, date='2013-01-09', symbol='VIIX', adj_close=3685.0, close=3685.0, high=3707.5, low=3607.5, open=3615.0, volume=600.0)\n",
      "Row(_c0=18346, date='2013-01-09', symbol='VIVE', adj_close=10800.0, close=10800.0, high=12800.0, low=10800.0, open=12800.0, volume=0.0)\n",
      "Row(_c0=18421, date='2013-01-09', symbol='WINT', adj_close=1890.0, close=1890.0, high=1906.8, low=1856.4, open=1864.8, volume=100.0)\n",
      "Row(_c0=18460, date='2013-01-09', symbol='WWR', adj_close=3060.0, close=3060.0, high=3060.0, low=2640.0, open=2700.0, volume=600.0)\n",
      "Row(_c0=18477, date='2013-01-09', symbol='XSPA', adj_close=158436.0, close=158436.0, high=163782.0, low=157950.0, open=163296.0, volume=0.0)\n",
      "Row(_c0=18486, date='2013-01-09', symbol='YTEN', adj_close=3768.0, close=3768.0, high=3936.0, low=3744.0, open=3888.0, volume=0.0)\n",
      "Row(_c0=18532, date='2013-01-10', symbol='ACHV', adj_close=28864.0, close=28864.0, high=29568.0, low=28622.0, open=29304.0, volume=0.0)\n",
      "Row(_c0=18789, date='2013-01-10', symbol='BCEI', adj_close=3397.8545, close=3397.8545, high=3472.6187, low=3375.5371, open=3443.6057, volume=5200.0)\n",
      "Row(_c0=18839, date='2013-01-10', symbol='BIS', adj_close=1129.4398, close=1153.2, high=1163.4, low=1150.6, open=1150.6, volume=300.0)\n",
      "Row(_c0=19003, date='2013-01-10', symbol='CEI', adj_close=32031250.0, close=32031250.0, high=32226562.0, low=30859376.0, open=31445312.0, volume=0.0)\n",
      "Row(_c0=19031, date='2013-01-10', symbol='CHFS', adj_close=51996.0, close=51996.0, high=53424.0, low=51660.0, open=53424.0, volume=0.0)\n",
      "Row(_c0=19221, date='2013-01-10', symbol='CYCC', adj_close=1315.2, close=1315.2, high=1370.4, low=1279.2, open=1370.4, volume=1000.0)\n",
      "Row(_c0=19235, date='2013-01-10', symbol='DCAR', adj_close=1737.1, close=1737.1, high=1847.98, low=1589.26, open=1625.85, volume=5.0)\n",
      "Row(_c0=19361, date='2013-01-10', symbol='EFOI', adj_close=156250.0, close=156250.0, high=156250.0, low=148437.5, open=156250.0, volume=0.0)\n",
      "Row(_c0=19366, date='2013-01-10', symbol='EGLE', adj_close=5808.6738, close=5808.6738, high=5987.0103, low=5706.7676, open=5732.2441, volume=100.0)\n",
      "Row(_c0=19378, date='2013-01-10', symbol='ELC', adj_close=21240.4004, close=21240.4004, high=21240.4004, low=21240.4004, open=21240.4004, volume=0.0)\n",
      "Row(_c0=19672, date='2013-01-10', symbol='GEVO', adj_close=12420.0, close=12420.0, high=12420.0, low=11460.0, open=11640.0, volume=100.0)\n",
      "Row(_c0=20190, date='2013-01-10', symbol='MBOT', adj_close=2883.6001, close=2883.6001, high=2932.2, low=2851.2, open=2916.0, volume=100.0)\n",
      "Row(_c0=20465, date='2013-01-10', symbol='NSPR', adj_close=48750.0, close=48750.0, high=48750.0, low=48750.0, open=48750.0, volume=0.0)\n",
      "Row(_c0=20489, date='2013-01-10', symbol='NVIV', adj_close=7020.0, close=7020.0, high=7470.0, low=6780.0, open=7290.0, volume=100.0)\n",
      "Row(_c0=20584, date='2013-01-10', symbol='PACD', adj_close=999000.0, close=999000.0, high=1000000.0, low=983000.0, open=999000.0, volume=0.0)\n",
      "Row(_c0=20658, date='2013-01-10', symbol='PHIO', adj_close=12045.0, close=12045.0, high=13200.0, low=11880.0, open=11880.0, volume=0.0)\n",
      "Row(_c0=20747, date='2013-01-10', symbol='PSHG', adj_close=318253.0625, close=333396.0, high=333889.9062, low=329938.5625, open=333396.0, volume=0.0)\n",
      "Row(_c0=20752, date='2013-01-10', symbol='PSTV', adj_close=22500.0, close=22500.0, high=22575.0, low=21300.0, open=21450.0, volume=100.0)\n",
      "Row(_c0=20903, date='2013-01-10', symbol='SAEX', adj_close=26811.0, close=26811.0, high=26811.0, low=26811.0, open=26811.0, volume=0.0)\n",
      "Row(_c0=20935, date='2013-01-10', symbol='SCON', adj_close=5760.0, close=5760.0, high=6120.0, low=5580.0, open=5940.0, volume=0.0)\n",
      "Row(_c0=20943, date='2013-01-10', symbol='SEB', adj_close=2569.6536, close=2589.0, high=2599.0, low=2557.01, open=2585.48, volume=100.0)\n",
      "Row(_c0=21003, date='2013-01-10', symbol='SLS', adj_close=54000.0, close=54000.0, high=56400.0, low=52200.0, open=55800.0, volume=100.0)\n",
      "Row(_c0=21054, date='2013-01-10', symbol='SQQQ', adj_close=11337.7939, close=11753.5996, high=12086.4004, low=11696.0, open=11728.0, volume=3700.0)\n",
      "Row(_c0=21066, date='2013-01-10', symbol='SRV', adj_close=104668.5547, close=157491.2031, high=158105.5938, low=156057.5938, open=158105.5938, volume=0.0)\n",
      "Row(_c0=21136, date='2013-01-10', symbol='SZC', adj_close=6144.0, close=6144.0, high=6197.7598, low=6082.5601, open=6197.7598, volume=200.0)\n",
      "Row(_c0=21169, date='2013-01-10', symbol='TDW', adj_close=1341.2186, close=1488.3871, high=1493.2258, low=1476.129, open=1487.4193, volume=8400.0)\n",
      "Row(_c0=21213, date='2013-01-10', symbol='TLGT', adj_close=102000.0, close=102000.0, high=106000.0, low=102000.0, open=102000.0, volume=0.0)\n",
      "Row(_c0=21227, date='2013-01-10', symbol='TNXP', adj_close=13000.0, close=13000.0, high=13000.0, low=13000.0, open=13000.0, volume=0.0)\n",
      "Row(_c0=21228, date='2013-01-10', symbol='TOPS', adj_close=7623000064.0, close=7623000064.0, high=8504999936.0, low=7496999936.0, open=8127000064.0, volume=0.0)\n",
      "Row(_c0=21287, date='2013-01-10', symbol='TVIX', adj_close=16600000.0, close=16600000.0, high=17125000.0, low=16500000.0, open=16600000.0, volume=0.0)\n",
      "Row(_c0=21352, date='2013-01-10', symbol='USLV', adj_close=2699.0, close=2699.0, high=2741.0, low=2667.0, open=2667.0, volume=8100.0)\n",
      "Row(_c0=21399, date='2013-01-10', symbol='VHI', adj_close=499681568.0, close=506303456.0, high=514903072.0, low=504153536.0, open=512394848.0, volume=0.0)\n",
      "Row(_c0=21402, date='2013-01-10', symbol='VIIX', adj_close=3590.0, close=3590.0, high=3662.5, low=3582.5, open=3612.5, volume=1300.0)\n",
      "Row(_c0=21406, date='2013-01-10', symbol='VIVE', adj_close=12800.0, close=12800.0, high=12800.0, low=12000.0, open=12000.0, volume=0.0)\n",
      "Row(_c0=21482, date='2013-01-10', symbol='WINT', adj_close=1890.0, close=1890.0, high=1915.2, low=1864.8, open=1898.4, volume=100.0)\n",
      "Row(_c0=21521, date='2013-01-10', symbol='WWR', adj_close=3360.0, close=3360.0, high=3600.0, low=3120.0, open=3240.0, volume=800.0)\n",
      "Row(_c0=21537, date='2013-01-10', symbol='XSPA', adj_close=162324.0, close=162324.0, high=162810.0, low=157950.0, open=160380.0, volume=0.0)\n",
      "Row(_c0=21546, date='2013-01-10', symbol='YTEN', adj_close=3816.0, close=3816.0, high=3864.0, low=3720.0, open=3720.0, volume=0.0)\n",
      "Row(_c0=21592, date='2013-01-11', symbol='ACHV', adj_close=28996.0, close=28996.0, high=29348.0, low=28864.0, open=28952.0, volume=0.0)\n",
      "Row(_c0=21849, date='2013-01-11', symbol='BCEI', adj_close=3412.3611, close=3412.3611, high=3455.8804, low=3361.0305, open=3409.0134, volume=4000.0)\n",
      "Row(_c0=21900, date='2013-01-11', symbol='BIS', adj_close=1154.1208, close=1178.4, high=1178.4, low=1156.0, open=1156.0, volume=0.0)\n",
      "Row(_c0=22064, date='2013-01-11', symbol='CEI', adj_close=31054688.0, close=31054688.0, high=31835938.0, low=30468750.0, open=31640624.0, volume=0.0)\n",
      "Row(_c0=22092, date='2013-01-11', symbol='CHFS', adj_close=51912.0, close=51912.0, high=52080.0, low=50568.0, open=51660.0, volume=0.0)\n",
      "Row(_c0=22281, date='2013-01-11', symbol='CYCC', adj_close=1288.8, close=1288.8, high=1320.0, low=1284.0, open=1317.6, volume=400.0)\n",
      "Row(_c0=22295, date='2013-01-11', symbol='DCAR', adj_close=1742.65, close=1742.65, high=1846.5, low=1588.89, open=1801.78, volume=18.0)\n",
      "Row(_c0=22310, date='2013-01-11', symbol='DFFN', adj_close=2700.0, close=2700.0, high=2850.0, low=2550.0, open=2850.0, volume=0.0)\n",
      "Row(_c0=22422, date='2013-01-11', symbol='EFOI', adj_close=156250.0, close=156250.0, high=187500.0, low=156250.0, open=164062.5, volume=0.0)\n",
      "Row(_c0=22427, date='2013-01-11', symbol='EGLE', adj_close=5757.7207, close=5757.7207, high=5885.104, low=5579.3843, open=5732.2441, volume=100.0)\n",
      "Row(_c0=22439, date='2013-01-11', symbol='ELC', adj_close=20217.8008, close=20217.8008, high=20847.0996, low=20217.8008, open=20847.0996, volume=2555.0)\n",
      "Row(_c0=22734, date='2013-01-11', symbol='GEVO', adj_close=12180.0, close=12180.0, high=12480.0, low=11880.0, open=12480.0, volume=0.0)\n",
      "Row(_c0=23258, date='2013-01-11', symbol='MBOT', adj_close=2851.2, close=2851.2, high=2899.8, low=2737.8, open=2899.8, volume=300.0)\n",
      "Row(_c0=23444, date='2013-01-11', symbol='NAKD', adj_close=3600.0, close=3600.0, high=3600.0, low=3600.0, open=3600.0, volume=0.0)\n",
      "Row(_c0=23536, date='2013-01-11', symbol='NSPR', adj_close=48750.0, close=48750.0, high=49750.0, low=48750.0, open=49000.0, volume=0.0)\n",
      "Row(_c0=23559, date='2013-01-11', symbol='NVIV', adj_close=6990.0, close=6990.0, high=7020.0, low=6330.0, open=6900.0, volume=100.0)\n",
      "Row(_c0=23654, date='2013-01-11', symbol='PACD', adj_close=992000.0, close=992000.0, high=999000.0, low=983000.0, open=996000.0, volume=0.0)\n",
      "Row(_c0=23729, date='2013-01-11', symbol='PHIO', adj_close=11880.0, close=11880.0, high=13035.0, low=11880.0, open=12045.0, volume=0.0)\n",
      "Row(_c0=23776, date='2013-01-11', symbol='POAI', adj_close=1875.0, close=1875.0, high=1875.0, low=1875.0, open=1875.0, volume=0.0)\n",
      "Row(_c0=23819, date='2013-01-11', symbol='PSHG', adj_close=313066.6562, close=327962.875, high=333396.0, low=324999.375, open=331420.3125, volume=0.0)\n",
      "Row(_c0=23824, date='2013-01-11', symbol='PSTV', adj_close=22950.0, close=22950.0, high=23025.0, low=22125.0, open=22500.0, volume=0.0)\n",
      "Row(_c0=23975, date='2013-01-11', symbol='SAEX', adj_close=26784.0, close=26784.0, high=26784.0, low=26784.0, open=26784.0, volume=0.0)\n",
      "Row(_c0=24007, date='2013-01-11', symbol='SCON', adj_close=5760.0, close=5760.0, high=5940.0, low=5760.0, open=5760.0, volume=0.0)\n",
      "Row(_c0=24015, date='2013-01-11', symbol='SEB', adj_close=2540.8704, close=2560.0, high=2620.0, low=2544.0, open=2589.0, volume=300.0)\n",
      "Row(_c0=24076, date='2013-01-11', symbol='SLS', adj_close=54900.0, close=54900.0, high=55500.0, low=52800.0, open=54000.0, volume=100.0)\n",
      "Row(_c0=24127, date='2013-01-11', symbol='SQQQ', adj_close=11291.4902, close=11705.5996, high=11840.0, low=11686.4004, open=11760.0, volume=2800.0)\n",
      "Row(_c0=24139, date='2013-01-11', symbol='SRV', adj_close=105212.9922, close=158310.4062, high=158310.4062, low=157081.5938, open=157696.0, volume=0.0)\n",
      "Row(_c0=24209, date='2013-01-11', symbol='SZC', adj_close=6103.04, close=6103.04, high=6161.9199, low=6077.4399, open=6161.9199, volume=100.0)\n",
      "Row(_c0=24241, date='2013-01-11', symbol='TDW', adj_close=1323.7775, close=1469.0322, high=1494.5161, low=1457.7419, open=1489.0322, volume=15700.0)\n",
      "Row(_c0=24285, date='2013-01-11', symbol='TLGT', adj_close=106000.0, close=106000.0, high=106000.0, low=105000.0, open=106000.0, volume=0.0)\n",
      "Row(_c0=24299, date='2013-01-11', symbol='TNXP', adj_close=12000.0, close=12000.0, high=13000.0, low=12000.0, open=13000.0, volume=0.0)\n",
      "Row(_c0=24300, date='2013-01-11', symbol='TOPS', adj_close=8190000128.0, close=8190000128.0, high=8504999936.0, low=7308000256.0, open=7308000256.0, volume=0.0)\n",
      "Row(_c0=24359, date='2013-01-11', symbol='TVIX', adj_close=16400000.0, close=16400000.0, high=16925000.0, low=16325000.0, open=16650000.0, volume=0.0)\n",
      "Row(_c0=24424, date='2013-01-11', symbol='USLV', adj_close=2617.0, close=2617.0, high=2685.0, low=2530.0, open=2685.0, volume=7400.0)\n",
      "Row(_c0=24471, date='2013-01-11', symbol='VHI', adj_close=517363200.0, close=524219360.0, high=525294304.0, low=504870176.0, open=509169984.0, volume=0.0)\n",
      "Row(_c0=24474, date='2013-01-11', symbol='VIIX', adj_close=3577.5, close=3577.5, high=3637.5, low=3575.0, open=3595.0, volume=500.0)\n",
      "Row(_c0=24477, date='2013-01-11', symbol='VISL', adj_close=22320.0, close=22320.0, high=22320.0, low=22320.0, open=22320.0, volume=0.0)\n",
      "Row(_c0=24479, date='2013-01-11', symbol='VIVE', adj_close=12800.0, close=12800.0, high=12800.0, low=12800.0, open=12800.0, volume=0.0)\n",
      "Row(_c0=24555, date='2013-01-11', symbol='WINT', adj_close=1881.6, close=1881.6, high=1898.4, low=1873.2, open=1898.4, volume=100.0)\n",
      "Row(_c0=24594, date='2013-01-11', symbol='WWR', adj_close=3000.0, close=3000.0, high=3360.0, low=2820.0, open=3360.0, volume=400.0)\n",
      "Row(_c0=24610, date='2013-01-11', symbol='XSPA', adj_close=167184.0, close=167184.0, high=167184.0, low=159408.0, open=160866.0, volume=0.0)\n",
      "Row(_c0=24619, date='2013-01-11', symbol='YTEN', adj_close=3888.0, close=3888.0, high=3912.0, low=3768.0, open=3840.0, volume=0.0)\n",
      "Row(_c0=24665, date='2013-01-14', symbol='ACHV', adj_close=28798.0, close=28798.0, high=28886.0, low=28248.0, open=28776.0, volume=0.0)\n",
      "Row(_c0=24921, date='2013-01-14', symbol='BCEI', adj_close=3407.8975, close=3407.8975, high=3492.7043, low=3381.1165, open=3413.4768, volume=5000.0)\n",
      "Row(_c0=24973, date='2013-01-14', symbol='BIS', adj_close=1146.8733, close=1171.0, high=1213.8, low=1147.0, open=1213.8, volume=200.0)\n",
      "Row(_c0=25136, date='2013-01-14', symbol='CEI', adj_close=30859376.0, close=30859376.0, high=31445312.0, low=29687500.0, open=30664062.0, volume=0.0)\n",
      "Row(_c0=25164, date='2013-01-14', symbol='CHFS', adj_close=51240.0, close=51240.0, high=53256.0, low=50484.0, open=51408.0, volume=0.0)\n",
      "Row(_c0=25355, date='2013-01-14', symbol='CYCC', adj_close=1298.4, close=1298.4, high=1320.0, low=1281.6, open=1310.4, volume=800.0)\n",
      "Row(_c0=25370, date='2013-01-14', symbol='DCAR', adj_close=1807.3199, close=1807.3199, high=1807.3199, low=1629.92, open=1663.1801, volume=1.0)\n",
      "Row(_c0=25385, date='2013-01-14', symbol='DFFN', adj_close=2550.0, close=2550.0, high=2550.0, low=2550.0, open=2550.0, volume=0.0)\n",
      "Row(_c0=25495, date='2013-01-14', symbol='EFOI', adj_close=156250.0, close=156250.0, high=156250.0, low=156250.0, open=156250.0, volume=0.0)\n",
      "Row(_c0=25500, date='2013-01-14', symbol='EGLE', adj_close=5757.7207, close=5757.7207, high=5834.1504, low=5630.3374, open=5808.6738, volume=0.0)\n",
      "Row(_c0=25512, date='2013-01-14', symbol='ELC', adj_close=21083.0996, close=21083.0996, high=21083.0996, low=21083.0996, open=21083.0996, volume=1525.0)\n",
      "Row(_c0=25809, date='2013-01-14', symbol='GEVO', adj_close=11520.0, close=11520.0, high=12300.0, low=11280.0, open=12300.0, volume=100.0)\n",
      "Row(_c0=26333, date='2013-01-14', symbol='MBOT', adj_close=2802.6001, close=2802.6001, high=2851.2, low=2737.8, open=2851.2, volume=100.0)\n",
      "Row(_c0=26611, date='2013-01-14', symbol='NSPR', adj_close=48125.0, close=48125.0, high=48125.0, low=43125.0, open=48125.0, volume=0.0)\n",
      "Row(_c0=26632, date='2013-01-14', symbol='NVCN', adj_close=2000.0, close=2000.0, high=2000.0, low=2000.0, open=2000.0, volume=0.0)\n",
      "Row(_c0=26636, date='2013-01-14', symbol='NVIV', adj_close=7080.0, close=7080.0, high=7200.0, low=6810.0, open=7020.0, volume=0.0)\n",
      "Row(_c0=26727, date='2013-01-14', symbol='PACD', adj_close=977000.0, close=977000.0, high=1000000.0, low=975000.0, open=990000.0, volume=0.0)\n",
      "Row(_c0=26802, date='2013-01-14', symbol='PHIO', adj_close=13035.0, close=13035.0, high=13035.0, low=11880.0, open=11880.0, volume=0.0)\n",
      "Row(_c0=26850, date='2013-01-14', symbol='POAI', adj_close=1781.25, close=1781.25, high=1781.25, low=1781.25, open=1781.25, volume=0.0)\n",
      "Row(_c0=26893, date='2013-01-14', symbol='PSHG', adj_close=308351.8125, close=323023.6875, high=328456.8125, low=321048.0, open=328456.8125, volume=0.0)\n",
      "Row(_c0=26898, date='2013-01-14', symbol='PSTV', adj_close=23025.0, close=23025.0, high=23700.0, low=22950.0, open=22950.0, volume=0.0)\n",
      "Row(_c0=27079, date='2013-01-14', symbol='SCON', adj_close=5580.0, close=5580.0, high=6120.0, low=5400.0, open=5400.0, volume=0.0)\n",
      "Row(_c0=27087, date='2013-01-14', symbol='SEB', adj_close=2523.9973, close=2543.0, high=2574.7, low=2519.04, open=2559.27, volume=300.0)\n",
      "Row(_c0=27149, date='2013-01-14', symbol='SLS', adj_close=54300.0, close=54300.0, high=55500.0, low=54000.0, open=55500.0, volume=0.0)\n",
      "Row(_c0=27200, date='2013-01-14', symbol='SQQQ', adj_close=11436.5723, close=11856.0, high=12006.4004, low=11769.5996, open=11888.0, volume=3500.0)\n",
      "Row(_c0=27212, date='2013-01-14', symbol='SRV', adj_close=106710.1875, close=160563.2031, high=160563.2031, low=156672.0, open=158515.2031, volume=0.0)\n",
      "Row(_c0=27281, date='2013-01-14', symbol='SZC', adj_close=6090.2402, close=6090.2402, high=6164.48, low=6054.3999, open=6123.52, volume=100.0)\n",
      "Row(_c0=27312, date='2013-01-14', symbol='TDW', adj_close=1314.7662, close=1459.0322, high=1472.5807, low=1453.2258, open=1468.7097, volume=6600.0)\n",
      "Row(_c0=27356, date='2013-01-14', symbol='TLGT', adj_close=108000.0, close=108000.0, high=110000.0, low=105000.0, open=106000.0, volume=0.0)\n",
      "Row(_c0=27370, date='2013-01-14', symbol='TNXP', adj_close=13000.0, close=13000.0, high=13000.0, low=11000.0, open=12000.0, volume=0.0)\n",
      "Row(_c0=27371, date='2013-01-14', symbol='TOPS', adj_close=7874999808.0, close=7874999808.0, high=8441999872.0, low=7560000000.0, open=8441999872.0, volume=0.0)\n",
      "Row(_c0=27429, date='2013-01-14', symbol='TVIX', adj_close=15775000.0, close=15775000.0, high=16550000.0, low=15675000.0, open=16400000.0, volume=0.0)\n",
      "Row(_c0=27495, date='2013-01-14', symbol='USLV', adj_close=2765.0, close=2765.0, high=2790.0, low=2688.0, open=2770.0, volume=5600.0)\n",
      "Row(_c0=27542, date='2013-01-14', symbol='VHI', adj_close=515595008.0, close=522427776.0, high=533177312.0, low=519919520.0, open=526727584.0, volume=0.0)\n",
      "Row(_c0=27545, date='2013-01-14', symbol='VIIX', adj_close=3522.5, close=3522.5, high=3592.5, low=3500.0, open=3565.0, volume=800.0)\n",
      "Row(_c0=27548, date='2013-01-14', symbol='VISL', adj_close=23040.0, close=23040.0, high=23040.0, low=23040.0, open=23040.0, volume=0.0)\n",
      "Row(_c0=27625, date='2013-01-14', symbol='WINT', adj_close=1814.4, close=1814.4, high=1906.8, low=1814.4, open=1898.4, volume=100.0)\n",
      "Row(_c0=27664, date='2013-01-14', symbol='WWR', adj_close=2700.0, close=2700.0, high=3000.0, low=2700.0, open=3000.0, volume=100.0)\n",
      "Row(_c0=27680, date='2013-01-14', symbol='XSPA', adj_close=162324.0, close=162324.0, high=166698.0, low=160380.0, open=165240.0, volume=0.0)\n",
      "Row(_c0=27689, date='2013-01-14', symbol='YTEN', adj_close=3840.0, close=3840.0, high=3888.0, low=3792.0, open=3888.0, volume=100.0)\n",
      "Row(_c0=27735, date='2013-01-15', symbol='ACHV', adj_close=28732.0, close=28732.0, high=28908.0, low=28160.0, open=28556.0, volume=0.0)\n",
      "Row(_c0=27992, date='2013-01-15', symbol='BCEI', adj_close=3425.7517, close=3425.7517, high=3444.7217, low=3390.0435, open=3410.1294, volume=7500.0)\n",
      "Row(_c0=28043, date='2013-01-15', symbol='BIS', adj_close=1143.3472, close=1167.4, high=1184.6, low=1167.4, open=1180.4, volume=100.0)\n",
      "Row(_c0=28208, date='2013-01-15', symbol='CEI', adj_close=30859376.0, close=30859376.0, high=30859376.0, low=30078124.0, open=30468750.0, volume=0.0)\n",
      "Row(_c0=28236, date='2013-01-15', symbol='CHFS', adj_close=50988.0, close=50988.0, high=52080.0, low=50904.0, open=51156.0, volume=0.0)\n",
      "Row(_c0=28427, date='2013-01-15', symbol='CYCC', adj_close=1262.4, close=1262.4, high=1296.0, low=1243.2, open=1291.2, volume=600.0)\n",
      "Row(_c0=28442, date='2013-01-15', symbol='DCAR', adj_close=1733.04, close=1733.04, high=1880.5, low=1530.13, open=1774.0601, volume=18.0)\n",
      "Row(_c0=28566, date='2013-01-15', symbol='EFOI', adj_close=171875.0, close=171875.0, high=171875.0, low=156250.0, open=156250.0, volume=0.0)\n",
      "Row(_c0=28571, date='2013-01-15', symbol='EGLE', adj_close=5426.5244, close=5426.5244, high=5808.6738, low=5324.6177, open=5808.6738, volume=100.0)\n",
      "Row(_c0=28583, date='2013-01-15', symbol='ELC', adj_close=21083.0996, close=21083.0996, high=21083.0996, low=21083.0996, open=21083.0996, volume=0.0)\n",
      "Row(_c0=28880, date='2013-01-15', symbol='GEVO', adj_close=11580.0, close=11580.0, high=11760.0, low=10920.0, open=11400.0, volume=100.0)\n",
      "Row(_c0=29404, date='2013-01-15', symbol='MBOT', adj_close=2835.0, close=2835.0, high=2851.2, low=2737.8, open=2737.8, volume=100.0)\n",
      "Row(_c0=29680, date='2013-01-15', symbol='NSPR', adj_close=48125.0, close=48125.0, high=48500.0, low=43375.0, open=48500.0, volume=0.0)\n",
      "Row(_c0=29704, date='2013-01-15', symbol='NVIV', adj_close=7200.0, close=7200.0, high=7770.0, low=6990.0, open=7230.0, volume=100.0)\n",
      "Row(_c0=29796, date='2013-01-15', symbol='PACD', adj_close=972000.0, close=972000.0, high=986000.0, low=970000.0, open=976000.0, volume=0.0)\n",
      "Row(_c0=29871, date='2013-01-15', symbol='PHIO', adj_close=12375.0, close=12375.0, high=12870.0, low=11880.0, open=11880.0, volume=0.0)\n",
      "Row(_c0=29961, date='2013-01-15', symbol='PSHG', adj_close=312595.25, close=327468.9688, high=327962.875, low=312651.375, open=318578.4062, volume=0.0)\n",
      "Row(_c0=29966, date='2013-01-15', symbol='PSTV', adj_close=22650.0, close=22650.0, high=23250.0, low=22575.0, open=22875.0, volume=0.0)\n",
      "Row(_c0=30146, date='2013-01-15', symbol='SCON', adj_close=5400.0, close=5400.0, high=5760.0, low=5220.0, open=5400.0, volume=0.0)\n",
      "Row(_c0=30154, date='2013-01-15', symbol='SEB', adj_close=2501.1692, close=2520.0, high=2564.5, low=2500.0, open=2530.0, volume=700.0)\n",
      "Row(_c0=30216, date='2013-01-15', symbol='SLS', adj_close=54000.0, close=54000.0, high=54600.0, low=52800.0, open=54000.0, volume=0.0)\n",
      "Row(_c0=30267, date='2013-01-15', symbol='SQQQ', adj_close=11603.2588, close=12028.7998, high=12185.5996, low=11984.0, open=12028.7998, volume=3900.0)\n",
      "Row(_c0=30280, date='2013-01-15', symbol='SRV', adj_close=104124.0703, close=156672.0, high=159948.7969, low=154828.7969, open=159948.7969, volume=0.0)\n",
      "Row(_c0=30349, date='2013-01-15', symbol='SZC', adj_close=6087.6802, close=6087.6802, high=6092.7998, low=6016.0, open=6067.2002, volume=100.0)\n",
      "Row(_c0=30383, date='2013-01-15', symbol='TDW', adj_close=1336.2769, close=1482.9032, high=1486.7742, low=1455.1613, open=1455.1613, volume=14500.0)\n",
      "Row(_c0=30427, date='2013-01-15', symbol='TLGT', adj_close=109000.0, close=109000.0, high=109000.0, low=106000.0, open=107000.0, volume=0.0)\n",
      "Row(_c0=30441, date='2013-01-15', symbol='TOPS', adj_close=7496999936.0, close=7496999936.0, high=7560000000.0, low=7245000192.0, open=7560000000.0, volume=0.0)\n",
      "Row(_c0=30497, date='2013-01-15', symbol='TVIX', adj_close=15675000.0, close=15675000.0, high=16225000.0, low=15450000.0, open=16075000.0, volume=0.0)\n",
      "Row(_c0=30564, date='2013-01-15', symbol='USLV', adj_close=2853.0, close=2853.0, high=2906.0, low=2780.0, open=2810.0, volume=5000.0)\n",
      "Row(_c0=30611, date='2013-01-15', symbol='VHI', adj_close=517716800.0, close=524577664.0, high=526010944.0, low=519919520.0, open=524219360.0, volume=0.0)\n",
      "Row(_c0=30614, date='2013-01-15', symbol='VIIX', adj_close=3517.5, close=3517.5, high=3575.0, low=3485.0, open=3560.0, volume=1400.0)\n",
      "Row(_c0=30617, date='2013-01-15', symbol='VISL', adj_close=23760.0, close=23760.0, high=28080.0, low=23760.0, open=28080.0, volume=0.0)\n",
      "Row(_c0=30619, date='2013-01-15', symbol='VIVE', adj_close=14800.0, close=14800.0, high=14800.0, low=12800.0, open=12800.0, volume=0.0)\n",
      "Row(_c0=30694, date='2013-01-15', symbol='WINT', adj_close=1873.2, close=1873.2, high=1890.0, low=1789.2, open=1806.0, volume=200.0)\n",
      "Row(_c0=30733, date='2013-01-15', symbol='WWR', adj_close=2580.0, close=2580.0, high=2700.0, low=2520.0, open=2700.0, volume=200.0)\n",
      "Row(_c0=30749, date='2013-01-15', symbol='XSPA', adj_close=159408.0, close=159408.0, high=163782.0, low=155520.0, open=163782.0, volume=0.0)\n",
      "Row(_c0=30758, date='2013-01-15', symbol='YTEN', adj_close=3888.0, close=3888.0, high=3912.0, low=3768.0, open=3768.0, volume=0.0)\n",
      "Row(_c0=30804, date='2013-01-16', symbol='ACHV', adj_close=28160.0, close=28160.0, high=28600.0, low=27962.0, open=28380.0, volume=0.0)\n",
      "Row(_c0=31059, date='2013-01-16', symbol='BCEI', adj_close=3439.1421, close=3439.1421, high=3459.228, low=3413.4768, open=3420.1721, volume=4600.0)\n",
      "Row(_c0=31109, date='2013-01-16', symbol='BIS', adj_close=1166.8529, close=1191.4, high=1191.4, low=1186.0, open=1186.0, volume=0.0)\n",
      "Row(_c0=31272, date='2013-01-16', symbol='CEI', adj_close=30468750.0, close=30468750.0, high=30664062.0, low=29687500.0, open=30664062.0, volume=0.0)\n",
      "Row(_c0=31300, date='2013-01-16', symbol='CHFS', adj_close=51492.0, close=51492.0, high=52332.0, low=51156.0, open=51408.0, volume=0.0)\n",
      "Row(_c0=31489, date='2013-01-16', symbol='CYCC', adj_close=1226.4, close=1226.4, high=1257.6, low=1202.4, open=1224.0, volume=1200.0)\n",
      "Row(_c0=31503, date='2013-01-16', symbol='DCAR', adj_close=1700.51, close=1700.51, high=1843.91, low=1573.0, open=1733.41, volume=6.0)\n",
      "Row(_c0=31518, date='2013-01-16', symbol='DFFN', adj_close=2400.0, close=2400.0, high=2550.0, low=2400.0, open=2400.0, volume=0.0)\n",
      "Row(_c0=31627, date='2013-01-16', symbol='EFOI', adj_close=171875.0, close=171875.0, high=171875.0, low=171875.0, open=171875.0, volume=0.0)\n",
      "Row(_c0=31632, date='2013-01-16', symbol='EGLE', adj_close=5553.9077, close=5553.9077, high=5655.814, low=5299.1411, open=5350.0942, volume=100.0)\n",
      "Row(_c0=31644, date='2013-01-16', symbol='ELC', adj_close=21161.8008, close=21161.8008, high=21240.4004, low=21161.8008, open=21240.4004, volume=3813.0)\n",
      "Row(_c0=31941, date='2013-01-16', symbol='GEVO', adj_close=11280.0, close=11280.0, high=11700.0, low=11100.0, open=11640.0, volume=0.0)\n",
      "Row(_c0=32463, date='2013-01-16', symbol='MBOT', adj_close=2802.6001, close=2802.6001, high=2916.0, low=2754.0, open=2835.0, volume=100.0)\n",
      "Row(_c0=32741, date='2013-01-16', symbol='NSPR', adj_close=43750.0, close=43750.0, high=43750.0, low=42500.0, open=43250.0, volume=0.0)\n",
      "Row(_c0=32763, date='2013-01-16', symbol='NVIV', adj_close=7500.0, close=7500.0, high=7650.0, low=7200.0, open=7260.0, volume=100.0)\n",
      "Row(_c0=32858, date='2013-01-16', symbol='PACD', adj_close=982000.0, close=982000.0, high=986000.0, low=961000.0, open=974000.0, volume=0.0)\n",
      "Row(_c0=32931, date='2013-01-16', symbol='PHIO', adj_close=12705.0, close=12705.0, high=12705.0, low=11880.0, open=12705.0, volume=0.0)\n",
      "Row(_c0=33021, date='2013-01-16', symbol='PSHG', adj_close=306937.3125, close=321541.9062, high=327962.875, low=320060.1562, open=327962.875, volume=0.0)\n",
      "Row(_c0=33026, date='2013-01-16', symbol='PSTV', adj_close=21450.0, close=21450.0, high=22650.0, low=21375.0, open=22650.0, volume=0.0)\n",
      "Row(_c0=33205, date='2013-01-16', symbol='SCON', adj_close=5400.0, close=5400.0, high=5580.0, low=5040.0, open=5400.0, volume=0.0)\n",
      "Row(_c0=33213, date='2013-01-16', symbol='SEB', adj_close=2485.2883, close=2504.0, high=2549.3501, low=2500.01, open=2521.3799, volume=300.0)\n",
      "Row(_c0=33275, date='2013-01-16', symbol='SLS', adj_close=53400.0, close=53400.0, high=54300.0, low=53400.0, open=54000.0, volume=0.0)\n",
      "Row(_c0=33327, date='2013-01-16', symbol='SQQQ', adj_close=11464.3506, close=11884.7998, high=12044.7998, low=11769.5996, open=11968.0, volume=3300.0)\n",
      "Row(_c0=33339, date='2013-01-16', symbol='SRV', adj_close=104804.6328, close=157696.0, high=158105.5938, low=155852.7969, open=156672.0, volume=0.0)\n",
      "Row(_c0=33409, date='2013-01-16', symbol='SZC', adj_close=6085.1201, close=6085.1201, high=6092.7998, low=6064.6401, open=6092.7998, volume=100.0)\n",
      "Row(_c0=33441, date='2013-01-16', symbol='TDW', adj_close=1353.718, close=1502.2581, high=1514.8387, low=1480.0, open=1482.2581, volume=17600.0)\n",
      "Row(_c0=33485, date='2013-01-16', symbol='TLGT', adj_close=110000.0, close=110000.0, high=110000.0, low=106000.0, open=110000.0, volume=0.0)\n",
      "Row(_c0=33499, date='2013-01-16', symbol='TOPS', adj_close=7370999808.0, close=7370999808.0, high=7560000000.0, low=6929999872.0, open=7433999872.0, volume=0.0)\n",
      "Row(_c0=33557, date='2013-01-16', symbol='TVIX', adj_close=14875000.0, close=14875000.0, high=15675000.0, low=14675000.0, open=15575000.0, volume=0.0)\n",
      "Row(_c0=33623, date='2013-01-16', symbol='USLV', adj_close=2880.0, close=2880.0, high=2900.0, low=2790.0, open=2822.0, volume=3900.0)\n",
      "Row(_c0=33670, date='2013-01-16', symbol='VHI', adj_close=516655936.0, close=523502720.0, high=532818976.0, low=523502720.0, open=526369248.0, volume=0.0)\n",
      "Row(_c0=33673, date='2013-01-16', symbol='VIIX', adj_close=3445.0, close=3445.0, high=3505.0, low=3410.0, open=3490.0, volume=1500.0)\n",
      "Row(_c0=33676, date='2013-01-16', symbol='VISL', adj_close=21600.0, close=21600.0, high=21600.0, low=14400.0, open=14400.0, volume=0.0)\n",
      "Row(_c0=33678, date='2013-01-16', symbol='VIVE', adj_close=11200.0, close=11200.0, high=11200.0, low=11200.0, open=11200.0, volume=0.0)\n",
      "Row(_c0=33754, date='2013-01-16', symbol='WINT', adj_close=1915.2, close=1915.2, high=1932.0, low=1848.0, open=1890.0, volume=100.0)\n",
      "Row(_c0=33793, date='2013-01-16', symbol='WWR', adj_close=2520.0, close=2520.0, high=2580.0, low=2520.0, open=2520.0, volume=100.0)\n",
      "Row(_c0=33809, date='2013-01-16', symbol='XSPA', adj_close=155034.0, close=155034.0, high=159408.0, low=151632.0, open=157950.0, volume=0.0)\n",
      "Row(_c0=33818, date='2013-01-16', symbol='YTEN', adj_close=3816.0, close=3816.0, high=3936.0, low=3792.0, open=3936.0, volume=0.0)\n",
      "Row(_c0=33864, date='2013-01-17', symbol='ACHV', adj_close=27940.0, close=27940.0, high=28512.0, low=27654.0, open=28336.0, volume=0.0)\n",
      "Row(_c0=34118, date='2013-01-17', symbol='BCEI', adj_close=3525.0649, close=3525.0649, high=3558.5413, low=3434.6787, open=3448.0691, volume=4500.0)\n",
      "Row(_c0=34169, date='2013-01-17', symbol='BIS', adj_close=1167.4406, close=1192.0, high=1196.4, low=1192.0, open=1196.4, volume=0.0)\n",
      "Row(_c0=34332, date='2013-01-17', symbol='CEI', adj_close=31250000.0, close=31250000.0, high=31640624.0, low=30078124.0, open=30273438.0, volume=0.0)\n",
      "Row(_c0=34360, date='2013-01-17', symbol='CHFS', adj_close=51156.0, close=51156.0, high=51912.0, low=50904.0, open=51744.0, volume=0.0)\n",
      "Row(_c0=34549, date='2013-01-17', symbol='CYCC', adj_close=1281.6, close=1281.6, high=1286.4, low=1204.8, open=1233.6, volume=500.0)\n",
      "Row(_c0=34563, date='2013-01-17', symbol='DCAR', adj_close=1626.22, close=1626.22, high=1700.14, low=1626.22, open=1700.14, volume=0.0)\n",
      "Row(_c0=34578, date='2013-01-17', symbol='DFFN', adj_close=2400.0, close=2400.0, high=2400.0, low=2400.0, open=2400.0, volume=0.0)\n",
      "Row(_c0=34694, date='2013-01-17', symbol='EGLE', adj_close=5579.3843, close=5579.3843, high=5910.5806, low=5477.4775, open=5757.7207, volume=100.0)\n",
      "Row(_c0=34706, date='2013-01-17', symbol='ELC', adj_close=21161.8008, close=21161.8008, high=21161.8008, low=21161.8008, open=21161.8008, volume=0.0)\n",
      "Row(_c0=35000, date='2013-01-17', symbol='GEVO', adj_close=12060.0, close=12060.0, high=12240.0, low=11100.0, open=11400.0, volume=200.0)\n",
      "Row(_c0=35526, date='2013-01-17', symbol='MBOT', adj_close=2802.6001, close=2802.6001, high=2835.0, low=2754.0, open=2802.6001, volume=100.0)\n",
      "Row(_c0=35801, date='2013-01-17', symbol='NSPR', adj_close=43750.0, close=43750.0, high=43750.0, low=41250.0, open=41250.0, volume=0.0)\n",
      "Row(_c0=35824, date='2013-01-17', symbol='NVIV', adj_close=7290.0, close=7290.0, high=7650.0, low=7200.0, open=7410.0, volume=100.0)\n",
      "Row(_c0=35914, date='2013-01-17', symbol='PACD', adj_close=995000.0, close=995000.0, high=1001000.0, low=972000.0, open=987000.0, volume=0.0)\n",
      "Row(_c0=36034, date='2013-01-17', symbol='POAI', adj_close=1706.25, close=1706.25, high=1818.75, low=1706.25, open=1818.75, volume=0.0)\n",
      "Row(_c0=36077, date='2013-01-17', symbol='PSHG', adj_close=311652.2812, close=326481.125, high=329938.5625, low=321048.0, open=321541.9062, volume=0.0)\n",
      "Row(_c0=36082, date='2013-01-17', symbol='PSTV', adj_close=21900.0, close=21900.0, high=22125.0, low=21450.0, open=21900.0, volume=0.0)\n",
      "Row(_c0=36261, date='2013-01-17', symbol='SCON', adj_close=5580.0, close=5580.0, high=5580.0, low=5400.0, open=5580.0, volume=0.0)\n",
      "Row(_c0=36269, date='2013-01-17', symbol='SEB', adj_close=2549.8025, close=2569.0, high=2638.0, low=2509.8701, open=2509.8701, volume=600.0)\n",
      "Row(_c0=36330, date='2013-01-17', symbol='SLS', adj_close=51600.0, close=51600.0, high=53700.0, low=51000.0, open=53400.0, volume=100.0)\n",
      "Row(_c0=36381, date='2013-01-17', symbol='SQQQ', adj_close=11294.5781, close=11708.7998, high=11801.5996, low=11580.7998, open=11740.7998, volume=5300.0)\n",
      "Row(_c0=36393, date='2013-01-17', symbol='SRV', adj_close=106165.7109, close=159744.0, high=159744.0, low=157696.0, open=157900.7969, volume=0.0)\n",
      "Row(_c0=36463, date='2013-01-17', symbol='SZC', adj_close=6138.8799, close=6138.8799, high=6144.0, low=6080.0, open=6092.7998, volume=500.0)\n",
      "Row(_c0=36494, date='2013-01-17', symbol='TDW', adj_close=1373.7753, close=1524.5161, high=1544.8387, low=1503.5483, open=1509.6774, volume=24100.0)\n",
      "Row(_c0=36538, date='2013-01-17', symbol='TLGT', adj_close=116000.0, close=116000.0, high=123000.0, low=110000.0, open=110000.0, volume=0.0)\n",
      "Row(_c0=36552, date='2013-01-17', symbol='TNXP', adj_close=11000.0, close=11000.0, high=13000.0, low=11000.0, open=13000.0, volume=0.0)\n",
      "Row(_c0=36553, date='2013-01-17', symbol='TOPS', adj_close=6803999744.0, close=6803999744.0, high=7560000000.0, low=6741000192.0, open=7433999872.0, volume=0.0)\n",
      "Row(_c0=36611, date='2013-01-17', symbol='TVIX', adj_close=14875000.0, close=14875000.0, high=14900000.0, low=14375000.0, open=14500000.0, volume=0.0)\n",
      "Row(_c0=36678, date='2013-01-17', symbol='USLV', adj_close=2940.0, close=2940.0, high=3001.0, low=2787.0, open=2794.0, volume=9300.0)\n",
      "Row(_c0=36725, date='2013-01-17', symbol='VHI', adj_close=538581056.0, close=545718464.0, high=547151680.0, low=527085888.0, open=527085888.0, volume=0.0)\n",
      "Row(_c0=36728, date='2013-01-17', symbol='VIIX', adj_close=3460.0, close=3460.0, high=3460.0, low=3387.5, open=3395.0, volume=1100.0)\n",
      "Row(_c0=36732, date='2013-01-17', symbol='VIVE', adj_close=12000.0, close=12000.0, high=14000.0, low=12000.0, open=12000.0, volume=0.0)\n",
      "Row(_c0=36808, date='2013-01-17', symbol='WINT', adj_close=1948.8, close=1948.8, high=1990.8, low=1923.6, open=1990.8, volume=300.0)\n",
      "Row(_c0=36847, date='2013-01-17', symbol='WWR', adj_close=2820.0, close=2820.0, high=2940.0, low=2580.0, open=2580.0, volume=400.0)\n",
      "Row(_c0=36863, date='2013-01-17', symbol='XSPA', adj_close=151632.0, close=151632.0, high=156006.0, low=150660.0, open=154062.0, volume=0.0)\n",
      "Row(_c0=36871, date='2013-01-17', symbol='YTEN', adj_close=3744.0, close=3744.0, high=3888.0, low=3696.0, open=3840.0, volume=0.0)\n",
      "Row(_c0=36917, date='2013-01-18', symbol='ACHV', adj_close=27632.0, close=27632.0, high=28072.0, low=27258.0, open=27940.0, volume=0.0)\n",
      "Row(_c0=37173, date='2013-01-18', symbol='BCEI', adj_close=3566.3525, close=3566.3525, high=3592.0178, low=3459.228, open=3552.9619, volume=5600.0)\n",
      "Row(_c0=37224, date='2013-01-18', symbol='BIS', adj_close=1169.3992, close=1194.0, high=1194.0, low=1176.8, open=1176.8, volume=100.0)\n",
      "Row(_c0=37387, date='2013-01-18', symbol='CEI', adj_close=30468750.0, close=30468750.0, high=31835938.0, low=29492188.0, open=31640624.0, volume=0.0)\n",
      "Row(_c0=37415, date='2013-01-18', symbol='CHFS', adj_close=49056.0, close=49056.0, high=51324.0, low=49056.0, open=51156.0, volume=0.0)\n",
      "Row(_c0=37606, date='2013-01-18', symbol='CYCC', adj_close=1303.2, close=1303.2, high=1336.8, low=1262.4, open=1296.0, volume=800.0)\n",
      "Row(_c0=37620, date='2013-01-18', symbol='DCAR', adj_close=1626.22, close=1626.22, high=1847.98, low=1573.0, open=1590.0, volume=12.0)\n",
      "Row(_c0=37635, date='2013-01-18', symbol='DFFN', adj_close=2250.0, close=2250.0, high=2400.0, low=2250.0, open=2400.0, volume=0.0)\n",
      "Row(_c0=37751, date='2013-01-18', symbol='EGLE', adj_close=5732.2441, close=5732.2441, high=5757.7207, low=5324.6177, open=5681.2905, volume=100.0)\n",
      "Row(_c0=37763, date='2013-01-18', symbol='ELC', adj_close=21161.8008, close=21161.8008, high=21161.8008, low=19745.6992, open=19745.6992, volume=139.0)\n",
      "Row(_c0=38060, date='2013-01-18', symbol='GEVO', adj_close=12720.0, close=12720.0, high=13500.0, low=12180.0, open=12180.0, volume=300.0)\n",
      "Row(_c0=38578, date='2013-01-18', symbol='MBOT', adj_close=2786.3999, close=2786.3999, high=2818.8, low=2754.0, open=2818.8, volume=100.0)\n",
      "Row(_c0=38855, date='2013-01-18', symbol='NSPR', adj_close=45000.0, close=45000.0, high=48125.0, low=43750.0, open=43750.0, volume=0.0)\n",
      "Row(_c0=38878, date='2013-01-18', symbol='NVIV', adj_close=7500.0, close=7500.0, high=7500.0, low=7080.0, open=7350.0, volume=100.0)\n",
      "Row(_c0=38972, date='2013-01-18', symbol='PACD', adj_close=1015000.0, close=1015000.0, high=1020000.0, low=999000.0, open=1000000.0, volume=0.0)\n",
      "Row(_c0=39045, date='2013-01-18', symbol='PHIO', adj_close=13035.0, close=13035.0, high=13035.0, low=11880.0, open=12375.0, volume=0.0)\n",
      "Row(_c0=39093, date='2013-01-18', symbol='POAI', adj_close=1612.5, close=1612.5, high=1743.75, low=1612.5, open=1743.75, volume=0.0)\n",
      "Row(_c0=39135, date='2013-01-18', symbol='PSHG', adj_close=316838.625, close=331914.25, high=332408.1562, low=326481.125, open=327962.875, volume=0.0)\n",
      "Row(_c0=39140, date='2013-01-18', symbol='PSTV', adj_close=21075.0, close=21075.0, high=21750.0, low=20850.0, open=21600.0, volume=0.0)\n",
      "Row(_c0=39323, date='2013-01-18', symbol='SCON', adj_close=5400.0, close=5400.0, high=5760.0, low=5400.0, open=5580.0, volume=0.0)\n",
      "Row(_c0=39331, date='2013-01-18', symbol='SEB', adj_close=2513.0891, close=2532.01, high=2577.0, low=2530.0, open=2543.3999, volume=400.0)\n",
      "Row(_c0=39391, date='2013-01-18', symbol='SLS', adj_close=51600.0, close=51600.0, high=51900.0, low=49500.0, open=51300.0, volume=100.0)\n",
      "Row(_c0=39444, date='2013-01-18', symbol='SQQQ', adj_close=11377.9219, close=11795.2002, high=11952.0, low=11760.0, open=11830.4004, volume=5000.0)\n",
      "Row(_c0=39456, date='2013-01-18', symbol='SRV', adj_close=106846.3203, close=160768.0, high=161996.7969, low=159129.5938, open=160153.5938, volume=0.0)\n",
      "Row(_c0=39525, date='2013-01-18', symbol='SZC', adj_close=6141.4399, close=6141.4399, high=6167.04, low=6133.7598, open=6151.6802, volume=200.0)\n",
      "Row(_c0=39557, date='2013-01-18', symbol='TDW', adj_close=1388.0189, close=1540.3226, high=1561.6129, low=1534.1936, open=1541.9354, volume=15600.0)\n",
      "Row(_c0=39601, date='2013-01-18', symbol='TLGT', adj_close=118000.0, close=118000.0, high=119000.0, low=114000.0, open=114000.0, volume=0.0)\n",
      "Row(_c0=39615, date='2013-01-18', symbol='TOPS', adj_close=7056000000.0, close=7056000000.0, high=7119000064.0, low=6866999808.0, open=7119000064.0, volume=0.0)\n",
      "Row(_c0=39673, date='2013-01-18', symbol='TVIX', adj_close=13200000.0, close=13200000.0, high=14875000.0, low=13125000.0, open=14700000.0, volume=0.0)\n",
      "Row(_c0=39740, date='2013-01-18', symbol='USLV', adj_close=2982.0, close=2982.0, high=3045.0, low=2940.0, open=3044.0, volume=8900.0)\n",
      "Row(_c0=39787, date='2013-01-18', symbol='VHI', adj_close=550251008.0, close=557542912.0, high=561484416.0, low=540701952.0, open=547868352.0, volume=0.0)\n",
      "Row(_c0=39790, date='2013-01-18', symbol='VIIX', adj_close=3237.5, close=3237.5, high=3445.0, low=3230.0, open=3427.5, volume=1600.0)\n",
      "Row(_c0=39794, date='2013-01-18', symbol='VIVE', adj_close=12000.0, close=12000.0, high=12000.0, low=12000.0, open=12000.0, volume=0.0)\n",
      "Row(_c0=39870, date='2013-01-18', symbol='WINT', adj_close=1965.6, close=1965.6, high=1974.0, low=1923.6, open=1957.2, volume=200.0)\n",
      "Row(_c0=39909, date='2013-01-18', symbol='WWR', adj_close=2640.0, close=2640.0, high=2880.0, low=2580.0, open=2700.0, volume=200.0)\n",
      "Row(_c0=39925, date='2013-01-18', symbol='XSPA', adj_close=154548.0, close=154548.0, high=170100.0, low=153090.0, open=154062.0, volume=100.0)\n",
      "Row(_c0=39933, date='2013-01-18', symbol='YTEN', adj_close=3768.0, close=3768.0, high=3840.0, low=3744.0, open=3840.0, volume=0.0)\n",
      "Row(_c0=39979, date='2013-01-22', symbol='ACHV', adj_close=27500.0, close=27500.0, high=27940.0, low=27104.0, open=27500.0, volume=0.0)\n",
      "Row(_c0=40234, date='2013-01-22', symbol='BCEI', adj_close=3554.0779, close=3554.0779, high=3576.3955, low=3535.1079, open=3576.3955, volume=1600.0)\n",
      "Row(_c0=40286, date='2013-01-22', symbol='BIS', adj_close=1147.4608, close=1171.6, high=1196.4, low=1171.6, open=1196.4, volume=200.0)\n",
      "Row(_c0=40449, date='2013-01-22', symbol='CEI', adj_close=31835938.0, close=31835938.0, high=32421876.0, low=30273438.0, open=31250000.0, volume=0.0)\n",
      "Row(_c0=40477, date='2013-01-22', symbol='CHFS', adj_close=45780.0, close=45780.0, high=49560.0, low=45528.0, open=49392.0, volume=0.0)\n",
      "Row(_c0=40668, date='2013-01-22', symbol='CYCC', adj_close=1264.8, close=1264.8, high=1300.8, low=1209.6, open=1300.8, volume=700.0)\n",
      "Row(_c0=40683, date='2013-01-22', symbol='DCAR', adj_close=1626.22, close=1626.22, high=2217.5801, low=1559.7, open=2217.5801, volume=19.0)\n",
      "Row(_c0=40698, date='2013-01-22', symbol='DFFN', adj_close=2250.0, close=2250.0, high=2250.0, low=2250.0, open=2250.0, volume=0.0)\n",
      "Row(_c0=40813, date='2013-01-22', symbol='EGLE', adj_close=5783.1973, close=5783.1973, high=5808.6738, low=5502.9541, open=5808.6738, volume=0.0)\n",
      "Row(_c0=40825, date='2013-01-22', symbol='ELC', adj_close=21397.8008, close=21397.8008, high=21397.8008, low=19903.0996, open=19903.0996, volume=139.0)\n",
      "Row(_c0=41119, date='2013-01-22', symbol='GEVO', adj_close=12420.0, close=12420.0, high=13500.0, low=12120.0, open=13320.0, volume=100.0)\n",
      "Row(_c0=41640, date='2013-01-22', symbol='MBOT', adj_close=2721.6001, close=2721.6001, high=2786.3999, low=2673.0, open=2786.3999, volume=200.0)\n",
      "Row(_c0=41918, date='2013-01-22', symbol='NSPR', adj_close=45000.0, close=45000.0, high=45000.0, low=44375.0, open=44375.0, volume=0.0)\n",
      "Row(_c0=41941, date='2013-01-22', symbol='NVIV', adj_close=7500.0, close=7500.0, high=7740.0, low=7350.0, open=7620.0, volume=100.0)\n",
      "Row(_c0=42034, date='2013-01-22', symbol='PACD', adj_close=1029000.0, close=1029000.0, high=1029000.0, low=1002000.0, open=1012000.0, volume=0.0)\n",
      "Row(_c0=42107, date='2013-01-22', symbol='PHIO', adj_close=12870.0, close=12870.0, high=12870.0, low=12045.0, open=12870.0, volume=0.0)\n",
      "Row(_c0=42155, date='2013-01-22', symbol='POAI', adj_close=1612.5, close=1612.5, high=1687.5, low=1612.5, open=1687.5, volume=0.0)\n",
      "Row(_c0=42198, date='2013-01-22', symbol='PSHG', adj_close=320610.5, close=335865.5938, high=335865.5938, low=330926.4062, open=333396.0, volume=0.0)\n",
      "Row(_c0=42203, date='2013-01-22', symbol='PSTV', adj_close=20850.0, close=20850.0, high=21225.0, low=20625.0, open=21075.0, volume=0.0)\n",
      "Row(_c0=42385, date='2013-01-22', symbol='SCON', adj_close=5220.0, close=5220.0, high=5400.0, low=5220.0, open=5400.0, volume=0.0)\n",
      "Row(_c0=42393, date='2013-01-22', symbol='SEB', adj_close=2535.2224, close=2554.3101, high=2581.6499, low=2505.0, open=2526.0, volume=600.0)\n",
      "Row(_c0=42453, date='2013-01-22', symbol='SLS', adj_close=54300.0, close=54300.0, high=54900.0, low=51600.0, open=51600.0, volume=100.0)\n",
      "Row(_c0=42507, date='2013-01-22', symbol='SQQQ', adj_close=11313.0996, close=11728.0, high=11971.2002, low=11715.2002, open=11760.0, volume=4200.0)\n",
      "Row(_c0=42520, date='2013-01-22', symbol='SRV', adj_close=108751.8203, close=163635.2031, high=164454.4062, low=159539.2031, open=159539.2031, volume=0.0)\n",
      "Row(_c0=42590, date='2013-01-22', symbol='SZC', adj_close=6213.1201, close=6213.1201, high=6225.9199, low=6151.6802, open=6161.9199, volume=100.0)\n",
      "Row(_c0=42624, date='2013-01-22', symbol='TDW', adj_close=1394.1233, close=1547.0968, high=1550.3226, low=1524.1936, open=1540.9678, volume=17400.0)\n",
      "Row(_c0=42669, date='2013-01-22', symbol='TLGT', adj_close=119000.0, close=119000.0, high=125000.0, low=116000.0, open=125000.0, volume=0.0)\n",
      "Row(_c0=42683, date='2013-01-22', symbol='TOPS', adj_close=6992999936.0, close=6992999936.0, high=6992999936.0, low=6425999872.0, open=6929999872.0, volume=0.0)\n",
      "Row(_c0=42742, date='2013-01-22', symbol='TVIX', adj_close=12550000.0, close=12550000.0, high=13625000.0, low=12500000.0, open=13325000.0, volume=0.0)\n",
      "Row(_c0=42808, date='2013-01-22', symbol='USLV', adj_close=3076.0, close=3076.0, high=3120.0, low=2994.0, open=3002.0, volume=6200.0)\n",
      "Row(_c0=42855, date='2013-01-22', symbol='VHI', adj_close=578895168.0, close=586566720.0, high=601616064.0, low=561126144.0, open=561126144.0, volume=0.0)\n",
      "Row(_c0=42858, date='2013-01-22', symbol='VIIX', adj_close=3142.5, close=3142.5, high=3300.0, low=3132.5, open=3235.0, volume=1800.0)\n",
      "Row(_c0=42861, date='2013-01-22', symbol='VISL', adj_close=25200.0, close=25200.0, high=25200.0, low=23040.0, open=24480.0, volume=0.0)\n",
      "Row(_c0=42863, date='2013-01-22', symbol='VIVE', adj_close=12800.0, close=12800.0, high=12800.0, low=11200.0, open=11200.0, volume=0.0)\n",
      "Row(_c0=42939, date='2013-01-22', symbol='WINT', adj_close=1990.8, close=1990.8, high=2007.6, low=1932.0, open=1965.6, volume=200.0)\n",
      "Row(_c0=42978, date='2013-01-22', symbol='WWR', adj_close=2580.0, close=2580.0, high=2640.0, low=2520.0, open=2640.0, volume=0.0)\n",
      "Row(_c0=42994, date='2013-01-22', symbol='XSPA', adj_close=155520.0, close=155520.0, high=157950.0, low=153090.0, open=156978.0, volume=0.0)\n",
      "Row(_c0=43003, date='2013-01-22', symbol='YTEN', adj_close=3720.0, close=3720.0, high=3840.0, low=3720.0, open=3840.0, volume=0.0)\n",
      "Row(_c0=43049, date='2013-01-23', symbol='ACHV', adj_close=27038.0, close=27038.0, high=27566.0, low=26840.0, open=27566.0, volume=0.0)\n",
      "Row(_c0=43307, date='2013-01-23', symbol='BCEI', adj_close=3532.876, close=3532.876, high=3574.1636, low=3498.2837, open=3561.8889, volume=2300.0)\n",
      "Row(_c0=43359, date='2013-01-23', symbol='BIS', adj_close=1152.5537, close=1176.8, high=1183.2, low=1171.4, open=1171.4, volume=100.0)\n",
      "Row(_c0=43524, date='2013-01-23', symbol='CEI', adj_close=30664062.0, close=30664062.0, high=32031250.0, low=30273438.0, open=31054688.0, volume=0.0)\n",
      "Row(_c0=43552, date='2013-01-23', symbol='CHFS', adj_close=46284.0, close=46284.0, high=47880.0, low=43764.0, open=47880.0, volume=0.0)\n",
      "Row(_c0=43743, date='2013-01-23', symbol='CYCC', adj_close=1243.2, close=1243.2, high=1264.8, low=1231.2, open=1260.0, volume=300.0)\n",
      "Row(_c0=43758, date='2013-01-23', symbol='DCAR', adj_close=1716.4, close=1716.4, high=1716.4, low=1477.28, open=1589.26, volume=4.0)\n",
      "Row(_c0=43884, date='2013-01-23', symbol='EFOI', adj_close=171875.0, close=171875.0, high=195312.5, low=132812.5, open=132812.5, volume=0.0)\n",
      "Row(_c0=43889, date='2013-01-23', symbol='EGLE', adj_close=5604.8608, close=5604.8608, high=5732.2441, low=5528.4307, open=5732.2441, volume=100.0)\n",
      "Row(_c0=43901, date='2013-01-23', symbol='ELC', adj_close=21712.5, close=21712.5, high=21712.5, low=21712.5, open=21712.5, volume=127.0)\n",
      "Row(_c0=44197, date='2013-01-23', symbol='GEVO', adj_close=11580.0, close=11580.0, high=12540.0, low=11280.0, open=12540.0, volume=100.0)\n",
      "Row(_c0=44716, date='2013-01-23', symbol='MBOT', adj_close=2818.8, close=2818.8, high=2818.8, low=2721.6001, open=2737.8, volume=200.0)\n",
      "Row(_c0=44995, date='2013-01-23', symbol='NSPR', adj_close=44375.0, close=44375.0, high=44375.0, low=41375.0, open=44000.0, volume=0.0)\n",
      "Row(_c0=45015, date='2013-01-23', symbol='NVCN', adj_close=1900.0, close=1900.0, high=1930.0, low=1900.0, open=1910.0, volume=0.0)\n",
      "Row(_c0=45019, date='2013-01-23', symbol='NVIV', adj_close=7620.0, close=7620.0, high=7650.0, low=7200.0, open=7620.0, volume=0.0)\n",
      "Row(_c0=45111, date='2013-01-23', symbol='PACD', adj_close=1026000.0, close=1026000.0, high=1031000.0, low=1016000.0, open=1029000.0, volume=0.0)\n",
      "Row(_c0=45184, date='2013-01-23', symbol='PHIO', adj_close=12870.0, close=12870.0, high=12870.0, low=12045.0, open=12045.0, volume=0.0)\n",
      "Row(_c0=45232, date='2013-01-23', symbol='POAI', adj_close=1650.0, close=1650.0, high=1650.0, low=1612.5, open=1612.5, volume=0.0)\n",
      "Row(_c0=45275, date='2013-01-23', symbol='PSHG', adj_close=320138.9688, close=335371.6875, high=339323.0312, low=332408.1562, open=335371.6875, volume=0.0)\n",
      "Row(_c0=45280, date='2013-01-23', symbol='PSTV', adj_close=20175.0, close=20175.0, high=20925.0, low=19875.0, open=20925.0, volume=0.0)\n",
      "Row(_c0=45462, date='2013-01-23', symbol='SCON', adj_close=5040.0, close=5040.0, high=5400.0, low=5040.0, open=5400.0, volume=0.0)\n",
      "Row(_c0=45470, date='2013-01-23', symbol='SEB', adj_close=2514.0718, close=2533.0, high=2574.96, low=2506.1499, open=2553.98, volume=500.0)\n",
      "Row(_c0=45532, date='2013-01-23', symbol='SLS', adj_close=53700.0, close=53700.0, high=55200.0, low=53400.0, open=54900.0, volume=0.0)\n",
      "Row(_c0=45586, date='2013-01-23', symbol='SQQQ', adj_close=11118.6318, close=11526.4004, high=11590.4004, low=11417.5996, open=11532.7998, volume=4200.0)\n",
      "Row(_c0=45598, date='2013-01-23', symbol='SRV', adj_close=109296.2109, close=164454.4062, high=165478.4062, low=163840.0, open=164249.5938, volume=0.0)\n",
      "Row(_c0=45668, date='2013-01-23', symbol='SZC', adj_close=6248.96, close=6248.96, high=6269.4399, low=6164.48, open=6164.48, volume=200.0)\n",
      "Row(_c0=45701, date='2013-01-23', symbol='TDW', adj_close=1390.0536, close=1542.5807, high=1563.871, low=1535.4839, open=1548.7097, volume=18800.0)\n",
      "Row(_c0=45746, date='2013-01-23', symbol='TLGT', adj_close=119000.0, close=119000.0, high=126000.0, low=115000.0, open=118000.0, volume=0.0)\n",
      "Row(_c0=45760, date='2013-01-23', symbol='TNXP', adj_close=10000.0, close=10000.0, high=10400.0, low=10000.0, open=10000.0, volume=0.0)\n",
      "Row(_c0=45761, date='2013-01-23', symbol='TOPS', adj_close=6992999936.0, close=6992999936.0, high=6992999936.0, low=6992999936.0, open=6992999936.0, volume=0.0)\n",
      "Row(_c0=45820, date='2013-01-23', symbol='TVIX', adj_close=11725000.0, close=11725000.0, high=12400000.0, low=11625000.0, open=12400000.0, volume=0.0)\n",
      "Row(_c0=45886, date='2013-01-23', symbol='USLV', adj_close=3096.0, close=3096.0, high=3155.0, low=3051.0, open=3124.0, volume=6700.0)\n",
      "Row(_c0=45932, date='2013-01-23', symbol='VHI', adj_close=562981760.0, close=570442368.0, high=596241280.0, low=563992640.0, open=588716608.0, volume=0.0)\n",
      "Row(_c0=45935, date='2013-01-23', symbol='VIIX', adj_close=3062.5, close=3062.5, high=3155.0, low=3045.0, open=3150.0, volume=1000.0)\n",
      "Row(_c0=45938, date='2013-01-23', symbol='VISL', adj_close=24480.0, close=24480.0, high=24480.0, low=24480.0, open=24480.0, volume=0.0)\n",
      "Row(_c0=46016, date='2013-01-23', symbol='WINT', adj_close=1999.2, close=1999.2, high=2007.6, low=1965.6, open=2007.6, volume=200.0)\n",
      "Row(_c0=46055, date='2013-01-23', symbol='WWR', adj_close=2394.0, close=2394.0, high=2394.0, low=2130.0, open=2268.0, volume=1500.0)\n",
      "Row(_c0=46071, date='2013-01-23', symbol='XSPA', adj_close=157464.0, close=157464.0, high=157950.0, low=147744.0, open=157464.0, volume=0.0)\n",
      "Row(_c0=46080, date='2013-01-23', symbol='YTEN', adj_close=3648.0, close=3648.0, high=3840.0, low=3600.0, open=3816.0, volume=100.0)\n",
      "Row(_c0=46126, date='2013-01-24', symbol='ACHV', adj_close=26840.0, close=26840.0, high=27280.0, low=26708.0, open=27016.0, volume=0.0)\n",
      "Row(_c0=46282, date='2013-01-24', symbol='ARMP', adj_close=1120.0, close=1120.0, high=1120.0, low=980.0, open=980.0, volume=0.0)\n",
      "Row(_c0=46381, date='2013-01-24', symbol='BCEI', adj_close=3512.7903, close=3512.7903, high=3566.3525, low=3484.8933, open=3532.876, volume=1700.0)\n",
      "Row(_c0=46431, date='2013-01-24', symbol='BIS', adj_close=1158.0383, close=1182.4, high=1186.4, low=1167.0, open=1167.0, volume=100.0)\n",
      "Row(_c0=46595, date='2013-01-24', symbol='CEI', adj_close=31054688.0, close=31054688.0, high=31250000.0, low=30273438.0, open=31054688.0, volume=0.0)\n",
      "Row(_c0=46623, date='2013-01-24', symbol='CHFS', adj_close=47712.0, close=47712.0, high=50568.0, low=47040.0, open=50400.0, volume=0.0)\n",
      "Row(_c0=46813, date='2013-01-24', symbol='CYCC', adj_close=1286.4, close=1286.4, high=1317.6, low=1209.6, open=1238.4, volume=1000.0)\n",
      "Row(_c0=46827, date='2013-01-24', symbol='DCAR', adj_close=1663.1801, close=1663.1801, high=1663.1801, low=1626.22, open=1663.1801, volume=6.0)\n",
      "Row(_c0=46842, date='2013-01-24', symbol='DFFN', adj_close=2100.0, close=2100.0, high=2100.0, low=2100.0, open=2100.0, volume=0.0)\n",
      "Row(_c0=46952, date='2013-01-24', symbol='EFOI', adj_close=140625.0, close=140625.0, high=140625.0, low=140625.0, open=140625.0, volume=0.0)\n",
      "Row(_c0=46957, date='2013-01-24', symbol='EGLE', adj_close=5375.5708, close=5375.5708, high=5808.6738, low=5299.1411, open=5553.9077, volume=100.0)\n",
      "Row(_c0=47266, date='2013-01-24', symbol='GEVO', adj_close=12720.0, close=12720.0, high=12900.0, low=11400.0, open=11520.0, volume=100.0)\n",
      "Row(_c0=47787, date='2013-01-24', symbol='MBOT', adj_close=2737.8, close=2737.8, high=2818.8, low=2721.6001, open=2818.8, volume=100.0)\n",
      "Row(_c0=48064, date='2013-01-24', symbol='NSPR', adj_close=43000.0, close=43000.0, high=44375.0, low=41375.0, open=44375.0, volume=0.0)\n",
      "Row(_c0=48084, date='2013-01-24', symbol='NVCN', adj_close=1900.0, close=1900.0, high=1900.0, low=1900.0, open=1900.0, volume=0.0)\n",
      "Row(_c0=48087, date='2013-01-24', symbol='NVIV', adj_close=7410.0, close=7410.0, high=7620.0, low=7350.0, open=7620.0, volume=0.0)\n",
      "Row(_c0=48089, date='2013-01-24', symbol='NVR', adj_close=1000.89, close=1000.89, high=1026.79, low=993.12, open=995.0, volume=56800.0)\n",
      "Row(_c0=48179, date='2013-01-24', symbol='PACD', adj_close=1042000.0, close=1042000.0, high=1051000.0, low=1035000.0, open=1047000.0, volume=0.0)\n",
      "Row(_c0=48252, date='2013-01-24', symbol='PHIO', adj_close=11880.0, close=11880.0, high=12870.0, low=11715.0, open=12870.0, volume=0.0)\n",
      "Row(_c0=48300, date='2013-01-24', symbol='POAI', adj_close=1631.25, close=1631.25, high=1650.0, low=1631.25, open=1650.0, volume=0.0)\n",
      "Row(_c0=48343, date='2013-01-24', symbol='PSHG', adj_close=320610.5, close=335865.5938, high=339816.9688, low=333396.0, open=337347.375, volume=0.0)\n",
      "Row(_c0=48348, date='2013-01-24', symbol='PSTV', adj_close=20400.0, close=20400.0, high=21375.0, low=19950.0, open=20250.0, volume=0.0)\n",
      "Row(_c0=48499, date='2013-01-24', symbol='SAEX', adj_close=26838.0, close=26838.0, high=26838.0, low=26838.0, open=26838.0, volume=0.0)\n",
      "Row(_c0=48530, date='2013-01-24', symbol='SCON', adj_close=5220.0, close=5220.0, high=5400.0, low=5040.0, open=5400.0, volume=0.0)\n",
      "Row(_c0=48538, date='2013-01-24', symbol='SEB', adj_close=2519.3813, close=2538.3501, high=2675.0, low=2510.03, open=2536.0, volume=600.0)\n",
      "Row(_c0=48600, date='2013-01-24', symbol='SLS', adj_close=52500.0, close=52500.0, high=53700.0, low=51600.0, open=53700.0, volume=0.0)\n",
      "Row(_c0=48653, date='2013-01-24', symbol='SQQQ', adj_close=11566.2178, close=11990.4004, high=12048.0, low=11683.2002, open=11980.7998, volume=5200.0)\n",
      "Row(_c0=48665, date='2013-01-24', symbol='SRV', adj_close=109296.2109, close=164454.4062, high=165478.4062, low=163840.0, open=164044.7969, volume=0.0)\n",
      "Row(_c0=48733, date='2013-01-24', symbol='SZC', adj_close=6243.8398, close=6243.8398, high=6269.4399, low=6241.2798, open=6269.4399, volume=100.0)\n",
      "Row(_c0=48766, date='2013-01-24', symbol='TDW', adj_close=1387.1467, close=1539.3549, high=1563.5483, low=1532.2581, open=1545.1613, volume=21200.0)\n",
      "Row(_c0=48810, date='2013-01-24', symbol='TLGT', adj_close=121000.0, close=121000.0, high=121000.0, low=115000.0, open=120000.0, volume=0.0)\n",
      "Row(_c0=48824, date='2013-01-24', symbol='TNXP', adj_close=10000.0, close=10000.0, high=10000.0, low=10000.0, open=10000.0, volume=0.0)\n",
      "Row(_c0=48825, date='2013-01-24', symbol='TOPS', adj_close=6929999872.0, close=6929999872.0, high=6929999872.0, low=6488999936.0, open=6488999936.0, volume=0.0)\n",
      "Row(_c0=48884, date='2013-01-24', symbol='TVIX', adj_close=11950000.0, close=11950000.0, high=13125000.0, low=11525000.0, open=11925000.0, volume=0.0)\n",
      "Row(_c0=48950, date='2013-01-24', symbol='USLV', adj_close=2926.0, close=2926.0, high=3006.0, low=2903.0, open=2958.0, volume=10300.0)\n",
      "Row(_c0=48997, date='2013-01-24', symbol='VHI', adj_close=559798912.0, close=567217536.0, high=571875648.0, low=562559360.0, open=570442368.0, volume=0.0)\n",
      "Row(_c0=49000, date='2013-01-24', symbol='VIIX', adj_close=3072.5, close=3072.5, high=3255.0, low=3035.0, open=3082.5, volume=3700.0)\n",
      "Row(_c0=49004, date='2013-01-24', symbol='VIVE', adj_close=12000.0, close=12000.0, high=14400.0, low=12000.0, open=14400.0, volume=0.0)\n",
      "Row(_c0=49081, date='2013-01-24', symbol='WINT', adj_close=2016.0, close=2016.0, high=2024.4, low=1965.6, open=1990.8, volume=300.0)\n",
      "Row(_c0=49120, date='2013-01-24', symbol='WWR', adj_close=2400.0, close=2400.0, high=2640.0, low=2268.0, open=2388.0, volume=500.0)\n",
      "Row(_c0=49136, date='2013-01-24', symbol='XSPA', adj_close=154548.0, close=154548.0, high=156492.0, low=149688.0, open=151632.0, volume=0.0)\n",
      "Row(_c0=49145, date='2013-01-24', symbol='YTEN', adj_close=3576.0, close=3576.0, high=3696.0, low=3576.0, open=3696.0, volume=0.0)\n",
      "Row(_c0=49190, date='2013-01-25', symbol='ACHV', adj_close=27082.0, close=27082.0, high=27500.0, low=26642.0, open=27060.0, volume=0.0)\n",
      "Row(_c0=49447, date='2013-01-25', symbol='BCEI', adj_close=3576.3955, close=3576.3955, high=3586.4382, low=3503.8633, open=3532.876, volume=1700.0)\n",
      "Row(_c0=49499, date='2013-01-25', symbol='BIS', adj_close=1137.2751, close=1161.2, high=1184.0, low=1161.2, open=1183.8, volume=100.0)\n",
      "Row(_c0=49664, date='2013-01-25', symbol='CEI', adj_close=32226562.0, close=32226562.0, high=33007812.0, low=30859376.0, open=30859376.0, volume=0.0)\n",
      "Row(_c0=49692, date='2013-01-25', symbol='CHFS', adj_close=49476.0, close=49476.0, high=50400.0, low=47124.0, open=47880.0, volume=0.0)\n",
      "Row(_c0=49884, date='2013-01-25', symbol='CYCC', adj_close=1404.0, close=1404.0, high=1408.8, low=1236.0, open=1286.4, volume=2200.0)\n",
      "Row(_c0=49898, date='2013-01-25', symbol='DCAR', adj_close=1663.1801, close=1663.1801, high=2217.5801, low=1552.3, open=1921.9, volume=17.0)\n",
      "Row(_c0=49913, date='2013-01-25', symbol='DFFN', adj_close=2100.0, close=2100.0, high=2100.0, low=1950.0, open=2100.0, volume=0.0)\n",
      "Row(_c0=50023, date='2013-01-25', symbol='EFOI', adj_close=148437.5, close=148437.5, high=171875.0, low=140625.0, open=171875.0, volume=0.0)\n",
      "Row(_c0=50028, date='2013-01-25', symbol='EGLE', adj_close=5477.4775, close=5477.4775, high=5528.4307, low=5324.6177, open=5324.6177, volume=0.0)\n",
      "Row(_c0=50334, date='2013-01-25', symbol='GEVO', adj_close=12420.0, close=12420.0, high=13080.0, low=12240.0, open=12900.0, volume=0.0)\n",
      "Row(_c0=50858, date='2013-01-25', symbol='MBOT', adj_close=2737.8, close=2737.8, high=2786.3999, low=2705.3999, open=2721.6001, volume=0.0)\n",
      "Row(_c0=51136, date='2013-01-25', symbol='NSPR', adj_close=43125.0, close=43125.0, high=43125.0, low=40125.0, open=42875.0, volume=0.0)\n",
      "Row(_c0=51155, date='2013-01-25', symbol='NVCN', adj_close=1900.0, close=1900.0, high=1920.0, low=1900.0, open=1920.0, volume=0.0)\n",
      "Row(_c0=51158, date='2013-01-25', symbol='NVIV', adj_close=7350.0, close=7350.0, high=7410.0, low=7110.0, open=7410.0, volume=0.0)\n",
      "Row(_c0=51160, date='2013-01-25', symbol='NVR', adj_close=1034.4, close=1034.4, high=1043.22, low=996.11, open=996.11, volume=42000.0)\n",
      "Row(_c0=51250, date='2013-01-25', symbol='PACD', adj_close=1033000.0, close=1033000.0, high=1043000.0, low=1025000.0, open=1042000.0, volume=0.0)\n",
      "Row(_c0=51324, date='2013-01-25', symbol='PHIO', adj_close=12210.0, close=12210.0, high=12870.0, low=12045.0, open=12870.0, volume=0.0)\n",
      "Row(_c0=51372, date='2013-01-25', symbol='POAI', adj_close=1687.5, close=1687.5, high=1687.5, low=1650.0, open=1650.0, volume=0.0)\n",
      "Row(_c0=51415, date='2013-01-25', symbol='PSHG', adj_close=321553.4688, close=336853.4375, high=339323.0312, low=334383.8438, open=337841.2812, volume=0.0)\n",
      "Row(_c0=51420, date='2013-01-25', symbol='PSTV', adj_close=20925.0, close=20925.0, high=21075.0, low=20250.0, open=20475.0, volume=0.0)\n",
      "Row(_c0=51602, date='2013-01-25', symbol='SCON', adj_close=5220.0, close=5220.0, high=5400.0, low=5040.0, open=5220.0, volume=0.0)\n",
      "Row(_c0=51610, date='2013-01-25', symbol='SEB', adj_close=2542.9941, close=2562.1399, high=2584.27, low=2520.46, open=2551.0, volume=300.0)\n",
      "Row(_c0=51671, date='2013-01-25', symbol='SLS', adj_close=52200.0, close=52200.0, high=53100.0, low=51900.0, open=52800.0, volume=0.0)\n",
      "Row(_c0=51724, date='2013-01-25', symbol='SQQQ', adj_close=11396.4443, close=11814.4004, high=11945.5996, low=11708.7998, open=11884.7998, volume=4200.0)\n",
      "Row(_c0=51736, date='2013-01-25', symbol='SRV', adj_close=110657.3828, close=166502.4062, high=166912.0, low=164864.0, open=165068.7969, volume=0.0)\n",
      "Row(_c0=51804, date='2013-01-25', symbol='SZC', adj_close=6269.4399, close=6269.4399, high=6328.3198, low=6248.96, open=6269.4399, volume=100.0)\n",
      "Row(_c0=51837, date='2013-01-25', symbol='TDW', adj_close=1389.4724, close=1541.9354, high=1558.7097, low=1526.4517, open=1549.0322, volume=14100.0)\n",
      "Row(_c0=51881, date='2013-01-25', symbol='TLGT', adj_close=121000.0, close=121000.0, high=121000.0, low=121000.0, open=121000.0, volume=0.0)\n",
      "Row(_c0=51895, date='2013-01-25', symbol='TOPS', adj_close=6929999872.0, close=6929999872.0, high=6929999872.0, low=6929999872.0, open=6929999872.0, volume=0.0)\n",
      "Row(_c0=51954, date='2013-01-25', symbol='TVIX', adj_close=12000000.0, close=12000000.0, high=12500000.0, low=11700000.0, open=12000000.0, volume=0.0)\n",
      "Row(_c0=52019, date='2013-01-25', symbol='USLV', adj_close=2797.0, close=2797.0, high=2883.0, low=2772.0, open=2862.0, volume=9000.0)\n",
      "Row(_c0=52066, date='2013-01-25', symbol='VHI', adj_close=555555328.0, close=562917696.0, high=570442368.0, low=553243136.0, open=567575808.0, volume=0.0)\n",
      "Row(_c0=52069, date='2013-01-25', symbol='VIIX', adj_close=3105.0, close=3105.0, high=3160.0, low=3050.0, open=3092.5, volume=1000.0)\n",
      "Row(_c0=52148, date='2013-01-25', symbol='WINT', adj_close=2032.8, close=2032.8, high=2041.2, low=1999.2, open=2024.4, volume=100.0)\n",
      "Row(_c0=52187, date='2013-01-25', symbol='WWR', adj_close=2304.0, close=2304.0, high=2394.0, low=2286.0, open=2364.0, volume=200.0)\n",
      "Row(_c0=52203, date='2013-01-25', symbol='XSPA', adj_close=159894.0, close=159894.0, high=162810.0, low=151632.0, open=153090.0, volume=100.0)\n",
      "Row(_c0=52212, date='2013-01-25', symbol='YTEN', adj_close=3600.0, close=3600.0, high=3768.0, low=3576.0, open=3696.0, volume=0.0)\n",
      "Row(_c0=52258, date='2013-01-28', symbol='ACHV', adj_close=28644.0, close=28644.0, high=28864.0, low=27170.0, open=27170.0, volume=0.0)\n",
      "Row(_c0=52513, date='2013-01-28', symbol='BCEI', adj_close=3597.5972, close=3597.5972, high=3606.5242, low=3489.3567, open=3576.3955, volume=3400.0)\n",
      "Row(_c0=52563, date='2013-01-28', symbol='BIS', adj_close=1146.6774, close=1170.8, high=1171.8, low=1155.8, open=1155.8, volume=0.0)\n",
      "Row(_c0=52725, date='2013-01-28', symbol='CEI', adj_close=33203124.0, close=33203124.0, high=33398438.0, low=31250000.0, open=31250000.0, volume=0.0)\n",
      "Row(_c0=52753, date='2013-01-28', symbol='CHFS', adj_close=48804.0, close=48804.0, high=50820.0, low=47712.0, open=49896.0, volume=0.0)\n",
      "Row(_c0=52945, date='2013-01-28', symbol='CYCC', adj_close=1353.6, close=1353.6, high=1444.8, low=1346.4, open=1404.0, volume=1000.0)\n",
      "Row(_c0=52959, date='2013-01-28', symbol='DCAR', adj_close=1626.22, close=1626.22, high=1737.1, low=1589.26, open=1626.22, volume=3.0)\n",
      "Row(_c0=53084, date='2013-01-28', symbol='EFOI', adj_close=148437.5, close=148437.5, high=148437.5, low=132812.5, open=132812.5, volume=0.0)\n",
      "Row(_c0=53089, date='2013-01-28', symbol='EGLE', adj_close=5910.5806, close=5910.5806, high=6063.4404, low=5401.0479, open=5426.5244, volume=400.0)\n",
      "Row(_c0=53399, date='2013-01-28', symbol='GEVO', adj_close=12180.0, close=12180.0, high=12600.0, low=12000.0, open=12600.0, volume=0.0)\n",
      "Row(_c0=53921, date='2013-01-28', symbol='MBOT', adj_close=2818.8, close=2818.8, high=2818.8, low=2705.3999, open=2705.3999, volume=100.0)\n",
      "Row(_c0=54197, date='2013-01-28', symbol='NSPR', adj_close=44375.0, close=44375.0, high=44375.0, low=40000.0, open=40250.0, volume=0.0)\n",
      "Row(_c0=54217, date='2013-01-28', symbol='NVCN', adj_close=1920.0, close=1920.0, high=1990.0, low=1920.0, open=1990.0, volume=0.0)\n",
      "Row(_c0=54221, date='2013-01-28', symbol='NVIV', adj_close=7290.0, close=7290.0, high=7440.0, low=7080.0, open=7320.0, volume=0.0)\n",
      "Row(_c0=54223, date='2013-01-28', symbol='NVR', adj_close=1024.0, close=1024.0, high=1040.1, low=1002.34, open=1033.75, volume=65600.0)\n",
      "Row(_c0=54313, date='2013-01-28', symbol='PACD', adj_close=1037000.0, close=1037000.0, high=1045000.0, low=1037000.0, open=1038000.0, volume=0.0)\n",
      "Row(_c0=54386, date='2013-01-28', symbol='PHIO', adj_close=12375.0, close=12375.0, high=12375.0, low=12045.0, open=12045.0, volume=0.0)\n",
      "Row(_c0=54434, date='2013-01-28', symbol='POAI', adj_close=1612.5, close=1612.5, high=1650.0, low=1612.5, open=1650.0, volume=0.0)\n",
      "Row(_c0=54477, date='2013-01-28', symbol='PSHG', adj_close=326268.2812, close=341792.625, high=342286.5625, low=334383.8438, open=339816.9688, volume=0.0)\n",
      "Row(_c0=54482, date='2013-01-28', symbol='PSTV', adj_close=21150.0, close=21150.0, high=21375.0, low=20400.0, open=21150.0, volume=0.0)\n",
      "Row(_c0=54670, date='2013-01-28', symbol='SEB', adj_close=2605.0962, close=2624.71, high=2624.99, low=2539.6699, open=2558.8, volume=900.0)\n",
      "Row(_c0=54731, date='2013-01-28', symbol='SLS', adj_close=52500.0, close=52500.0, high=53700.0, low=51900.0, open=52800.0, volume=0.0)\n",
      "Row(_c0=54784, date='2013-01-28', symbol='SQQQ', adj_close=11334.709, close=11750.4004, high=11849.5996, low=11612.7998, open=11795.2002, volume=4500.0)\n",
      "Row(_c0=54796, date='2013-01-28', symbol='SRV', adj_close=111201.7812, close=167321.5938, high=167321.5938, low=165068.7969, open=166707.2031, volume=0.0)\n",
      "Row(_c0=54866, date='2013-01-28', symbol='SZC', adj_close=6274.5601, close=6274.5601, high=6277.1201, low=6220.7998, open=6248.96, volume=100.0)\n",
      "Row(_c0=54900, date='2013-01-28', symbol='TDW', adj_close=1415.3433, close=1570.6451, high=1578.0646, low=1534.8387, open=1547.0968, volume=23100.0)\n",
      "Row(_c0=54944, date='2013-01-28', symbol='TLGT', adj_close=121000.0, close=121000.0, high=123000.0, low=121000.0, open=122000.0, volume=0.0)\n",
      "Row(_c0=54958, date='2013-01-28', symbol='TOPS', adj_close=6425999872.0, close=6425999872.0, high=6741000192.0, low=6425999872.0, open=6741000192.0, volume=0.0)\n",
      "Row(_c0=55017, date='2013-01-28', symbol='TVIX', adj_close=12650000.0, close=12650000.0, high=12900000.0, low=11925000.0, open=12000000.0, volume=0.0)\n",
      "Row(_c0=55084, date='2013-01-28', symbol='USLV', adj_close=2706.0, close=2706.0, high=2758.0, low=2669.0, open=2727.0, volume=7100.0)\n",
      "Row(_c0=55131, date='2013-01-28', symbol='VHI', adj_close=567578880.0, close=575100544.0, high=575458816.0, low=562559360.0, open=562559360.0, volume=0.0)\n",
      "Row(_c0=55134, date='2013-01-28', symbol='VIIX', adj_close=3190.0, close=3190.0, high=3222.5, low=3087.5, open=3087.5, volume=1900.0)\n",
      "Row(_c0=55138, date='2013-01-28', symbol='VIVE', adj_close=11280.0, close=11280.0, high=11280.0, low=11280.0, open=11280.0, volume=0.0)\n",
      "Row(_c0=55213, date='2013-01-28', symbol='WINT', adj_close=2049.6001, close=2049.6001, high=2049.6001, low=2007.6, open=2049.6001, volume=200.0)\n",
      "Row(_c0=55252, date='2013-01-28', symbol='WWR', adj_close=2262.0, close=2262.0, high=2310.0, low=2202.0, open=2292.0, volume=200.0)\n",
      "Row(_c0=55268, date='2013-01-28', symbol='XSPA', adj_close=155034.0, close=155034.0, high=160866.0, low=154548.0, open=157950.0, volume=0.0)\n",
      "Row(_c0=55277, date='2013-01-28', symbol='YTEN', adj_close=3600.0, close=3600.0, high=3720.0, low=3576.0, open=3720.0, volume=0.0)\n",
      "Row(_c0=55323, date='2013-01-29', symbol='ACHV', adj_close=30008.0, close=30008.0, high=30250.0, low=28578.0, open=28754.0, volume=0.0)\n",
      "Row(_c0=55577, date='2013-01-29', symbol='BCEI', adj_close=3506.095, close=3506.095, high=3521.7173, low=3325.3225, open=3521.7173, volume=8600.0)\n",
      "Row(_c0=55627, date='2013-01-29', symbol='BIS', adj_close=1140.0175, close=1164.0, high=1183.6, low=1163.4, open=1179.6, volume=1100.0)\n",
      "Row(_c0=55792, date='2013-01-29', symbol='CEI', adj_close=33398438.0, close=33398438.0, high=35546876.0, low=32617188.0, open=33398438.0, volume=0.0)\n",
      "Row(_c0=55820, date='2013-01-29', symbol='CHFS', adj_close=50316.0, close=50316.0, high=51408.0, low=48888.0, open=48888.0, volume=0.0)\n",
      "Row(_c0=56011, date='2013-01-29', symbol='CYCC', adj_close=1363.2, close=1363.2, high=1389.6, low=1346.4, open=1380.0, volume=500.0)\n",
      "Row(_c0=56026, date='2013-01-29', symbol='DCAR', adj_close=1663.1801, close=1663.1801, high=1736.73, low=1627.7, open=1663.1801, volume=5.0)\n",
      "Row(_c0=56041, date='2013-01-29', symbol='DFFN', adj_close=1950.0, close=1950.0, high=2100.0, low=1800.0, open=2100.0, volume=0.0)\n",
      "Row(_c0=56152, date='2013-01-29', symbol='EFOI', adj_close=171875.0, close=171875.0, high=171875.0, low=140625.0, open=140625.0, volume=0.0)\n",
      "Row(_c0=56157, date='2013-01-29', symbol='EGLE', adj_close=5757.7207, close=5757.7207, high=6114.3936, low=5553.9077, open=6037.9639, volume=400.0)\n",
      "Row(_c0=56169, date='2013-01-29', symbol='ELC', adj_close=22027.0996, close=22027.0996, high=22105.8008, low=20217.8008, open=20217.8008, volume=8504.0)\n",
      "Row(_c0=56468, date='2013-01-29', symbol='GEVO', adj_close=14280.0, close=14280.0, high=14700.0, low=11940.0, open=11940.0, volume=400.0)\n",
      "Row(_c0=56992, date='2013-01-29', symbol='MBOT', adj_close=2786.3999, close=2786.3999, high=2899.8, low=2770.2, open=2818.8, volume=200.0)\n",
      "Row(_c0=57265, date='2013-01-29', symbol='NSPR', adj_close=42500.0, close=42500.0, high=43125.0, low=42500.0, open=43125.0, volume=0.0)\n",
      "Row(_c0=57285, date='2013-01-29', symbol='NVCN', adj_close=2010.0, close=2010.0, high=2010.0, low=2010.0, open=2010.0, volume=0.0)\n",
      "Row(_c0=57289, date='2013-01-29', symbol='NVIV', adj_close=7170.0, close=7170.0, high=7500.0, low=7080.0, open=7290.0, volume=0.0)\n",
      "Row(_c0=57291, date='2013-01-29', symbol='NVR', adj_close=1031.49, close=1031.49, high=1033.8, low=1008.09, open=1028.97, volume=31600.0)\n",
      "Row(_c0=57381, date='2013-01-29', symbol='PACD', adj_close=1040000.0, close=1040000.0, high=1050000.0, low=1037000.0, open=1050000.0, volume=0.0)\n",
      "Row(_c0=57500, date='2013-01-29', symbol='POAI', adj_close=1612.5, close=1612.5, high=1612.5, low=1612.5, open=1612.5, volume=0.0)\n",
      "Row(_c0=57543, date='2013-01-29', symbol='PSHG', adj_close=329568.6875, close=345250.0938, high=352164.9688, low=340804.8125, open=340804.8125, volume=0.0)\n",
      "Row(_c0=57548, date='2013-01-29', symbol='PSTV', adj_close=21075.0, close=21075.0, high=21225.0, low=20700.0, open=21225.0, volume=0.0)\n",
      "Row(_c0=57729, date='2013-01-29', symbol='SCON', adj_close=4680.0, close=4680.0, high=5220.0, low=4680.0, open=5220.0, volume=0.0)\n",
      "Row(_c0=57737, date='2013-01-29', symbol='SEB', adj_close=2678.8115, close=2698.98, high=2699.8999, low=2600.47, open=2625.0, volume=900.0)\n",
      "Row(_c0=57797, date='2013-01-29', symbol='SLS', adj_close=51300.0, close=51300.0, high=53100.0, low=51300.0, open=53100.0, volume=0.0)\n",
      "Row(_c0=57850, date='2013-01-29', symbol='SQQQ', adj_close=11319.2734, close=11734.4004, high=12003.2002, low=11651.2002, open=11776.0, volume=7400.0)\n",
      "Row(_c0=57863, date='2013-01-29', symbol='SRV', adj_close=112426.8047, close=169164.7969, high=170598.4062, low=166912.0, open=167526.4062, volume=0.0)\n",
      "Row(_c0=57933, date='2013-01-29', symbol='SZC', adj_close=6315.52, close=6315.52, high=6323.2002, low=6277.1201, open=6292.48, volume=100.0)\n",
      "Row(_c0=57965, date='2013-01-29', symbol='TDW', adj_close=1432.2031, close=1589.3549, high=1590.0, low=1568.3871, open=1571.9354, volume=19200.0)\n",
      "Row(_c0=58009, date='2013-01-29', symbol='TLGT', adj_close=115000.0, close=115000.0, high=121000.0, low=115000.0, open=121000.0, volume=0.0)\n",
      "Row(_c0=58023, date='2013-01-29', symbol='TOPS', adj_close=6425999872.0, close=6425999872.0, high=6678000128.0, low=6425999872.0, open=6678000128.0, volume=0.0)\n",
      "Row(_c0=58082, date='2013-01-29', symbol='TVIX', adj_close=11900000.0, close=11900000.0, high=13200000.0, low=11750000.0, open=13200000.0, volume=0.0)\n",
      "Row(_c0=58149, date='2013-01-29', symbol='USLV', adj_close=2830.0, close=2830.0, high=2856.0, low=2765.0, open=2766.0, volume=5500.0)\n",
      "Row(_c0=58195, date='2013-01-29', symbol='VHI', adj_close=570054144.0, close=577608768.0, high=585850048.0, low=574025536.0, open=574025536.0, volume=0.0)\n",
      "Row(_c0=58198, date='2013-01-29', symbol='VIIX', adj_close=3087.5, close=3087.5, high=3252.5, low=3065.0, open=3225.0, volume=800.0)\n",
      "Row(_c0=58201, date='2013-01-29', symbol='VISL', adj_close=25200.0, close=25200.0, high=25200.0, low=25200.0, open=25200.0, volume=0.0)\n",
      "Row(_c0=58203, date='2013-01-29', symbol='VIVE', adj_close=12800.0, close=12800.0, high=12800.0, low=12400.0, open=12400.0, volume=0.0)\n",
      "Row(_c0=58279, date='2013-01-29', symbol='WINT', adj_close=1982.4, close=1982.4, high=2058.0, low=1940.4, open=2041.2, volume=500.0)\n",
      "Row(_c0=58318, date='2013-01-29', symbol='WWR', adj_close=2124.0, close=2124.0, high=2250.0, low=1956.0, open=2244.0, volume=400.0)\n",
      "Row(_c0=58334, date='2013-01-29', symbol='XSPA', adj_close=156978.0, close=156978.0, high=157950.0, low=153090.0, open=153090.0, volume=0.0)\n",
      "Row(_c0=58343, date='2013-01-29', symbol='YTEN', adj_close=3576.0, close=3576.0, high=3648.0, low=3480.0, open=3648.0, volume=0.0)\n",
      "Row(_c0=58389, date='2013-01-30', symbol='ACHV', adj_close=29260.0, close=29260.0, high=30140.0, low=29194.0, open=30052.0, volume=0.0)\n",
      "Row(_c0=58645, date='2013-01-30', symbol='BCEI', adj_close=3559.6572, close=3559.6572, high=3720.344, low=3515.022, open=3522.8333, volume=5200.0)\n",
      "Row(_c0=58696, date='2013-01-30', symbol='BIS', adj_close=1157.6464, close=1182.0, high=1182.0, low=1171.8, open=1171.8, volume=0.0)\n",
      "Row(_c0=58861, date='2013-01-30', symbol='CEI', adj_close=31250000.0, close=31250000.0, high=33593752.0, low=31054688.0, open=32617188.0, volume=0.0)\n",
      "Row(_c0=58889, date='2013-01-30', symbol='CHFS', adj_close=49812.0, close=49812.0, high=51744.0, low=49140.0, open=50400.0, volume=0.0)\n",
      "Row(_c0=59080, date='2013-01-30', symbol='CYCC', adj_close=1370.4, close=1370.4, high=1413.6, low=1358.4, open=1389.6, volume=300.0)\n",
      "Row(_c0=59095, date='2013-01-30', symbol='DCAR', adj_close=1770.36, close=1770.36, high=1807.3199, low=1689.05, open=1737.1, volume=7.0)\n",
      "Row(_c0=59110, date='2013-01-30', symbol='DFFN', adj_close=1950.0, close=1950.0, high=1950.0, low=1950.0, open=1950.0, volume=0.0)\n",
      "Row(_c0=59227, date='2013-01-30', symbol='EGLE', adj_close=5120.8047, close=5120.8047, high=5732.2441, low=5095.3281, open=5732.2441, volume=200.0)\n",
      "Row(_c0=59239, date='2013-01-30', symbol='ELC', adj_close=21240.4004, close=21240.4004, high=21948.5, low=20611.0996, open=21948.5, volume=7665.0)\n",
      "Row(_c0=59534, date='2013-01-30', symbol='GEVO', adj_close=13980.0, close=13980.0, high=15240.0, low=12960.0, open=14820.0, volume=800.0)\n",
      "Row(_c0=60060, date='2013-01-30', symbol='MBOT', adj_close=2721.6001, close=2721.6001, high=2802.6001, low=2721.6001, open=2770.2, volume=100.0)\n",
      "Row(_c0=60338, date='2013-01-30', symbol='NSPR', adj_close=42500.0, close=42500.0, high=44250.0, low=38125.0, open=40625.0, volume=0.0)\n",
      "Row(_c0=60359, date='2013-01-30', symbol='NVCN', adj_close=2010.0, close=2010.0, high=2160.0, low=1990.0, open=2070.0, volume=0.0)\n",
      "Row(_c0=60362, date='2013-01-30', symbol='NVIV', adj_close=6270.0, close=6270.0, high=7140.0, low=5850.0, open=7110.0, volume=100.0)\n",
      "Row(_c0=60364, date='2013-01-30', symbol='NVR', adj_close=1040.86, close=1040.86, high=1055.9399, low=1029.13, open=1034.8, volume=43300.0)\n",
      "Row(_c0=60455, date='2013-01-30', symbol='PACD', adj_close=1029000.0, close=1029000.0, high=1041000.0, low=1021000.0, open=1040000.0, volume=0.0)\n",
      "Row(_c0=60576, date='2013-01-30', symbol='POAI', adj_close=1593.75, close=1593.75, high=1631.25, low=1556.25, open=1631.25, volume=0.0)\n",
      "Row(_c0=60619, date='2013-01-30', symbol='PSHG', adj_close=325325.375, close=340804.8125, high=348213.5938, low=340804.8125, open=347719.6875, volume=0.0)\n",
      "Row(_c0=60624, date='2013-01-30', symbol='PSTV', adj_close=20625.0, close=20625.0, high=21150.0, low=20400.0, open=21075.0, volume=0.0)\n",
      "Row(_c0=60804, date='2013-01-30', symbol='SCON', adj_close=4860.0, close=4860.0, high=4860.0, low=4500.0, open=4860.0, volume=0.0)\n",
      "Row(_c0=60812, date='2013-01-30', symbol='SEB', adj_close=2619.9941, close=2639.72, high=2750.0, low=2622.03, open=2674.3101, volume=900.0)\n",
      "Row(_c0=60872, date='2013-01-30', symbol='SLS', adj_close=51000.0, close=51000.0, high=52500.0, low=50400.0, open=52500.0, volume=0.0)\n",
      "Row(_c0=60925, date='2013-01-30', symbol='SQQQ', adj_close=11359.4023, close=11776.0, high=11875.2002, low=11555.2002, open=11670.4004, volume=6500.0)\n",
      "Row(_c0=60938, date='2013-01-30', symbol='SRV', adj_close=111474.0156, close=167731.2031, high=171212.7969, low=167526.4062, open=168960.0, volume=0.0)\n",
      "Row(_c0=61009, date='2013-01-30', symbol='SZC', adj_close=6297.6001, close=6297.6001, high=6318.0801, low=6261.7598, open=6295.04, volume=200.0)\n",
      "Row(_c0=61042, date='2013-01-30', symbol='TDW', adj_close=1433.0753, close=1590.3226, high=1596.4517, low=1578.0646, open=1586.129, volume=23300.0)\n",
      "Row(_c0=61085, date='2013-01-30', symbol='TLGT', adj_close=114000.0, close=114000.0, high=115000.0, low=110000.0, open=115000.0, volume=0.0)\n",
      "Row(_c0=61099, date='2013-01-30', symbol='TOPS', adj_close=6111000064.0, close=6111000064.0, high=6866999808.0, low=5858999808.0, open=6678000128.0, volume=0.0)\n",
      "Row(_c0=61158, date='2013-01-30', symbol='TVIX', adj_close=13350000.0, close=13350000.0, high=13350000.0, low=12125000.0, open=12325000.0, volume=0.0)\n",
      "Row(_c0=61225, date='2013-01-30', symbol='USLV', adj_close=2997.0, close=2997.0, high=3080.0, low=2955.0, open=2975.0, volume=10300.0)\n",
      "Row(_c0=61272, date='2013-01-30', symbol='VHI', adj_close=553433344.0, close=560767808.0, high=579758656.0, low=555393024.0, open=575817152.0, volume=0.0)\n",
      "Row(_c0=61275, date='2013-01-30', symbol='VIIX', adj_close=3282.5, close=3282.5, high=3285.0, low=3127.5, open=3165.0, volume=2500.0)\n",
      "Row(_c0=61279, date='2013-01-30', symbol='VIVE', adj_close=10400.0, close=10400.0, high=10400.0, low=10400.0, open=10400.0, volume=0.0)\n",
      "Row(_c0=61355, date='2013-01-30', symbol='WINT', adj_close=1864.8, close=1864.8, high=1974.0, low=1864.8, open=1974.0, volume=200.0)\n",
      "Row(_c0=61394, date='2013-01-30', symbol='WWR', adj_close=2094.0, close=2094.0, high=2202.0, low=2052.0, open=2172.0, volume=100.0)\n",
      "Row(_c0=61410, date='2013-01-30', symbol='XSPA', adj_close=152604.0, close=152604.0, high=156978.0, low=152118.0, open=156492.0, volume=0.0)\n",
      "Row(_c0=61419, date='2013-01-30', symbol='YTEN', adj_close=3600.0, close=3600.0, high=3696.0, low=3456.0, open=3696.0, volume=0.0)\n"
     ]
    }
   ],
   "source": [
    "for r in res.collect():\n",
    "    print(r)"
   ]
  },
  {
   "cell_type": "code",
   "execution_count": 44,
   "metadata": {
    "ExecuteTime": {
     "end_time": "2020-10-13T01:01:18.947831Z",
     "start_time": "2020-10-13T01:01:17.658997Z"
    }
   },
   "outputs": [
    {
     "name": "stdout",
     "output_type": "stream",
     "text": [
      "+------+--------+------------------+------------------+-----------------+------------------+------------------+-----------+\n",
      "|symbol|avg(_c0)|    avg(adj_close)|        avg(close)|        avg(high)|          avg(low)|         avg(open)|avg(volume)|\n",
      "+------+--------+------------------+------------------+-----------------+------------------+------------------+-----------+\n",
      "|  ALXN| 29338.7| 97.42300000000002| 97.42300000000002|          98.5425| 96.19099999999999| 97.48550000000003|  1590385.0|\n",
      "|  CBIO| 29687.4|360.08624999999995|484.94249999999994|491.8199999999999|478.85249999999996|484.78499999999997|     1330.0|\n",
      "+------+--------+------------------+------------------+-----------------+------------------+------------------+-----------+\n",
      "only showing top 2 rows\n",
      "\n"
     ]
    }
   ],
   "source": [
    "df.groupBy('symbol').mean().show(2)"
   ]
  },
  {
   "cell_type": "code",
   "execution_count": 11,
   "metadata": {
    "ExecuteTime": {
     "end_time": "2020-09-26T20:24:55.056442Z",
     "start_time": "2020-09-26T20:23:17.939823Z"
    }
   },
   "outputs": [],
   "source": [
    "df.to_csv(\"stocks.csv\")"
   ]
  },
  {
   "cell_type": "code",
   "execution_count": 255,
   "metadata": {
    "ExecuteTime": {
     "end_time": "2020-09-26T08:31:29.891172Z",
     "start_time": "2020-09-26T08:31:15.405116Z"
    }
   },
   "outputs": [],
   "source": [
    "df.columns = df.columns.swaplevel(0, 1)\n",
    "df = df.stack(0)\n",
    "df.index.names = [\"date\", \"symbol\"]\n",
    "df.reset_index(inplace=True)\n",
    "df.columns = map(str.lower, df.columns)\n",
    "df = df.rename({\"adj close\": \"adj_close\"}, axis=1)"
   ]
  },
  {
   "cell_type": "code",
   "execution_count": null,
   "metadata": {
    "ExecuteTime": {
     "start_time": "2020-09-26T20:26:40.159Z"
    }
   },
   "outputs": [],
   "source": [
    "df.to_sql(\"stockdata\", con=engine, schema=\"incertae\", index=False, if_exists='append')"
   ]
  },
  {
   "cell_type": "code",
   "execution_count": 211,
   "metadata": {
    "ExecuteTime": {
     "end_time": "2020-09-26T00:51:23.810105Z",
     "start_time": "2020-09-26T00:51:23.156863Z"
    }
   },
   "outputs": [],
   "source": [
    "\n",
    "import yfinance as yf\n",
    "\n",
    "msft = yf.Ticker(\"MSFT\")"
   ]
  },
  {
   "cell_type": "code",
   "execution_count": 212,
   "metadata": {
    "ExecuteTime": {
     "end_time": "2020-09-26T00:51:39.237267Z",
     "start_time": "2020-09-26T00:51:36.166271Z"
    }
   },
   "outputs": [
    {
     "data": {
      "text/plain": [
       "{'zip': '98052-6399',\n",
       " 'sector': 'Technology',\n",
       " 'fullTimeEmployees': 163000,\n",
       " 'longBusinessSummary': 'Microsoft Corporation develops, licenses, and supports software, services, devices, and solutions worldwide. Its Productivity and Business Processes segment offers Office, Exchange, SharePoint, Microsoft Teams, Office 365 Security and Compliance, and Skype for Business, as well as related Client Access Licenses (CAL); Skype, Outlook.com, and OneDrive; LinkedIn that includes Talent, Learning, Sales, and Marketing solutions, as well as premium subscriptions; and Dynamics 365, a set of cloud-based and on-premises business solutions for small and medium businesses, large organizations, and divisions of enterprises. Its Intelligent Cloud segment licenses SQL and Windows Servers, Visual Studio, System Center, and related CALs; GitHub that provides a collaboration platform and code hosting service for developers; and Azure, a cloud platform. It also offers support services and Microsoft consulting services to assist customers in developing, deploying, and managing Microsoft server and desktop solutions; and training and certification to developers and IT professionals on various Microsoft products. Its More Personal Computing segment provides Windows original equipment manufacturer (OEM) licensing and other non-volume licensing of the Windows operating system; Windows Commercial, such as volume licensing of the Windows operating system, Windows cloud services, and other Windows commercial offerings; patent licensing; Windows Internet of Things; and MSN advertising. It also offers Surface, PC accessories, PCs, tablets, gaming and entertainment consoles, and other intelligent devices; Gaming, including Xbox hardware, and Xbox content and services; video games and third-party video game royalties; and Search, including Bing and Microsoft advertising. It sells its products through OEMs, distributors, and resellers; and directly through digital marketplaces, online stores, and retail stores. The company was founded in 1975 and is headquartered in Redmond, Washington.',\n",
       " 'city': 'Redmond',\n",
       " 'phone': '425-882-8080',\n",
       " 'state': 'WA',\n",
       " 'country': 'United States',\n",
       " 'companyOfficers': [],\n",
       " 'website': 'http://www.microsoft.com',\n",
       " 'maxAge': 1,\n",
       " 'address1': 'One Microsoft Way',\n",
       " 'industry': 'Software—Infrastructure',\n",
       " 'previousClose': 203.19,\n",
       " 'regularMarketOpen': 203.55,\n",
       " 'twoHundredDayAverage': 189.74185,\n",
       " 'trailingAnnualDividendYield': 0.010039864,\n",
       " 'payoutRatio': 0.3455,\n",
       " 'volume24Hr': None,\n",
       " 'regularMarketDayHigh': 209.04,\n",
       " 'navPrice': None,\n",
       " 'averageDailyVolume10Day': 34087587,\n",
       " 'totalAssets': None,\n",
       " 'regularMarketPreviousClose': 203.19,\n",
       " 'fiftyDayAverage': 211.67857,\n",
       " 'trailingAnnualDividendRate': 2.04,\n",
       " 'open': 203.55,\n",
       " 'toCurrency': None,\n",
       " 'averageVolume10days': 34087587,\n",
       " 'expireDate': None,\n",
       " 'yield': None,\n",
       " 'algorithm': None,\n",
       " 'dividendRate': 2.24,\n",
       " 'exDividendDate': 1605657600,\n",
       " 'beta': 0.893534,\n",
       " 'circulatingSupply': None,\n",
       " 'startDate': None,\n",
       " 'regularMarketDayLow': 202.54,\n",
       " 'priceHint': 2,\n",
       " 'currency': 'USD',\n",
       " 'trailingPE': 36.07986,\n",
       " 'regularMarketVolume': 29437312,\n",
       " 'lastMarket': None,\n",
       " 'maxSupply': None,\n",
       " 'openInterest': None,\n",
       " 'marketCap': 1572709072896,\n",
       " 'volumeAllCurrencies': None,\n",
       " 'strikePrice': None,\n",
       " 'averageVolume': 35237081,\n",
       " 'priceToSalesTrailing12Months': 10.996812,\n",
       " 'dayLow': 202.54,\n",
       " 'ask': 207.19,\n",
       " 'ytdReturn': None,\n",
       " 'askSize': 800,\n",
       " 'volume': 29437312,\n",
       " 'fiftyTwoWeekHigh': 232.86,\n",
       " 'forwardPE': 28.274832,\n",
       " 'fromCurrency': None,\n",
       " 'fiveYearAvgDividendYield': 1.83,\n",
       " 'fiftyTwoWeekLow': 132.52,\n",
       " 'bid': 207.1,\n",
       " 'tradeable': False,\n",
       " 'dividendYield': 0.011,\n",
       " 'bidSize': 1200,\n",
       " 'dayHigh': 209.04,\n",
       " 'exchange': 'NMS',\n",
       " 'shortName': 'Microsoft Corporation',\n",
       " 'longName': 'Microsoft Corporation',\n",
       " 'exchangeTimezoneName': 'America/New_York',\n",
       " 'exchangeTimezoneShortName': 'EDT',\n",
       " 'isEsgPopulated': False,\n",
       " 'gmtOffSetMilliseconds': '-14400000',\n",
       " 'quoteType': 'EQUITY',\n",
       " 'symbol': 'MSFT',\n",
       " 'messageBoardId': 'finmb_21835',\n",
       " 'market': 'us_market',\n",
       " 'annualHoldingsTurnover': None,\n",
       " 'enterpriseToRevenue': 10.372,\n",
       " 'beta3Year': None,\n",
       " 'profitMargins': 0.30962,\n",
       " 'enterpriseToEbitda': 22.729,\n",
       " '52WeekChange': 0.47527778,\n",
       " 'morningStarRiskRating': None,\n",
       " 'forwardEps': 7.35,\n",
       " 'revenueQuarterlyGrowth': None,\n",
       " 'sharesOutstanding': 7567649792,\n",
       " 'fundInceptionDate': None,\n",
       " 'annualReportExpenseRatio': None,\n",
       " 'bookValue': 15.626,\n",
       " 'sharesShort': 36458662,\n",
       " 'sharesPercentSharesOut': 0.0047999998,\n",
       " 'fundFamily': None,\n",
       " 'lastFiscalYearEnd': 1593475200,\n",
       " 'heldPercentInstitutions': 0.74093,\n",
       " 'netIncomeToCommon': 44280999936,\n",
       " 'trailingEps': 5.76,\n",
       " 'lastDividendValue': None,\n",
       " 'SandP52WeekChange': 0.09615803,\n",
       " 'priceToBook': 13.299629,\n",
       " 'heldPercentInsiders': 0.014249999,\n",
       " 'nextFiscalYearEnd': 1656547200,\n",
       " 'mostRecentQuarter': 1593475200,\n",
       " 'shortRatio': 1.08,\n",
       " 'sharesShortPreviousMonthDate': 1596153600,\n",
       " 'floatShares': 7455727348,\n",
       " 'enterpriseValue': 1483289395200,\n",
       " 'threeYearAverageReturn': None,\n",
       " 'lastSplitDate': 1045526400,\n",
       " 'lastSplitFactor': '2:1',\n",
       " 'legalType': None,\n",
       " 'morningStarOverallRating': None,\n",
       " 'earningsQuarterlyGrowth': -0.151,\n",
       " 'dateShortInterest': 1598832000,\n",
       " 'pegRatio': 2.07,\n",
       " 'lastCapGain': None,\n",
       " 'shortPercentOfFloat': 0.0049,\n",
       " 'sharesShortPriorMonth': 36472205,\n",
       " 'category': None,\n",
       " 'fiveYearAverageReturn': None,\n",
       " 'regularMarketPrice': 203.55,\n",
       " 'logo_url': 'https://logo.clearbit.com/microsoft.com'}"
      ]
     },
     "execution_count": 212,
     "metadata": {},
     "output_type": "execute_result"
    }
   ],
   "source": [
    "msft.info"
   ]
  },
  {
   "cell_type": "code",
   "execution_count": 221,
   "metadata": {
    "ExecuteTime": {
     "end_time": "2020-09-26T07:37:42.626406Z",
     "start_time": "2020-09-26T07:37:42.396563Z"
    }
   },
   "outputs": [
    {
     "data": {
      "text/plain": [
       "Options(calls=         contractSymbol       lastTradeDate  strike  lastPrice    bid    ask  \\\n",
       "0   MSFT201002C00150000 2020-09-24 15:27:13   150.0      54.55  57.05  58.50   \n",
       "1   MSFT201002C00155000 2020-09-22 15:43:58   155.0      48.80  52.05  53.50   \n",
       "2   MSFT201002C00160000 2020-09-24 19:59:42   160.0      43.15  47.05  48.50   \n",
       "3   MSFT201002C00165000 2020-09-22 15:29:00   165.0      38.50  42.10  43.55   \n",
       "4   MSFT201002C00167500 2020-09-24 14:22:18   167.5      36.14  39.60  41.05   \n",
       "5   MSFT201002C00170000 2020-09-25 19:16:50   170.0      38.66  37.10  38.55   \n",
       "6   MSFT201002C00175000 2020-09-25 19:46:44   175.0      33.00  32.15  33.60   \n",
       "7   MSFT201002C00180000 2020-09-25 19:44:29   180.0      28.25  27.25  28.60   \n",
       "8   MSFT201002C00182500 2020-09-25 17:07:12   182.5      25.00  24.75  26.15   \n",
       "9   MSFT201002C00185000 2020-09-25 16:51:55   185.0      21.70  22.30  23.70   \n",
       "10  MSFT201002C00187500 2020-09-25 19:19:13   187.5      21.50  19.80  21.25   \n",
       "11  MSFT201002C00190000 2020-09-25 19:58:14   190.0      18.20  17.55  18.80   \n",
       "12  MSFT201002C00192500 2020-09-25 19:44:59   192.5      15.93  15.00  15.95   \n",
       "13  MSFT201002C00195000 2020-09-25 19:40:22   195.0      13.55  13.05  13.95   \n",
       "14  MSFT201002C00197500 2020-09-25 19:44:59   197.5      11.24  10.40  12.40   \n",
       "15  MSFT201002C00200000 2020-09-25 19:59:56   200.0       8.80   8.60   8.90   \n",
       "16  MSFT201002C00202500 2020-09-25 19:59:46   202.5       6.71   6.55   7.00   \n",
       "17  MSFT201002C00205000 2020-09-25 19:59:37   205.0       5.00   4.75   5.10   \n",
       "18  MSFT201002C00207500 2020-09-25 19:59:50   207.5       3.43   3.35   3.55   \n",
       "19  MSFT201002C00210000 2020-09-25 19:59:56   210.0       2.23   2.16   2.25   \n",
       "20  MSFT201002C00212500 2020-09-25 19:59:58   212.5       1.34   1.15   1.36   \n",
       "21  MSFT201002C00215000 2020-09-25 19:59:47   215.0       0.78   0.75   0.79   \n",
       "22  MSFT201002C00217500 2020-09-25 19:59:55   217.5       0.43   0.35   0.44   \n",
       "23  MSFT201002C00220000 2020-09-25 19:59:58   220.0       0.24   0.21   0.24   \n",
       "24  MSFT201002C00222500 2020-09-25 19:59:44   222.5       0.17   0.15   0.22   \n",
       "25  MSFT201002C00225000 2020-09-25 19:57:30   225.0       0.10   0.05   0.13   \n",
       "26  MSFT201002C00227500 2020-09-25 19:57:50   227.5       0.11   0.08   0.11   \n",
       "27  MSFT201002C00230000 2020-09-25 19:57:50   230.0       0.07   0.05   0.08   \n",
       "28  MSFT201002C00232500 2020-09-25 19:44:38   232.5       0.06   0.04   0.08   \n",
       "29  MSFT201002C00235000 2020-09-25 19:57:42   235.0       0.05   0.05   0.06   \n",
       "30  MSFT201002C00237500 2020-09-25 19:26:24   237.5       0.05   0.00   0.05   \n",
       "31  MSFT201002C00240000 2020-09-25 19:59:12   240.0       0.04   0.02   0.04   \n",
       "32  MSFT201002C00242500 2020-09-25 19:22:52   242.5       0.03   0.01   0.03   \n",
       "33  MSFT201002C00245000 2020-09-25 19:53:07   245.0       0.02   0.01   0.03   \n",
       "34  MSFT201002C00247500 2020-09-25 18:52:33   247.5       0.01   0.00   0.10   \n",
       "35  MSFT201002C00250000 2020-09-25 19:14:28   250.0       0.01   0.01   0.02   \n",
       "36  MSFT201002C00252500 2020-09-25 18:41:14   252.5       0.01   0.01   0.02   \n",
       "37  MSFT201002C00255000 2020-09-25 13:30:10   255.0       0.02   0.01   0.02   \n",
       "38  MSFT201002C00257500 2020-09-25 16:24:39   257.5       0.01   0.01   0.02   \n",
       "39  MSFT201002C00260000 2020-09-24 16:21:12   260.0       0.01   0.00   0.09   \n",
       "40  MSFT201002C00265000 2020-09-24 17:39:49   265.0       0.01   0.00   0.01   \n",
       "41  MSFT201002C00280000 2020-09-24 14:44:52   280.0       0.01   0.00   0.08   \n",
       "42  MSFT201002C00290000 2020-09-25 19:59:29   290.0       0.01   0.00   0.02   \n",
       "43  MSFT201002C00300000 2020-09-25 18:56:11   300.0       0.01   0.00   0.01   \n",
       "\n",
       "       change  percentChange   volume  openInterest  impliedVolatility  \\\n",
       "0    0.000000       0.000000      1.0            26           1.411136   \n",
       "1    0.000000       0.000000      2.0             7           1.292484   \n",
       "2    0.000000       0.000000      1.0             5           1.175785   \n",
       "3    0.000000       0.000000      1.0             4           0.546880   \n",
       "4   36.140000            NaN      NaN             2           0.515630   \n",
       "5    3.209999       9.055004     50.0            39           0.964844   \n",
       "6    3.100000      10.367894      6.0             7           0.542973   \n",
       "7    4.900000      20.985008     58.0           194           0.509771   \n",
       "8   25.000000            NaN     10.0            10           0.709476   \n",
       "9    3.860001      21.636776     12.0           111           0.663089   \n",
       "10   4.870001      29.284433     44.0            47           0.615482   \n",
       "11   3.930000      27.540297     73.0           468           0.566166   \n",
       "12   4.080000      34.430378     55.0           399           0.444341   \n",
       "13   3.640000      36.730580     57.0           561           0.468999   \n",
       "14   4.140000      58.309860    125.0           470           0.522466   \n",
       "15   2.680000      43.790855   1421.0          1661           0.334479   \n",
       "16   2.110000      45.869568   2235.0          2064           0.331306   \n",
       "17   1.700000      51.515156   7601.0          4663           0.307868   \n",
       "18   1.180000      52.444447   7181.0          3041           0.295295   \n",
       "19   0.740000      49.664430  11415.0          6048           0.279304   \n",
       "20   0.380000      39.583340   4417.0          3033           0.272590   \n",
       "21   0.190000      32.203392   9410.0          4494           0.271003   \n",
       "22   0.070000      19.444443   3388.0          1862           0.271736   \n",
       "23   0.000000       0.000000   2164.0          3295           0.274910   \n",
       "24   0.020000      13.333329    915.0          1754           0.310065   \n",
       "25  -0.010000      -9.090907   1958.0          2653           0.315925   \n",
       "26   0.020000      22.222216    147.0           906           0.341803   \n",
       "27  -0.020000     -22.222225    531.0          2367           0.357428   \n",
       "28   0.020000      50.000000    102.0           520           0.388678   \n",
       "29   0.010000      25.000006    950.0          2459           0.402350   \n",
       "30   0.000000       0.000000    239.0           662           0.421881   \n",
       "31  -0.020000     -33.333336    217.0          3811           0.437506   \n",
       "32  -0.020000     -40.000004     11.0           455           0.449224   \n",
       "33  -0.020000     -50.000000     98.0           961           0.476568   \n",
       "34  -0.020000     -66.666670      1.0           127           0.533208   \n",
       "35  -0.030000     -75.000000     27.0           983           0.503911   \n",
       "36  -0.020000     -66.666670      3.0           107           0.515630   \n",
       "37   0.000000       0.000000      1.0          1136           0.539067   \n",
       "38  -0.020000     -66.666670      2.0           324           0.558598   \n",
       "39   0.000000       0.000000     13.0           692           0.652347   \n",
       "40   0.000000       0.000000     34.0          1357           0.562504   \n",
       "41   0.010000            NaN      NaN             5           0.828127   \n",
       "42   0.010000            NaN     10.0             0           0.796877   \n",
       "43   0.010000            NaN      5.0             0           0.812502   \n",
       "\n",
       "    inTheMoney contractSize currency  \n",
       "0         True      REGULAR      USD  \n",
       "1         True      REGULAR      USD  \n",
       "2         True      REGULAR      USD  \n",
       "3         True      REGULAR      USD  \n",
       "4         True      REGULAR      USD  \n",
       "5         True      REGULAR      USD  \n",
       "6         True      REGULAR      USD  \n",
       "7         True      REGULAR      USD  \n",
       "8         True      REGULAR      USD  \n",
       "9         True      REGULAR      USD  \n",
       "10        True      REGULAR      USD  \n",
       "11        True      REGULAR      USD  \n",
       "12        True      REGULAR      USD  \n",
       "13        True      REGULAR      USD  \n",
       "14        True      REGULAR      USD  \n",
       "15        True      REGULAR      USD  \n",
       "16        True      REGULAR      USD  \n",
       "17        True      REGULAR      USD  \n",
       "18        True      REGULAR      USD  \n",
       "19       False      REGULAR      USD  \n",
       "20       False      REGULAR      USD  \n",
       "21       False      REGULAR      USD  \n",
       "22       False      REGULAR      USD  \n",
       "23       False      REGULAR      USD  \n",
       "24       False      REGULAR      USD  \n",
       "25       False      REGULAR      USD  \n",
       "26       False      REGULAR      USD  \n",
       "27       False      REGULAR      USD  \n",
       "28       False      REGULAR      USD  \n",
       "29       False      REGULAR      USD  \n",
       "30       False      REGULAR      USD  \n",
       "31       False      REGULAR      USD  \n",
       "32       False      REGULAR      USD  \n",
       "33       False      REGULAR      USD  \n",
       "34       False      REGULAR      USD  \n",
       "35       False      REGULAR      USD  \n",
       "36       False      REGULAR      USD  \n",
       "37       False      REGULAR      USD  \n",
       "38       False      REGULAR      USD  \n",
       "39       False      REGULAR      USD  \n",
       "40       False      REGULAR      USD  \n",
       "41       False      REGULAR      USD  \n",
       "42       False      REGULAR      USD  \n",
       "43       False      REGULAR      USD  , puts=         contractSymbol       lastTradeDate  strike  lastPrice    bid    ask  \\\n",
       "0   MSFT201002P00150000 2020-09-25 19:19:28   150.0       0.05   0.01   0.03   \n",
       "1   MSFT201002P00155000 2020-09-25 19:31:49   155.0       0.02   0.00   0.03   \n",
       "2   MSFT201002P00160000 2020-09-25 19:59:33   160.0       0.02   0.02   0.03   \n",
       "3   MSFT201002P00165000 2020-09-25 19:49:17   165.0       0.04   0.03   0.05   \n",
       "4   MSFT201002P00167500 2020-09-25 19:59:43   167.5       0.05   0.02   0.05   \n",
       "5   MSFT201002P00170000 2020-09-25 19:50:25   170.0       0.04   0.04   0.07   \n",
       "6   MSFT201002P00172500 2020-09-25 17:08:34   172.5       0.10   0.01   0.08   \n",
       "7   MSFT201002P00175000 2020-09-25 19:50:14   175.0       0.14   0.05   0.17   \n",
       "8   MSFT201002P00177500 2020-09-25 19:56:02   177.5       0.10   0.03   0.12   \n",
       "9   MSFT201002P00180000 2020-09-25 19:59:31   180.0       0.13   0.13   0.14   \n",
       "10  MSFT201002P00182500 2020-09-25 19:54:52   182.5       0.21   0.08   0.21   \n",
       "11  MSFT201002P00185000 2020-09-25 19:58:59   185.0       0.20   0.19   0.23   \n",
       "12  MSFT201002P00187500 2020-09-25 19:59:23   187.5       0.23   0.17   0.28   \n",
       "13  MSFT201002P00190000 2020-09-25 19:59:53   190.0       0.36   0.30   0.36   \n",
       "14  MSFT201002P00192500 2020-09-25 19:59:56   192.5       0.37   0.34   0.44   \n",
       "15  MSFT201002P00195000 2020-09-25 19:59:41   195.0       0.52   0.49   0.53   \n",
       "16  MSFT201002P00197500 2020-09-25 19:59:25   197.5       0.70   0.64   0.80   \n",
       "17  MSFT201002P00200000 2020-09-25 19:59:58   200.0       1.00   0.95   1.01   \n",
       "18  MSFT201002P00202500 2020-09-25 19:59:33   202.5       1.47   1.41   1.50   \n",
       "19  MSFT201002P00205000 2020-09-25 19:59:44   205.0       2.16   2.10   2.20   \n",
       "20  MSFT201002P00207500 2020-09-25 19:59:55   207.5       3.07   3.00   3.30   \n",
       "21  MSFT201002P00210000 2020-09-25 19:59:58   210.0       4.38   4.10   4.95   \n",
       "22  MSFT201002P00212500 2020-09-25 19:58:22   212.5       6.00   5.65   6.35   \n",
       "23  MSFT201002P00215000 2020-09-25 19:59:28   215.0       7.97   7.35   9.00   \n",
       "24  MSFT201002P00217500 2020-09-25 19:50:56   217.5      10.05   9.70  10.85   \n",
       "25  MSFT201002P00220000 2020-09-25 19:39:28   220.0      12.35  12.25  13.30   \n",
       "26  MSFT201002P00222500 2020-09-25 19:50:09   222.5      14.58  14.20  15.70   \n",
       "27  MSFT201002P00225000 2020-09-25 19:19:23   225.0      16.30  16.65  18.05   \n",
       "28  MSFT201002P00227500 2020-09-25 16:48:28   227.5      21.03  19.10  20.30   \n",
       "29  MSFT201002P00230000 2020-09-25 19:29:44   230.0      21.77  21.60  23.00   \n",
       "30  MSFT201002P00232500 2020-09-25 13:46:31   232.5      29.35  24.00  25.50   \n",
       "31  MSFT201002P00235000 2020-09-25 15:53:15   235.0      29.31  26.60  28.00   \n",
       "32  MSFT201002P00237500 2020-09-25 17:25:55   237.5      31.32  29.05  30.50   \n",
       "33  MSFT201002P00240000 2020-09-21 14:03:14   240.0      42.96  31.55  33.00   \n",
       "34  MSFT201002P00245000 2020-09-21 13:43:04   245.0      47.70  36.50  38.00   \n",
       "35  MSFT201002P00250000 2020-09-25 18:01:06   250.0      42.91  41.50  43.00   \n",
       "36  MSFT201002P00255000 2020-09-22 15:11:52   255.0      52.55  46.55  47.95   \n",
       "37  MSFT201002P00257500 2020-09-23 17:53:18   257.5      53.65  49.00  50.45   \n",
       "38  MSFT201002P00260000 2020-09-23 14:35:30   260.0      55.30  51.50  52.95   \n",
       "39  MSFT201002P00265000 2020-09-23 13:49:10   265.0      58.90  56.55  57.85   \n",
       "\n",
       "       change  percentChange  volume  openInterest  impliedVolatility  \\\n",
       "0    0.030000     150.000020     9.0          1638           0.859376   \n",
       "1   -0.010000     -33.333336    35.0           685           0.757815   \n",
       "2   -0.030000     -60.000004   439.0           918           0.718753   \n",
       "3   -0.040000     -50.000000   271.0           686           0.679691   \n",
       "4    0.050000            NaN    15.0            15           0.628910   \n",
       "5   -0.080000     -66.666670   353.0          1004           0.625004   \n",
       "6    0.100000            NaN   542.0            15           0.568364   \n",
       "7   -0.070000     -33.333332   741.0          1602           0.598637   \n",
       "8    0.100000            NaN   118.0             2           0.525395   \n",
       "9   -0.180000     -58.064520  1059.0          2237           0.530278   \n",
       "10   0.210000            NaN   213.0            36           0.525395   \n",
       "11  -0.350000     -63.636368   669.0          2076           0.488286   \n",
       "12  -0.590000     -71.951220   298.0          1342           0.459478   \n",
       "13  -0.540000     -59.999996  1368.0          2009           0.435064   \n",
       "14  -0.820000     -68.907560  1408.0          2023           0.404303   \n",
       "15  -1.120000     -68.292690  2516.0          2765           0.370123   \n",
       "16  -1.500000     -68.181816  1692.0          2856           0.358893   \n",
       "17  -2.000000     -66.666670  4043.0          4448           0.325690   \n",
       "18  -2.360000     -61.618797  2755.0          1523           0.312507   \n",
       "19  -2.890000     -57.227726  3915.0          3090           0.300544   \n",
       "20  -3.380000     -52.403100  2909.0           747           0.301399   \n",
       "21  -3.660000     -45.522385   923.0          1621           0.325812   \n",
       "22  -2.500000     -29.411766   288.0           824           0.303840   \n",
       "23  -4.440000     -35.777600   429.0           787           0.388312   \n",
       "24  -3.830000     -27.593660    87.0           453           0.376715   \n",
       "25  -5.740000     -31.730238   128.0          1492           0.425787   \n",
       "26  -5.150000     -26.102383    15.0           381           0.463873   \n",
       "27  -3.460001     -17.510126   152.0           420           0.489263   \n",
       "28  -2.369999     -10.128201    61.0           138           0.489019   \n",
       "29  -4.680000     -17.693762    26.0           227           0.571782   \n",
       "30  -3.550001     -10.790277     1.0            31           0.614994   \n",
       "31  -1.140001      -3.743847    15.0           157           0.657230   \n",
       "32   1.559999       5.241933     1.0             1           0.698245   \n",
       "33   0.000000       0.000000     1.0            14           0.737796   \n",
       "34   0.000000       0.000000     1.0             3           0.529302   \n",
       "35  -7.189999     -14.351294     4.0             0           0.583989   \n",
       "36   0.000000       0.000000     3.0             2           0.636722   \n",
       "37  53.650000            NaN     NaN             1           0.628910   \n",
       "38  55.300000            NaN     NaN            12           0.652347   \n",
       "39   0.000000       0.000000     4.0            15           0.644535   \n",
       "\n",
       "    inTheMoney contractSize currency  \n",
       "0        False      REGULAR      USD  \n",
       "1        False      REGULAR      USD  \n",
       "2        False      REGULAR      USD  \n",
       "3        False      REGULAR      USD  \n",
       "4        False      REGULAR      USD  \n",
       "5        False      REGULAR      USD  \n",
       "6        False      REGULAR      USD  \n",
       "7        False      REGULAR      USD  \n",
       "8        False      REGULAR      USD  \n",
       "9        False      REGULAR      USD  \n",
       "10       False      REGULAR      USD  \n",
       "11       False      REGULAR      USD  \n",
       "12       False      REGULAR      USD  \n",
       "13       False      REGULAR      USD  \n",
       "14       False      REGULAR      USD  \n",
       "15       False      REGULAR      USD  \n",
       "16       False      REGULAR      USD  \n",
       "17       False      REGULAR      USD  \n",
       "18       False      REGULAR      USD  \n",
       "19       False      REGULAR      USD  \n",
       "20       False      REGULAR      USD  \n",
       "21        True      REGULAR      USD  \n",
       "22        True      REGULAR      USD  \n",
       "23        True      REGULAR      USD  \n",
       "24        True      REGULAR      USD  \n",
       "25        True      REGULAR      USD  \n",
       "26        True      REGULAR      USD  \n",
       "27        True      REGULAR      USD  \n",
       "28        True      REGULAR      USD  \n",
       "29        True      REGULAR      USD  \n",
       "30        True      REGULAR      USD  \n",
       "31        True      REGULAR      USD  \n",
       "32        True      REGULAR      USD  \n",
       "33        True      REGULAR      USD  \n",
       "34        True      REGULAR      USD  \n",
       "35        True      REGULAR      USD  \n",
       "36        True      REGULAR      USD  \n",
       "37        True      REGULAR      USD  \n",
       "38        True      REGULAR      USD  \n",
       "39        True      REGULAR      USD  )"
      ]
     },
     "execution_count": 221,
     "metadata": {},
     "output_type": "execute_result"
    }
   ],
   "source": [
    "msft.option_chain('2020-10-01')"
   ]
  },
  {
   "cell_type": "code",
   "execution_count": 213,
   "metadata": {
    "ExecuteTime": {
     "end_time": "2020-09-26T00:51:59.184734Z",
     "start_time": "2020-09-26T00:51:58.829819Z"
    }
   },
   "outputs": [],
   "source": [
    "hist = msft.history(period=\"5d\")"
   ]
  },
  {
   "cell_type": "code",
   "execution_count": 214,
   "metadata": {
    "ExecuteTime": {
     "end_time": "2020-09-26T00:52:06.795539Z",
     "start_time": "2020-09-26T00:52:06.787158Z"
    }
   },
   "outputs": [
    {
     "data": {
      "text/html": [
       "<div>\n",
       "<style scoped>\n",
       "    .dataframe tbody tr th:only-of-type {\n",
       "        vertical-align: middle;\n",
       "    }\n",
       "\n",
       "    .dataframe tbody tr th {\n",
       "        vertical-align: top;\n",
       "    }\n",
       "\n",
       "    .dataframe thead th {\n",
       "        text-align: right;\n",
       "    }\n",
       "</style>\n",
       "<table border=\"1\" class=\"dataframe\">\n",
       "  <thead>\n",
       "    <tr style=\"text-align: right;\">\n",
       "      <th></th>\n",
       "      <th>Open</th>\n",
       "      <th>High</th>\n",
       "      <th>Low</th>\n",
       "      <th>Close</th>\n",
       "      <th>Volume</th>\n",
       "      <th>Dividends</th>\n",
       "      <th>Stock Splits</th>\n",
       "    </tr>\n",
       "    <tr>\n",
       "      <th>Date</th>\n",
       "      <th></th>\n",
       "      <th></th>\n",
       "      <th></th>\n",
       "      <th></th>\n",
       "      <th></th>\n",
       "      <th></th>\n",
       "      <th></th>\n",
       "    </tr>\n",
       "  </thead>\n",
       "  <tbody>\n",
       "    <tr>\n",
       "      <th>2020-09-21</th>\n",
       "      <td>197.19</td>\n",
       "      <td>202.71</td>\n",
       "      <td>196.38</td>\n",
       "      <td>202.54</td>\n",
       "      <td>39839700</td>\n",
       "      <td>0</td>\n",
       "      <td>0</td>\n",
       "    </tr>\n",
       "    <tr>\n",
       "      <th>2020-09-22</th>\n",
       "      <td>205.06</td>\n",
       "      <td>208.10</td>\n",
       "      <td>202.08</td>\n",
       "      <td>207.42</td>\n",
       "      <td>33517100</td>\n",
       "      <td>0</td>\n",
       "      <td>0</td>\n",
       "    </tr>\n",
       "    <tr>\n",
       "      <th>2020-09-23</th>\n",
       "      <td>207.90</td>\n",
       "      <td>208.10</td>\n",
       "      <td>200.03</td>\n",
       "      <td>200.59</td>\n",
       "      <td>30803800</td>\n",
       "      <td>0</td>\n",
       "      <td>0</td>\n",
       "    </tr>\n",
       "    <tr>\n",
       "      <th>2020-09-24</th>\n",
       "      <td>199.85</td>\n",
       "      <td>205.57</td>\n",
       "      <td>199.20</td>\n",
       "      <td>203.19</td>\n",
       "      <td>31202500</td>\n",
       "      <td>0</td>\n",
       "      <td>0</td>\n",
       "    </tr>\n",
       "    <tr>\n",
       "      <th>2020-09-25</th>\n",
       "      <td>203.55</td>\n",
       "      <td>209.04</td>\n",
       "      <td>202.54</td>\n",
       "      <td>207.82</td>\n",
       "      <td>29416000</td>\n",
       "      <td>0</td>\n",
       "      <td>0</td>\n",
       "    </tr>\n",
       "  </tbody>\n",
       "</table>\n",
       "</div>"
      ],
      "text/plain": [
       "              Open    High     Low   Close    Volume  Dividends  Stock Splits\n",
       "Date                                                                         \n",
       "2020-09-21  197.19  202.71  196.38  202.54  39839700          0             0\n",
       "2020-09-22  205.06  208.10  202.08  207.42  33517100          0             0\n",
       "2020-09-23  207.90  208.10  200.03  200.59  30803800          0             0\n",
       "2020-09-24  199.85  205.57  199.20  203.19  31202500          0             0\n",
       "2020-09-25  203.55  209.04  202.54  207.82  29416000          0             0"
      ]
     },
     "execution_count": 214,
     "metadata": {},
     "output_type": "execute_result"
    }
   ],
   "source": [
    "hist"
   ]
  },
  {
   "cell_type": "code",
   "execution_count": 210,
   "metadata": {
    "ExecuteTime": {
     "end_time": "2020-09-26T00:51:07.213224Z",
     "start_time": "2020-09-26T00:51:07.161555Z"
    }
   },
   "outputs": [],
   "source": [
    "rdd = sc.textFile(\"63190-0.txt\")"
   ]
  },
  {
   "cell_type": "code",
   "execution_count": 2,
   "metadata": {
    "ExecuteTime": {
     "end_time": "2020-09-20T01:04:51.636783Z",
     "start_time": "2020-09-20T01:04:50.724505Z"
    }
   },
   "outputs": [
    {
     "data": {
      "text/plain": [
       "[\"Project Gutenberg's Proverbs of All Nations, by Walter Keating Kelly\",\n",
       " '',\n",
       " 'This eBook is for the use of anyone anywhere in the United States and most',\n",
       " 'other parts of the world at no cost and with almost no restrictions',\n",
       " 'whatsoever.  You may copy it, give it away or re-use it under the terms of']"
      ]
     },
     "execution_count": 2,
     "metadata": {},
     "output_type": "execute_result"
    }
   ],
   "source": [
    "rdd.take(5)"
   ]
  },
  {
   "cell_type": "code",
   "execution_count": 9,
   "metadata": {},
   "outputs": [
    {
     "data": {
      "text/plain": [
       "['Project', \"Gutenberg's\", 'Proverbs', 'All', 'Nations,']"
      ]
     },
     "execution_count": 9,
     "metadata": {},
     "output_type": "execute_result"
    }
   ],
   "source": [
    "rdd2 = rdd.flatMap(lambda x: x.split(\" \")).filter(lambda x:  x not in stopwords.words('english'))\n",
    "rdd2.take(5)"
   ]
  },
  {
   "cell_type": "code",
   "execution_count": 2,
   "metadata": {},
   "outputs": [
    {
     "data": {
      "text/plain": [
       "[\"Project Gutenberg's Proverbs of All Nations, by Walter Keating Kelly\",\n",
       " '',\n",
       " 'This eBook is for the use of anyone anywhere in the United States and most',\n",
       " 'other parts of the world at no cost and with almost no restrictions',\n",
       " 'whatsoever.  You may copy it, give it away or re-use it under the terms of']"
      ]
     },
     "execution_count": 2,
     "metadata": {},
     "output_type": "execute_result"
    }
   ],
   "source": [
    "rdd.take(5)"
   ]
  },
  {
   "cell_type": "markdown",
   "metadata": {},
   "source": [
    "# flatMap + remove stop words"
   ]
  },
  {
   "cell_type": "code",
   "execution_count": 6,
   "metadata": {},
   "outputs": [
    {
     "data": {
      "text/plain": [
       "34208"
      ]
     },
     "execution_count": 6,
     "metadata": {},
     "output_type": "execute_result"
    }
   ],
   "source": [
    "rdd_p = rdd.flatMap(lambda x: x.lower().split()).filter(lambda x: x not in stopwords.words('english') )\n",
    "len(rdd_p.collect())"
   ]
  },
  {
   "cell_type": "code",
   "execution_count": 6,
   "metadata": {
    "scrolled": true
   },
   "outputs": [
    {
     "data": {
      "text/plain": [
       "['project', \"gutenberg's\"]"
      ]
     },
     "execution_count": 6,
     "metadata": {},
     "output_type": "execute_result"
    }
   ],
   "source": [
    "rdd_p.take(2)"
   ]
  },
  {
   "cell_type": "code",
   "execution_count": 4,
   "metadata": {},
   "outputs": [
    {
     "data": {
      "text/plain": [
       "['project', \"gutenberg's\", 'proverbs', 'of']"
      ]
     },
     "execution_count": 4,
     "metadata": {},
     "output_type": "execute_result"
    }
   ],
   "source": [
    "def processsss(lines: str):\n",
    "    lines = lines.lower()\n",
    "    lines = lines.split()\n",
    "    return lines\n",
    "rdd1 = rdd.flatMap(processsss)\n",
    "rdd1.take(4)"
   ]
  },
  {
   "cell_type": "markdown",
   "metadata": {},
   "source": [
    "# filter"
   ]
  },
  {
   "cell_type": "code",
   "execution_count": 14,
   "metadata": {},
   "outputs": [
    {
     "data": {
      "text/plain": [
       "['project', \"gutenberg's\", 'proverbs', 'nations,', 'walter']"
      ]
     },
     "execution_count": 14,
     "metadata": {},
     "output_type": "execute_result"
    }
   ],
   "source": [
    "rdd2 = rdd1.filter(lambda x: x not in stopwords.words('english'))\n",
    "rdd2.take(5)"
   ]
  },
  {
   "cell_type": "markdown",
   "metadata": {},
   "source": [
    "Group 3 first words"
   ]
  },
  {
   "cell_type": "markdown",
   "metadata": {},
   "source": [
    "# groupBy"
   ]
  },
  {
   "cell_type": "code",
   "execution_count": 30,
   "metadata": {
    "ExecuteTime": {
     "end_time": "2021-05-23T03:34:17.591100Z",
     "start_time": "2021-05-23T03:34:17.588691Z"
    }
   },
   "outputs": [],
   "source": [
    "rdd2 = rdd.flatMap(lambda x:x.lower().split(\",\"))"
   ]
  },
  {
   "cell_type": "code",
   "execution_count": 31,
   "metadata": {
    "ExecuteTime": {
     "end_time": "2021-05-23T03:34:19.698172Z",
     "start_time": "2021-05-23T03:34:19.696093Z"
    }
   },
   "outputs": [],
   "source": [
    "rdd3 = rdd2.filter(lambda x: x not in stopwords.words('english'))"
   ]
  },
  {
   "cell_type": "code",
   "execution_count": 36,
   "metadata": {
    "ExecuteTime": {
     "end_time": "2021-05-23T03:35:17.494478Z",
     "start_time": "2021-05-23T03:35:17.477797Z"
    }
   },
   "outputs": [],
   "source": [
    "rdd4 = rdd3.groupBy(lambda x:x[:3])"
   ]
  },
  {
   "cell_type": "code",
   "execution_count": 37,
   "metadata": {
    "ExecuteTime": {
     "end_time": "2021-05-23T03:35:45.660718Z",
     "start_time": "2021-05-23T03:35:21.089170Z"
    }
   },
   "outputs": [
    {
     "data": {
      "text/plain": [
       "[('', <pyspark.resultiterable.ResultIterable at 0x7f16d46be760>),\n",
       " ('clo', <pyspark.resultiterable.ResultIterable at 0x7f16d46be100>),\n",
       " ('low', <pyspark.resultiterable.ResultIterable at 0x7f16d46be6a0>),\n",
       " ('27.', <pyspark.resultiterable.ResultIterable at 0x7f16d46be580>)]"
      ]
     },
     "execution_count": 37,
     "metadata": {},
     "output_type": "execute_result"
    }
   ],
   "source": [
    "rdd4.take(4)"
   ]
  },
  {
   "cell_type": "code",
   "execution_count": 23,
   "metadata": {},
   "outputs": [
    {
     "name": "stdout",
     "output_type": "stream",
     "text": [
      "[('nat', ['nations,', 'nations', 'nations', 'nations.', 'nations,', 'natural', 'nation', 'national', 'nature', 'natural', 'national', 'nations.', 'naturalised', 'natural', 'natural', 'nature,', 'nature', 'nature', 'naturel,', 'nature,', 'natura,', 'nature,', \"nation--'the\", 'natural', 'nations', 'nature\").', 'nation,', 'nation', 'natural', 'nature', 'nature.=', 'nature', 'nature', 'naturam', 'naturalised', 'naturally', 'nation', 'nation;\"', 'nature,', 'natur,', 'nature', 'native', 'national', 'naturally', 'national', 'nations.', 'nations', 'nations,', 'nations'])]\n"
     ]
    }
   ],
   "source": [
    "rdd3 = rdd2.groupBy(lambda w:w[:3])\n",
    "print([(k,list(v)) for k,v in rdd3.take(1)])"
   ]
  },
  {
   "cell_type": "code",
   "execution_count": 21,
   "metadata": {},
   "outputs": [
    {
     "data": {
      "text/plain": [
       "[('nat', <pyspark.resultiterable.ResultIterable at 0x7f6d3b66f9a0>)]"
      ]
     },
     "execution_count": 21,
     "metadata": {},
     "output_type": "execute_result"
    }
   ],
   "source": [
    "list(rdd3.take(1))"
   ]
  },
  {
   "cell_type": "markdown",
   "metadata": {},
   "source": [
    "# sample"
   ]
  },
  {
   "cell_type": "code",
   "execution_count": 21,
   "metadata": {},
   "outputs": [],
   "source": [
    "rdd_p_sample = rdd_p.sample(False, 0.1, 199)\n",
    "# sample2 = rdd2.sample(False, 0.1, 199)\n",
    "# print(len(rdd2.collect()), len(sample1.collect()), len(sample2.collect()))\n",
    "# jss = sample1.join(sample2)\n",
    "# jss.collect()"
   ]
  },
  {
   "cell_type": "markdown",
   "metadata": {},
   "source": [
    "# union"
   ]
  },
  {
   "cell_type": "code",
   "execution_count": null,
   "metadata": {},
   "outputs": [],
   "source": [
    "sample1 = rdd_p_sample.sample(False, 0.1, 199)\n",
    "sample2 = rdd_p_sample.sample(False, 0.1, 199)\n",
    "print(len(rdd_p_sample.collect()), len(sample1.collect()), len(sample2.collect()))\n",
    "jss = sample1.union(sample2)\n",
    "jss.collect()"
   ]
  },
  {
   "cell_type": "markdown",
   "metadata": {},
   "source": [
    "# create partitions"
   ]
  },
  {
   "cell_type": "code",
   "execution_count": 39,
   "metadata": {
    "ExecuteTime": {
     "end_time": "2021-05-23T03:52:13.893430Z",
     "start_time": "2021-05-23T03:50:30.968339Z"
    },
    "scrolled": true
   },
   "outputs": [
    {
     "data": {
      "text/plain": [
       "499999999500000000"
      ]
     },
     "execution_count": 39,
     "metadata": {},
     "output_type": "execute_result"
    }
   ],
   "source": [
    "num_rdd = sc.parallelize(range(1,1000000000),3)\n",
    "num_rdd.reduce(lambda x,y:x+y)"
   ]
  },
  {
   "cell_type": "code",
   "execution_count": 14,
   "metadata": {
    "ExecuteTime": {
     "end_time": "2020-10-02T03:37:04.309156Z",
     "start_time": "2020-10-02T03:37:03.898827Z"
    }
   },
   "outputs": [],
   "source": [
    "df = spark.read.option('header',True).option('inferSchema',True).csv(\"Metro_zhvi_uc_sfrcondo_tier_0.33_0.67_sm_sa_mon.csv\")"
   ]
  },
  {
   "cell_type": "code",
   "execution_count": 15,
   "metadata": {
    "ExecuteTime": {
     "end_time": "2020-10-02T03:37:06.493137Z",
     "start_time": "2020-10-02T03:37:06.462793Z"
    },
    "collapsed": true
   },
   "outputs": [
    {
     "name": "stdout",
     "output_type": "stream",
     "text": [
      "root\n",
      " |-- RegionID: integer (nullable = true)\n",
      " |-- SizeRank: integer (nullable = true)\n",
      " |-- RegionName: string (nullable = true)\n",
      " |-- RegionType: string (nullable = true)\n",
      " |-- StateName: string (nullable = true)\n",
      " |-- 1996-01-31: double (nullable = true)\n",
      " |-- 1996-02-29: double (nullable = true)\n",
      " |-- 1996-03-31: double (nullable = true)\n",
      " |-- 1996-04-30: double (nullable = true)\n",
      " |-- 1996-05-31: double (nullable = true)\n",
      " |-- 1996-06-30: double (nullable = true)\n",
      " |-- 1996-07-31: double (nullable = true)\n",
      " |-- 1996-08-31: double (nullable = true)\n",
      " |-- 1996-09-30: double (nullable = true)\n",
      " |-- 1996-10-31: double (nullable = true)\n",
      " |-- 1996-11-30: double (nullable = true)\n",
      " |-- 1996-12-31: double (nullable = true)\n",
      " |-- 1997-01-31: double (nullable = true)\n",
      " |-- 1997-02-28: double (nullable = true)\n",
      " |-- 1997-03-31: double (nullable = true)\n",
      " |-- 1997-04-30: double (nullable = true)\n",
      " |-- 1997-05-31: double (nullable = true)\n",
      " |-- 1997-06-30: double (nullable = true)\n",
      " |-- 1997-07-31: double (nullable = true)\n",
      " |-- 1997-08-31: double (nullable = true)\n",
      " |-- 1997-09-30: double (nullable = true)\n",
      " |-- 1997-10-31: double (nullable = true)\n",
      " |-- 1997-11-30: double (nullable = true)\n",
      " |-- 1997-12-31: double (nullable = true)\n",
      " |-- 1998-01-31: double (nullable = true)\n",
      " |-- 1998-02-28: double (nullable = true)\n",
      " |-- 1998-03-31: double (nullable = true)\n",
      " |-- 1998-04-30: double (nullable = true)\n",
      " |-- 1998-05-31: double (nullable = true)\n",
      " |-- 1998-06-30: double (nullable = true)\n",
      " |-- 1998-07-31: double (nullable = true)\n",
      " |-- 1998-08-31: double (nullable = true)\n",
      " |-- 1998-09-30: double (nullable = true)\n",
      " |-- 1998-10-31: double (nullable = true)\n",
      " |-- 1998-11-30: double (nullable = true)\n",
      " |-- 1998-12-31: double (nullable = true)\n",
      " |-- 1999-01-31: double (nullable = true)\n",
      " |-- 1999-02-28: double (nullable = true)\n",
      " |-- 1999-03-31: double (nullable = true)\n",
      " |-- 1999-04-30: double (nullable = true)\n",
      " |-- 1999-05-31: double (nullable = true)\n",
      " |-- 1999-06-30: double (nullable = true)\n",
      " |-- 1999-07-31: double (nullable = true)\n",
      " |-- 1999-08-31: double (nullable = true)\n",
      " |-- 1999-09-30: double (nullable = true)\n",
      " |-- 1999-10-31: double (nullable = true)\n",
      " |-- 1999-11-30: double (nullable = true)\n",
      " |-- 1999-12-31: double (nullable = true)\n",
      " |-- 2000-01-31: double (nullable = true)\n",
      " |-- 2000-02-29: double (nullable = true)\n",
      " |-- 2000-03-31: double (nullable = true)\n",
      " |-- 2000-04-30: double (nullable = true)\n",
      " |-- 2000-05-31: double (nullable = true)\n",
      " |-- 2000-06-30: double (nullable = true)\n",
      " |-- 2000-07-31: double (nullable = true)\n",
      " |-- 2000-08-31: double (nullable = true)\n",
      " |-- 2000-09-30: double (nullable = true)\n",
      " |-- 2000-10-31: double (nullable = true)\n",
      " |-- 2000-11-30: double (nullable = true)\n",
      " |-- 2000-12-31: double (nullable = true)\n",
      " |-- 2001-01-31: double (nullable = true)\n",
      " |-- 2001-02-28: double (nullable = true)\n",
      " |-- 2001-03-31: double (nullable = true)\n",
      " |-- 2001-04-30: double (nullable = true)\n",
      " |-- 2001-05-31: double (nullable = true)\n",
      " |-- 2001-06-30: double (nullable = true)\n",
      " |-- 2001-07-31: double (nullable = true)\n",
      " |-- 2001-08-31: double (nullable = true)\n",
      " |-- 2001-09-30: double (nullable = true)\n",
      " |-- 2001-10-31: double (nullable = true)\n",
      " |-- 2001-11-30: double (nullable = true)\n",
      " |-- 2001-12-31: double (nullable = true)\n",
      " |-- 2002-01-31: double (nullable = true)\n",
      " |-- 2002-02-28: double (nullable = true)\n",
      " |-- 2002-03-31: double (nullable = true)\n",
      " |-- 2002-04-30: double (nullable = true)\n",
      " |-- 2002-05-31: double (nullable = true)\n",
      " |-- 2002-06-30: double (nullable = true)\n",
      " |-- 2002-07-31: double (nullable = true)\n",
      " |-- 2002-08-31: double (nullable = true)\n",
      " |-- 2002-09-30: double (nullable = true)\n",
      " |-- 2002-10-31: double (nullable = true)\n",
      " |-- 2002-11-30: double (nullable = true)\n",
      " |-- 2002-12-31: double (nullable = true)\n",
      " |-- 2003-01-31: double (nullable = true)\n",
      " |-- 2003-02-28: double (nullable = true)\n",
      " |-- 2003-03-31: double (nullable = true)\n",
      " |-- 2003-04-30: double (nullable = true)\n",
      " |-- 2003-05-31: double (nullable = true)\n",
      " |-- 2003-06-30: double (nullable = true)\n",
      " |-- 2003-07-31: double (nullable = true)\n",
      " |-- 2003-08-31: double (nullable = true)\n",
      " |-- 2003-09-30: double (nullable = true)\n",
      " |-- 2003-10-31: double (nullable = true)\n",
      " |-- 2003-11-30: double (nullable = true)\n",
      " |-- 2003-12-31: double (nullable = true)\n",
      " |-- 2004-01-31: double (nullable = true)\n",
      " |-- 2004-02-29: double (nullable = true)\n",
      " |-- 2004-03-31: double (nullable = true)\n",
      " |-- 2004-04-30: double (nullable = true)\n",
      " |-- 2004-05-31: double (nullable = true)\n",
      " |-- 2004-06-30: double (nullable = true)\n",
      " |-- 2004-07-31: double (nullable = true)\n",
      " |-- 2004-08-31: double (nullable = true)\n",
      " |-- 2004-09-30: double (nullable = true)\n",
      " |-- 2004-10-31: double (nullable = true)\n",
      " |-- 2004-11-30: double (nullable = true)\n",
      " |-- 2004-12-31: double (nullable = true)\n",
      " |-- 2005-01-31: double (nullable = true)\n",
      " |-- 2005-02-28: double (nullable = true)\n",
      " |-- 2005-03-31: double (nullable = true)\n",
      " |-- 2005-04-30: double (nullable = true)\n",
      " |-- 2005-05-31: double (nullable = true)\n",
      " |-- 2005-06-30: double (nullable = true)\n",
      " |-- 2005-07-31: double (nullable = true)\n",
      " |-- 2005-08-31: double (nullable = true)\n",
      " |-- 2005-09-30: double (nullable = true)\n",
      " |-- 2005-10-31: double (nullable = true)\n",
      " |-- 2005-11-30: double (nullable = true)\n",
      " |-- 2005-12-31: double (nullable = true)\n",
      " |-- 2006-01-31: double (nullable = true)\n",
      " |-- 2006-02-28: double (nullable = true)\n",
      " |-- 2006-03-31: double (nullable = true)\n",
      " |-- 2006-04-30: double (nullable = true)\n",
      " |-- 2006-05-31: double (nullable = true)\n",
      " |-- 2006-06-30: double (nullable = true)\n",
      " |-- 2006-07-31: double (nullable = true)\n",
      " |-- 2006-08-31: double (nullable = true)\n",
      " |-- 2006-09-30: double (nullable = true)\n",
      " |-- 2006-10-31: double (nullable = true)\n",
      " |-- 2006-11-30: double (nullable = true)\n",
      " |-- 2006-12-31: double (nullable = true)\n",
      " |-- 2007-01-31: double (nullable = true)\n",
      " |-- 2007-02-28: double (nullable = true)\n",
      " |-- 2007-03-31: double (nullable = true)\n",
      " |-- 2007-04-30: double (nullable = true)\n",
      " |-- 2007-05-31: double (nullable = true)\n",
      " |-- 2007-06-30: double (nullable = true)\n",
      " |-- 2007-07-31: double (nullable = true)\n",
      " |-- 2007-08-31: double (nullable = true)\n",
      " |-- 2007-09-30: double (nullable = true)\n",
      " |-- 2007-10-31: double (nullable = true)\n",
      " |-- 2007-11-30: double (nullable = true)\n",
      " |-- 2007-12-31: double (nullable = true)\n",
      " |-- 2008-01-31: double (nullable = true)\n",
      " |-- 2008-02-29: double (nullable = true)\n",
      " |-- 2008-03-31: double (nullable = true)\n",
      " |-- 2008-04-30: double (nullable = true)\n",
      " |-- 2008-05-31: double (nullable = true)\n",
      " |-- 2008-06-30: double (nullable = true)\n",
      " |-- 2008-07-31: double (nullable = true)\n",
      " |-- 2008-08-31: double (nullable = true)\n",
      " |-- 2008-09-30: double (nullable = true)\n",
      " |-- 2008-10-31: double (nullable = true)\n",
      " |-- 2008-11-30: double (nullable = true)\n",
      " |-- 2008-12-31: double (nullable = true)\n",
      " |-- 2009-01-31: double (nullable = true)\n",
      " |-- 2009-02-28: double (nullable = true)\n",
      " |-- 2009-03-31: double (nullable = true)\n",
      " |-- 2009-04-30: double (nullable = true)\n",
      " |-- 2009-05-31: double (nullable = true)\n",
      " |-- 2009-06-30: double (nullable = true)\n",
      " |-- 2009-07-31: double (nullable = true)\n",
      " |-- 2009-08-31: double (nullable = true)\n",
      " |-- 2009-09-30: double (nullable = true)\n",
      " |-- 2009-10-31: double (nullable = true)\n",
      " |-- 2009-11-30: double (nullable = true)\n",
      " |-- 2009-12-31: double (nullable = true)\n",
      " |-- 2010-01-31: double (nullable = true)\n",
      " |-- 2010-02-28: double (nullable = true)\n",
      " |-- 2010-03-31: double (nullable = true)\n",
      " |-- 2010-04-30: double (nullable = true)\n",
      " |-- 2010-05-31: double (nullable = true)\n",
      " |-- 2010-06-30: double (nullable = true)\n",
      " |-- 2010-07-31: double (nullable = true)\n",
      " |-- 2010-08-31: double (nullable = true)\n",
      " |-- 2010-09-30: double (nullable = true)\n",
      " |-- 2010-10-31: double (nullable = true)\n",
      " |-- 2010-11-30: double (nullable = true)\n",
      " |-- 2010-12-31: double (nullable = true)\n",
      " |-- 2011-01-31: double (nullable = true)\n",
      " |-- 2011-02-28: double (nullable = true)\n",
      " |-- 2011-03-31: double (nullable = true)\n",
      " |-- 2011-04-30: double (nullable = true)\n",
      " |-- 2011-05-31: double (nullable = true)\n",
      " |-- 2011-06-30: double (nullable = true)\n",
      " |-- 2011-07-31: double (nullable = true)\n",
      " |-- 2011-08-31: double (nullable = true)\n",
      " |-- 2011-09-30: double (nullable = true)\n",
      " |-- 2011-10-31: double (nullable = true)\n",
      " |-- 2011-11-30: double (nullable = true)\n",
      " |-- 2011-12-31: double (nullable = true)\n",
      " |-- 2012-01-31: double (nullable = true)\n",
      " |-- 2012-02-29: double (nullable = true)\n",
      " |-- 2012-03-31: double (nullable = true)\n",
      " |-- 2012-04-30: double (nullable = true)\n",
      " |-- 2012-05-31: double (nullable = true)\n",
      " |-- 2012-06-30: double (nullable = true)\n",
      " |-- 2012-07-31: double (nullable = true)\n",
      " |-- 2012-08-31: double (nullable = true)\n",
      " |-- 2012-09-30: double (nullable = true)\n",
      " |-- 2012-10-31: double (nullable = true)\n",
      " |-- 2012-11-30: double (nullable = true)\n",
      " |-- 2012-12-31: double (nullable = true)\n",
      " |-- 2013-01-31: double (nullable = true)\n",
      " |-- 2013-02-28: double (nullable = true)\n",
      " |-- 2013-03-31: double (nullable = true)\n",
      " |-- 2013-04-30: double (nullable = true)\n",
      " |-- 2013-05-31: double (nullable = true)\n",
      " |-- 2013-06-30: double (nullable = true)\n",
      " |-- 2013-07-31: double (nullable = true)\n",
      " |-- 2013-08-31: double (nullable = true)\n",
      " |-- 2013-09-30: double (nullable = true)\n",
      " |-- 2013-10-31: double (nullable = true)\n",
      " |-- 2013-11-30: double (nullable = true)\n",
      " |-- 2013-12-31: double (nullable = true)\n",
      " |-- 2014-01-31: double (nullable = true)\n",
      " |-- 2014-02-28: double (nullable = true)\n",
      " |-- 2014-03-31: double (nullable = true)\n",
      " |-- 2014-04-30: double (nullable = true)\n",
      " |-- 2014-05-31: double (nullable = true)\n",
      " |-- 2014-06-30: double (nullable = true)\n",
      " |-- 2014-07-31: double (nullable = true)\n",
      " |-- 2014-08-31: double (nullable = true)\n",
      " |-- 2014-09-30: double (nullable = true)\n",
      " |-- 2014-10-31: double (nullable = true)\n",
      " |-- 2014-11-30: double (nullable = true)\n",
      " |-- 2014-12-31: double (nullable = true)\n",
      " |-- 2015-01-31: double (nullable = true)\n",
      " |-- 2015-02-28: double (nullable = true)\n",
      " |-- 2015-03-31: double (nullable = true)\n",
      " |-- 2015-04-30: double (nullable = true)\n",
      " |-- 2015-05-31: double (nullable = true)\n",
      " |-- 2015-06-30: double (nullable = true)\n",
      " |-- 2015-07-31: double (nullable = true)\n",
      " |-- 2015-08-31: double (nullable = true)\n",
      " |-- 2015-09-30: double (nullable = true)\n",
      " |-- 2015-10-31: double (nullable = true)\n",
      " |-- 2015-11-30: double (nullable = true)\n",
      " |-- 2015-12-31: double (nullable = true)\n",
      " |-- 2016-01-31: double (nullable = true)\n",
      " |-- 2016-02-29: double (nullable = true)\n",
      " |-- 2016-03-31: double (nullable = true)\n",
      " |-- 2016-04-30: double (nullable = true)\n",
      " |-- 2016-05-31: double (nullable = true)\n",
      " |-- 2016-06-30: double (nullable = true)\n",
      " |-- 2016-07-31: double (nullable = true)\n",
      " |-- 2016-08-31: double (nullable = true)\n",
      " |-- 2016-09-30: double (nullable = true)\n",
      " |-- 2016-10-31: double (nullable = true)\n",
      " |-- 2016-11-30: double (nullable = true)\n",
      " |-- 2016-12-31: double (nullable = true)\n",
      " |-- 2017-01-31: double (nullable = true)\n",
      " |-- 2017-02-28: double (nullable = true)\n",
      " |-- 2017-03-31: double (nullable = true)\n",
      " |-- 2017-04-30: double (nullable = true)\n",
      " |-- 2017-05-31: double (nullable = true)\n",
      " |-- 2017-06-30: double (nullable = true)\n",
      " |-- 2017-07-31: double (nullable = true)\n",
      " |-- 2017-08-31: double (nullable = true)\n",
      " |-- 2017-09-30: double (nullable = true)\n",
      " |-- 2017-10-31: double (nullable = true)\n",
      " |-- 2017-11-30: double (nullable = true)\n",
      " |-- 2017-12-31: double (nullable = true)\n",
      " |-- 2018-01-31: double (nullable = true)\n",
      " |-- 2018-02-28: double (nullable = true)\n",
      " |-- 2018-03-31: double (nullable = true)\n",
      " |-- 2018-04-30: double (nullable = true)\n",
      " |-- 2018-05-31: double (nullable = true)\n",
      " |-- 2018-06-30: double (nullable = true)\n",
      " |-- 2018-07-31: double (nullable = true)\n",
      " |-- 2018-08-31: double (nullable = true)\n",
      " |-- 2018-09-30: double (nullable = true)\n",
      " |-- 2018-10-31: double (nullable = true)\n",
      " |-- 2018-11-30: double (nullable = true)\n",
      " |-- 2018-12-31: double (nullable = true)\n",
      " |-- 2019-01-31: double (nullable = true)\n",
      " |-- 2019-02-28: double (nullable = true)\n",
      " |-- 2019-03-31: double (nullable = true)\n",
      " |-- 2019-04-30: double (nullable = true)\n",
      " |-- 2019-05-31: double (nullable = true)\n",
      " |-- 2019-06-30: double (nullable = true)\n",
      " |-- 2019-07-31: double (nullable = true)\n",
      " |-- 2019-08-31: double (nullable = true)\n",
      " |-- 2019-09-30: double (nullable = true)\n",
      " |-- 2019-10-31: double (nullable = true)\n",
      " |-- 2019-11-30: double (nullable = true)\n",
      " |-- 2019-12-31: double (nullable = true)\n",
      " |-- 2020-01-31: double (nullable = true)\n",
      " |-- 2020-02-29: double (nullable = true)\n",
      " |-- 2020-03-31: double (nullable = true)\n",
      " |-- 2020-04-30: double (nullable = true)\n",
      " |-- 2020-05-31: double (nullable = true)\n",
      " |-- 2020-06-30: double (nullable = true)\n",
      " |-- 2020-07-31: double (nullable = true)\n",
      "\n"
     ]
    }
   ],
   "source": [
    "df.printSchema()"
   ]
  },
  {
   "cell_type": "code",
   "execution_count": 11,
   "metadata": {
    "scrolled": true
   },
   "outputs": [
    {
     "name": "stdout",
     "output_type": "stream",
     "text": [
      "+-------------+\n",
      "|   RegionName|\n",
      "+-------------+\n",
      "|United States|\n",
      "| New York, NY|\n",
      "+-------------+\n",
      "only showing top 2 rows\n",
      "\n"
     ]
    }
   ],
   "source": [
    "df.select(\"RegionName\").show(2)"
   ]
  },
  {
   "cell_type": "code",
   "execution_count": 40,
   "metadata": {
    "ExecuteTime": {
     "end_time": "2021-05-23T16:27:13.958643Z",
     "start_time": "2021-05-23T16:27:13.955914Z"
    }
   },
   "outputs": [
    {
     "data": {
      "text/plain": [
       "StructType(List(StructField(_c0,IntegerType,true),StructField(date,StringType,true),StructField(symbol,StringType,true),StructField(adj_close,DoubleType,true),StructField(close,DoubleType,true),StructField(high,DoubleType,true),StructField(low,DoubleType,true),StructField(open,DoubleType,true),StructField(volume,DoubleType,true)))"
      ]
     },
     "execution_count": 40,
     "metadata": {},
     "output_type": "execute_result"
    }
   ],
   "source": [
    "df.schema"
   ]
  },
  {
   "cell_type": "code",
   "execution_count": 57,
   "metadata": {
    "ExecuteTime": {
     "end_time": "2021-05-23T16:37:17.097888Z",
     "start_time": "2021-05-23T16:37:16.956655Z"
    }
   },
   "outputs": [
    {
     "name": "stdout",
     "output_type": "stream",
     "text": [
      "+----------+------+----------+-------------+\n",
      "|      date|symbol|    volume|(close + 100)|\n",
      "+----------+------+----------+-------------+\n",
      "|2013-01-02|  AAPL| 5.60518E8|     119.6082|\n",
      "|2013-01-02|   BAC|2.360214E8|       112.03|\n",
      "+----------+------+----------+-------------+\n",
      "only showing top 2 rows\n",
      "\n"
     ]
    }
   ],
   "source": [
    "df.filter(df[\"volume\"]>100000000).select(['date','symbol',\"volume\",df['close']+100]).show(2)"
   ]
  },
  {
   "cell_type": "code",
   "execution_count": null,
   "metadata": {
    "ExecuteTime": {
     "end_time": "2021-05-23T16:37:25.832294Z",
     "start_time": "2021-05-23T16:37:25.811044Z"
    }
   },
   "outputs": [],
   "source": [
    "df.select(df['RegionName'], df['1996-01-31'] + 1).show(2)"
   ]
  },
  {
   "cell_type": "code",
   "execution_count": 17,
   "metadata": {},
   "outputs": [
    {
     "name": "stdout",
     "output_type": "stream",
     "text": [
      "+--------+\n",
      "|RegionID|\n",
      "+--------+\n",
      "|  102001|\n",
      "|  394913|\n",
      "+--------+\n",
      "only showing top 2 rows\n",
      "\n"
     ]
    }
   ],
   "source": [
    "df.filter(df['1996-01-31'] > 19000).select(\"RegionID\").show(2)"
   ]
  },
  {
   "cell_type": "code",
   "execution_count": 32,
   "metadata": {},
   "outputs": [
    {
     "name": "stdout",
     "output_type": "stream",
     "text": [
      "+----------+-----------------+\n",
      "|RegionName|((1996 - 1) - 31)|\n",
      "+----------+-----------------+\n",
      "+----------+-----------------+\n",
      "\n"
     ]
    }
   ],
   "source": [
    "# to perform sql actions we create tempview\n",
    "df.createOrReplaceTempView(\"housing\")\n",
    "\n",
    "sqlDF = spark.sql(\"SELECT RegionName ,1996-01-31 FROM housing where '1996-01-31'>1000\")\n",
    "sqlDF.show()\n"
   ]
  },
  {
   "cell_type": "code",
   "execution_count": 20,
   "metadata": {},
   "outputs": [
    {
     "data": {
      "text/plain": [
       "<pyspark.sql.catalog.Catalog at 0x7feb662ca730>"
      ]
     },
     "execution_count": 20,
     "metadata": {},
     "output_type": "execute_result"
    }
   ],
   "source": [
    "spark.catalog"
   ]
  },
  {
   "cell_type": "code",
   "execution_count": 40,
   "metadata": {},
   "outputs": [
    {
     "data": {
      "text/html": [
       "<div>\n",
       "<style scoped>\n",
       "    .dataframe tbody tr th:only-of-type {\n",
       "        vertical-align: middle;\n",
       "    }\n",
       "\n",
       "    .dataframe tbody tr th {\n",
       "        vertical-align: top;\n",
       "    }\n",
       "\n",
       "    .dataframe thead th {\n",
       "        text-align: right;\n",
       "    }\n",
       "</style>\n",
       "<table border=\"1\" class=\"dataframe\">\n",
       "  <thead>\n",
       "    <tr style=\"text-align: right;\">\n",
       "      <th></th>\n",
       "      <th>RegionID</th>\n",
       "      <th>SizeRank</th>\n",
       "      <th>RegionName</th>\n",
       "      <th>RegionType</th>\n",
       "      <th>StateName</th>\n",
       "      <th>1996-01-31</th>\n",
       "      <th>1996-02-29</th>\n",
       "      <th>1996-03-31</th>\n",
       "      <th>1996-04-30</th>\n",
       "      <th>1996-05-31</th>\n",
       "      <th>...</th>\n",
       "      <th>2019-10-31</th>\n",
       "      <th>2019-11-30</th>\n",
       "      <th>2019-12-31</th>\n",
       "      <th>2020-01-31</th>\n",
       "      <th>2020-02-29</th>\n",
       "      <th>2020-03-31</th>\n",
       "      <th>2020-04-30</th>\n",
       "      <th>2020-05-31</th>\n",
       "      <th>2020-06-30</th>\n",
       "      <th>2020-07-31</th>\n",
       "    </tr>\n",
       "  </thead>\n",
       "  <tbody>\n",
       "    <tr>\n",
       "      <th>0</th>\n",
       "      <td>102001</td>\n",
       "      <td>0</td>\n",
       "      <td>United States</td>\n",
       "      <td>Country</td>\n",
       "      <td>None</td>\n",
       "      <td>106847.0</td>\n",
       "      <td>106874.0</td>\n",
       "      <td>106924.0</td>\n",
       "      <td>107049.0</td>\n",
       "      <td>107192.0</td>\n",
       "      <td>...</td>\n",
       "      <td>244560.0</td>\n",
       "      <td>245348.0</td>\n",
       "      <td>246171.0</td>\n",
       "      <td>247060.0</td>\n",
       "      <td>248046.0</td>\n",
       "      <td>249140.0</td>\n",
       "      <td>250271.0</td>\n",
       "      <td>251295.0</td>\n",
       "      <td>252312.0</td>\n",
       "      <td>253527.0</td>\n",
       "    </tr>\n",
       "    <tr>\n",
       "      <th>1</th>\n",
       "      <td>394913</td>\n",
       "      <td>1</td>\n",
       "      <td>New York, NY</td>\n",
       "      <td>Msa</td>\n",
       "      <td>NY</td>\n",
       "      <td>189236.0</td>\n",
       "      <td>188794.0</td>\n",
       "      <td>188513.0</td>\n",
       "      <td>187976.0</td>\n",
       "      <td>187656.0</td>\n",
       "      <td>...</td>\n",
       "      <td>483710.0</td>\n",
       "      <td>483782.0</td>\n",
       "      <td>484296.0</td>\n",
       "      <td>485111.0</td>\n",
       "      <td>486070.0</td>\n",
       "      <td>486979.0</td>\n",
       "      <td>488002.0</td>\n",
       "      <td>489013.0</td>\n",
       "      <td>490251.0</td>\n",
       "      <td>491993.0</td>\n",
       "    </tr>\n",
       "  </tbody>\n",
       "</table>\n",
       "<p>2 rows × 300 columns</p>\n",
       "</div>"
      ],
      "text/plain": [
       "   RegionID  SizeRank     RegionName RegionType StateName  1996-01-31  \\\n",
       "0    102001         0  United States    Country      None    106847.0   \n",
       "1    394913         1   New York, NY        Msa        NY    189236.0   \n",
       "\n",
       "   1996-02-29  1996-03-31  1996-04-30  1996-05-31  ...  2019-10-31  \\\n",
       "0    106874.0    106924.0    107049.0    107192.0  ...    244560.0   \n",
       "1    188794.0    188513.0    187976.0    187656.0  ...    483710.0   \n",
       "\n",
       "   2019-11-30  2019-12-31  2020-01-31  2020-02-29  2020-03-31  2020-04-30  \\\n",
       "0    245348.0    246171.0    247060.0    248046.0    249140.0    250271.0   \n",
       "1    483782.0    484296.0    485111.0    486070.0    486979.0    488002.0   \n",
       "\n",
       "   2020-05-31  2020-06-30  2020-07-31  \n",
       "0    251295.0    252312.0    253527.0  \n",
       "1    489013.0    490251.0    491993.0  \n",
       "\n",
       "[2 rows x 300 columns]"
      ]
     },
     "execution_count": 40,
     "metadata": {},
     "output_type": "execute_result"
    }
   ],
   "source": [
    "df.limit(2).toPandas()"
   ]
  },
  {
   "cell_type": "code",
   "execution_count": 4,
   "metadata": {
    "ExecuteTime": {
     "end_time": "2020-09-20T01:05:25.715882Z",
     "start_time": "2020-09-20T01:05:24.541728Z"
    }
   },
   "outputs": [
    {
     "data": {
      "text/html": [
       "<div>\n",
       "<style scoped>\n",
       "    .dataframe tbody tr th:only-of-type {\n",
       "        vertical-align: middle;\n",
       "    }\n",
       "\n",
       "    .dataframe tbody tr th {\n",
       "        vertical-align: top;\n",
       "    }\n",
       "\n",
       "    .dataframe thead th {\n",
       "        text-align: right;\n",
       "    }\n",
       "</style>\n",
       "<table border=\"1\" class=\"dataframe\">\n",
       "  <thead>\n",
       "    <tr style=\"text-align: right;\">\n",
       "      <th></th>\n",
       "      <th>0</th>\n",
       "      <th>1</th>\n",
       "      <th>2</th>\n",
       "      <th>3</th>\n",
       "      <th>4</th>\n",
       "      <th>5</th>\n",
       "      <th>6</th>\n",
       "      <th>7</th>\n",
       "      <th>8</th>\n",
       "      <th>9</th>\n",
       "      <th>...</th>\n",
       "      <th>905</th>\n",
       "      <th>906</th>\n",
       "      <th>907</th>\n",
       "      <th>908</th>\n",
       "      <th>909</th>\n",
       "      <th>910</th>\n",
       "      <th>911</th>\n",
       "      <th>912</th>\n",
       "      <th>913</th>\n",
       "      <th>914</th>\n",
       "    </tr>\n",
       "  </thead>\n",
       "  <tbody>\n",
       "    <tr>\n",
       "      <th>RegionID</th>\n",
       "      <td>102001</td>\n",
       "      <td>394913</td>\n",
       "      <td>753899</td>\n",
       "      <td>394463</td>\n",
       "      <td>394514</td>\n",
       "      <td>394974</td>\n",
       "      <td>394692</td>\n",
       "      <td>395209</td>\n",
       "      <td>394856</td>\n",
       "      <td>394347</td>\n",
       "      <td>...</td>\n",
       "      <td>753927</td>\n",
       "      <td>395142</td>\n",
       "      <td>394330</td>\n",
       "      <td>753929</td>\n",
       "      <td>395186</td>\n",
       "      <td>394767</td>\n",
       "      <td>753874</td>\n",
       "      <td>394968</td>\n",
       "      <td>395188</td>\n",
       "      <td>394743</td>\n",
       "    </tr>\n",
       "    <tr>\n",
       "      <th>SizeRank</th>\n",
       "      <td>0</td>\n",
       "      <td>1</td>\n",
       "      <td>2</td>\n",
       "      <td>3</td>\n",
       "      <td>4</td>\n",
       "      <td>5</td>\n",
       "      <td>6</td>\n",
       "      <td>7</td>\n",
       "      <td>8</td>\n",
       "      <td>9</td>\n",
       "      <td>...</td>\n",
       "      <td>924</td>\n",
       "      <td>925</td>\n",
       "      <td>926</td>\n",
       "      <td>927</td>\n",
       "      <td>928</td>\n",
       "      <td>929</td>\n",
       "      <td>930</td>\n",
       "      <td>931</td>\n",
       "      <td>932</td>\n",
       "      <td>933</td>\n",
       "    </tr>\n",
       "  </tbody>\n",
       "</table>\n",
       "<p>2 rows × 915 columns</p>\n",
       "</div>"
      ],
      "text/plain": [
       "             0       1       2       3       4       5       6       7    \\\n",
       "RegionID  102001  394913  753899  394463  394514  394974  394692  395209   \n",
       "SizeRank       0       1       2       3       4       5       6       7   \n",
       "\n",
       "             8       9    ...     905     906     907     908     909     910  \\\n",
       "RegionID  394856  394347  ...  753927  395142  394330  753929  395186  394767   \n",
       "SizeRank       8       9  ...     924     925     926     927     928     929   \n",
       "\n",
       "             911     912     913     914  \n",
       "RegionID  753874  394968  395188  394743  \n",
       "SizeRank     930     931     932     933  \n",
       "\n",
       "[2 rows x 915 columns]"
      ]
     },
     "execution_count": 4,
     "metadata": {},
     "output_type": "execute_result"
    }
   ],
   "source": [
    "df.toPandas().T.head(2)"
   ]
  },
  {
   "cell_type": "code",
   "execution_count": 54,
   "metadata": {},
   "outputs": [],
   "source": [
    "from pyspark.sql.functions import col\n",
    "gpy = df.groupBy('RegionName').agg({'2020-01-31':'sum', '2020-05-31':'sum'}).select(col('RegionName'),(3*col('sum(2020-01-31)')/col('sum(2020-05-31)')).alias(\"siv\")).orderBy(\"RegionName\")\n"
   ]
  },
  {
   "cell_type": "code",
   "execution_count": 55,
   "metadata": {},
   "outputs": [
    {
     "data": {
      "text/plain": [
       "[Row(RegionName='Aberdeen, SD', siv=2.976881608957081),\n",
       " Row(RegionName='Aberdeen, WA', siv=2.836437385213146)]"
      ]
     },
     "execution_count": 55,
     "metadata": {},
     "output_type": "execute_result"
    }
   ],
   "source": [
    "gpy.take(2)"
   ]
  },
  {
   "cell_type": "markdown",
   "metadata": {},
   "source": [
    "# ML Pipeline"
   ]
  },
  {
   "cell_type": "markdown",
   "metadata": {},
   "source": [
    "https://towardsdatascience.com/machine-learning-at-scale-with-apache-spark-mllib-python-example-b32a9c74c610"
   ]
  },
  {
   "cell_type": "code",
   "execution_count": 2,
   "metadata": {
    "ExecuteTime": {
     "end_time": "2020-09-20T07:56:40.836524Z",
     "start_time": "2020-09-20T07:56:40.752464Z"
    }
   },
   "outputs": [],
   "source": [
    "from pyspark import SparkConf\n",
    "from pyspark.ml.classification import LogisticRegression\n",
    "import pyspark.ml.feature as pmf # OneHotEncoder, StringIndexer, VectorAssembler\n",
    "from pyspark.ml import Pipeline\n",
    "import pyspark.sql.types as pst # import StructType, pst.StructField, pst.IntegerType, pst.StringType\n",
    "\n"
   ]
  },
  {
   "cell_type": "markdown",
   "metadata": {
    "ExecuteTime": {
     "end_time": "2020-09-20T16:09:58.571854Z",
     "start_time": "2020-09-20T16:09:58.568835Z"
    }
   },
   "source": [
    "## the original schema"
   ]
  },
  {
   "cell_type": "code",
   "execution_count": 20,
   "metadata": {
    "ExecuteTime": {
     "end_time": "2020-09-20T08:05:50.302685Z",
     "start_time": "2020-09-20T08:05:50.293386Z"
    }
   },
   "outputs": [],
   "source": [
    "schema = pst.StructType([\n",
    "    pst.StructField(\"age\", pst.IntegerType(), True),\n",
    "    pst.StructField(\"workclass\", pst.StringType(), True),\n",
    "    pst.StructField(\"fnlwgt\", pst.IntegerType(), True),\n",
    "    pst.StructField(\"education\", pst.StringType(), True),\n",
    "    pst.StructField(\"education_num\", pst.IntegerType(), True),\n",
    "    pst.StructField(\"marital_status\", pst.StringType(), True),\n",
    "    pst.StructField(\"occupation\", pst.StringType(), True),\n",
    "    pst.StructField(\"relationship\", pst.StringType(), True),\n",
    "    pst.StructField(\"race\", pst.StringType(), True),\n",
    "    pst.StructField(\"sex\", pst.StringType(), True),\n",
    "    pst.StructField(\"capital_gain\", pst.IntegerType(), True),\n",
    "    pst.StructField(\"capital_loss\", pst.IntegerType(), True),\n",
    "    pst.StructField(\"hours_per_week\", pst.IntegerType(), True),\n",
    "    pst.StructField(\"native_country\", pst.StringType(), True),\n",
    "    pst.StructField(\"salary\", pst.StringType(), True)\n",
    "])"
   ]
  },
  {
   "cell_type": "code",
   "execution_count": 21,
   "metadata": {
    "ExecuteTime": {
     "end_time": "2020-09-20T08:05:51.149707Z",
     "start_time": "2020-09-20T08:05:51.126314Z"
    }
   },
   "outputs": [],
   "source": [
    "df = spark.read.csv('adult.data', header=False, schema=schema)"
   ]
  },
  {
   "cell_type": "code",
   "execution_count": 22,
   "metadata": {
    "ExecuteTime": {
     "end_time": "2020-09-20T08:05:53.420239Z",
     "start_time": "2020-09-20T08:05:52.429313Z"
    }
   },
   "outputs": [
    {
     "name": "stdout",
     "output_type": "stream",
     "text": [
      "+-------+------------------+-----------------+\n",
      "|    sex|avg(education_num)|         avg(age)|\n",
      "+-------+------------------+-----------------+\n",
      "|   Male|              null|39.43354749885268|\n",
      "| Female|              null|36.85823043357163|\n",
      "+-------+------------------+-----------------+\n",
      "\n"
     ]
    }
   ],
   "source": [
    "df.groupBy('sex').agg({\"age\":'avg', \"education_num\":\"avg\"}).show()"
   ]
  },
  {
   "cell_type": "code",
   "execution_count": 196,
   "metadata": {
    "ExecuteTime": {
     "end_time": "2020-09-20T23:26:05.615613Z",
     "start_time": "2020-09-20T23:26:05.603596Z"
    }
   },
   "outputs": [],
   "source": [
    "df_train, df_valid, df_test = df1.randomSplit([0.6,0.2,0.2])"
   ]
  },
  {
   "cell_type": "code",
   "execution_count": 198,
   "metadata": {
    "ExecuteTime": {
     "end_time": "2020-09-20T23:26:21.093817Z",
     "start_time": "2020-09-20T23:26:21.088866Z"
    }
   },
   "outputs": [
    {
     "data": {
      "text/plain": [
       "['age',\n",
       " 'workclass',\n",
       " 'fnlwgt',\n",
       " 'education',\n",
       " 'education_num',\n",
       " 'marital_status',\n",
       " 'occupation',\n",
       " 'relationship',\n",
       " 'race',\n",
       " 'sex',\n",
       " 'capital_gain',\n",
       " 'capital_loss',\n",
       " 'hours_per_week',\n",
       " 'native_country',\n",
       " 'salary']"
      ]
     },
     "execution_count": 198,
     "metadata": {},
     "output_type": "execute_result"
    }
   ],
   "source": [
    "df_train.schema.fieldNames()"
   ]
  },
  {
   "cell_type": "code",
   "execution_count": 197,
   "metadata": {
    "ExecuteTime": {
     "end_time": "2020-09-20T23:26:07.151178Z",
     "start_time": "2020-09-20T23:26:06.930164Z"
    }
   },
   "outputs": [
    {
     "data": {
      "text/html": [
       "<div>\n",
       "<style scoped>\n",
       "    .dataframe tbody tr th:only-of-type {\n",
       "        vertical-align: middle;\n",
       "    }\n",
       "\n",
       "    .dataframe tbody tr th {\n",
       "        vertical-align: top;\n",
       "    }\n",
       "\n",
       "    .dataframe thead th {\n",
       "        text-align: right;\n",
       "    }\n",
       "</style>\n",
       "<table border=\"1\" class=\"dataframe\">\n",
       "  <thead>\n",
       "    <tr style=\"text-align: right;\">\n",
       "      <th></th>\n",
       "      <th>age</th>\n",
       "      <th>workclass</th>\n",
       "      <th>fnlwgt</th>\n",
       "      <th>education</th>\n",
       "      <th>education_num</th>\n",
       "      <th>marital_status</th>\n",
       "      <th>occupation</th>\n",
       "      <th>relationship</th>\n",
       "      <th>race</th>\n",
       "      <th>sex</th>\n",
       "      <th>capital_gain</th>\n",
       "      <th>capital_loss</th>\n",
       "      <th>hours_per_week</th>\n",
       "      <th>native_country</th>\n",
       "      <th>salary</th>\n",
       "    </tr>\n",
       "  </thead>\n",
       "  <tbody>\n",
       "    <tr>\n",
       "      <th>0</th>\n",
       "      <td>17</td>\n",
       "      <td>?</td>\n",
       "      <td>34088</td>\n",
       "      <td>12th</td>\n",
       "      <td>8</td>\n",
       "      <td>Never-married</td>\n",
       "      <td>?</td>\n",
       "      <td>Own-child</td>\n",
       "      <td>White</td>\n",
       "      <td>Female</td>\n",
       "      <td>0</td>\n",
       "      <td>0</td>\n",
       "      <td>25</td>\n",
       "      <td>United-States</td>\n",
       "      <td>&lt;=50K</td>\n",
       "    </tr>\n",
       "    <tr>\n",
       "      <th>1</th>\n",
       "      <td>17</td>\n",
       "      <td>?</td>\n",
       "      <td>41643</td>\n",
       "      <td>11th</td>\n",
       "      <td>7</td>\n",
       "      <td>Never-married</td>\n",
       "      <td>?</td>\n",
       "      <td>Own-child</td>\n",
       "      <td>White</td>\n",
       "      <td>Female</td>\n",
       "      <td>0</td>\n",
       "      <td>0</td>\n",
       "      <td>15</td>\n",
       "      <td>United-States</td>\n",
       "      <td>&lt;=50K</td>\n",
       "    </tr>\n",
       "  </tbody>\n",
       "</table>\n",
       "</div>"
      ],
      "text/plain": [
       "   age workclass  fnlwgt education  education_num marital_status occupation  \\\n",
       "0   17         ?   34088      12th              8  Never-married          ?   \n",
       "1   17         ?   41643      11th              7  Never-married          ?   \n",
       "\n",
       "  relationship   race     sex  capital_gain  capital_loss  hours_per_week  \\\n",
       "0    Own-child  White  Female             0             0              25   \n",
       "1    Own-child  White  Female             0             0              15   \n",
       "\n",
       "  native_country salary  \n",
       "0  United-States  <=50K  \n",
       "1  United-States  <=50K  "
      ]
     },
     "execution_count": 197,
     "metadata": {},
     "output_type": "execute_result"
    }
   ],
   "source": [
    "df_train.limit(2).toPandas()\n",
    "# print(df.take(2).toPandas()) not working\n",
    "# print(df.show(2).toPandas()) not working"
   ]
  },
  {
   "cell_type": "markdown",
   "metadata": {},
   "source": [
    "##  data transformation for MLIB"
   ]
  },
  {
   "cell_type": "code",
   "execution_count": 24,
   "metadata": {
    "ExecuteTime": {
     "end_time": "2020-09-20T08:06:01.875607Z",
     "start_time": "2020-09-20T08:06:01.853043Z"
    }
   },
   "outputs": [],
   "source": [
    "categorical_variables = [\n",
    "    'workclass', 'education', 'marital_status', 'occupation', 'relationship',\n",
    "    'race', 'sex', 'native_country'\n",
    "]\n",
    "indexers = [\n",
    "    pmf.StringIndexer(inputCol=column, outputCol=column + \"_index\")\n",
    "    for column in categorical_variables\n",
    "]"
   ]
  },
  {
   "cell_type": "code",
   "execution_count": 25,
   "metadata": {
    "ExecuteTime": {
     "end_time": "2020-09-20T08:06:02.577360Z",
     "start_time": "2020-09-20T08:06:02.571388Z"
    }
   },
   "outputs": [],
   "source": [
    "encoder = pmf.OneHotEncoder(\n",
    "    inputCols=[indexer.getOutputCol() for indexer in indexers],\n",
    "    outputCols=[\"{0}_encoded\".format(indexer.getOutputCol()) for indexer in indexers]\n",
    ")"
   ]
  },
  {
   "cell_type": "code",
   "execution_count": 26,
   "metadata": {
    "ExecuteTime": {
     "end_time": "2020-09-20T08:06:03.290112Z",
     "start_time": "2020-09-20T08:06:03.282397Z"
    }
   },
   "outputs": [],
   "source": [
    "assembler = pmf.VectorAssembler(\n",
    "    inputCols=encoder.getOutputCols(),\n",
    "    outputCol=\"categorical_features\"\n",
    ")"
   ]
  },
  {
   "cell_type": "code",
   "execution_count": 15,
   "metadata": {
    "ExecuteTime": {
     "end_time": "2020-09-20T08:04:06.416947Z",
     "start_time": "2020-09-20T08:04:04.951988Z"
    }
   },
   "outputs": [
    {
     "name": "stdout",
     "output_type": "stream",
     "text": [
      "+---+---+-----+-----+\n",
      "|  a|  b|out_a|out_b|\n",
      "+---+---+-----+-----+\n",
      "|1.0|NaN|  1.0|  4.0|\n",
      "|2.0|NaN|  2.0|  4.0|\n",
      "|NaN|3.0|  3.0|  3.0|\n",
      "|4.0|4.0|  4.0|  4.0|\n",
      "|5.0|5.0|  5.0|  5.0|\n",
      "+---+---+-----+-----+\n",
      "\n"
     ]
    }
   ],
   "source": [
    "df = spark.createDataFrame([\n",
    "    (1.0, float(\"nan\")),\n",
    "    (2.0, float(\"nan\")),\n",
    "    (float(\"nan\"), 3.0),\n",
    "    (4.0, 4.0),\n",
    "    (5.0, 5.0)\n",
    "], [\"a\", \"b\"])\n",
    "\n",
    "imputer = pmf.Imputer(inputCols=[\"a\", \"b\"], outputCols=[\"out_a\", \"out_b\"])\n",
    "model = imputer.fit(df)\n",
    "\n",
    "model.transform(df).show()"
   ]
  },
  {
   "cell_type": "markdown",
   "metadata": {},
   "source": [
    "### Define pipeline"
   ]
  },
  {
   "cell_type": "code",
   "execution_count": 27,
   "metadata": {
    "ExecuteTime": {
     "end_time": "2020-09-20T08:06:07.211047Z",
     "start_time": "2020-09-20T08:06:07.208341Z"
    }
   },
   "outputs": [],
   "source": [
    "pipeline = Pipeline(stages=indexers + [encoder, assembler])"
   ]
  },
  {
   "cell_type": "code",
   "execution_count": 28,
   "metadata": {
    "ExecuteTime": {
     "end_time": "2020-09-20T08:06:24.351408Z",
     "start_time": "2020-09-20T08:06:09.216934Z"
    }
   },
   "outputs": [],
   "source": [
    "df_train = pipeline.fit(df_train).transform(df_train)\n",
    "df_test = pipeline.fit(df_test).transform(df_test)"
   ]
  },
  {
   "cell_type": "code",
   "execution_count": 30,
   "metadata": {
    "ExecuteTime": {
     "end_time": "2020-09-20T08:06:39.383947Z",
     "start_time": "2020-09-20T08:06:38.303147Z"
    }
   },
   "outputs": [
    {
     "name": "stdout",
     "output_type": "stream",
     "text": [
      "+--------------------+\n",
      "|categorical_features|\n",
      "+--------------------+\n",
      "|(94,[3,15,24,36,4...|\n",
      "|(94,[3,15,24,36,4...|\n",
      "+--------------------+\n",
      "only showing top 2 rows\n",
      "\n"
     ]
    }
   ],
   "source": [
    "df_train.select(\"categorical_features\").show(2)"
   ]
  },
  {
   "cell_type": "code",
   "execution_count": 36,
   "metadata": {
    "ExecuteTime": {
     "end_time": "2020-09-20T08:08:03.664267Z",
     "start_time": "2020-09-20T08:08:03.660205Z"
    }
   },
   "outputs": [
    {
     "data": {
      "text/plain": [
       "set()"
      ]
     },
     "execution_count": 36,
     "metadata": {},
     "output_type": "execute_result"
    }
   ],
   "source": [
    "continuous_variables = ['age', 'fnlwgt', 'education_num', 'capital_gain', 'capital_loss', 'hours_per_week']\n",
    "\n",
    "set(continuous_variables).difference(df_train.schema.fieldNames())"
   ]
  },
  {
   "cell_type": "code",
   "execution_count": 39,
   "metadata": {
    "ExecuteTime": {
     "end_time": "2020-09-20T08:10:51.964860Z",
     "start_time": "2020-09-20T08:10:50.966965Z"
    }
   },
   "outputs": [],
   "source": [
    "dfpd = df.toPandas()\n"
   ]
  },
  {
   "cell_type": "code",
   "execution_count": 50,
   "metadata": {
    "ExecuteTime": {
     "end_time": "2020-09-20T14:55:47.059208Z",
     "start_time": "2020-09-20T14:55:47.021848Z"
    }
   },
   "outputs": [],
   "source": [
    "df.createOrReplaceTempView(\"personal\")\n"
   ]
  },
  {
   "cell_type": "code",
   "execution_count": null,
   "metadata": {
    "ExecuteTime": {
     "end_time": "2021-05-23T16:42:30.718620Z",
     "start_time": "2021-05-23T16:42:31.664Z"
    }
   },
   "outputs": [],
   "source": [
    "spark.sql(\"select age, education_num from personal where education_num = NaN\")"
   ]
  },
  {
   "cell_type": "code",
   "execution_count": 96,
   "metadata": {
    "ExecuteTime": {
     "end_time": "2020-09-20T19:42:11.496666Z",
     "start_time": "2020-09-20T19:42:11.481033Z"
    }
   },
   "outputs": [
    {
     "data": {
      "text/html": [
       "<div>\n",
       "<style scoped>\n",
       "    .dataframe tbody tr th:only-of-type {\n",
       "        vertical-align: middle;\n",
       "    }\n",
       "\n",
       "    .dataframe tbody tr th {\n",
       "        vertical-align: top;\n",
       "    }\n",
       "\n",
       "    .dataframe thead th {\n",
       "        text-align: right;\n",
       "    }\n",
       "</style>\n",
       "<table border=\"1\" class=\"dataframe\">\n",
       "  <thead>\n",
       "    <tr style=\"text-align: right;\">\n",
       "      <th></th>\n",
       "      <th>age</th>\n",
       "      <th>workclass</th>\n",
       "      <th>fnlwgt</th>\n",
       "      <th>education</th>\n",
       "      <th>education_num</th>\n",
       "      <th>marital_status</th>\n",
       "      <th>occupation</th>\n",
       "      <th>relationship</th>\n",
       "      <th>race</th>\n",
       "      <th>sex</th>\n",
       "      <th>capital_gain</th>\n",
       "      <th>capital_loss</th>\n",
       "      <th>hours_per_week</th>\n",
       "      <th>native_country</th>\n",
       "      <th>salary</th>\n",
       "    </tr>\n",
       "  </thead>\n",
       "  <tbody>\n",
       "    <tr>\n",
       "      <th>0</th>\n",
       "      <td>39</td>\n",
       "      <td>State-gov</td>\n",
       "      <td>NaN</td>\n",
       "      <td>Bachelors</td>\n",
       "      <td>NaN</td>\n",
       "      <td>Never-married</td>\n",
       "      <td>Adm-clerical</td>\n",
       "      <td>Not-in-family</td>\n",
       "      <td>White</td>\n",
       "      <td>Male</td>\n",
       "      <td>NaN</td>\n",
       "      <td>NaN</td>\n",
       "      <td>NaN</td>\n",
       "      <td>United-States</td>\n",
       "      <td>&lt;=50K</td>\n",
       "    </tr>\n",
       "    <tr>\n",
       "      <th>1</th>\n",
       "      <td>50</td>\n",
       "      <td>Self-emp-not-inc</td>\n",
       "      <td>NaN</td>\n",
       "      <td>Bachelors</td>\n",
       "      <td>NaN</td>\n",
       "      <td>Married-civ-spouse</td>\n",
       "      <td>Exec-managerial</td>\n",
       "      <td>Husband</td>\n",
       "      <td>White</td>\n",
       "      <td>Male</td>\n",
       "      <td>NaN</td>\n",
       "      <td>NaN</td>\n",
       "      <td>NaN</td>\n",
       "      <td>United-States</td>\n",
       "      <td>&lt;=50K</td>\n",
       "    </tr>\n",
       "  </tbody>\n",
       "</table>\n",
       "</div>"
      ],
      "text/plain": [
       "   age          workclass  fnlwgt   education  education_num  \\\n",
       "0   39          State-gov     NaN   Bachelors            NaN   \n",
       "1   50   Self-emp-not-inc     NaN   Bachelors            NaN   \n",
       "\n",
       "        marital_status        occupation    relationship    race    sex  \\\n",
       "0        Never-married      Adm-clerical   Not-in-family   White   Male   \n",
       "1   Married-civ-spouse   Exec-managerial         Husband   White   Male   \n",
       "\n",
       "   capital_gain  capital_loss  hours_per_week  native_country  salary  \n",
       "0           NaN           NaN             NaN   United-States   <=50K  \n",
       "1           NaN           NaN             NaN   United-States   <=50K  "
      ]
     },
     "execution_count": 96,
     "metadata": {},
     "output_type": "execute_result"
    }
   ],
   "source": [
    "dfpd[~dfpd[\"age\"].isna()].head(2)"
   ]
  },
  {
   "cell_type": "code",
   "execution_count": 46,
   "metadata": {
    "ExecuteTime": {
     "end_time": "2020-09-20T08:16:04.298555Z",
     "start_time": "2020-09-20T08:16:03.395880Z"
    }
   },
   "outputs": [],
   "source": [
    "imp = pmf.Imputer(inputCol='age', outputCol='imputed_age')\n",
    "tr_df = imp.fit(df_train).transform(df_train)"
   ]
  },
  {
   "cell_type": "code",
   "execution_count": 49,
   "metadata": {
    "ExecuteTime": {
     "end_time": "2020-09-20T08:16:29.078463Z",
     "start_time": "2020-09-20T08:16:28.373120Z"
    }
   },
   "outputs": [
    {
     "name": "stdout",
     "output_type": "stream",
     "text": [
      "+---+\n",
      "|age|\n",
      "+---+\n",
      "| 17|\n",
      "| 17|\n",
      "| 17|\n",
      "| 17|\n",
      "| 17|\n",
      "| 17|\n",
      "| 17|\n",
      "| 17|\n",
      "| 17|\n",
      "| 17|\n",
      "| 17|\n",
      "| 17|\n",
      "| 17|\n",
      "| 17|\n",
      "| 17|\n",
      "| 17|\n",
      "| 17|\n",
      "| 17|\n",
      "| 17|\n",
      "| 17|\n",
      "+---+\n",
      "only showing top 20 rows\n",
      "\n"
     ]
    }
   ],
   "source": [
    "tr_df.select(\"age\").show()"
   ]
  },
  {
   "cell_type": "code",
   "execution_count": 20,
   "metadata": {
    "ExecuteTime": {
     "end_time": "2020-09-20T01:09:21.117502Z",
     "start_time": "2020-09-20T01:09:20.408146Z"
    }
   },
   "outputs": [
    {
     "ename": "Py4JJavaError",
     "evalue": "An error occurred while calling o1178.fit.\n: org.apache.spark.SparkException: surrogate cannot be computed. All the values in fnlwgt,education_num,capital_gain,capital_loss,hours_per_week are Null, Nan or missingValue(NaN)\n\tat org.apache.spark.ml.feature.Imputer.fit(Imputer.scala:193)\n\tat sun.reflect.NativeMethodAccessorImpl.invoke0(Native Method)\n\tat sun.reflect.NativeMethodAccessorImpl.invoke(NativeMethodAccessorImpl.java:62)\n\tat sun.reflect.DelegatingMethodAccessorImpl.invoke(DelegatingMethodAccessorImpl.java:43)\n\tat java.lang.reflect.Method.invoke(Method.java:498)\n\tat py4j.reflection.MethodInvoker.invoke(MethodInvoker.java:244)\n\tat py4j.reflection.ReflectionEngine.invoke(ReflectionEngine.java:357)\n\tat py4j.Gateway.invoke(Gateway.java:282)\n\tat py4j.commands.AbstractCommand.invokeMethod(AbstractCommand.java:132)\n\tat py4j.commands.CallCommand.execute(CallCommand.java:79)\n\tat py4j.GatewayConnection.run(GatewayConnection.java:238)\n\tat java.lang.Thread.run(Thread.java:748)\n",
     "output_type": "error",
     "traceback": [
      "\u001b[0;31m---------------------------------------------------------------------------\u001b[0m",
      "\u001b[0;31mPy4JJavaError\u001b[0m                             Traceback (most recent call last)",
      "\u001b[0;32m<ipython-input-20-ac8b27b7a073>\u001b[0m in \u001b[0;36m<module>\u001b[0;34m\u001b[0m\n\u001b[1;32m      7\u001b[0m     outputCol='features')\n\u001b[1;32m      8\u001b[0m \u001b[0mpipeline2\u001b[0m \u001b[0;34m=\u001b[0m \u001b[0mPipeline\u001b[0m\u001b[0;34m(\u001b[0m\u001b[0mstages\u001b[0m\u001b[0;34m=\u001b[0m\u001b[0;34m[\u001b[0m\u001b[0mimputer\u001b[0m\u001b[0;34m,\u001b[0m \u001b[0massembler\u001b[0m\u001b[0;34m]\u001b[0m\u001b[0;34m)\u001b[0m\u001b[0;34m\u001b[0m\u001b[0;34m\u001b[0m\u001b[0m\n\u001b[0;32m----> 9\u001b[0;31m \u001b[0mtrain_df\u001b[0m \u001b[0;34m=\u001b[0m \u001b[0mpipeline2\u001b[0m\u001b[0;34m.\u001b[0m\u001b[0mfit\u001b[0m\u001b[0;34m(\u001b[0m\u001b[0mdf_train\u001b[0m\u001b[0;34m)\u001b[0m\u001b[0;34m.\u001b[0m\u001b[0mtransform\u001b[0m\u001b[0;34m(\u001b[0m\u001b[0mdf_train\u001b[0m\u001b[0;34m)\u001b[0m\u001b[0;34m\u001b[0m\u001b[0;34m\u001b[0m\u001b[0m\n\u001b[0m\u001b[1;32m     10\u001b[0m \u001b[0mtest_df\u001b[0m \u001b[0;34m=\u001b[0m \u001b[0mpipeline2\u001b[0m\u001b[0;34m.\u001b[0m\u001b[0mfit\u001b[0m\u001b[0;34m(\u001b[0m\u001b[0mdf_train\u001b[0m\u001b[0;34m)\u001b[0m\u001b[0;34m.\u001b[0m\u001b[0mtransform\u001b[0m\u001b[0;34m(\u001b[0m\u001b[0mdf_test\u001b[0m\u001b[0;34m)\u001b[0m\u001b[0;34m\u001b[0m\u001b[0;34m\u001b[0m\u001b[0m\n",
      "\u001b[0;32m/opt/spark/python/pyspark/ml/base.py\u001b[0m in \u001b[0;36mfit\u001b[0;34m(self, dataset, params)\u001b[0m\n\u001b[1;32m    127\u001b[0m                 \u001b[0;32mreturn\u001b[0m \u001b[0mself\u001b[0m\u001b[0;34m.\u001b[0m\u001b[0mcopy\u001b[0m\u001b[0;34m(\u001b[0m\u001b[0mparams\u001b[0m\u001b[0;34m)\u001b[0m\u001b[0;34m.\u001b[0m\u001b[0m_fit\u001b[0m\u001b[0;34m(\u001b[0m\u001b[0mdataset\u001b[0m\u001b[0;34m)\u001b[0m\u001b[0;34m\u001b[0m\u001b[0;34m\u001b[0m\u001b[0m\n\u001b[1;32m    128\u001b[0m             \u001b[0;32melse\u001b[0m\u001b[0;34m:\u001b[0m\u001b[0;34m\u001b[0m\u001b[0;34m\u001b[0m\u001b[0m\n\u001b[0;32m--> 129\u001b[0;31m                 \u001b[0;32mreturn\u001b[0m \u001b[0mself\u001b[0m\u001b[0;34m.\u001b[0m\u001b[0m_fit\u001b[0m\u001b[0;34m(\u001b[0m\u001b[0mdataset\u001b[0m\u001b[0;34m)\u001b[0m\u001b[0;34m\u001b[0m\u001b[0;34m\u001b[0m\u001b[0m\n\u001b[0m\u001b[1;32m    130\u001b[0m         \u001b[0;32melse\u001b[0m\u001b[0;34m:\u001b[0m\u001b[0;34m\u001b[0m\u001b[0;34m\u001b[0m\u001b[0m\n\u001b[1;32m    131\u001b[0m             raise ValueError(\"Params must be either a param map or a list/tuple of param maps, \"\n",
      "\u001b[0;32m/opt/spark/python/pyspark/ml/pipeline.py\u001b[0m in \u001b[0;36m_fit\u001b[0;34m(self, dataset)\u001b[0m\n\u001b[1;32m    107\u001b[0m                     \u001b[0mdataset\u001b[0m \u001b[0;34m=\u001b[0m \u001b[0mstage\u001b[0m\u001b[0;34m.\u001b[0m\u001b[0mtransform\u001b[0m\u001b[0;34m(\u001b[0m\u001b[0mdataset\u001b[0m\u001b[0;34m)\u001b[0m\u001b[0;34m\u001b[0m\u001b[0;34m\u001b[0m\u001b[0m\n\u001b[1;32m    108\u001b[0m                 \u001b[0;32melse\u001b[0m\u001b[0;34m:\u001b[0m  \u001b[0;31m# must be an Estimator\u001b[0m\u001b[0;34m\u001b[0m\u001b[0;34m\u001b[0m\u001b[0m\n\u001b[0;32m--> 109\u001b[0;31m                     \u001b[0mmodel\u001b[0m \u001b[0;34m=\u001b[0m \u001b[0mstage\u001b[0m\u001b[0;34m.\u001b[0m\u001b[0mfit\u001b[0m\u001b[0;34m(\u001b[0m\u001b[0mdataset\u001b[0m\u001b[0;34m)\u001b[0m\u001b[0;34m\u001b[0m\u001b[0;34m\u001b[0m\u001b[0m\n\u001b[0m\u001b[1;32m    110\u001b[0m                     \u001b[0mtransformers\u001b[0m\u001b[0;34m.\u001b[0m\u001b[0mappend\u001b[0m\u001b[0;34m(\u001b[0m\u001b[0mmodel\u001b[0m\u001b[0;34m)\u001b[0m\u001b[0;34m\u001b[0m\u001b[0;34m\u001b[0m\u001b[0m\n\u001b[1;32m    111\u001b[0m                     \u001b[0;32mif\u001b[0m \u001b[0mi\u001b[0m \u001b[0;34m<\u001b[0m \u001b[0mindexOfLastEstimator\u001b[0m\u001b[0;34m:\u001b[0m\u001b[0;34m\u001b[0m\u001b[0;34m\u001b[0m\u001b[0m\n",
      "\u001b[0;32m/opt/spark/python/pyspark/ml/base.py\u001b[0m in \u001b[0;36mfit\u001b[0;34m(self, dataset, params)\u001b[0m\n\u001b[1;32m    127\u001b[0m                 \u001b[0;32mreturn\u001b[0m \u001b[0mself\u001b[0m\u001b[0;34m.\u001b[0m\u001b[0mcopy\u001b[0m\u001b[0;34m(\u001b[0m\u001b[0mparams\u001b[0m\u001b[0;34m)\u001b[0m\u001b[0;34m.\u001b[0m\u001b[0m_fit\u001b[0m\u001b[0;34m(\u001b[0m\u001b[0mdataset\u001b[0m\u001b[0;34m)\u001b[0m\u001b[0;34m\u001b[0m\u001b[0;34m\u001b[0m\u001b[0m\n\u001b[1;32m    128\u001b[0m             \u001b[0;32melse\u001b[0m\u001b[0;34m:\u001b[0m\u001b[0;34m\u001b[0m\u001b[0;34m\u001b[0m\u001b[0m\n\u001b[0;32m--> 129\u001b[0;31m                 \u001b[0;32mreturn\u001b[0m \u001b[0mself\u001b[0m\u001b[0;34m.\u001b[0m\u001b[0m_fit\u001b[0m\u001b[0;34m(\u001b[0m\u001b[0mdataset\u001b[0m\u001b[0;34m)\u001b[0m\u001b[0;34m\u001b[0m\u001b[0;34m\u001b[0m\u001b[0m\n\u001b[0m\u001b[1;32m    130\u001b[0m         \u001b[0;32melse\u001b[0m\u001b[0;34m:\u001b[0m\u001b[0;34m\u001b[0m\u001b[0;34m\u001b[0m\u001b[0m\n\u001b[1;32m    131\u001b[0m             raise ValueError(\"Params must be either a param map or a list/tuple of param maps, \"\n",
      "\u001b[0;32m/opt/spark/python/pyspark/ml/wrapper.py\u001b[0m in \u001b[0;36m_fit\u001b[0;34m(self, dataset)\u001b[0m\n\u001b[1;32m    319\u001b[0m \u001b[0;34m\u001b[0m\u001b[0m\n\u001b[1;32m    320\u001b[0m     \u001b[0;32mdef\u001b[0m \u001b[0m_fit\u001b[0m\u001b[0;34m(\u001b[0m\u001b[0mself\u001b[0m\u001b[0;34m,\u001b[0m \u001b[0mdataset\u001b[0m\u001b[0;34m)\u001b[0m\u001b[0;34m:\u001b[0m\u001b[0;34m\u001b[0m\u001b[0;34m\u001b[0m\u001b[0m\n\u001b[0;32m--> 321\u001b[0;31m         \u001b[0mjava_model\u001b[0m \u001b[0;34m=\u001b[0m \u001b[0mself\u001b[0m\u001b[0;34m.\u001b[0m\u001b[0m_fit_java\u001b[0m\u001b[0;34m(\u001b[0m\u001b[0mdataset\u001b[0m\u001b[0;34m)\u001b[0m\u001b[0;34m\u001b[0m\u001b[0;34m\u001b[0m\u001b[0m\n\u001b[0m\u001b[1;32m    322\u001b[0m         \u001b[0mmodel\u001b[0m \u001b[0;34m=\u001b[0m \u001b[0mself\u001b[0m\u001b[0;34m.\u001b[0m\u001b[0m_create_model\u001b[0m\u001b[0;34m(\u001b[0m\u001b[0mjava_model\u001b[0m\u001b[0;34m)\u001b[0m\u001b[0;34m\u001b[0m\u001b[0;34m\u001b[0m\u001b[0m\n\u001b[1;32m    323\u001b[0m         \u001b[0;32mreturn\u001b[0m \u001b[0mself\u001b[0m\u001b[0;34m.\u001b[0m\u001b[0m_copyValues\u001b[0m\u001b[0;34m(\u001b[0m\u001b[0mmodel\u001b[0m\u001b[0;34m)\u001b[0m\u001b[0;34m\u001b[0m\u001b[0;34m\u001b[0m\u001b[0m\n",
      "\u001b[0;32m/opt/spark/python/pyspark/ml/wrapper.py\u001b[0m in \u001b[0;36m_fit_java\u001b[0;34m(self, dataset)\u001b[0m\n\u001b[1;32m    316\u001b[0m         \"\"\"\n\u001b[1;32m    317\u001b[0m         \u001b[0mself\u001b[0m\u001b[0;34m.\u001b[0m\u001b[0m_transfer_params_to_java\u001b[0m\u001b[0;34m(\u001b[0m\u001b[0;34m)\u001b[0m\u001b[0;34m\u001b[0m\u001b[0;34m\u001b[0m\u001b[0m\n\u001b[0;32m--> 318\u001b[0;31m         \u001b[0;32mreturn\u001b[0m \u001b[0mself\u001b[0m\u001b[0;34m.\u001b[0m\u001b[0m_java_obj\u001b[0m\u001b[0;34m.\u001b[0m\u001b[0mfit\u001b[0m\u001b[0;34m(\u001b[0m\u001b[0mdataset\u001b[0m\u001b[0;34m.\u001b[0m\u001b[0m_jdf\u001b[0m\u001b[0;34m)\u001b[0m\u001b[0;34m\u001b[0m\u001b[0;34m\u001b[0m\u001b[0m\n\u001b[0m\u001b[1;32m    319\u001b[0m \u001b[0;34m\u001b[0m\u001b[0m\n\u001b[1;32m    320\u001b[0m     \u001b[0;32mdef\u001b[0m \u001b[0m_fit\u001b[0m\u001b[0;34m(\u001b[0m\u001b[0mself\u001b[0m\u001b[0;34m,\u001b[0m \u001b[0mdataset\u001b[0m\u001b[0;34m)\u001b[0m\u001b[0;34m:\u001b[0m\u001b[0;34m\u001b[0m\u001b[0;34m\u001b[0m\u001b[0m\n",
      "\u001b[0;32m/opt/spark/python/lib/py4j-0.10.9-src.zip/py4j/java_gateway.py\u001b[0m in \u001b[0;36m__call__\u001b[0;34m(self, *args)\u001b[0m\n\u001b[1;32m   1302\u001b[0m \u001b[0;34m\u001b[0m\u001b[0m\n\u001b[1;32m   1303\u001b[0m         \u001b[0manswer\u001b[0m \u001b[0;34m=\u001b[0m \u001b[0mself\u001b[0m\u001b[0;34m.\u001b[0m\u001b[0mgateway_client\u001b[0m\u001b[0;34m.\u001b[0m\u001b[0msend_command\u001b[0m\u001b[0;34m(\u001b[0m\u001b[0mcommand\u001b[0m\u001b[0;34m)\u001b[0m\u001b[0;34m\u001b[0m\u001b[0;34m\u001b[0m\u001b[0m\n\u001b[0;32m-> 1304\u001b[0;31m         return_value = get_return_value(\n\u001b[0m\u001b[1;32m   1305\u001b[0m             answer, self.gateway_client, self.target_id, self.name)\n\u001b[1;32m   1306\u001b[0m \u001b[0;34m\u001b[0m\u001b[0m\n",
      "\u001b[0;32m/opt/spark/python/pyspark/sql/utils.py\u001b[0m in \u001b[0;36mdeco\u001b[0;34m(*a, **kw)\u001b[0m\n\u001b[1;32m    126\u001b[0m     \u001b[0;32mdef\u001b[0m \u001b[0mdeco\u001b[0m\u001b[0;34m(\u001b[0m\u001b[0;34m*\u001b[0m\u001b[0ma\u001b[0m\u001b[0;34m,\u001b[0m \u001b[0;34m**\u001b[0m\u001b[0mkw\u001b[0m\u001b[0;34m)\u001b[0m\u001b[0;34m:\u001b[0m\u001b[0;34m\u001b[0m\u001b[0;34m\u001b[0m\u001b[0m\n\u001b[1;32m    127\u001b[0m         \u001b[0;32mtry\u001b[0m\u001b[0;34m:\u001b[0m\u001b[0;34m\u001b[0m\u001b[0;34m\u001b[0m\u001b[0m\n\u001b[0;32m--> 128\u001b[0;31m             \u001b[0;32mreturn\u001b[0m \u001b[0mf\u001b[0m\u001b[0;34m(\u001b[0m\u001b[0;34m*\u001b[0m\u001b[0ma\u001b[0m\u001b[0;34m,\u001b[0m \u001b[0;34m**\u001b[0m\u001b[0mkw\u001b[0m\u001b[0;34m)\u001b[0m\u001b[0;34m\u001b[0m\u001b[0;34m\u001b[0m\u001b[0m\n\u001b[0m\u001b[1;32m    129\u001b[0m         \u001b[0;32mexcept\u001b[0m \u001b[0mpy4j\u001b[0m\u001b[0;34m.\u001b[0m\u001b[0mprotocol\u001b[0m\u001b[0;34m.\u001b[0m\u001b[0mPy4JJavaError\u001b[0m \u001b[0;32mas\u001b[0m \u001b[0me\u001b[0m\u001b[0;34m:\u001b[0m\u001b[0;34m\u001b[0m\u001b[0;34m\u001b[0m\u001b[0m\n\u001b[1;32m    130\u001b[0m             \u001b[0mconverted\u001b[0m \u001b[0;34m=\u001b[0m \u001b[0mconvert_exception\u001b[0m\u001b[0;34m(\u001b[0m\u001b[0me\u001b[0m\u001b[0;34m.\u001b[0m\u001b[0mjava_exception\u001b[0m\u001b[0;34m)\u001b[0m\u001b[0;34m\u001b[0m\u001b[0;34m\u001b[0m\u001b[0m\n",
      "\u001b[0;32m/opt/spark/python/lib/py4j-0.10.9-src.zip/py4j/protocol.py\u001b[0m in \u001b[0;36mget_return_value\u001b[0;34m(answer, gateway_client, target_id, name)\u001b[0m\n\u001b[1;32m    324\u001b[0m             \u001b[0mvalue\u001b[0m \u001b[0;34m=\u001b[0m \u001b[0mOUTPUT_CONVERTER\u001b[0m\u001b[0;34m[\u001b[0m\u001b[0mtype\u001b[0m\u001b[0;34m]\u001b[0m\u001b[0;34m(\u001b[0m\u001b[0manswer\u001b[0m\u001b[0;34m[\u001b[0m\u001b[0;36m2\u001b[0m\u001b[0;34m:\u001b[0m\u001b[0;34m]\u001b[0m\u001b[0;34m,\u001b[0m \u001b[0mgateway_client\u001b[0m\u001b[0;34m)\u001b[0m\u001b[0;34m\u001b[0m\u001b[0;34m\u001b[0m\u001b[0m\n\u001b[1;32m    325\u001b[0m             \u001b[0;32mif\u001b[0m \u001b[0manswer\u001b[0m\u001b[0;34m[\u001b[0m\u001b[0;36m1\u001b[0m\u001b[0;34m]\u001b[0m \u001b[0;34m==\u001b[0m \u001b[0mREFERENCE_TYPE\u001b[0m\u001b[0;34m:\u001b[0m\u001b[0;34m\u001b[0m\u001b[0;34m\u001b[0m\u001b[0m\n\u001b[0;32m--> 326\u001b[0;31m                 raise Py4JJavaError(\n\u001b[0m\u001b[1;32m    327\u001b[0m                     \u001b[0;34m\"An error occurred while calling {0}{1}{2}.\\n\"\u001b[0m\u001b[0;34m.\u001b[0m\u001b[0;34m\u001b[0m\u001b[0;34m\u001b[0m\u001b[0m\n\u001b[1;32m    328\u001b[0m                     format(target_id, \".\", name), value)\n",
      "\u001b[0;31mPy4JJavaError\u001b[0m: An error occurred while calling o1178.fit.\n: org.apache.spark.SparkException: surrogate cannot be computed. All the values in fnlwgt,education_num,capital_gain,capital_loss,hours_per_week are Null, Nan or missingValue(NaN)\n\tat org.apache.spark.ml.feature.Imputer.fit(Imputer.scala:193)\n\tat sun.reflect.NativeMethodAccessorImpl.invoke0(Native Method)\n\tat sun.reflect.NativeMethodAccessorImpl.invoke(NativeMethodAccessorImpl.java:62)\n\tat sun.reflect.DelegatingMethodAccessorImpl.invoke(DelegatingMethodAccessorImpl.java:43)\n\tat java.lang.reflect.Method.invoke(Method.java:498)\n\tat py4j.reflection.MethodInvoker.invoke(MethodInvoker.java:244)\n\tat py4j.reflection.ReflectionEngine.invoke(ReflectionEngine.java:357)\n\tat py4j.Gateway.invoke(Gateway.java:282)\n\tat py4j.commands.AbstractCommand.invokeMethod(AbstractCommand.java:132)\n\tat py4j.commands.CallCommand.execute(CallCommand.java:79)\n\tat py4j.GatewayConnection.run(GatewayConnection.java:238)\n\tat java.lang.Thread.run(Thread.java:748)\n"
     ]
    }
   ],
   "source": [
    "continuous_variables = ['age', 'fnlwgt', 'education_num', 'capital_gain', 'capital_loss', 'hours_per_week']\n",
    "imputed_continuous_variables = [f\"{va}_imputed\" for va in continuous_variables]\n",
    "imputer = pmf.Imputer(inputCols=continuous_variables, outputCols=imputed_continuous_variables)\n",
    "\n",
    "assembler = pmf.VectorAssembler(\n",
    "    inputCols=['categorical_features', *imputed_continuous_variables],\n",
    "    outputCol='features')\n",
    "pipeline2 = Pipeline(stages=[imputer, assembler])\n",
    "train_df = pipeline2.fit(df_train).transform(df_train)\n",
    "test_df = pipeline2.fit(df_train).transform(df_test)"
   ]
  },
  {
   "cell_type": "code",
   "execution_count": 90,
   "metadata": {},
   "outputs": [
    {
     "data": {
      "text/html": [
       "<div>\n",
       "<style scoped>\n",
       "    .dataframe tbody tr th:only-of-type {\n",
       "        vertical-align: middle;\n",
       "    }\n",
       "\n",
       "    .dataframe tbody tr th {\n",
       "        vertical-align: top;\n",
       "    }\n",
       "\n",
       "    .dataframe thead th {\n",
       "        text-align: right;\n",
       "    }\n",
       "</style>\n",
       "<table border=\"1\" class=\"dataframe\">\n",
       "  <thead>\n",
       "    <tr style=\"text-align: right;\">\n",
       "      <th></th>\n",
       "      <th>age</th>\n",
       "      <th>fnlwgt</th>\n",
       "      <th>education_num</th>\n",
       "      <th>capital_gain</th>\n",
       "      <th>capital_loss</th>\n",
       "      <th>hours_per_week</th>\n",
       "    </tr>\n",
       "  </thead>\n",
       "  <tbody>\n",
       "    <tr>\n",
       "      <th>0</th>\n",
       "      <td>17</td>\n",
       "      <td>NaN</td>\n",
       "      <td>NaN</td>\n",
       "      <td>NaN</td>\n",
       "      <td>NaN</td>\n",
       "      <td>NaN</td>\n",
       "    </tr>\n",
       "    <tr>\n",
       "      <th>1</th>\n",
       "      <td>17</td>\n",
       "      <td>NaN</td>\n",
       "      <td>NaN</td>\n",
       "      <td>NaN</td>\n",
       "      <td>NaN</td>\n",
       "      <td>NaN</td>\n",
       "    </tr>\n",
       "  </tbody>\n",
       "</table>\n",
       "</div>"
      ],
      "text/plain": [
       "   age  fnlwgt  education_num  capital_gain  capital_loss  hours_per_week\n",
       "0   17     NaN            NaN           NaN           NaN             NaN\n",
       "1   17     NaN            NaN           NaN           NaN             NaN"
      ]
     },
     "execution_count": 90,
     "metadata": {},
     "output_type": "execute_result"
    }
   ],
   "source": [
    "df_train.select(continuous_variables).limit(2).toPandas()"
   ]
  },
  {
   "cell_type": "markdown",
   "metadata": {},
   "source": [
    "# ML Pipeline2"
   ]
  },
  {
   "cell_type": "markdown",
   "metadata": {},
   "source": [
    "In previouse section the datafram read has not read integers correctly\n",
    "To avoid the problem of the previous section we are going to add the headers to the original file "
   ]
  },
  {
   "cell_type": "markdown",
   "metadata": {},
   "source": [
    "## using regix to create header for the file"
   ]
  },
  {
   "cell_type": "code",
   "execution_count": 60,
   "metadata": {
    "ExecuteTime": {
     "end_time": "2020-09-20T16:04:10.976984Z",
     "start_time": "2020-09-20T16:04:10.971560Z"
    }
   },
   "outputs": [
    {
     "data": {
      "text/plain": [
       "'de'"
      ]
     },
     "execution_count": 60,
     "metadata": {},
     "output_type": "execute_result"
    }
   ],
   "source": [
    "\n",
    "import re\n",
    "s = '''pst.StructType([\n",
    "    pst.StructField(\"age\", pst.IntegerType(), True),\n",
    "    pst.StructField(\"workclass\", pst.StringType(), True),\n",
    "    pst.StructField(\"fnlwgt\", pst.IntegerType(), True),\n",
    "    pst.StructField(\"education\", pst.StringType(), True),\n",
    "    pst.StructField(\"education_num\", pst.IntegerType(), True),\n",
    "    pst.StructField(\"marital_status\", pst.StringType(), True),\n",
    "    pst.StructField(\"occupation\", pst.StringType(), True),\n",
    "    pst.StructField(\"relationship\", pst.StringType(), True),\n",
    "    pst.StructField(\"race\", pst.StringType(), True),\n",
    "    pst.StructField(\"sex\", pst.StringType(), True),\n",
    "    pst.StructField(\"capital_gain\", pst.IntegerType(), True),\n",
    "    pst.StructField(\"capital_loss\", pst.IntegerType(), True),\n",
    "    pst.StructField(\"hours_per_week\", pst.IntegerType(), True),\n",
    "    pst.StructField(\"native_country\", pst.StringType(), True),\n",
    "    pst.StructField(\"salary\", pst.StringType(), True)\n",
    "])'''\n",
    "m= re.search('(?<=bc)de', 'abcdef')\n",
    "m.group(0)"
   ]
  },
  {
   "cell_type": "code",
   "execution_count": 80,
   "metadata": {
    "ExecuteTime": {
     "end_time": "2020-09-20T16:31:34.415769Z",
     "start_time": "2020-09-20T16:31:34.410293Z"
    }
   },
   "outputs": [
    {
     "data": {
      "text/plain": [
       "'age, workclass, fnlwgt, education, education_num, marital_status, occupation, relationship, race, sex, capital_gain, capital_loss, hours_per_week, native_country, salary'"
      ]
     },
     "execution_count": 80,
     "metadata": {},
     "output_type": "execute_result"
    }
   ],
   "source": [
    "pattern = r'\"([A-Za-z0-9_\\./\\\\-]*)\"'\n",
    "m = re.findall(pattern, s)\n",
    "\n",
    "\", \".join(m)"
   ]
  },
  {
   "cell_type": "code",
   "execution_count": 165,
   "metadata": {
    "ExecuteTime": {
     "end_time": "2020-09-20T23:06:26.245109Z",
     "start_time": "2020-09-20T23:06:26.078608Z"
    }
   },
   "outputs": [],
   "source": [
    "df1 = spark.read.csv('adult_with_header.data', \n",
    "                     header=True, \n",
    "                     inferSchema=True, \n",
    "                     ignoreLeadingWhiteSpace=True,\n",
    "                     ignoreTrailingWhiteSpace=True)\n",
    "# without ignoreLeadingWhiteSpace the file reads space before the text"
   ]
  },
  {
   "cell_type": "code",
   "execution_count": 158,
   "metadata": {
    "ExecuteTime": {
     "end_time": "2020-09-20T23:02:47.078138Z",
     "start_time": "2020-09-20T23:02:47.013732Z"
    }
   },
   "outputs": [
    {
     "data": {
      "text/html": [
       "<div>\n",
       "<style scoped>\n",
       "    .dataframe tbody tr th:only-of-type {\n",
       "        vertical-align: middle;\n",
       "    }\n",
       "\n",
       "    .dataframe tbody tr th {\n",
       "        vertical-align: top;\n",
       "    }\n",
       "\n",
       "    .dataframe thead th {\n",
       "        text-align: right;\n",
       "    }\n",
       "</style>\n",
       "<table border=\"1\" class=\"dataframe\">\n",
       "  <thead>\n",
       "    <tr style=\"text-align: right;\">\n",
       "      <th></th>\n",
       "      <th>age</th>\n",
       "      <th>workclass</th>\n",
       "      <th>fnlwgt</th>\n",
       "      <th>education</th>\n",
       "      <th>education_num</th>\n",
       "      <th>marital_status</th>\n",
       "      <th>occupation</th>\n",
       "      <th>relationship</th>\n",
       "      <th>race</th>\n",
       "      <th>sex</th>\n",
       "      <th>capital_gain</th>\n",
       "      <th>capital_loss</th>\n",
       "      <th>hours_per_week</th>\n",
       "      <th>native_country</th>\n",
       "      <th>salary</th>\n",
       "    </tr>\n",
       "  </thead>\n",
       "  <tbody>\n",
       "    <tr>\n",
       "      <th>0</th>\n",
       "      <td>39</td>\n",
       "      <td>State-gov</td>\n",
       "      <td>77516.0</td>\n",
       "      <td>Bachelors</td>\n",
       "      <td>13.0</td>\n",
       "      <td>Never-married</td>\n",
       "      <td>Adm-clerical</td>\n",
       "      <td>Not-in-family</td>\n",
       "      <td>White</td>\n",
       "      <td>Male</td>\n",
       "      <td>2174.0</td>\n",
       "      <td>0.0</td>\n",
       "      <td>40.0</td>\n",
       "      <td>United-States</td>\n",
       "      <td>&lt;=50K</td>\n",
       "    </tr>\n",
       "    <tr>\n",
       "      <th>1</th>\n",
       "      <td>50</td>\n",
       "      <td>Self-emp-not-inc</td>\n",
       "      <td>83311.0</td>\n",
       "      <td>Bachelors</td>\n",
       "      <td>13.0</td>\n",
       "      <td>Married-civ-spouse</td>\n",
       "      <td>Exec-managerial</td>\n",
       "      <td>Husband</td>\n",
       "      <td>White</td>\n",
       "      <td>Male</td>\n",
       "      <td>0.0</td>\n",
       "      <td>0.0</td>\n",
       "      <td>13.0</td>\n",
       "      <td>United-States</td>\n",
       "      <td>&lt;=50K</td>\n",
       "    </tr>\n",
       "  </tbody>\n",
       "</table>\n",
       "</div>"
      ],
      "text/plain": [
       "   age          workclass   fnlwgt   education   education_num  \\\n",
       "0   39          State-gov  77516.0   Bachelors            13.0   \n",
       "1   50   Self-emp-not-inc  83311.0   Bachelors            13.0   \n",
       "\n",
       "        marital_status        occupation    relationship    race    sex  \\\n",
       "0        Never-married      Adm-clerical   Not-in-family   White   Male   \n",
       "1   Married-civ-spouse   Exec-managerial         Husband   White   Male   \n",
       "\n",
       "    capital_gain   capital_loss   hours_per_week  native_country  salary  \n",
       "0         2174.0            0.0             40.0   United-States   <=50K  \n",
       "1            0.0            0.0             13.0   United-States   <=50K  "
      ]
     },
     "execution_count": 158,
     "metadata": {},
     "output_type": "execute_result"
    }
   ],
   "source": [
    "df1.limit(2).toPandas()"
   ]
  },
  {
   "cell_type": "markdown",
   "metadata": {},
   "source": [
    "## Categorical"
   ]
  },
  {
   "cell_type": "code",
   "execution_count": 178,
   "metadata": {
    "ExecuteTime": {
     "end_time": "2020-09-20T23:14:03.790282Z",
     "start_time": "2020-09-20T23:14:03.745083Z"
    }
   },
   "outputs": [],
   "source": [
    "import pandas as pd\n",
    "dt = pd.read_csv(\"adult_with_header.data\",  header=0)"
   ]
  },
  {
   "cell_type": "code",
   "execution_count": 166,
   "metadata": {
    "ExecuteTime": {
     "end_time": "2020-09-20T23:06:39.772905Z",
     "start_time": "2020-09-20T23:06:39.748182Z"
    }
   },
   "outputs": [],
   "source": [
    "string_index_categorical = [pmf.StringIndexer(inputCol=x,outputCol=f\"{x}_indexed\") for x in categorical_variables ]"
   ]
  },
  {
   "cell_type": "code",
   "execution_count": 167,
   "metadata": {
    "ExecuteTime": {
     "end_time": "2020-09-20T23:06:40.698687Z",
     "start_time": "2020-09-20T23:06:40.688403Z"
    }
   },
   "outputs": [],
   "source": [
    "onehot = pmf.OneHotEncoder(\n",
    "    inputCols=[index.getOutputCol() for index in string_index_categorical],\n",
    "    outputCols=[f\"{index.getOutputCol()}_onehot\" for index in string_index_categorical]\n",
    ")"
   ]
  },
  {
   "cell_type": "code",
   "execution_count": 168,
   "metadata": {
    "ExecuteTime": {
     "end_time": "2020-09-20T23:06:41.610052Z",
     "start_time": "2020-09-20T23:06:41.605446Z"
    }
   },
   "outputs": [],
   "source": [
    "assembler2 = pmf.VectorAssembler(inputCols=onehot.getOutputCols(),\n",
    "                                 outputCol=\"oneHotEncodedData\")"
   ]
  },
  {
   "cell_type": "code",
   "execution_count": 169,
   "metadata": {
    "ExecuteTime": {
     "end_time": "2020-09-20T23:06:43.371645Z",
     "start_time": "2020-09-20T23:06:43.366891Z"
    }
   },
   "outputs": [],
   "source": [
    "pipeline = Pipeline(stages=string_index_categorical+[onehot,assembler2])"
   ]
  },
  {
   "cell_type": "code",
   "execution_count": 170,
   "metadata": {
    "ExecuteTime": {
     "end_time": "2020-09-20T23:06:47.612197Z",
     "start_time": "2020-09-20T23:06:46.447152Z"
    }
   },
   "outputs": [],
   "source": [
    "df2 = pipeline.fit(df1).transform(df1)"
   ]
  },
  {
   "cell_type": "markdown",
   "metadata": {},
   "source": [
    "## Continuous"
   ]
  },
  {
   "cell_type": "code",
   "execution_count": 171,
   "metadata": {
    "ExecuteTime": {
     "end_time": "2020-09-20T23:07:11.576675Z",
     "start_time": "2020-09-20T23:07:11.551099Z"
    }
   },
   "outputs": [],
   "source": [
    "continuous_variables = ['age', 'fnlwgt', 'education_num', 'capital_gain', 'capital_loss', 'hours_per_week']\n",
    "assembler3 = pmf.VectorAssembler(inputCols=[\"oneHotEncodedData\" , *continuous_variables],\n",
    "                                outputCol=\"features\")\n",
    "df2 = assembler3.transform(df2)\n"
   ]
  },
  {
   "cell_type": "code",
   "execution_count": 177,
   "metadata": {
    "ExecuteTime": {
     "end_time": "2020-09-20T23:08:58.235935Z",
     "start_time": "2020-09-20T23:08:58.125445Z"
    }
   },
   "outputs": [
    {
     "data": {
      "text/html": [
       "<div>\n",
       "<style scoped>\n",
       "    .dataframe tbody tr th:only-of-type {\n",
       "        vertical-align: middle;\n",
       "    }\n",
       "\n",
       "    .dataframe tbody tr th {\n",
       "        vertical-align: top;\n",
       "    }\n",
       "\n",
       "    .dataframe thead th {\n",
       "        text-align: right;\n",
       "    }\n",
       "</style>\n",
       "<table border=\"1\" class=\"dataframe\">\n",
       "  <thead>\n",
       "    <tr style=\"text-align: right;\">\n",
       "      <th></th>\n",
       "      <th>features</th>\n",
       "    </tr>\n",
       "  </thead>\n",
       "  <tbody>\n",
       "    <tr>\n",
       "      <th>0</th>\n",
       "      <td>(0.0, 0.0, 0.0, 0.0, 1.0, 0.0, 0.0, 0.0, 0.0, ...</td>\n",
       "    </tr>\n",
       "  </tbody>\n",
       "</table>\n",
       "</div>"
      ],
      "text/plain": [
       "                                            features\n",
       "0  (0.0, 0.0, 0.0, 0.0, 1.0, 0.0, 0.0, 0.0, 0.0, ..."
      ]
     },
     "execution_count": 177,
     "metadata": {},
     "output_type": "execute_result"
    }
   ],
   "source": [
    "df2.select(\"features\").limit(1).toPandas()"
   ]
  },
  {
   "cell_type": "code",
   "execution_count": 181,
   "metadata": {
    "ExecuteTime": {
     "end_time": "2020-09-20T23:16:46.608005Z",
     "start_time": "2020-09-20T23:16:46.493336Z"
    }
   },
   "outputs": [
    {
     "name": "stdout",
     "output_type": "stream",
     "text": [
      "+-------------------------------------------------------------------------------------------------------------+\n",
      "|features                                                                                                     |\n",
      "+-------------------------------------------------------------------------------------------------------------+\n",
      "|(100,[4,10,24,32,44,48,52,53,94,95,96,97,99],[1.0,1.0,1.0,1.0,1.0,1.0,1.0,1.0,39.0,77516.0,13.0,2174.0,40.0])|\n",
      "+-------------------------------------------------------------------------------------------------------------+\n",
      "only showing top 1 row\n",
      "\n"
     ]
    }
   ],
   "source": [
    "df2.select(\"features\").show(1,False)"
   ]
  },
  {
   "cell_type": "markdown",
   "metadata": {},
   "source": [
    "## add labels"
   ]
  },
  {
   "cell_type": "code",
   "execution_count": 193,
   "metadata": {
    "ExecuteTime": {
     "end_time": "2020-09-20T23:25:07.761169Z",
     "start_time": "2020-09-20T23:25:07.612543Z"
    }
   },
   "outputs": [],
   "source": [
    "index = pmf.StringIndexer(inputCol=\"salary\", outputCol=\"label\")\n",
    "df2 = index.fit(df2).transform(df2)"
   ]
  },
  {
   "cell_type": "code",
   "execution_count": 195,
   "metadata": {
    "ExecuteTime": {
     "end_time": "2020-09-20T23:25:14.770729Z",
     "start_time": "2020-09-20T23:25:14.713422Z"
    }
   },
   "outputs": [
    {
     "name": "stdout",
     "output_type": "stream",
     "text": [
      "+-----+\n",
      "|label|\n",
      "+-----+\n",
      "|  0.0|\n",
      "|  0.0|\n",
      "|  0.0|\n",
      "|  0.0|\n",
      "|  0.0|\n",
      "|  0.0|\n",
      "|  0.0|\n",
      "|  1.0|\n",
      "|  1.0|\n",
      "|  1.0|\n",
      "+-----+\n",
      "only showing top 10 rows\n",
      "\n"
     ]
    }
   ],
   "source": [
    "df2.select(\"label\").show(10)"
   ]
  },
  {
   "cell_type": "markdown",
   "metadata": {},
   "source": [
    "## split train test"
   ]
  },
  {
   "cell_type": "code",
   "execution_count": 200,
   "metadata": {
    "ExecuteTime": {
     "end_time": "2020-09-20T23:28:41.486590Z",
     "start_time": "2020-09-20T23:28:39.590424Z"
    }
   },
   "outputs": [
    {
     "data": {
      "text/plain": [
       "(32561, 26056, 6505)"
      ]
     },
     "execution_count": 200,
     "metadata": {},
     "output_type": "execute_result"
    }
   ],
   "source": [
    "df_train, df_test = df2.randomSplit([0.8, 0.2],24)\n",
    "df2.count(), df_train.count(), df_test.count()"
   ]
  },
  {
   "cell_type": "code",
   "execution_count": 188,
   "metadata": {
    "ExecuteTime": {
     "end_time": "2020-09-20T23:20:57.237961Z",
     "start_time": "2020-09-20T23:20:56.396935Z"
    }
   },
   "outputs": [
    {
     "data": {
      "text/html": [
       "<div>\n",
       "<style scoped>\n",
       "    .dataframe tbody tr th:only-of-type {\n",
       "        vertical-align: middle;\n",
       "    }\n",
       "\n",
       "    .dataframe tbody tr th {\n",
       "        vertical-align: top;\n",
       "    }\n",
       "\n",
       "    .dataframe thead th {\n",
       "        text-align: right;\n",
       "    }\n",
       "</style>\n",
       "<table border=\"1\" class=\"dataframe\">\n",
       "  <thead>\n",
       "    <tr style=\"text-align: right;\">\n",
       "      <th></th>\n",
       "      <th>features</th>\n",
       "    </tr>\n",
       "  </thead>\n",
       "  <tbody>\n",
       "    <tr>\n",
       "      <th>0</th>\n",
       "      <td>(0.0, 0.0, 0.0, 1.0, 0.0, 0.0, 0.0, 0.0, 0.0, ...</td>\n",
       "    </tr>\n",
       "    <tr>\n",
       "      <th>1</th>\n",
       "      <td>(0.0, 0.0, 0.0, 1.0, 0.0, 0.0, 0.0, 0.0, 0.0, ...</td>\n",
       "    </tr>\n",
       "  </tbody>\n",
       "</table>\n",
       "</div>"
      ],
      "text/plain": [
       "                                            features\n",
       "0  (0.0, 0.0, 0.0, 1.0, 0.0, 0.0, 0.0, 0.0, 0.0, ...\n",
       "1  (0.0, 0.0, 0.0, 1.0, 0.0, 0.0, 0.0, 0.0, 0.0, ..."
      ]
     },
     "execution_count": 188,
     "metadata": {},
     "output_type": "execute_result"
    }
   ],
   "source": [
    "df_train.select(\"features\").limit(2).toPandas()"
   ]
  },
  {
   "cell_type": "markdown",
   "metadata": {},
   "source": [
    "## Fit regression model"
   ]
  },
  {
   "cell_type": "code",
   "execution_count": 201,
   "metadata": {
    "ExecuteTime": {
     "end_time": "2020-09-20T23:29:19.113673Z",
     "start_time": "2020-09-20T23:29:10.082161Z"
    }
   },
   "outputs": [
    {
     "data": {
      "text/html": [
       "<div>\n",
       "<style scoped>\n",
       "    .dataframe tbody tr th:only-of-type {\n",
       "        vertical-align: middle;\n",
       "    }\n",
       "\n",
       "    .dataframe tbody tr th {\n",
       "        vertical-align: top;\n",
       "    }\n",
       "\n",
       "    .dataframe thead th {\n",
       "        text-align: right;\n",
       "    }\n",
       "</style>\n",
       "<table border=\"1\" class=\"dataframe\">\n",
       "  <thead>\n",
       "    <tr style=\"text-align: right;\">\n",
       "      <th></th>\n",
       "      <th>label</th>\n",
       "      <th>prediction</th>\n",
       "    </tr>\n",
       "  </thead>\n",
       "  <tbody>\n",
       "    <tr>\n",
       "      <th>0</th>\n",
       "      <td>0.0</td>\n",
       "      <td>0.0</td>\n",
       "    </tr>\n",
       "    <tr>\n",
       "      <th>1</th>\n",
       "      <td>0.0</td>\n",
       "      <td>0.0</td>\n",
       "    </tr>\n",
       "    <tr>\n",
       "      <th>2</th>\n",
       "      <td>0.0</td>\n",
       "      <td>0.0</td>\n",
       "    </tr>\n",
       "    <tr>\n",
       "      <th>3</th>\n",
       "      <td>0.0</td>\n",
       "      <td>0.0</td>\n",
       "    </tr>\n",
       "    <tr>\n",
       "      <th>4</th>\n",
       "      <td>0.0</td>\n",
       "      <td>0.0</td>\n",
       "    </tr>\n",
       "    <tr>\n",
       "      <th>5</th>\n",
       "      <td>0.0</td>\n",
       "      <td>0.0</td>\n",
       "    </tr>\n",
       "    <tr>\n",
       "      <th>6</th>\n",
       "      <td>0.0</td>\n",
       "      <td>0.0</td>\n",
       "    </tr>\n",
       "    <tr>\n",
       "      <th>7</th>\n",
       "      <td>0.0</td>\n",
       "      <td>0.0</td>\n",
       "    </tr>\n",
       "    <tr>\n",
       "      <th>8</th>\n",
       "      <td>0.0</td>\n",
       "      <td>0.0</td>\n",
       "    </tr>\n",
       "    <tr>\n",
       "      <th>9</th>\n",
       "      <td>0.0</td>\n",
       "      <td>0.0</td>\n",
       "    </tr>\n",
       "  </tbody>\n",
       "</table>\n",
       "</div>"
      ],
      "text/plain": [
       "   label  prediction\n",
       "0    0.0         0.0\n",
       "1    0.0         0.0\n",
       "2    0.0         0.0\n",
       "3    0.0         0.0\n",
       "4    0.0         0.0\n",
       "5    0.0         0.0\n",
       "6    0.0         0.0\n",
       "7    0.0         0.0\n",
       "8    0.0         0.0\n",
       "9    0.0         0.0"
      ]
     },
     "execution_count": 201,
     "metadata": {},
     "output_type": "execute_result"
    }
   ],
   "source": [
    "lr = LogisticRegression(featuresCol='features', labelCol='label')\n",
    "model = lr.fit(df_train)\n",
    "\n",
    "pred = model.transform(df_test)\n",
    "pred.limit(10).toPandas()[['label', 'prediction']]\n"
   ]
  },
  {
   "cell_type": "code",
   "execution_count": 202,
   "metadata": {
    "ExecuteTime": {
     "end_time": "2020-09-20T23:31:24.362596Z",
     "start_time": "2020-09-20T23:31:21.480981Z"
    }
   },
   "outputs": [],
   "source": [
    "res = pred.toPandas()[['label', 'prediction']]\n"
   ]
  },
  {
   "cell_type": "code",
   "execution_count": 206,
   "metadata": {
    "ExecuteTime": {
     "end_time": "2020-09-20T23:33:20.132385Z",
     "start_time": "2020-09-20T23:33:19.836828Z"
    }
   },
   "outputs": [
    {
     "data": {
      "text/plain": [
       "<AxesSubplot:>"
      ]
     },
     "execution_count": 206,
     "metadata": {},
     "output_type": "execute_result"
    },
    {
     "data": {
      "image/png": "[encoded data removed]",
      "text/plain": [
       "<Figure size 1152x288 with 1 Axes>"
      ]
     },
     "metadata": {
      "needs_background": "light"
     },
     "output_type": "display_data"
    }
   ],
   "source": [
    "import matplotlib.pyplot as plt\n",
    "res.plot(ax=  plt.figure(figsize=(16,4)).gca())"
   ]
  },
  {
   "cell_type": "markdown",
   "metadata": {},
   "source": [
    "# Partition bazi"
   ]
  },
  {
   "cell_type": "code",
   "execution_count": null,
   "metadata": {
    "ExecuteTime": {
     "end_time": "2021-05-23T16:40:11.462080Z",
     "start_time": "2021-05-23T16:40:11.451377Z"
    }
   },
   "outputs": [],
   "source": [
    "spark_partitions = config.get(ConfigKeys.SPARK_PARTITIONS)\n"
   ]
  },
  {
   "cell_type": "markdown",
   "metadata": {},
   "source": [
    "# Movies"
   ]
  },
  {
   "cell_type": "markdown",
   "metadata": {},
   "source": [
    "## Read data"
   ]
  },
  {
   "cell_type": "code",
   "execution_count": 130,
   "metadata": {
    "ExecuteTime": {
     "end_time": "2021-05-27T23:33:00.259893Z",
     "start_time": "2021-05-27T23:33:00.218924Z"
    }
   },
   "outputs": [],
   "source": [
    "# mv = sc.textFile(\"data/movies.dat\")\n",
    "# #MovieID::Title::Genres\n",
    "# mv = mv.map(lambda x : x.split(\"::\")).map(lambda x : (int(x[0]), (x[1],x(2))))\n",
    "\n",
    "# ratings = sc.textFile(\"data/ratings.dat\")\n",
    "# #UserID::MovieID::Rating::Timestamp\n",
    "# ratings = ratings.map(lambda x:x.split(\"::\")).map(lambda x : (int(x[0]) , (int(x[1]), float(x[2]))))\n",
    "\n",
    "users = sc.textFile(\"data/users.dat\")\n",
    "# UserID::Gender::Age::Occupation::Zip-code\n",
    "users = users.map(lambda x:x.split(\"::\")).map(lambda x: (int(x[0]), (x[1],int(x[2]),int(x[3]),x[4])))"
   ]
  },
  {
   "cell_type": "code",
   "execution_count": 143,
   "metadata": {
    "ExecuteTime": {
     "end_time": "2021-05-27T23:42:43.651300Z",
     "start_time": "2021-05-27T23:42:43.604948Z"
    }
   },
   "outputs": [],
   "source": [
    "movies = {}\n",
    "mv = sc.textFile(\"data/movies.dat\")\n",
    "for m in mv.collect():\n",
    "    lin = m.split(\"::\")\n",
    "    movies[int(lin[0])]= lin[1]"
   ]
  },
  {
   "cell_type": "code",
   "execution_count": 144,
   "metadata": {
    "ExecuteTime": {
     "end_time": "2021-05-27T23:48:48.695032Z",
     "start_time": "2021-05-27T23:48:48.684109Z"
    }
   },
   "outputs": [],
   "source": [
    "movie_names = sc.broadcast(movies)"
   ]
  },
  {
   "cell_type": "code",
   "execution_count": 240,
   "metadata": {
    "ExecuteTime": {
     "end_time": "2021-05-31T06:25:04.284476Z",
     "start_time": "2021-05-31T06:25:04.150626Z"
    }
   },
   "outputs": [
    {
     "name": "stdout",
     "output_type": "stream",
     "text": [
      "+------+-------+------+---------+\n",
      "|userID|movieID|rating|timestamp|\n",
      "+------+-------+------+---------+\n",
      "|     1|   1193|     5|978300760|\n",
      "|     1|    661|     3|978302109|\n",
      "+------+-------+------+---------+\n",
      "only showing top 2 rows\n",
      "\n",
      "+-------+----------------+\n",
      "|movieID|      movieTitle|\n",
      "+-------+----------------+\n",
      "|      1|Toy Story (1995)|\n",
      "|      2|  Jumanji (1995)|\n",
      "+-------+----------------+\n",
      "only showing top 2 rows\n",
      "\n"
     ]
    }
   ],
   "source": [
    "\n",
    "movieschema = types.StructType([types.StructField(\"userID\", types.IntegerType(),True),\n",
    "                          types.StructField(\"movieID\", types.IntegerType(),True),\n",
    "                          types.StructField(\"rating\", types.IntegerType(),True),\n",
    "                          types.StructField(\"timestamp\", types.IntegerType(),True)])\n",
    "df_movies = spark.read.csv(\"data/ratings.dat\",sep=\"::\",schema=movieschema)\n",
    "movie_counts = df_movies.groupBy(\"movieID\").count()\n",
    "\n",
    "movieNameSchema = types.StructType([types.StructField(\"movieID\",types.IntegerType(),True),\n",
    "                                   types.StructField(\"movieTitle\",types.StringType(),True)])\n",
    "df_movie_name = spark.read.csv(\"data/movies.dat\",schema=movieNameSchema,sep=\"::\")\n",
    "\n",
    "df_movies.show(2)\n",
    "df_movie_name.show(2)"
   ]
  },
  {
   "cell_type": "code",
   "execution_count": 241,
   "metadata": {
    "ExecuteTime": {
     "end_time": "2021-05-31T06:27:26.607222Z",
     "start_time": "2021-05-31T06:27:26.596900Z"
    }
   },
   "outputs": [],
   "source": [
    "# select just the necessary columns for the cluster distribution\n",
    "df_rating = df_movies.select(\"userID\",\"movieID\",\"rating\")"
   ]
  },
  {
   "cell_type": "code",
   "execution_count": 246,
   "metadata": {
    "ExecuteTime": {
     "end_time": "2021-05-31T06:35:11.292851Z",
     "start_time": "2021-05-31T06:35:11.201224Z"
    }
   },
   "outputs": [
    {
     "name": "stdout",
     "output_type": "stream",
     "text": [
      "+------+-------+------+\n",
      "|userID|movieID|rating|\n",
      "+------+-------+------+\n",
      "|     1|   1193|     5|\n",
      "|     1|    661|     3|\n",
      "+------+-------+------+\n",
      "only showing top 2 rows\n",
      "\n"
     ]
    }
   ],
   "source": [
    "df_rating.alias(\"rating1\").show(2)"
   ]
  },
  {
   "cell_type": "code",
   "execution_count": 249,
   "metadata": {
    "ExecuteTime": {
     "end_time": "2021-05-31T06:43:11.652778Z",
     "start_time": "2021-05-31T06:43:11.612782Z"
    }
   },
   "outputs": [],
   "source": [
    "pairs = df_rating.alias(\"rating1\").join(df_rating.alias(\"rating2\"),\n",
    "                                        (func.col(\"rating1.userID\") == func.col(\"rating2.userID\")) & (func.col(\"rating1.movieID\") < func.col(\"rating2.movieID\")))\n",
    "major_pairs = pairs.select(func.col(\"rating1.movieID\").alias(\"movie1\"),\n",
    "                          func.col(\"rating2.movieID\").alias(\"movie2\"),\n",
    "                          func.col(\"rating1.rating\").alias(\"rating1\"),\n",
    "                          func.col(\"rating2.rating\").alias(\"rating2\"))"
   ]
  },
  {
   "cell_type": "code",
   "execution_count": 250,
   "metadata": {
    "ExecuteTime": {
     "end_time": "2021-05-31T06:43:20.057016Z",
     "start_time": "2021-05-31T06:43:19.169627Z"
    }
   },
   "outputs": [
    {
     "name": "stdout",
     "output_type": "stream",
     "text": [
      "+------+------+-------+-------+\n",
      "|movie1|movie2|rating1|rating2|\n",
      "+------+------+-------+-------+\n",
      "|  2987|  2989|      5|      4|\n",
      "|  2987|  3930|      5|      3|\n",
      "|  2987|  3791|      5|      5|\n",
      "|  2987|  2990|      5|      4|\n",
      "|  2987|  3793|      5|      4|\n",
      "+------+------+-------+-------+\n",
      "only showing top 5 rows\n",
      "\n"
     ]
    }
   ],
   "source": [
    "major_pairs.show(5)"
   ]
  },
  {
   "cell_type": "code",
   "execution_count": 253,
   "metadata": {
    "ExecuteTime": {
     "end_time": "2021-05-31T06:52:40.901327Z",
     "start_time": "2021-05-31T06:52:39.950178Z"
    }
   },
   "outputs": [
    {
     "name": "stdout",
     "output_type": "stream",
     "text": [
      "+------+------+-------+-------+---+---+---+\n",
      "|movie1|movie2|rating1|rating2| xx| xy| yy|\n",
      "+------+------+-------+-------+---+---+---+\n",
      "|  2987|  2989|      5|      4| 25| 20| 16|\n",
      "|  2987|  3930|      5|      3| 25| 15|  9|\n",
      "+------+------+-------+-------+---+---+---+\n",
      "only showing top 2 rows\n",
      "\n"
     ]
    },
    {
     "ename": "AnalysisException",
     "evalue": "expression '`rating1`' is neither present in the group by, nor is it an aggregate function. Add to group by or wrap in first() (or first_value) if you don't care which value you get.;;\nAggregate [movie1#1332, movie2#1333], [movie1#1332, movie2#1333, rating1#1334]\n+- Project [movie1#1332, movie2#1333, rating1#1334, rating2#1335, xx#1440, xy#1446, (rating2#1335 * rating2#1335) AS yy#1453]\n   +- Project [movie1#1332, movie2#1333, rating1#1334, rating2#1335, xx#1440, (rating1#1334 * rating2#1335) AS xy#1446]\n      +- Project [movie1#1332, movie2#1333, rating1#1334, rating2#1335, (rating1#1334 * rating1#1334) AS xx#1440]\n         +- Project [movieID#1068 AS movie1#1332, movieID#1311 AS movie2#1333, rating#1069 AS rating1#1334, rating#1312 AS rating2#1335]\n            +- Join Inner, ((userID#1067 = userID#1310) AND (movieID#1068 < movieID#1311))\n               :- SubqueryAlias rating1\n               :  +- Project [userID#1067, movieID#1068, rating#1069]\n               :     +- Relation[userID#1067,movieID#1068,rating#1069,timestamp#1070] csv\n               +- SubqueryAlias rating2\n                  +- Project [userID#1310, movieID#1311, rating#1312]\n                     +- Relation[userID#1310,movieID#1311,rating#1312,timestamp#1313] csv\n",
     "output_type": "error",
     "traceback": [
      "\u001b[0;31m---------------------------------------------------------------------------\u001b[0m",
      "\u001b[0;31mAnalysisException\u001b[0m                         Traceback (most recent call last)",
      "\u001b[0;32m<ipython-input-253-01fe7caeb78b>\u001b[0m in \u001b[0;36m<module>\u001b[0;34m\u001b[0m\n\u001b[1;32m      7\u001b[0m     \u001b[0msimilarity\u001b[0m \u001b[0;34m=\u001b[0m \u001b[0mpair_score\u001b[0m\u001b[0;34m.\u001b[0m\u001b[0mgroupBy\u001b[0m\u001b[0;34m(\u001b[0m\u001b[0;34m\"movie1\"\u001b[0m\u001b[0;34m,\u001b[0m\u001b[0;34m\"movie2\"\u001b[0m\u001b[0;34m)\u001b[0m\u001b[0;34m.\u001b[0m\u001b[0magg\u001b[0m\u001b[0;34m(\u001b[0m\u001b[0mfunc\u001b[0m\u001b[0;34m.\u001b[0m\u001b[0mcol\u001b[0m\u001b[0;34m(\u001b[0m\u001b[0;34m\"rating1\"\u001b[0m\u001b[0;34m)\u001b[0m\u001b[0;34m)\u001b[0m\u001b[0;34m\u001b[0m\u001b[0;34m\u001b[0m\u001b[0m\n\u001b[1;32m      8\u001b[0m     \u001b[0msimilarity\u001b[0m\u001b[0;34m.\u001b[0m\u001b[0mshow\u001b[0m\u001b[0;34m(\u001b[0m\u001b[0;36m2\u001b[0m\u001b[0;34m)\u001b[0m\u001b[0;34m\u001b[0m\u001b[0;34m\u001b[0m\u001b[0m\n\u001b[0;32m----> 9\u001b[0;31m \u001b[0mcomputeSimilaritieS\u001b[0m\u001b[0;34m(\u001b[0m\u001b[0mspark\u001b[0m\u001b[0;34m,\u001b[0m\u001b[0mmajor_pairs\u001b[0m\u001b[0;34m)\u001b[0m\u001b[0;34m\u001b[0m\u001b[0;34m\u001b[0m\u001b[0m\n\u001b[0m",
      "\u001b[0;32m<ipython-input-253-01fe7caeb78b>\u001b[0m in \u001b[0;36mcomputeSimilaritieS\u001b[0;34m(spark, data)\u001b[0m\n\u001b[1;32m      5\u001b[0m     \u001b[0mpair_score\u001b[0m \u001b[0;34m=\u001b[0m \u001b[0mpair_score\u001b[0m\u001b[0;34m.\u001b[0m\u001b[0mwithColumn\u001b[0m\u001b[0;34m(\u001b[0m\u001b[0;34m\"yy\"\u001b[0m\u001b[0;34m,\u001b[0m \u001b[0mfunc\u001b[0m\u001b[0;34m.\u001b[0m\u001b[0mcol\u001b[0m\u001b[0;34m(\u001b[0m\u001b[0;34m\"rating2\"\u001b[0m\u001b[0;34m)\u001b[0m \u001b[0;34m*\u001b[0m \u001b[0mfunc\u001b[0m\u001b[0;34m.\u001b[0m\u001b[0mcol\u001b[0m\u001b[0;34m(\u001b[0m\u001b[0;34m\"rating2\"\u001b[0m\u001b[0;34m)\u001b[0m\u001b[0;34m)\u001b[0m\u001b[0;34m\u001b[0m\u001b[0;34m\u001b[0m\u001b[0m\n\u001b[1;32m      6\u001b[0m     \u001b[0mpair_score\u001b[0m\u001b[0;34m.\u001b[0m\u001b[0mshow\u001b[0m\u001b[0;34m(\u001b[0m\u001b[0;36m2\u001b[0m\u001b[0;34m)\u001b[0m\u001b[0;34m\u001b[0m\u001b[0;34m\u001b[0m\u001b[0m\n\u001b[0;32m----> 7\u001b[0;31m     \u001b[0msimilarity\u001b[0m \u001b[0;34m=\u001b[0m \u001b[0mpair_score\u001b[0m\u001b[0;34m.\u001b[0m\u001b[0mgroupBy\u001b[0m\u001b[0;34m(\u001b[0m\u001b[0;34m\"movie1\"\u001b[0m\u001b[0;34m,\u001b[0m\u001b[0;34m\"movie2\"\u001b[0m\u001b[0;34m)\u001b[0m\u001b[0;34m.\u001b[0m\u001b[0magg\u001b[0m\u001b[0;34m(\u001b[0m\u001b[0mfunc\u001b[0m\u001b[0;34m.\u001b[0m\u001b[0mcol\u001b[0m\u001b[0;34m(\u001b[0m\u001b[0;34m\"rating1\"\u001b[0m\u001b[0;34m)\u001b[0m\u001b[0;34m)\u001b[0m\u001b[0;34m\u001b[0m\u001b[0;34m\u001b[0m\u001b[0m\n\u001b[0m\u001b[1;32m      8\u001b[0m     \u001b[0msimilarity\u001b[0m\u001b[0;34m.\u001b[0m\u001b[0mshow\u001b[0m\u001b[0;34m(\u001b[0m\u001b[0;36m2\u001b[0m\u001b[0;34m)\u001b[0m\u001b[0;34m\u001b[0m\u001b[0;34m\u001b[0m\u001b[0m\n\u001b[1;32m      9\u001b[0m \u001b[0mcomputeSimilaritieS\u001b[0m\u001b[0;34m(\u001b[0m\u001b[0mspark\u001b[0m\u001b[0;34m,\u001b[0m\u001b[0mmajor_pairs\u001b[0m\u001b[0;34m)\u001b[0m\u001b[0;34m\u001b[0m\u001b[0;34m\u001b[0m\u001b[0m\n",
      "\u001b[0;32m/opt/spark/python/pyspark/sql/group.py\u001b[0m in \u001b[0;36magg\u001b[0;34m(self, *exprs)\u001b[0m\n\u001b[1;32m    111\u001b[0m             \u001b[0;31m# Columns\u001b[0m\u001b[0;34m\u001b[0m\u001b[0;34m\u001b[0m\u001b[0;34m\u001b[0m\u001b[0m\n\u001b[1;32m    112\u001b[0m             \u001b[0;32massert\u001b[0m \u001b[0mall\u001b[0m\u001b[0;34m(\u001b[0m\u001b[0misinstance\u001b[0m\u001b[0;34m(\u001b[0m\u001b[0mc\u001b[0m\u001b[0;34m,\u001b[0m \u001b[0mColumn\u001b[0m\u001b[0;34m)\u001b[0m \u001b[0;32mfor\u001b[0m \u001b[0mc\u001b[0m \u001b[0;32min\u001b[0m \u001b[0mexprs\u001b[0m\u001b[0;34m)\u001b[0m\u001b[0;34m,\u001b[0m \u001b[0;34m\"all exprs should be Column\"\u001b[0m\u001b[0;34m\u001b[0m\u001b[0;34m\u001b[0m\u001b[0m\n\u001b[0;32m--> 113\u001b[0;31m             jdf = self._jgd.agg(exprs[0]._jc,\n\u001b[0m\u001b[1;32m    114\u001b[0m                                 _to_seq(self.sql_ctx._sc, [c._jc for c in exprs[1:]]))\n\u001b[1;32m    115\u001b[0m         \u001b[0;32mreturn\u001b[0m \u001b[0mDataFrame\u001b[0m\u001b[0;34m(\u001b[0m\u001b[0mjdf\u001b[0m\u001b[0;34m,\u001b[0m \u001b[0mself\u001b[0m\u001b[0;34m.\u001b[0m\u001b[0msql_ctx\u001b[0m\u001b[0;34m)\u001b[0m\u001b[0;34m\u001b[0m\u001b[0;34m\u001b[0m\u001b[0m\n",
      "\u001b[0;32m/opt/spark/python/lib/py4j-0.10.9-src.zip/py4j/java_gateway.py\u001b[0m in \u001b[0;36m__call__\u001b[0;34m(self, *args)\u001b[0m\n\u001b[1;32m   1302\u001b[0m \u001b[0;34m\u001b[0m\u001b[0m\n\u001b[1;32m   1303\u001b[0m         \u001b[0manswer\u001b[0m \u001b[0;34m=\u001b[0m \u001b[0mself\u001b[0m\u001b[0;34m.\u001b[0m\u001b[0mgateway_client\u001b[0m\u001b[0;34m.\u001b[0m\u001b[0msend_command\u001b[0m\u001b[0;34m(\u001b[0m\u001b[0mcommand\u001b[0m\u001b[0;34m)\u001b[0m\u001b[0;34m\u001b[0m\u001b[0;34m\u001b[0m\u001b[0m\n\u001b[0;32m-> 1304\u001b[0;31m         return_value = get_return_value(\n\u001b[0m\u001b[1;32m   1305\u001b[0m             answer, self.gateway_client, self.target_id, self.name)\n\u001b[1;32m   1306\u001b[0m \u001b[0;34m\u001b[0m\u001b[0m\n",
      "\u001b[0;32m/opt/spark/python/pyspark/sql/utils.py\u001b[0m in \u001b[0;36mdeco\u001b[0;34m(*a, **kw)\u001b[0m\n\u001b[1;32m    132\u001b[0m                 \u001b[0;31m# Hide where the exception came from that shows a non-Pythonic\u001b[0m\u001b[0;34m\u001b[0m\u001b[0;34m\u001b[0m\u001b[0;34m\u001b[0m\u001b[0m\n\u001b[1;32m    133\u001b[0m                 \u001b[0;31m# JVM exception message.\u001b[0m\u001b[0;34m\u001b[0m\u001b[0;34m\u001b[0m\u001b[0;34m\u001b[0m\u001b[0m\n\u001b[0;32m--> 134\u001b[0;31m                 \u001b[0mraise_from\u001b[0m\u001b[0;34m(\u001b[0m\u001b[0mconverted\u001b[0m\u001b[0;34m)\u001b[0m\u001b[0;34m\u001b[0m\u001b[0;34m\u001b[0m\u001b[0m\n\u001b[0m\u001b[1;32m    135\u001b[0m             \u001b[0;32melse\u001b[0m\u001b[0;34m:\u001b[0m\u001b[0;34m\u001b[0m\u001b[0;34m\u001b[0m\u001b[0m\n\u001b[1;32m    136\u001b[0m                 \u001b[0;32mraise\u001b[0m\u001b[0;34m\u001b[0m\u001b[0;34m\u001b[0m\u001b[0m\n",
      "\u001b[0;32m/opt/spark/python/pyspark/sql/utils.py\u001b[0m in \u001b[0;36mraise_from\u001b[0;34m(e)\u001b[0m\n",
      "\u001b[0;31mAnalysisException\u001b[0m: expression '`rating1`' is neither present in the group by, nor is it an aggregate function. Add to group by or wrap in first() (or first_value) if you don't care which value you get.;;\nAggregate [movie1#1332, movie2#1333], [movie1#1332, movie2#1333, rating1#1334]\n+- Project [movie1#1332, movie2#1333, rating1#1334, rating2#1335, xx#1440, xy#1446, (rating2#1335 * rating2#1335) AS yy#1453]\n   +- Project [movie1#1332, movie2#1333, rating1#1334, rating2#1335, xx#1440, (rating1#1334 * rating2#1335) AS xy#1446]\n      +- Project [movie1#1332, movie2#1333, rating1#1334, rating2#1335, (rating1#1334 * rating1#1334) AS xx#1440]\n         +- Project [movieID#1068 AS movie1#1332, movieID#1311 AS movie2#1333, rating#1069 AS rating1#1334, rating#1312 AS rating2#1335]\n            +- Join Inner, ((userID#1067 = userID#1310) AND (movieID#1068 < movieID#1311))\n               :- SubqueryAlias rating1\n               :  +- Project [userID#1067, movieID#1068, rating#1069]\n               :     +- Relation[userID#1067,movieID#1068,rating#1069,timestamp#1070] csv\n               +- SubqueryAlias rating2\n                  +- Project [userID#1310, movieID#1311, rating#1312]\n                     +- Relation[userID#1310,movieID#1311,rating#1312,timestamp#1313] csv\n"
     ]
    }
   ],
   "source": [
    "def computeSimilaritieS(spark,data):\n",
    "    pair_score = data.withColumn(\"xx\",func.col(\"rating1\") * func.col(\"rating1\"))\n",
    "    pair_score = pair_score.withColumn(\"xy\", func.col(\"rating1\") * func.col(\"rating2\"))\n",
    "    pair_score = pair_score.withColumn(\"yy\", func.col(\"rating2\") * func.col(\"rating2\"))\n",
    "    \n",
    "    pair_score.show(2)\n",
    "    similarity = pair_score.groupBy(\"movie1\",\"movie2\").agg(func.col(\"rating1\"))\n",
    "    similarity.show(2)\n",
    "computeSimilaritieS(spark,major_pairs)"
   ]
  },
  {
   "cell_type": "code",
   "execution_count": 157,
   "metadata": {
    "ExecuteTime": {
     "end_time": "2021-05-27T23:57:37.788027Z",
     "start_time": "2021-05-27T23:57:37.775662Z"
    }
   },
   "outputs": [],
   "source": [
    "df_movies = spark.read.csv(\"data/ratings.dat\",sep=\"::\",schema=movieschema)\n",
    "movie_counts = df_movies.groupBy(\"movieID\").count()"
   ]
  },
  {
   "cell_type": "code",
   "execution_count": 167,
   "metadata": {
    "ExecuteTime": {
     "end_time": "2021-05-28T00:16:28.148729Z",
     "start_time": "2021-05-28T00:16:28.146760Z"
    }
   },
   "outputs": [],
   "source": [
    "def lookup_name(movieID):\n",
    "    return movie_names.value[movieID]"
   ]
  },
  {
   "cell_type": "code",
   "execution_count": 169,
   "metadata": {
    "ExecuteTime": {
     "end_time": "2021-05-28T00:17:23.539910Z",
     "start_time": "2021-05-28T00:17:23.522697Z"
    }
   },
   "outputs": [],
   "source": [
    "movie_with_names = movie_counts.withColumn(\"movieTitle\", func.udf( lookup_name)(func.col(\"movieID\")))"
   ]
  },
  {
   "cell_type": "code",
   "execution_count": 172,
   "metadata": {
    "ExecuteTime": {
     "end_time": "2021-05-28T00:23:06.537050Z",
     "start_time": "2021-05-28T00:23:03.727398Z"
    }
   },
   "outputs": [
    {
     "name": "stdout",
     "output_type": "stream",
     "text": [
      "+-------+-----+--------------------+\n",
      "|movieID|count|          movieTitle|\n",
      "+-------+-----+--------------------+\n",
      "|   2858| 3428|American Beauty (...|\n",
      "|    260| 2991|Star Wars: Episod...|\n",
      "+-------+-----+--------------------+\n",
      "only showing top 2 rows\n",
      "\n"
     ]
    }
   ],
   "source": [
    "movie_with_names.orderBy(func.desc(\"count\")).show(2)"
   ]
  },
  {
   "cell_type": "code",
   "execution_count": 106,
   "metadata": {
    "ExecuteTime": {
     "end_time": "2021-05-27T22:20:47.312389Z",
     "start_time": "2021-05-27T22:20:47.268065Z"
    }
   },
   "outputs": [
    {
     "data": {
      "text/plain": [
       "[['1', '1193', '5', '978300760'], ['1', '661', '3', '978302109']]"
      ]
     },
     "execution_count": 106,
     "metadata": {},
     "output_type": "execute_result"
    }
   ],
   "source": [
    "ratings.take(2)"
   ]
  },
  {
   "cell_type": "markdown",
   "metadata": {},
   "source": [
    "# Super Hero Network"
   ]
  },
  {
   "cell_type": "code",
   "execution_count": 174,
   "metadata": {
    "ExecuteTime": {
     "end_time": "2021-05-30T03:47:43.659438Z",
     "start_time": "2021-05-30T03:47:43.656516Z"
    }
   },
   "outputs": [],
   "source": [
    "schema  = types.StructType([types.StructField(\"id\", types.IntegerType(),True),\n",
    "                           types.StructField(\"name\",types.StringType(),True)])"
   ]
  },
  {
   "cell_type": "code",
   "execution_count": 186,
   "metadata": {
    "ExecuteTime": {
     "end_time": "2021-05-30T04:27:49.404008Z",
     "start_time": "2021-05-30T04:27:49.199945Z"
    }
   },
   "outputs": [],
   "source": [
    "pdDF_net = pd.read_csv(\"data/hero-network.csv\")\n",
    "pdDF_nodes = pd.read_csv(\"data/nodes.csv\")\n",
    "pdDF_edges = pd.read_csv(\"data/edges.csv\")"
   ]
  },
  {
   "cell_type": "code",
   "execution_count": 192,
   "metadata": {
    "ExecuteTime": {
     "end_time": "2021-05-30T04:32:37.909152Z",
     "start_time": "2021-05-30T04:32:37.906368Z"
    }
   },
   "outputs": [],
   "source": [
    "schema_net  = types.StructType([types.StructField(\"hero1\", types.StringType(),True),\n",
    "                           types.StructField(\"hero2\",types.StringType(),True)])\n",
    "schema_nodes = types.StructType([types.StructField(\"node\", types.StringType(),True),\n",
    "                           types.StructField(\"type\",types.StringType(),True)])\n",
    "schema_edges =  types.StructType([types.StructField(\"hero\", types.StringType(),True),\n",
    "                           types.StructField(\"comic\",types.StringType(),True)])"
   ]
  },
  {
   "cell_type": "code",
   "execution_count": 194,
   "metadata": {
    "ExecuteTime": {
     "end_time": "2021-05-30T04:45:20.281519Z",
     "start_time": "2021-05-30T04:45:18.204866Z"
    }
   },
   "outputs": [],
   "source": [
    "df_net = spark.createDataFrame(pdDF_net,schema=schema_net)\n",
    "df_nodes = spark.createDataFrame(pdDF_nodes,schema=schema_nodes)\n",
    "df_edges = spark.createDataFrame(pdDF_edges,schema=schema_edges)"
   ]
  },
  {
   "cell_type": "code",
   "execution_count": 196,
   "metadata": {
    "ExecuteTime": {
     "end_time": "2021-05-30T04:46:40.096505Z",
     "start_time": "2021-05-30T04:46:39.944732Z"
    }
   },
   "outputs": [
    {
     "name": "stdout",
     "output_type": "stream",
     "text": [
      "+-------------+--------------------+\n",
      "|        hero1|               hero2|\n",
      "+-------------+--------------------+\n",
      "|LITTLE, ABNER|      PRINCESS ZANDA|\n",
      "|LITTLE, ABNER|BLACK PANTHER/T'CHAL|\n",
      "+-------------+--------------------+\n",
      "only showing top 2 rows\n",
      "\n",
      "+-------+-----+\n",
      "|   node| type|\n",
      "+-------+-----+\n",
      "|2001 10|comic|\n",
      "| 2001 8|comic|\n",
      "+-------+-----+\n",
      "only showing top 2 rows\n",
      "\n",
      "+--------------------+------+\n",
      "|                hero| comic|\n",
      "+--------------------+------+\n",
      "|24-HOUR MAN/EMMANUEL|AA2 35|\n",
      "|3-D MAN/CHARLES CHAN| AVF 4|\n",
      "+--------------------+------+\n",
      "only showing top 2 rows\n",
      "\n"
     ]
    }
   ],
   "source": [
    "df_net.show(2)\n",
    "df_nodes.show(2)\n",
    "df_edges.show(2)"
   ]
  },
  {
   "cell_type": "code",
   "execution_count": 227,
   "metadata": {
    "ExecuteTime": {
     "end_time": "2021-05-30T05:44:18.458439Z",
     "start_time": "2021-05-30T05:44:17.569940Z"
    }
   },
   "outputs": [
    {
     "data": {
      "text/plain": [
       "Row(hero1='CAPTAIN AMERICA', count=8149)"
      ]
     },
     "execution_count": 227,
     "metadata": {},
     "output_type": "execute_result"
    }
   ],
   "source": [
    "mostPopular = df_net.groupBy(\"hero1\").count().sort(func.col(\"count\").desc())\n",
    "mostPopular.first()"
   ]
  },
  {
   "cell_type": "code",
   "execution_count": 232,
   "metadata": {
    "ExecuteTime": {
     "end_time": "2021-05-30T06:14:17.314758Z",
     "start_time": "2021-05-30T06:14:16.602557Z"
    }
   },
   "outputs": [
    {
     "name": "stdout",
     "output_type": "stream",
     "text": [
      "+------------+-----+\n",
      "|       hero1|count|\n",
      "+------------+-----+\n",
      "|DARE, JOHNNY|    1|\n",
      "|     KOSHIMA|    1|\n",
      "+------------+-----+\n",
      "only showing top 2 rows\n",
      "\n"
     ]
    }
   ],
   "source": [
    "one_connection = mostPopular.filter(func.col(\"count\")==1)\n",
    "one_connection.show(2)"
   ]
  }
 ],
 "metadata": {
  "kernelspec": {
   "display_name": "Python 3",
   "language": "python",
   "name": "python3"
  },
  "language_info": {
   "codemirror_mode": {
    "name": "ipython",
    "version": 3
   },
   "file_extension": ".py",
   "mimetype": "text/x-python",
   "name": "python",
   "nbconvert_exporter": "python",
   "pygments_lexer": "ipython3",
   "version": "3.8.5"
  },
  "toc": {
   "base_numbering": 1,
   "nav_menu": {},
   "number_sections": true,
   "sideBar": true,
   "skip_h1_title": false,
   "title_cell": "Table of Contents",
   "title_sidebar": "Contents",
   "toc_cell": false,
   "toc_position": {
    "height": "757px",
    "left": "226px",
    "top": "572px",
    "width": "267.3px"
   },
   "toc_section_display": true,
   "toc_window_display": true
  }
 },
 "nbformat": 4,
 "nbformat_minor": 4
}
