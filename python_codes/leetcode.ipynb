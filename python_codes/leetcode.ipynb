{
 "cells": [
  {
   "cell_type": "markdown",
   "metadata": {},
   "source": [
    "In this Jupyter notebook I have included my solutions to thee Leetcode problems. I will not include the problem description for copyright and also in order for you to take a look at the problems at awsome leetcode website. \n"
   ]
  },
  {
   "cell_type": "markdown",
   "metadata": {},
   "source": [
    "# 11. Container With Most Water\n",
    "\n"
   ]
  },
  {
   "cell_type": "code",
   "execution_count": 5,
   "metadata": {},
   "outputs": [
    {
     "data": {
      "text/plain": [
       "49"
      ]
     },
     "execution_count": 5,
     "metadata": {},
     "output_type": "execute_result"
    }
   ],
   "source": [
    "from typing import List\n",
    "class Solution:\n",
    "    def maxArea(self, height: List[int]) -> int:\n",
    "        first = 0\n",
    "        last = len(height)-1\n",
    "        max_area=0\n",
    "        while last > first:\n",
    "            area = (last-first)*min(height[first],height[last])\n",
    "            if area > max_area:\n",
    "                max_area = area\n",
    "            if height[first]>height[last]:\n",
    "                last -= 1\n",
    "            else:\n",
    "                first += 1\n",
    "\n",
    "        return max_area\n",
    "x = Solution()\n",
    "x.maxArea([1,8,6,2,5,4,8,3,7])\n"
   ]
  },
  {
   "cell_type": "markdown",
   "metadata": {},
   "source": [
    "# Two Sum\n"
   ]
  },
  {
   "cell_type": "markdown",
   "metadata": {},
   "source": [
    "class Solution:\n",
    "    def twoSum(self, nums: List[int], target: int) -> List[int]:\n",
    "        for i,n in enumerate(nums) and i!=j:\n",
    "            j = nums.index(target-n)\n",
    "            if (target-n) in nums and i!=j:\n",
    "                return[i,j]\n",
    "\n",
    "x = Solution()\n",
    "x.twoSum([3,2,4])"
   ]
  },
  {
   "cell_type": "code",
   "execution_count": null,
   "metadata": {},
   "outputs": [
    {
     "data": {
      "text/plain": [
       "[1, 2]"
      ]
     },
     "execution_count": 25,
     "metadata": {},
     "output_type": "execute_result"
    }
   ],
   "source": [
    "class Solution:\n",
    "    def twoSum(self, nums: List[int], target: int) -> List[int]:\n",
    "        for i,n in enumerate(nums):\n",
    "            if (target-n) in nums[:i]:\n",
    "                j= nums[:i].index(target-n)\n",
    "                return[i,j]\n",
    "            elif (target-n) in nums[i+1:]:\n",
    "                j= nums[i+1:].index(target-n) + i + 1\n",
    "                return [i,j]\n",
    "x = Solution()\n",
    "x.twoSum([3,2,4],6)"
   ]
  },
  {
   "cell_type": "markdown",
   "metadata": {},
   "source": [
    "class Solution:\n",
    "    def twoSum(self, nums: List[int], target: int) -> List[int]:\n",
    "        for i,n in enumerate(nums) and i!=j:\n",
    "            j = nums.index(target-n)\n",
    "            if (target-n) in nums and i!=j:\n",
    "                return[i,j]\n",
    "\n",
    "x = Solution()\n",
    "x.twoSum([3,2,4])"
   ]
  },
  {
   "cell_type": "code",
   "execution_count": null,
   "metadata": {},
   "outputs": [
    {
     "name": "stdout",
     "output_type": "stream",
     "text": [
      "<__main__.ListNode object at 0x7ff84c0fedf0> <__main__.ListNode object at 0x7ff84c03ff70> 0\n",
      "<__main__.ListNode object at 0x7ff84c0f1b50> <__main__.ListNode object at 0x7ff84c03ff10> 0\n",
      "<__main__.ListNode object at 0x7ff84c0771f0> <__main__.ListNode object at 0x7ff84c03feb0> 1\n",
      "None <__main__.ListNode object at 0x7ff84c077d00> 0\n"
     ]
    }
   ],
   "source": [
    "from typing import Optional\n",
    "# Definition for singly-linked list.\n",
    "class ListNode:\n",
    "    def __init__(self, val=0, next=None):\n",
    "        self.val = val\n",
    "        self.next = next\n",
    "\n",
    "class Solution:\n",
    "    def addTwoNumbers(self, l1: Optional[ListNode], l2: Optional[ListNode]) -> Optional[ListNode]:\n",
    "        sumval = ListNode(0)\n",
    "        first = sumval\n",
    "        carry = 0\n",
    "\n",
    "        while (l1 or l2 or carry>0):\n",
    "            print(l1,l2,carry)\n",
    "            val1 = l1.val if l1 else 0\n",
    "            val2 = l2.val if l1 else 0 \n",
    "            total = val1 + val2 + carry\n",
    "            sumval.val = total % 10\n",
    "            carry = total // 10\n",
    "\n",
    "            l1 = l1.next if l1 else None\n",
    "            l2 = l2.next if l2 else None\n",
    "            if l1 or l2 or carry>0:\n",
    "                sumval.next = ListNode(0)\n",
    "                sumval = sumval.next\n",
    "        return first\n",
    "l1 = ListNode(val=2, next=ListNode(val=4, next=ListNode(val=3, next=None)))\n",
    "l2 = ListNode(val=5, next=ListNode(val=6, next=ListNode(val=4, next=ListNode(val=9, next=None))))\n",
    "f = Solution()\n",
    "res = f.addTwoNumbers(l1,l2)"
   ]
  },
  {
   "cell_type": "markdown",
   "metadata": {},
   "source": [
    "# 3. Longest Substring Without Repeating Characters\n"
   ]
  },
  {
   "cell_type": "code",
   "execution_count": null,
   "metadata": {},
   "outputs": [
    {
     "data": {
      "text/plain": [
       "2"
      ]
     },
     "execution_count": 17,
     "metadata": {},
     "output_type": "execute_result"
    }
   ],
   "source": [
    "class Solution:\n",
    "    def lengthOfLongestSubstring(self, s: str) -> int:\n",
    "        currentpos = 1\n",
    "        previouspos = 0\n",
    "        if len(s) == 0:\n",
    "            longest = 0\n",
    "            return 0\n",
    "        elif len(s) == 1:\n",
    "            longest = 1\n",
    "            return 1\n",
    "        else:\n",
    "            longest = 1\n",
    "        current_size = 1\n",
    "        while currentpos < len(s):\n",
    "            if s[currentpos] in s[previouspos:currentpos]:\n",
    "                previouspos = s.index(s[currentpos],previouspos,currentpos) + 1\n",
    "                current_size = len(s[previouspos:currentpos]) + 1 \n",
    "            else:\n",
    "                current_size += 1\n",
    "            if current_size > longest: longest = current_size\n",
    "\n",
    "            currentpos += 1\n",
    "        return longest\n",
    "f = Solution()\n",
    "res = f.lengthOfLongestSubstring(\"au\")\n",
    "res"
   ]
  },
  {
   "cell_type": "markdown",
   "metadata": {},
   "source": [
    "# 4. Median of Two Sorted Arrays\n"
   ]
  },
  {
   "cell_type": "code",
   "execution_count": null,
   "metadata": {},
   "outputs": [
    {
     "data": {
      "text/plain": [
       "2.5"
      ]
     },
     "execution_count": 34,
     "metadata": {},
     "output_type": "execute_result"
    }
   ],
   "source": [
    "class Solution:\n",
    "    @staticmethod\n",
    "    def swap(a, b):\n",
    "        return b, a\n",
    "\n",
    "    @staticmethod\n",
    "    def get_median(a: List[int]):\n",
    "        if len(a) < 2:\n",
    "            return a[0]\n",
    "        p = len(a)//2\n",
    "        if len(a) % 2 == 0:\n",
    "            return (a[p]+a[p-1])/2\n",
    "        else:\n",
    "            return a[p]\n",
    "\n",
    "    def findMedianSortedArrays(self, nums1: List[int], nums2: List[int]) -> float:\n",
    "        # if len(nums1) > len(nums2):\n",
    "        #     nums1, nums2 = Solution.swap(nums1, nums2)\n",
    "        m1 = len(nums1)\n",
    "        m2 = len(nums2)\n",
    "        m = m1 + m2\n",
    "        if (m1 < 1) and (m2 < 1):\n",
    "            return None\n",
    "        elif (m1 < 1) and (m2 > 0):\n",
    "            return Solution.get_median(nums2)\n",
    "        elif (m1 > 0) and (m2 < 1):\n",
    "            return Solution.get_median(nums1)\n",
    "        counter = 0\n",
    "        d1 = None\n",
    "        d2 = None\n",
    "        p1 = -1\n",
    "        p2 = -1\n",
    "        pm = -1  # position of median in merged array\n",
    "        while pm <= (m1 + m2)/2 -1:\n",
    "            d1 = d2\n",
    "            if (p1+1 < m1) and (p2+1 < m2):\n",
    "                if  (nums1[p1+1] > nums2[p2+1]):\n",
    "                    p2 += 1\n",
    "                    d2 = nums2[p2]\n",
    "                else:\n",
    "                    p1 += 1\n",
    "                    d2 = nums1[p1]\n",
    "            elif p1+1<m1:\n",
    "                p1 += 1\n",
    "                d2 = nums1[p1]\n",
    "\n",
    "            else:\n",
    "                p2 += 1\n",
    "                d2 = nums2[p2]\n",
    "            pm += 1\n",
    "        if m%2 == 0:\n",
    "            return (d1+d2)/2\n",
    "        else:\n",
    "            return d2\n",
    "\n",
    "f = Solution()\n",
    "\n",
    "nums1 = []\n",
    "nums2 = [2,3]\n",
    "f.findMedianSortedArrays(nums1,nums2)"
   ]
  },
  {
   "cell_type": "markdown",
   "metadata": {},
   "source": [
    "# 5. Longest Palindromic Substring"
   ]
  },
  {
   "cell_type": "code",
   "execution_count": null,
   "metadata": {},
   "outputs": [],
   "source": [
    "class Solution:\n",
    "    def longestPalindrome(self, s: str) -> str:\n",
    "        to_right = len(s)//2 \n",
    "        to_left = len(s)//2 -1\n",
    "        longest = 0\n",
    "        lengest_palindromic = \"\"\n",
    "        while (to_right < len(s)-1) or (to_left > 0):\n",
    "            i1 = to_right - 1\n",
    "            j1 = to_right + 1 \n",
    "            if longest > 2*(len(s)-to_right):\n",
    "                break\n",
    "            while (i1>0 and j1<len(s) and s[i1] == s[j1]):\n",
    "                i1 -= 1\n",
    "                j1 += 1\n",
    "                if (j1-i1) > longest:\n",
    "                    lengest_palindromic = s[i1:j1]\n",
    "                    longest = j1 - i1\n",
    "            \n",
    "\n",
    "\n",
    "            i1 = to_left - 1\n",
    "            j1 = to_left + 1 \n",
    "            if longest > 2*(to_left):\n",
    "                break\n",
    "            while (i1>0 and j1<len(s)-1 and s[i1] == s[j1]):\n",
    "                i1 -= 1\n",
    "                j1 += 1\n",
    "                if (j1-i1) > longest:\n",
    "                    lengest_palindromic = s[i1:j1]\n",
    "                    longest = j1 - i1\n",
    "\n",
    "\n",
    "            i1 = to_right \n",
    "            j1 = to_right + 1 \n",
    "            if longest > 2*(len(s)-to_right):\n",
    "                break\n",
    "            while (i1>0 and j1<len(s) and s[i1] == s[j1]):\n",
    "                i1 -= 1\n",
    "                j1 += 1\n",
    "                if (j1-i1) > longest:\n",
    "                    lengest_palindromic = s[i1:j1]\n",
    "                    longest = j1 - i1\n",
    "            \n",
    "\n",
    "\n",
    "            i1 = to_left\n",
    "            j1 = to_left + 1 \n",
    "            if longest > 2*(to_left):\n",
    "                break\n",
    "            while (i1>0 and j1<len(s)-1 and s[i1] == s[j1]):\n",
    "                i1 -= 1\n",
    "                j1 += 1\n",
    "                if (j1-i1) > longest:\n",
    "                    lengest_palindromic = s[i1:j1]\n",
    "                    longest = j1 - i1\n",
    "\n",
    "        to_right += 1  \n",
    "        to_left -= 1  \n",
    "\n",
    "        return lengest_palindromic\n",
    "\n",
    "f = Solution()\n",
    "f.longestPalindrome(\"cbbd\")"
   ]
  },
  {
   "cell_type": "code",
   "execution_count": null,
   "metadata": {},
   "outputs": [
    {
     "data": {
      "text/plain": [
       "'babad'"
      ]
     },
     "execution_count": 5,
     "metadata": {},
     "output_type": "execute_result"
    }
   ],
   "source": [
    "class Solution:\n",
    "    def longestPalindrome(self, s: str) -> str:\n",
    "        palindrome = \"\"\n",
    "        longest = 0\n",
    "        for i in range(len(s)):\n",
    "            l,r = i,i\n",
    "            while (l>=0 and r<len(s) and s[l]==s[r]):\n",
    "                if (r-l+1)>len(palindrome):\n",
    "                    palindrome = s[l:r+1]\n",
    "                l-=1\n",
    "                r+=1                \n",
    "            l,r = i,i+1\n",
    "            \n",
    "            while (l>=0 and r<len(s) and s[l]==s[r]):\n",
    "                if (r-l+1)>len(palindrome):\n",
    "                    palindrome = s[l:r+1]   \n",
    "                l-=1\n",
    "                r+=1\n",
    "        return palindrome\n",
    "        \n",
    "f = Solution()\n",
    "f.longestPalindrome(\"babad\")"
   ]
  },
  {
   "cell_type": "markdown",
   "metadata": {},
   "source": [
    "# 6. Zigzag Conversion"
   ]
  },
  {
   "cell_type": "code",
   "execution_count": null,
   "metadata": {},
   "outputs": [
    {
     "data": {
      "text/plain": [
       "'A'"
      ]
     },
     "execution_count": 51,
     "metadata": {},
     "output_type": "execute_result"
    }
   ],
   "source": [
    "class Solution:\n",
    "    def convert(self, s: str, numRows: int) -> str:\n",
    "        if numRows == 1:\n",
    "            return s\n",
    "        base = numRows + numRows - 2 # 2 is the upper and lower zigzag\n",
    "        #  numRows - 2 is the number of the diagonal letters\n",
    "        # \n",
    "        rows = {i:[] for i in range(numRows)}\n",
    "        for i in range(len(s)):\n",
    "            remainder = i % base\n",
    "            if remainder < numRows:\n",
    "                rows[remainder].append(s[i])\n",
    "            else:\n",
    "                rows[base - remainder].append(s[i])\n",
    "          \n",
    "            # numrows 6 -> base = 10 -> \n",
    "            # 0         in row 0\n",
    "            # 1, 9   in row 1, \n",
    "            # 2, 8   in row 2, \n",
    "            # 3, 7   in row 3\n",
    "            # 4, 6   in row 4\n",
    "            # 5      in row 5   \n",
    "        result = \"\"\n",
    "        for k,v in rows.items():\n",
    "            result += \"\".join(v)\n",
    "        return result\n",
    "        \n",
    "f = Solution()\n",
    "f.convert(\"A\", 1)"
   ]
  },
  {
   "cell_type": "markdown",
   "metadata": {},
   "source": [
    "# 7. Reverse Integer\n"
   ]
  },
  {
   "cell_type": "code",
   "execution_count": null,
   "metadata": {},
   "outputs": [
    {
     "data": {
      "text/plain": [
       "4321"
      ]
     },
     "execution_count": 4,
     "metadata": {},
     "output_type": "execute_result"
    }
   ],
   "source": [
    "class Solution:\n",
    "    def reverse(self, x: int) -> int:\n",
    "        sgn = 1 if x>0 else -1\n",
    "        x1 = sgn * x\n",
    "        reverse = 0\n",
    "        while x1  > 0:\n",
    "            reverse = reverse * 10 + x1 % 10\n",
    "            x1 = x1 // 10\n",
    "            if reverse > (2**31 - 1):\n",
    "                return 0\n",
    "        return reverse * sgn\n",
    "f = Solution()\n",
    "f.reverse(1234)"
   ]
  },
  {
   "cell_type": "markdown",
   "metadata": {},
   "source": [
    "# 8. String to Integer (atoi)"
   ]
  },
  {
   "cell_type": "code",
   "execution_count": null,
   "metadata": {},
   "outputs": [],
   "source": [
    "\n",
    "class Solution:\n",
    "    def myAtoi(self, s: str) -> int:\n",
    "        \n",
    "        return re.match()\n",
    "\n",
    "f = Solution()\n",
    "f.myAtoi()"
   ]
  },
  {
   "cell_type": "markdown",
   "metadata": {},
   "source": [
    "# 10. Regular Expression Matching"
   ]
  },
  {
   "cell_type": "code",
   "execution_count": null,
   "metadata": {},
   "outputs": [
    {
     "name": "stdout",
     "output_type": "stream",
     "text": [
      "None\n",
      "<re.Match object; span=(3, 6), match='abc'>\n"
     ]
    }
   ],
   "source": [
    "a = \"123abc\"\n",
    "t = re.match(\"[a-z]+\",a)\n",
    "print(t)\n",
    "t = re.search(\"[a-z]+\",a)\n",
    "print(t)"
   ]
  },
  {
   "cell_type": "code",
   "execution_count": null,
   "metadata": {},
   "outputs": [
    {
     "name": "stdout",
     "output_type": "stream",
     "text": [
      "[]\n"
     ]
    }
   ],
   "source": [
    "\n",
    "txt = \"The rain in Spain\"\n",
    "x = re.findall(\"Portugal\", txt)\n",
    "print(x)"
   ]
  },
  {
   "cell_type": "code",
   "execution_count": null,
   "metadata": {},
   "outputs": [
    {
     "name": "stdout",
     "output_type": "stream",
     "text": [
      "None\n"
     ]
    }
   ],
   "source": [
    "txt = \"The rain in Spain\"\n",
    "x = re.search(\"Portugal\", txt)\n",
    "print(x)"
   ]
  },
  {
   "cell_type": "code",
   "execution_count": null,
   "metadata": {},
   "outputs": [
    {
     "name": "stdout",
     "output_type": "stream",
     "text": [
      "['The', 'rain', 'in', 'Spain']\n"
     ]
    }
   ],
   "source": [
    "txt = \"The rain in Spain\"\n",
    "x = re.split(\"\\s\", txt)\n",
    "print(x)"
   ]
  },
  {
   "cell_type": "code",
   "execution_count": null,
   "metadata": {},
   "outputs": [
    {
     "name": "stdout",
     "output_type": "stream",
     "text": [
      "['The', 'rain in Spain']\n"
     ]
    }
   ],
   "source": [
    "txt = \"The rain in Spain\"\n",
    "x = re.split(\"\\s\", txt, 1)\n",
    "print(x)"
   ]
  },
  {
   "cell_type": "code",
   "execution_count": null,
   "metadata": {},
   "outputs": [
    {
     "name": "stdout",
     "output_type": "stream",
     "text": [
      "The9rain9in9Spain\n"
     ]
    }
   ],
   "source": [
    "txt = \"The rain in Spain\"\n",
    "x = re.sub(\"\\s\", \"9\", txt)\n",
    "print(x)"
   ]
  },
  {
   "cell_type": "code",
   "execution_count": null,
   "metadata": {},
   "outputs": [
    {
     "name": "stdout",
     "output_type": "stream",
     "text": [
      "(5, 7)\n",
      "The rain in Spain\n",
      "ai\n"
     ]
    }
   ],
   "source": [
    "txt = \"The rain in Spain\"\n",
    "x = re.search(\"ai\", txt)\n",
    "print(x.span())\n",
    "print(x.string)\n",
    "print(x.group())\n"
   ]
  },
  {
   "cell_type": "code",
   "execution_count": null,
   "metadata": {},
   "outputs": [
    {
     "name": "stdout",
     "output_type": "stream",
     "text": [
      "[' S']\n"
     ]
    }
   ],
   "source": [
    "import re\n",
    "\n",
    "txt = \"The rain in Spain\"\n",
    "\n",
    "#Find all lower case characters alphabetically between \"a\" and \"m\":\n",
    "\n",
    "x = re.findall(\".S\", txt)\n",
    "print(x)\n"
   ]
  },
  {
   "cell_type": "code",
   "execution_count": null,
   "metadata": {},
   "outputs": [
    {
     "data": {
      "text/plain": [
       "<re.Match object; span=(0, 1), match='a'>"
      ]
     },
     "execution_count": 26,
     "metadata": {},
     "output_type": "execute_result"
    }
   ],
   "source": [
    "import re\n",
    "class Solution:\n",
    "    def isMatch(self, s: str, p: str) -> bool:\n",
    "        a = re.match(p , s)\n",
    "        return a.group()\n",
    "    \n",
    "f = Solution()\n",
    "\n",
    "f.isMatch(\"aa\",  \"a\")"
   ]
  },
  {
   "cell_type": "markdown",
   "metadata": {},
   "source": [
    "# Linked List"
   ]
  },
  {
   "cell_type": "code",
   "execution_count": null,
   "metadata": {},
   "outputs": [
    {
     "name": "stdout",
     "output_type": "stream",
     "text": [
      "1\n",
      "2\n",
      "3\n"
     ]
    }
   ],
   "source": [
    "class Node:\n",
    "    def __init__(self, val):\n",
    "        self.val = val\n",
    "        self.next = None\n",
    "\n",
    "class LinkedList:\n",
    "    def __init__(self):\n",
    "        self.head = None\n",
    "    def printList(self):\n",
    "        temp = self.head\n",
    "        while temp:\n",
    "            print(temp.val)\n",
    "            temp = temp.next\n",
    "llist = LinkedList()\n",
    "llist.head = Node(1)\n",
    "llist.head.next = Node(2)\n",
    "ll2 = llist.head.next\n",
    "ll2.next = Node(3)\n",
    "\n",
    "\n",
    "llist.printList()"
   ]
  },
  {
   "cell_type": "markdown",
   "metadata": {},
   "source": [
    "# Stack LIFO"
   ]
  },
  {
   "cell_type": "code",
   "execution_count": null,
   "metadata": {},
   "outputs": [
    {
     "name": "stdout",
     "output_type": "stream",
     "text": [
      "deque(['a', 'b', 'c'])\n",
      "deque(['a', 'b'])\n"
     ]
    }
   ],
   "source": [
    "from collections import deque\n",
    "stack = deque()\n",
    "stack.append(\"a\")\n",
    "stack.append(\"b\")\n",
    "stack.append(\"c\")\n",
    "print(stack)\n",
    "stack.pop()\n",
    "print(stack)\n",
    "\n",
    "from queue import LifoQueue\n",
    "stack = LifoQueue(maxsize=3)\n",
    "stack.put('a')\n",
    "\n",
    "# maxsize – Number of items allowed in the queue.\n",
    "# empty() – Return True if the queue is empty, False otherwise.\n",
    "# full() – Return True if there are maxsize items in the queue. If the queue was initialized with maxsize=0 (the default), then full() never returns True.\n",
    "# get() – Remove and return an item from the queue. If the queue is empty, wait until an item is available.\n",
    "# get_nowait() – Return an item if one is immediately available, else raise QueueEmpty.\n",
    "# put(item) – Put an item into the queue. If the queue is full, wait until a free slot is available before adding the item.\n",
    "# put_nowait(item) – Put an item into the queue without blocking.\n",
    "# qsize() – Return the number of items in the queue. If no free slot is immediately available, raise QueueFull.\n",
    "\n",
    "# Python program to"
   ]
  },
  {
   "cell_type": "markdown",
   "metadata": {},
   "source": [
    "# Rotate string"
   ]
  },
  {
   "cell_type": "code",
   "execution_count": 14,
   "metadata": {},
   "outputs": [
    {
     "data": {
      "text/plain": [
       "'BCDEFGHIJKLMN9123456789'"
      ]
     },
     "execution_count": 14,
     "metadata": {},
     "output_type": "execute_result"
    }
   ],
   "source": [
    "import math\n",
    "# Add any extra import statements you may need here\n",
    "\n",
    "\n",
    "# Add any helper functions you may need here\n",
    "\n",
    "\n",
    "def rotationalCipher(input, rotation_factor):\n",
    "  # Write your code here\n",
    "  factor = 0\n",
    "  \n",
    "  def rotate_char (start,end, ch):\n",
    "    factor = rotation_factor % (end - start + 1)\n",
    "    if (ord(ch) + factor) > end :\n",
    "        num1 = (ord(ch) + factor)-end   + start -1\n",
    "    else:\n",
    "        num1 = (ord(ch) + factor)\n",
    "    return chr(num1)\n",
    "     \n",
    "        \n",
    "  resutl = \"\"\n",
    "  for c in input:\n",
    "    \n",
    "    if (ord(c) >=97) and (ord(c)<=122):\n",
    "      resutl += rotate_char (97,122, c)\n",
    "    elif (ord(c) >=48) and (ord(c)<=57):\n",
    "      resutl += rotate_char (48,57,  c)\n",
    "    elif (ord(c) >=65) and (ord(c)<=90):\n",
    "      resutl += rotate_char (65,90,  c)\n",
    "  \n",
    "  return resutl\n",
    "\n",
    "rotationalCipher(\"NOPQRSTUVWXYZ0123456789\",39)"
   ]
  },
  {
   "cell_type": "markdown",
   "metadata": {},
   "source": [
    "# Contiguous Subarrays\n"
   ]
  },
  {
   "cell_type": "code",
   "execution_count": 24,
   "metadata": {},
   "outputs": [
    {
     "data": {
      "text/plain": [
       "[1, 3, 1, 5, 1]"
      ]
     },
     "execution_count": 24,
     "metadata": {},
     "output_type": "execute_result"
    }
   ],
   "source": [
    "def count_subarrays(arr):\n",
    "  # Write your code here\n",
    "  count_arr = []  \n",
    "  for i in range(len(arr)):\n",
    "    count = 1\n",
    "    l = i-1\n",
    "    while l >= 0:\n",
    "      if arr[i]>=arr[l]:\n",
    "        l -= 1\n",
    "        count += 1\n",
    "      else:\n",
    "        break\n",
    "    \n",
    "    r = i + 1\n",
    "    while r < len(arr) and  (arr[i]>=arr[r]):\n",
    "        r += 1\n",
    "        count += 1\n",
    "    count_arr.append(count)\n",
    "  \n",
    "  return count_arr\n",
    "count_subarrays([3, 4, 1, 6, 2])"
   ]
  },
  {
   "cell_type": "markdown",
   "metadata": {},
   "source": [
    "# Pair Sums\n"
   ]
  },
  {
   "cell_type": "code",
   "execution_count": 27,
   "metadata": {},
   "outputs": [
    {
     "data": {
      "text/plain": [
       "[0, 2, 4]"
      ]
     },
     "execution_count": 27,
     "metadata": {},
     "output_type": "execute_result"
    }
   ],
   "source": [
    "list(range(0,6,2))"
   ]
  },
  {
   "cell_type": "code",
   "execution_count": 28,
   "metadata": {},
   "outputs": [
    {
     "data": {
      "text/plain": [
       "{1: 1, 2: 1, 3: 2, 4: 1}"
      ]
     },
     "execution_count": 28,
     "metadata": {},
     "output_type": "execute_result"
    }
   ],
   "source": [
    "\n",
    "def numberOfWays(arr, k):\n",
    "    # Write your code here\n",
    "    num_ways = 0\n",
    "    fathomed = []\n",
    "    dd = {}\n",
    "    for c in arr:\n",
    "       dd[c] = dd.get(c,0) + 1\n",
    "\n",
    "    for c in dd:\n",
    "        if c in fathomed:\n",
    "            continue\n",
    "        expected = k-c\n",
    "        fathomed.append(c)\n",
    "        if (expected == c) and dd[c]>1:\n",
    "            num_ways += dd[c] * (dd[c]-1) /2\n",
    "        elif (expected in dd) and not expected in fathomed:\n",
    "            fathomed.append(expected)\n",
    "            num_ways += dd[c] * dd[expected]\n",
    "        \n",
    "\n",
    "    return num_ways\n",
    "\n",
    "\n",
    "\n",
    "\n",
    "\n",
    "k = 6\n",
    "arr = [1, 2, 3, 4, 3]\n",
    "numberOfWays(arr,k)\n"
   ]
  },
  {
   "cell_type": "code",
   "execution_count": 16,
   "metadata": {},
   "outputs": [
    {
     "data": {
      "text/plain": [
       "(65, 90, 97, 122, 48, 57)"
      ]
     },
     "execution_count": 16,
     "metadata": {},
     "output_type": "execute_result"
    }
   ],
   "source": [
    "ord(\"A\"), ord(\"Z\"), ord(\"a\"), ord(\"z\"),ord(\"0\"), ord(\"9\")"
   ]
  },
  {
   "cell_type": "code",
   "execution_count": null,
   "metadata": {},
   "outputs": [],
   "source": [
    "import math\n",
    "# Add any extra import statements you may need here\n",
    "\n",
    "\n",
    "# Add any helper functions you may need here\n",
    "\n",
    "\n",
    "def rotationalCipher(input, rotation_factor):\n",
    "  # Write your code here\n",
    "  factor = 0\n",
    "  \n",
    "  def rotate_char (start,end, ch):\n",
    "    factor = rotation_factor % (end - start + 1)\n",
    "    num1 = (ord(ch) + factor) % end  + start\n",
    "    return chr(num1)\n",
    "     \n",
    "        \n",
    "  resutl = \"\"\n",
    "  for c in input:\n",
    "    \n",
    "    if (ord(c) >=97) and (ord(c)<=122):\n",
    "      resutl += rotate_char (97,122, c)\n",
    "    elif (ord(c) >=48) and (ord(c)<=57):\n",
    "      resutl += rotate_char (48,57,  c)\n",
    "    elif (ord(c) >=65) and (ord(c)<=90):\n",
    "      resutl += rotate_char (65,90,  c)\n",
    "  \n",
    "  return resutl\n",
    "\n",
    "rotationalCipher(\"abc\",3)"
   ]
  }
 ],
 "metadata": {
  "interpreter": {
   "hash": "916dbcbb3f70747c44a77c7bcd40155683ae19c65e1c03b4aa3499c5328201f1"
  },
  "kernelspec": {
   "display_name": "Python 3.8.10 64-bit",
   "language": "python",
   "name": "python3"
  },
  "language_info": {
   "codemirror_mode": {
    "name": "ipython",
    "version": 3
   },
   "file_extension": ".py",
   "mimetype": "text/x-python",
   "name": "python",
   "nbconvert_exporter": "python",
   "pygments_lexer": "ipython3",
   "version": "3.8.10"
  },
  "orig_nbformat": 4
 },
 "nbformat": 4,
 "nbformat_minor": 2
}
