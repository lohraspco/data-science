{
 "cells": [
  {
   "cell_type": "code",
   "execution_count": 1,
   "metadata": {
    "ExecuteTime": {
     "end_time": "2020-09-23T04:01:53.333265Z",
     "start_time": "2020-09-23T04:01:53.320148Z"
    }
   },
   "outputs": [
    {
     "data": {
      "text/plain": [
       "'/home/lohrasp/lohrasp/analyticsoptim/stock_screener'"
      ]
     },
     "execution_count": 1,
     "metadata": {},
     "output_type": "execute_result"
    }
   ],
   "source": [
    "import sys, os\n",
    "os.getcwd()"
   ]
  },
  {
   "cell_type": "markdown",
   "metadata": {},
   "source": [
    "# Get database connection"
   ]
  },
  {
   "cell_type": "code",
   "execution_count": 116,
   "metadata": {
    "ExecuteTime": {
     "end_time": "2020-09-23T05:08:49.383723Z",
     "start_time": "2020-09-23T05:08:46.181805Z"
    }
   },
   "outputs": [],
   "source": [
    "from sqlalchemy import create_engine\n",
    "SQLALCHEMY_DATABASE_URL = f\"postgresql://{params['user']}:{params['password']}@{params['host']}/{params['database']}\"\n",
    "engine = create_engine(SQLALCHEMY_DATABASE_URL)\n",
    "all.to_sql(\"Symbols\",con=engine,schema=\"incertae\", index=False,if_exists='append')"
   ]
  },
  {
   "cell_type": "markdown",
   "metadata": {},
   "source": [
    "# Adding the symbol to table"
   ]
  },
  {
   "cell_type": "code",
   "execution_count": 2,
   "metadata": {
    "ExecuteTime": {
     "end_time": "2020-09-23T04:01:54.213201Z",
     "start_time": "2020-09-23T04:01:54.082665Z"
    }
   },
   "outputs": [],
   "source": [
    "import pandas as pd\n",
    "nasdaq = pd.read_csv ('/home/lohrasp/lohrasp/Robinhood_RR/AllStocks/NASDAQ.csv')\n",
    "nyse = pd.read_csv ('/home/lohrasp/lohrasp/Robinhood_RR/AllStocks/NYSE.csv')\n",
    "amex = pd.read_csv ('/home/lohrasp/lohrasp/Robinhood_RR/AllStocks/AMEX.csv')\n",
    "rating_100 = pd.read_csv ('/home/lohrasp/lohrasp/Robinhood_RR/AllStocks/rating_100m.csv')\n",
    "rating_10b = pd.read_csv ('/home/lohrasp/lohrasp/Robinhood_RR/AllStocks/rating_10b.csv')\n",
    "\n"
   ]
  },
  {
   "cell_type": "code",
   "execution_count": 35,
   "metadata": {
    "ExecuteTime": {
     "end_time": "2020-09-23T04:27:50.647349Z",
     "start_time": "2020-09-23T04:27:50.636442Z"
    }
   },
   "outputs": [],
   "source": [
    "all = pd.concat([nasdaq,nyse,amex])"
   ]
  },
  {
   "cell_type": "code",
   "execution_count": 37,
   "metadata": {
    "ExecuteTime": {
     "end_time": "2020-09-23T04:29:54.678556Z",
     "start_time": "2020-09-23T04:29:54.668495Z"
    }
   },
   "outputs": [],
   "source": [
    "all = all.rename({\"Symbol\":\"symbol\", \"Name\":\"name\",\"MarketCap\":\"marketcap\", \"IPOyear\":\"ipoyear\",\n",
    "                 \"Sector\":\"sector\" } ,axis =1)"
   ]
  },
  {
   "cell_type": "code",
   "execution_count": 48,
   "metadata": {
    "ExecuteTime": {
     "end_time": "2020-09-23T04:39:04.535056Z",
     "start_time": "2020-09-23T04:39:04.529727Z"
    }
   },
   "outputs": [],
   "source": [
    "all =all.drop(\"LastSale\", axis =1)"
   ]
  },
  {
   "cell_type": "code",
   "execution_count": 92,
   "metadata": {
    "ExecuteTime": {
     "end_time": "2020-09-23T04:56:37.070321Z",
     "start_time": "2020-09-23T04:56:37.059716Z"
    }
   },
   "outputs": [],
   "source": [
    "m = \"nan\"\n",
    "def get_money(m):\n",
    "#     print(m, type(m))\n",
    "    if not isinstance(m,str):\n",
    "        return m\n",
    "    if isinstance(m,str):\n",
    "        if (m is None) or (m.lower()=='nan'):\n",
    "            return m\n",
    "    abb = m[-1]\n",
    "    m = float (m[1:-1])\n",
    "    if abb == 'B':\n",
    "        m = m*1000\n",
    "    return m\n",
    "for mm in all.marketcap:\n",
    "    get_money(mm)"
   ]
  },
  {
   "cell_type": "code",
   "execution_count": 114,
   "metadata": {
    "ExecuteTime": {
     "end_time": "2020-09-23T05:07:12.491256Z",
     "start_time": "2020-09-23T05:07:12.485453Z"
    }
   },
   "outputs": [],
   "source": [
    "all.ipoyear = all.ipoyear.fillna(0).astype(int)"
   ]
  },
  {
   "cell_type": "code",
   "execution_count": 94,
   "metadata": {
    "ExecuteTime": {
     "end_time": "2020-09-23T04:57:06.182437Z",
     "start_time": "2020-09-23T04:57:06.169848Z"
    }
   },
   "outputs": [],
   "source": [
    "all[\"marketcap\"] = all.marketcap.apply(get_money)"
   ]
  },
  {
   "cell_type": "code",
   "execution_count": 7,
   "metadata": {
    "ExecuteTime": {
     "end_time": "2020-09-23T04:02:39.422630Z",
     "start_time": "2020-09-23T04:02:39.416327Z"
    }
   },
   "outputs": [],
   "source": [
    "allsymbols = set(nyse.Symbol).union(amex.Symbol).union (nasdaq.Symbol)"
   ]
  },
  {
   "cell_type": "code",
   "execution_count": 9,
   "metadata": {
    "ExecuteTime": {
     "end_time": "2020-09-23T04:02:54.287063Z",
     "start_time": "2020-09-23T04:02:54.278924Z"
    }
   },
   "outputs": [
    {
     "data": {
      "text/plain": [
       "6978"
      ]
     },
     "execution_count": 9,
     "metadata": {},
     "output_type": "execute_result"
    }
   ],
   "source": [
    "len(allsymbols)"
   ]
  },
  {
   "cell_type": "code",
   "execution_count": 23,
   "metadata": {
    "ExecuteTime": {
     "end_time": "2020-09-23T04:19:46.317503Z",
     "start_time": "2020-09-23T04:19:46.296844Z"
    }
   },
   "outputs": [],
   "source": [
    "import psycopg2 as db\n"
   ]
  },
  {
   "cell_type": "code",
   "execution_count": 21,
   "metadata": {
    "ExecuteTime": {
     "end_time": "2020-09-23T04:19:33.125404Z",
     "start_time": "2020-09-23T04:19:33.118852Z"
    }
   },
   "outputs": [],
   "source": [
    "def config(filename='../frontend/database.ini', section='postgresql'):\n",
    "\n",
    "    # create a parser\n",
    "    print(os.getcwd(),filename)\n",
    "    assert os.path.isfile(filename)\n",
    "    parser = ConfigParser()\n",
    "    # read config file\n",
    "    parser.read(filename)\n",
    "    # get section, default to postgresql\n",
    "    db = {}\n",
    "    if parser.has_section(section):\n",
    "        params = parser.items(section)\n",
    "        for param in params:\n",
    "            db[param[0]] = param[1]\n",
    "    else:\n",
    "        raise Exception('Section {0} not found in the {1} file'.format(section, filename))\n",
    "\n",
    "    return db\n",
    "from configparser import  ConfigParser\n"
   ]
  },
  {
   "cell_type": "code",
   "execution_count": 125,
   "metadata": {
    "ExecuteTime": {
     "end_time": "2020-09-23T05:18:50.051461Z",
     "start_time": "2020-09-23T05:18:50.041710Z"
    }
   },
   "outputs": [
    {
     "name": "stdout",
     "output_type": "stream",
     "text": [
      "/home/lohrasp/lohrasp/analyticsoptim/stock_screener ../frontend/database.ini\n"
     ]
    },
    {
     "data": {
      "text/plain": [
       "[]"
      ]
     },
     "execution_count": 125,
     "metadata": {},
     "output_type": "execute_result"
    }
   ],
   "source": [
    "params = config(filename=\"../frontend/database.ini\")\n",
    "conn = db.connect(**params)\n",
    "c = conn.cursor()\n",
    "symboltocheck = \"BSSS\"\n",
    "c.execute(f\"\"\"SELECT * FROM incertae.\"Symbols\" where symbol='{symboltocheck}'\"\"\")\n",
    "c.fetchmany(10)"
   ]
  },
  {
   "cell_type": "code",
   "execution_count": 122,
   "metadata": {
    "ExecuteTime": {
     "end_time": "2020-09-23T05:17:54.324403Z",
     "start_time": "2020-09-23T05:17:54.203375Z"
    }
   },
   "outputs": [
    {
     "name": "stdout",
     "output_type": "stream",
     "text": [
      "/home/lohrasp/lohrasp/analyticsoptim/stock_screener\r\n"
     ]
    }
   ],
   "source": [
    "!pwd"
   ]
  },
  {
   "cell_type": "markdown",
   "metadata": {},
   "source": [
    "# Mark s&p 500"
   ]
  },
  {
   "cell_type": "code",
   "execution_count": 128,
   "metadata": {
    "ExecuteTime": {
     "end_time": "2020-09-23T05:19:29.372710Z",
     "start_time": "2020-09-23T05:19:29.362216Z"
    }
   },
   "outputs": [],
   "source": [
    "df = pd.read_csv(\"sp500.csv\", header=None)"
   ]
  },
  {
   "cell_type": "code",
   "execution_count": 136,
   "metadata": {
    "ExecuteTime": {
     "end_time": "2020-09-23T05:28:47.857788Z",
     "start_time": "2020-09-23T05:28:45.774391Z"
    }
   },
   "outputs": [],
   "source": [
    "for s in df[0]:\n",
    "    c.execute(f\"\"\"UPDATE incertae.\"Symbols\" SET sp500='true' where symbol='{s}'\"\"\")\n",
    "    conn.commit()\n"
   ]
  },
  {
   "cell_type": "code",
   "execution_count": null,
   "metadata": {},
   "outputs": [],
   "source": [
    "import yfinance as yf\n",
    "\n",
    "msft = yf.Ticker(\"MSFT\")\n",
    "\n",
    "# get stock info\n",
    "print(msft.info)"
   ]
  },
  {
   "cell_type": "markdown",
   "metadata": {
    "ExecuteTime": {
     "end_time": "2020-09-23T05:13:01.619599Z",
     "start_time": "2020-09-23T05:13:01.615990Z"
    }
   },
   "source": [
    "c.close()\n",
    "conn.close()"
   ]
  },
  {
   "cell_type": "code",
   "execution_count": null,
   "metadata": {},
   "outputs": [],
   "source": []
  }
 ],
 "metadata": {
  "kernelspec": {
   "display_name": "Python 3",
   "language": "python",
   "name": "python3"
  },
  "language_info": {
   "codemirror_mode": {
    "name": "ipython",
    "version": 3
   },
   "file_extension": ".py",
   "mimetype": "text/x-python",
   "name": "python",
   "nbconvert_exporter": "python",
   "pygments_lexer": "ipython3",
   "version": "3.8.2"
  },
  "toc": {
   "base_numbering": 1,
   "nav_menu": {},
   "number_sections": true,
   "sideBar": true,
   "skip_h1_title": false,
   "title_cell": "Table of Contents",
   "title_sidebar": "Contents",
   "toc_cell": false,
   "toc_position": {},
   "toc_section_display": true,
   "toc_window_display": false
  }
 },
 "nbformat": 4,
 "nbformat_minor": 4
}
