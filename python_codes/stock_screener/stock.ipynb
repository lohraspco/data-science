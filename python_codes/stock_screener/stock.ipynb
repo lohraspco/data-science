{
 "cells": [
  {
   "cell_type": "code",
   "execution_count": 1,
   "metadata": {
    "ExecuteTime": {
     "end_time": "2020-09-23T04:01:53.333265Z",
     "start_time": "2020-09-23T04:01:53.320148Z"
    }
   },
   "outputs": [
    {
     "data": {
      "text/plain": [
       "'/home/lohrasp/lohrasp/analyticsoptim/stock_screener'"
      ]
     },
     "execution_count": 1,
     "metadata": {},
     "output_type": "execute_result"
    }
   ],
   "source": [
    "import sys, os\n",
    "os.getcwd()"
   ]
  },
  {
   "cell_type": "markdown",
   "metadata": {},
   "source": [
    "# Get database connection"
   ]
  },
  {
   "cell_type": "code",
   "execution_count": 116,
   "metadata": {
    "ExecuteTime": {
     "end_time": "2020-09-23T05:08:49.383723Z",
     "start_time": "2020-09-23T05:08:46.181805Z"
    }
   },
   "outputs": [],
   "source": [
    "from sqlalchemy import create_engine\n",
    "SQLALCHEMY_DATABASE_URL = f\"postgresql://{params['user']}:{params['password']}@{params['host']}/{params['database']}\"\n",
    "engine = create_engine(SQLALCHEMY_DATABASE_URL)\n",
    "all.to_sql(\"security\",con=engine,schema=\"saffron\", index=False,if_exists='append')"
   ]
  },
  {
   "cell_type": "markdown",
   "metadata": {},
   "source": [
    "# Adding the symbol to table"
   ]
  },
  {
   "cell_type": "code",
   "execution_count": 2,
   "metadata": {
    "ExecuteTime": {
     "end_time": "2020-09-23T04:01:54.213201Z",
     "start_time": "2020-09-23T04:01:54.082665Z"
    }
   },
   "outputs": [],
   "source": [
    "import pandas as pd\n",
    "nasdaq = pd.read_csv ('/home/lohrasp/lohrasp/Robinhood_RR/AllStocks/NASDAQ.csv')\n",
    "nyse = pd.read_csv ('/home/lohrasp/lohrasp/Robinhood_RR/AllStocks/NYSE.csv')\n",
    "amex = pd.read_csv ('/home/lohrasp/lohrasp/Robinhood_RR/AllStocks/AMEX.csv')\n",
    "rating_100 = pd.read_csv ('/home/lohrasp/lohrasp/Robinhood_RR/AllStocks/rating_100m.csv')\n",
    "rating_10b = pd.read_csv ('/home/lohrasp/lohrasp/Robinhood_RR/AllStocks/rating_10b.csv')\n",
    "\n"
   ]
  },
  {
   "cell_type": "code",
   "execution_count": 35,
   "metadata": {
    "ExecuteTime": {
     "end_time": "2020-09-23T04:27:50.647349Z",
     "start_time": "2020-09-23T04:27:50.636442Z"
    }
   },
   "outputs": [],
   "source": [
    "all = pd.concat([nasdaq,nyse,amex])"
   ]
  },
  {
   "cell_type": "code",
   "execution_count": 37,
   "metadata": {
    "ExecuteTime": {
     "end_time": "2020-09-23T04:29:54.678556Z",
     "start_time": "2020-09-23T04:29:54.668495Z"
    }
   },
   "outputs": [],
   "source": [
    "all = all.rename({\"Symbol\":\"symbol\", \"Name\":\"name\",\"MarketCap\":\"marketcap\", \"IPOyear\":\"ipoyear\",\n",
    "                 \"Sector\":\"sector\" } ,axis =1)"
   ]
  },
  {
   "cell_type": "code",
   "execution_count": 48,
   "metadata": {
    "ExecuteTime": {
     "end_time": "2020-09-23T04:39:04.535056Z",
     "start_time": "2020-09-23T04:39:04.529727Z"
    }
   },
   "outputs": [],
   "source": [
    "all =all.drop(\"LastSale\", axis =1)"
   ]
  },
  {
   "cell_type": "code",
   "execution_count": 92,
   "metadata": {
    "ExecuteTime": {
     "end_time": "2020-09-23T04:56:37.070321Z",
     "start_time": "2020-09-23T04:56:37.059716Z"
    }
   },
   "outputs": [],
   "source": [
    "m = \"nan\"\n",
    "def get_money(m):\n",
    "#     print(m, type(m))\n",
    "    if not isinstance(m,str):\n",
    "        return m\n",
    "    if isinstance(m,str):\n",
    "        if (m is None) or (m.lower()=='nan'):\n",
    "            return m\n",
    "    abb = m[-1]\n",
    "    m = float (m[1:-1])\n",
    "    if abb == 'B':\n",
    "        m = m*1000\n",
    "    return m\n",
    "for mm in all.marketcap:\n",
    "    get_money(mm)"
   ]
  },
  {
   "cell_type": "code",
   "execution_count": 114,
   "metadata": {
    "ExecuteTime": {
     "end_time": "2020-09-23T05:07:12.491256Z",
     "start_time": "2020-09-23T05:07:12.485453Z"
    }
   },
   "outputs": [],
   "source": [
    "all.ipoyear = all.ipoyear.fillna(0).astype(int)"
   ]
  },
  {
   "cell_type": "code",
   "execution_count": 94,
   "metadata": {
    "ExecuteTime": {
     "end_time": "2020-09-23T04:57:06.182437Z",
     "start_time": "2020-09-23T04:57:06.169848Z"
    }
   },
   "outputs": [],
   "source": [
    "all[\"marketcap\"] = all.marketcap.apply(get_money)"
   ]
  },
  {
   "cell_type": "code",
   "execution_count": 7,
   "metadata": {
    "ExecuteTime": {
     "end_time": "2020-09-23T04:02:39.422630Z",
     "start_time": "2020-09-23T04:02:39.416327Z"
    }
   },
   "outputs": [],
   "source": [
    "allsymbols = set(nyse.Symbol).union(amex.Symbol).union (nasdaq.Symbol)"
   ]
  },
  {
   "cell_type": "code",
   "execution_count": 9,
   "metadata": {
    "ExecuteTime": {
     "end_time": "2020-09-23T04:02:54.287063Z",
     "start_time": "2020-09-23T04:02:54.278924Z"
    }
   },
   "outputs": [
    {
     "data": {
      "text/plain": [
       "6978"
      ]
     },
     "execution_count": 9,
     "metadata": {},
     "output_type": "execute_result"
    }
   ],
   "source": [
    "len(allsymbols)"
   ]
  },
  {
   "cell_type": "code",
   "execution_count": 23,
   "metadata": {
    "ExecuteTime": {
     "end_time": "2020-09-23T04:19:46.317503Z",
     "start_time": "2020-09-23T04:19:46.296844Z"
    }
   },
   "outputs": [],
   "source": [
    "import psycopg2 as db\n"
   ]
  },
  {
   "cell_type": "code",
   "execution_count": 21,
   "metadata": {
    "ExecuteTime": {
     "end_time": "2020-09-23T04:19:33.125404Z",
     "start_time": "2020-09-23T04:19:33.118852Z"
    }
   },
   "outputs": [],
   "source": [
    "def config(filename='../frontend/database.ini', section='postgresql'):\n",
    "\n",
    "    # create a parser\n",
    "    print(os.getcwd(),filename)\n",
    "    assert os.path.isfile(filename)\n",
    "    parser = ConfigParser()\n",
    "    # read config file\n",
    "    parser.read(filename)\n",
    "    # get section, default to postgresql\n",
    "    db = {}\n",
    "    if parser.has_section(section):\n",
    "        params = parser.items(section)\n",
    "        for param in params:\n",
    "            db[param[0]] = param[1]\n",
    "    else:\n",
    "        raise Exception('Section {0} not found in the {1} file'.format(section, filename))\n",
    "\n",
    "    return db\n",
    "from configparser import  ConfigParser\n"
   ]
  },
  {
   "cell_type": "code",
   "execution_count": 125,
   "metadata": {
    "ExecuteTime": {
     "end_time": "2020-09-23T05:18:50.051461Z",
     "start_time": "2020-09-23T05:18:50.041710Z"
    }
   },
   "outputs": [
    {
     "name": "stdout",
     "output_type": "stream",
     "text": [
      "/home/lohrasp/lohrasp/analyticsoptim/stock_screener ../frontend/database.ini\n"
     ]
    },
    {
     "data": {
      "text/plain": [
       "[]"
      ]
     },
     "execution_count": 125,
     "metadata": {},
     "output_type": "execute_result"
    }
   ],
   "source": [
    "params = config(filename=\"../frontend/database.ini\")\n",
    "conn = db.connect(**params)\n",
    "c = conn.cursor()\n",
    "symboltocheck = \"BSSS\"\n",
    "c.execute(f\"\"\"SELECT * FROM saffron.\"security\" where symbol='{symboltocheck}'\"\"\")\n",
    "c.fetchmany(10)"
   ]
  },
  {
   "cell_type": "code",
   "execution_count": 122,
   "metadata": {
    "ExecuteTime": {
     "end_time": "2020-09-23T05:17:54.324403Z",
     "start_time": "2020-09-23T05:17:54.203375Z"
    }
   },
   "outputs": [
    {
     "name": "stdout",
     "output_type": "stream",
     "text": [
      "/home/lohrasp/lohrasp/analyticsoptim/stock_screener\r\n"
     ]
    }
   ],
   "source": [
    "!pwd"
   ]
  },
  {
   "cell_type": "markdown",
   "metadata": {},
   "source": [
    "# Mark s&p 500"
   ]
  },
  {
   "cell_type": "code",
   "execution_count": 128,
   "metadata": {
    "ExecuteTime": {
     "end_time": "2020-09-23T05:19:29.372710Z",
     "start_time": "2020-09-23T05:19:29.362216Z"
    }
   },
   "outputs": [],
   "source": [
    "df = pd.read_csv(\"sp500.csv\", header=None)"
   ]
  },
  {
   "cell_type": "code",
   "execution_count": 136,
   "metadata": {
    "ExecuteTime": {
     "end_time": "2020-09-23T05:28:47.857788Z",
     "start_time": "2020-09-23T05:28:45.774391Z"
    }
   },
   "outputs": [],
   "source": [
    "for s in df[0]:\n",
    "    c.execute(f\"\"\"UPDATE saffron.\"security\" SET sp500='true' where symbol='{s}'\"\"\")\n",
    "    conn.commit()\n"
   ]
  },
  {
   "cell_type": "code",
   "execution_count": 137,
   "metadata": {
    "ExecuteTime": {
     "end_time": "2020-09-23T05:40:45.504011Z",
     "start_time": "2020-09-23T05:40:42.856479Z"
    }
   },
   "outputs": [
    {
     "data": {
      "text/plain": [
       "{'zip': '98052-6399',\n",
       " 'sector': 'Technology',\n",
       " 'fullTimeEmployees': 163000,\n",
       " 'longBusinessSummary': 'Microsoft Corporation develops, licenses, and supports software, services, devices, and solutions worldwide. Its Productivity and Business Processes segment offers Office, Exchange, SharePoint, Microsoft Teams, Office 365 Security and Compliance, and Skype for Business, as well as related Client Access Licenses (CAL); Skype, Outlook.com, and OneDrive; LinkedIn that includes Talent, Learning, Sales, and Marketing solutions, as well as premium subscriptions; and Dynamics 365, a set of cloud-based and on-premises business solutions for small and medium businesses, large organizations, and divisions of enterprises. Its Intelligent Cloud segment licenses SQL and Windows Servers, Visual Studio, System Center, and related CALs; GitHub that provides a collaboration platform and code hosting service for developers; and Azure, a cloud platform. It also offers support services and Microsoft consulting services to assist customers in developing, deploying, and managing Microsoft server and desktop solutions; and training and certification to developers and IT professionals on various Microsoft products. Its More Personal Computing segment provides Windows original equipment manufacturer (OEM) licensing and other non-volume licensing of the Windows operating system; Windows Commercial, such as volume licensing of the Windows operating system, Windows cloud services, and other Windows commercial offerings; patent licensing; Windows Internet of Things; and MSN advertising. It also offers Surface, PC accessories, PCs, tablets, gaming and entertainment consoles, and other intelligent devices; Gaming, including Xbox hardware, and Xbox content and services; video games and third-party video game royalties; and Search, including Bing and Microsoft advertising. It sells its products through OEMs, distributors, and resellers; and directly through digital marketplaces, online stores, and retail stores. The company was founded in 1975 and is headquartered in Redmond, Washington.',\n",
       " 'city': 'Redmond',\n",
       " 'phone': '425-882-8080',\n",
       " 'state': 'WA',\n",
       " 'country': 'United States',\n",
       " 'companyOfficers': [],\n",
       " 'website': 'http://www.microsoft.com',\n",
       " 'maxAge': 1,\n",
       " 'address1': 'One Microsoft Way',\n",
       " 'industry': 'Software—Infrastructure',\n",
       " 'previousClose': 202.54,\n",
       " 'regularMarketOpen': 205.06,\n",
       " 'twoHundredDayAverage': 189.5658,\n",
       " 'trailingAnnualDividendYield': 0.010072085,\n",
       " 'payoutRatio': 0.3455,\n",
       " 'volume24Hr': None,\n",
       " 'regularMarketDayHigh': 208.1,\n",
       " 'navPrice': None,\n",
       " 'averageDailyVolume10Day': 34433228,\n",
       " 'totalAssets': None,\n",
       " 'regularMarketPreviousClose': 202.54,\n",
       " 'fiftyDayAverage': 212.32,\n",
       " 'trailingAnnualDividendRate': 2.04,\n",
       " 'open': 205.06,\n",
       " 'toCurrency': None,\n",
       " 'averageVolume10days': 34433228,\n",
       " 'expireDate': None,\n",
       " 'yield': None,\n",
       " 'algorithm': None,\n",
       " 'dividendRate': 2.24,\n",
       " 'exDividendDate': 1605657600,\n",
       " 'beta': 0.893534,\n",
       " 'circulatingSupply': None,\n",
       " 'startDate': None,\n",
       " 'regularMarketDayLow': 202.08,\n",
       " 'priceHint': 2,\n",
       " 'currency': 'USD',\n",
       " 'trailingPE': 36.010414,\n",
       " 'regularMarketVolume': 33517065,\n",
       " 'lastMarket': None,\n",
       " 'maxSupply': None,\n",
       " 'openInterest': None,\n",
       " 'marketCap': 1569681965056,\n",
       " 'volumeAllCurrencies': None,\n",
       " 'strikePrice': None,\n",
       " 'averageVolume': 35324801,\n",
       " 'priceToSalesTrailing12Months': 10.975645,\n",
       " 'dayLow': 202.08,\n",
       " 'ask': 0,\n",
       " 'ytdReturn': None,\n",
       " 'askSize': 900,\n",
       " 'volume': 33517065,\n",
       " 'fiftyTwoWeekHigh': 232.86,\n",
       " 'forwardPE': 28.220407,\n",
       " 'fromCurrency': None,\n",
       " 'fiveYearAvgDividendYield': 1.83,\n",
       " 'fiftyTwoWeekLow': 132.52,\n",
       " 'bid': 0,\n",
       " 'tradeable': False,\n",
       " 'dividendYield': 0.0111,\n",
       " 'bidSize': 800,\n",
       " 'dayHigh': 208.1,\n",
       " 'exchange': 'NMS',\n",
       " 'shortName': 'Microsoft Corporation',\n",
       " 'longName': 'Microsoft Corporation',\n",
       " 'exchangeTimezoneName': 'America/New_York',\n",
       " 'exchangeTimezoneShortName': 'EDT',\n",
       " 'isEsgPopulated': False,\n",
       " 'gmtOffSetMilliseconds': '-14400000',\n",
       " 'quoteType': 'EQUITY',\n",
       " 'symbol': 'MSFT',\n",
       " 'messageBoardId': 'finmb_21835',\n",
       " 'market': 'us_market',\n",
       " 'annualHoldingsTurnover': None,\n",
       " 'enterpriseToRevenue': 10.416,\n",
       " 'beta3Year': None,\n",
       " 'profitMargins': 0.30962,\n",
       " 'enterpriseToEbitda': 22.827,\n",
       " '52WeekChange': 0.48837543,\n",
       " 'morningStarRiskRating': None,\n",
       " 'forwardEps': 7.35,\n",
       " 'revenueQuarterlyGrowth': None,\n",
       " 'sharesOutstanding': 7567649792,\n",
       " 'fundInceptionDate': None,\n",
       " 'annualReportExpenseRatio': None,\n",
       " 'bookValue': 15.626,\n",
       " 'sharesShort': 36458662,\n",
       " 'sharesPercentSharesOut': 0.0047999998,\n",
       " 'fundFamily': None,\n",
       " 'lastFiscalYearEnd': 1593475200,\n",
       " 'heldPercentInstitutions': 0.74093,\n",
       " 'netIncomeToCommon': 44280999936,\n",
       " 'trailingEps': 5.76,\n",
       " 'lastDividendValue': None,\n",
       " 'SandP52WeekChange': 0.106000066,\n",
       " 'priceToBook': 13.27403,\n",
       " 'heldPercentInsiders': 0.014249999,\n",
       " 'nextFiscalYearEnd': 1656547200,\n",
       " 'mostRecentQuarter': 1593475200,\n",
       " 'shortRatio': 1.08,\n",
       " 'sharesShortPreviousMonthDate': 1596153600,\n",
       " 'floatShares': 7455727348,\n",
       " 'enterpriseValue': 1489646256128,\n",
       " 'threeYearAverageReturn': None,\n",
       " 'lastSplitDate': 1045526400,\n",
       " 'lastSplitFactor': '2:1',\n",
       " 'legalType': None,\n",
       " 'morningStarOverallRating': None,\n",
       " 'earningsQuarterlyGrowth': -0.151,\n",
       " 'dateShortInterest': 1598832000,\n",
       " 'pegRatio': 2.11,\n",
       " 'lastCapGain': None,\n",
       " 'shortPercentOfFloat': 0.0049,\n",
       " 'sharesShortPriorMonth': 36472205,\n",
       " 'category': None,\n",
       " 'fiveYearAverageReturn': None,\n",
       " 'regularMarketPrice': 205.06,\n",
       " 'logo_url': 'https://logo.clearbit.com/microsoft.com'}"
      ]
     },
     "execution_count": 137,
     "metadata": {},
     "output_type": "execute_result"
    }
   ],
   "source": [
    "import yfinance as yf\n",
    "\n",
    "msft = yf.Ticker(\"MSFT\")\n",
    "\n",
    "# get stock info\n",
    "msft.info"
   ]
  },
  {
   "cell_type": "code",
   "execution_count": 140,
   "metadata": {
    "ExecuteTime": {
     "end_time": "2020-09-23T05:41:20.773279Z",
     "start_time": "2020-09-23T05:41:20.768816Z"
    }
   },
   "outputs": [
    {
     "data": {
      "text/plain": [
       "{'zip': '98052-6399',\n",
       " 'sector': 'Technology',\n",
       " 'fullTimeEmployees': 163000,\n",
       " 'longBusinessSummary': 'Microsoft Corporation develops, licenses, and supports software, services, devices, and solutions worldwide. Its Productivity and Business Processes segment offers Office, Exchange, SharePoint, Microsoft Teams, Office 365 Security and Compliance, and Skype for Business, as well as related Client Access Licenses (CAL); Skype, Outlook.com, and OneDrive; LinkedIn that includes Talent, Learning, Sales, and Marketing solutions, as well as premium subscriptions; and Dynamics 365, a set of cloud-based and on-premises business solutions for small and medium businesses, large organizations, and divisions of enterprises. Its Intelligent Cloud segment licenses SQL and Windows Servers, Visual Studio, System Center, and related CALs; GitHub that provides a collaboration platform and code hosting service for developers; and Azure, a cloud platform. It also offers support services and Microsoft consulting services to assist customers in developing, deploying, and managing Microsoft server and desktop solutions; and training and certification to developers and IT professionals on various Microsoft products. Its More Personal Computing segment provides Windows original equipment manufacturer (OEM) licensing and other non-volume licensing of the Windows operating system; Windows Commercial, such as volume licensing of the Windows operating system, Windows cloud services, and other Windows commercial offerings; patent licensing; Windows Internet of Things; and MSN advertising. It also offers Surface, PC accessories, PCs, tablets, gaming and entertainment consoles, and other intelligent devices; Gaming, including Xbox hardware, and Xbox content and services; video games and third-party video game royalties; and Search, including Bing and Microsoft advertising. It sells its products through OEMs, distributors, and resellers; and directly through digital marketplaces, online stores, and retail stores. The company was founded in 1975 and is headquartered in Redmond, Washington.',\n",
       " 'city': 'Redmond',\n",
       " 'phone': '425-882-8080',\n",
       " 'state': 'WA',\n",
       " 'country': 'United States',\n",
       " 'companyOfficers': [],\n",
       " 'website': 'http://www.microsoft.com',\n",
       " 'maxAge': 1,\n",
       " 'address1': 'One Microsoft Way',\n",
       " 'industry': 'Software—Infrastructure',\n",
       " 'previousClose': 202.54,\n",
       " 'regularMarketOpen': 205.06,\n",
       " 'twoHundredDayAverage': 189.5658,\n",
       " 'trailingAnnualDividendYield': 0.010072085,\n",
       " 'payoutRatio': 0.3455,\n",
       " 'volume24Hr': None,\n",
       " 'regularMarketDayHigh': 208.1,\n",
       " 'navPrice': None,\n",
       " 'averageDailyVolume10Day': 34433228,\n",
       " 'totalAssets': None,\n",
       " 'regularMarketPreviousClose': 202.54,\n",
       " 'fiftyDayAverage': 212.32,\n",
       " 'trailingAnnualDividendRate': 2.04,\n",
       " 'open': 205.06,\n",
       " 'toCurrency': None,\n",
       " 'averageVolume10days': 34433228,\n",
       " 'expireDate': None,\n",
       " 'yield': None,\n",
       " 'algorithm': None,\n",
       " 'dividendRate': 2.24,\n",
       " 'exDividendDate': 1605657600,\n",
       " 'beta': 0.893534,\n",
       " 'circulatingSupply': None,\n",
       " 'startDate': None,\n",
       " 'regularMarketDayLow': 202.08,\n",
       " 'priceHint': 2,\n",
       " 'currency': 'USD',\n",
       " 'trailingPE': 36.010414,\n",
       " 'regularMarketVolume': 33517065,\n",
       " 'lastMarket': None,\n",
       " 'maxSupply': None,\n",
       " 'openInterest': None,\n",
       " 'marketCap': 1569681965056,\n",
       " 'volumeAllCurrencies': None,\n",
       " 'strikePrice': None,\n",
       " 'averageVolume': 35324801,\n",
       " 'priceToSalesTrailing12Months': 10.975645,\n",
       " 'dayLow': 202.08,\n",
       " 'ask': 0,\n",
       " 'ytdReturn': None,\n",
       " 'askSize': 900,\n",
       " 'volume': 33517065,\n",
       " 'fiftyTwoWeekHigh': 232.86,\n",
       " 'forwardPE': 28.220407,\n",
       " 'fromCurrency': None,\n",
       " 'fiveYearAvgDividendYield': 1.83,\n",
       " 'fiftyTwoWeekLow': 132.52,\n",
       " 'bid': 0,\n",
       " 'tradeable': False,\n",
       " 'dividendYield': 0.0111,\n",
       " 'bidSize': 800,\n",
       " 'dayHigh': 208.1,\n",
       " 'exchange': 'NMS',\n",
       " 'shortName': 'Microsoft Corporation',\n",
       " 'longName': 'Microsoft Corporation',\n",
       " 'exchangeTimezoneName': 'America/New_York',\n",
       " 'exchangeTimezoneShortName': 'EDT',\n",
       " 'isEsgPopulated': False,\n",
       " 'gmtOffSetMilliseconds': '-14400000',\n",
       " 'quoteType': 'EQUITY',\n",
       " 'symbol': 'MSFT',\n",
       " 'messageBoardId': 'finmb_21835',\n",
       " 'market': 'us_market',\n",
       " 'annualHoldingsTurnover': None,\n",
       " 'enterpriseToRevenue': 10.416,\n",
       " 'beta3Year': None,\n",
       " 'profitMargins': 0.30962,\n",
       " 'enterpriseToEbitda': 22.827,\n",
       " '52WeekChange': 0.48837543,\n",
       " 'morningStarRiskRating': None,\n",
       " 'forwardEps': 7.35,\n",
       " 'revenueQuarterlyGrowth': None,\n",
       " 'sharesOutstanding': 7567649792,\n",
       " 'fundInceptionDate': None,\n",
       " 'annualReportExpenseRatio': None,\n",
       " 'bookValue': 15.626,\n",
       " 'sharesShort': 36458662,\n",
       " 'sharesPercentSharesOut': 0.0047999998,\n",
       " 'fundFamily': None,\n",
       " 'lastFiscalYearEnd': 1593475200,\n",
       " 'heldPercentInstitutions': 0.74093,\n",
       " 'netIncomeToCommon': 44280999936,\n",
       " 'trailingEps': 5.76,\n",
       " 'lastDividendValue': None,\n",
       " 'SandP52WeekChange': 0.106000066,\n",
       " 'priceToBook': 13.27403,\n",
       " 'heldPercentInsiders': 0.014249999,\n",
       " 'nextFiscalYearEnd': 1656547200,\n",
       " 'mostRecentQuarter': 1593475200,\n",
       " 'shortRatio': 1.08,\n",
       " 'sharesShortPreviousMonthDate': 1596153600,\n",
       " 'floatShares': 7455727348,\n",
       " 'enterpriseValue': 1489646256128,\n",
       " 'threeYearAverageReturn': None,\n",
       " 'lastSplitDate': 1045526400,\n",
       " 'lastSplitFactor': '2:1',\n",
       " 'legalType': None,\n",
       " 'morningStarOverallRating': None,\n",
       " 'earningsQuarterlyGrowth': -0.151,\n",
       " 'dateShortInterest': 1598832000,\n",
       " 'pegRatio': 2.11,\n",
       " 'lastCapGain': None,\n",
       " 'shortPercentOfFloat': 0.0049,\n",
       " 'sharesShortPriorMonth': 36472205,\n",
       " 'category': None,\n",
       " 'fiveYearAverageReturn': None,\n",
       " 'regularMarketPrice': 205.06,\n",
       " 'logo_url': 'https://logo.clearbit.com/microsoft.com'}"
      ]
     },
     "execution_count": 140,
     "metadata": {},
     "output_type": "execute_result"
    }
   ],
   "source": [
    "msft.info"
   ]
  },
  {
   "cell_type": "markdown",
   "metadata": {
    "ExecuteTime": {
     "end_time": "2020-09-23T05:13:01.619599Z",
     "start_time": "2020-09-23T05:13:01.615990Z"
    }
   },
   "source": [
    "c.close()\n",
    "conn.close()"
   ]
  },
  {
   "cell_type": "code",
   "execution_count": null,
   "metadata": {},
   "outputs": [],
   "source": []
  }
 ],
 "metadata": {
  "kernelspec": {
   "display_name": "Python 3",
   "language": "python",
   "name": "python3"
  },
  "language_info": {
   "codemirror_mode": {
    "name": "ipython",
    "version": 3
   },
   "file_extension": ".py",
   "mimetype": "text/x-python",
   "name": "python",
   "nbconvert_exporter": "python",
   "pygments_lexer": "ipython3",
   "version": "3.8.2"
  },
  "toc": {
   "base_numbering": 1,
   "nav_menu": {},
   "number_sections": true,
   "sideBar": true,
   "skip_h1_title": false,
   "title_cell": "Table of Contents",
   "title_sidebar": "Contents",
   "toc_cell": false,
   "toc_position": {},
   "toc_section_display": true,
   "toc_window_display": false
  }
 },
 "nbformat": 4,
 "nbformat_minor": 4
}
