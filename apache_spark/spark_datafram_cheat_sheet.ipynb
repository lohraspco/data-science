{
 "cells": [
  {
   "cell_type": "markdown",
   "metadata": {},
   "source": [
    "# Here are some of my PySpark codes\n",
    "\n",
    "For this notebook I am using data from movieLense\n",
    "https://files.grouplens.org/datasets/movielens/\n",
    "\n",
    "Check the data preparation section below this Notebook"
   ]
  },
  {
   "cell_type": "code",
   "execution_count": 1,
   "metadata": {},
   "outputs": [],
   "source": [
    "%load_ext autoreload\n",
    "%autoreload 2"
   ]
  },
  {
   "cell_type": "code",
   "execution_count": 2,
   "metadata": {},
   "outputs": [
    {
     "data": {
      "text/html": [
       "        <script type=\"text/javascript\">\n",
       "        window.PlotlyConfig = {MathJaxConfig: 'local'};\n",
       "        if (window.MathJax) {MathJax.Hub.Config({SVG: {font: \"STIX-Web\"}});}\n",
       "        if (typeof require !== 'undefined') {\n",
       "        require.undef(\"plotly\");\n",
       "        requirejs.config({\n",
       "            paths: {\n",
       "                'plotly': ['https://cdn.plot.ly/plotly-2.9.0.min']\n",
       "            }\n",
       "        });\n",
       "        require(['plotly'], function(Plotly) {\n",
       "            window._Plotly = Plotly;\n",
       "        });\n",
       "        }\n",
       "        </script>\n",
       "        "
      ]
     },
     "metadata": {},
     "output_type": "display_data"
    },
    {
     "data": {
      "text/html": [
       "        <script type=\"text/javascript\">\n",
       "        window.PlotlyConfig = {MathJaxConfig: 'local'};\n",
       "        if (window.MathJax) {MathJax.Hub.Config({SVG: {font: \"STIX-Web\"}});}\n",
       "        if (typeof require !== 'undefined') {\n",
       "        require.undef(\"plotly\");\n",
       "        requirejs.config({\n",
       "            paths: {\n",
       "                'plotly': ['https://cdn.plot.ly/plotly-2.9.0.min']\n",
       "            }\n",
       "        });\n",
       "        require(['plotly'], function(Plotly) {\n",
       "            window._Plotly = Plotly;\n",
       "        });\n",
       "        }\n",
       "        </script>\n",
       "        "
      ]
     },
     "metadata": {},
     "output_type": "display_data"
    }
   ],
   "source": [
    "import pandas as pd \n",
    "import matplotlib.pyplot as plt\n",
    "import cufflinks as cf\n",
    "cf.go_offline()\n"
   ]
  },
  {
   "cell_type": "code",
   "execution_count": 3,
   "metadata": {},
   "outputs": [
    {
     "name": "stderr",
     "output_type": "stream",
     "text": [
      "Setting default log level to \"WARN\".\n",
      "To adjust logging level use sc.setLogLevel(newLevel). For SparkR, use setLogLevel(newLevel).\n",
      "2022-02-28 16:45:52,812 WARN util.NativeCodeLoader: Unable to load native-hadoop library for your platform... using builtin-java classes where applicable\n"
     ]
    }
   ],
   "source": [
    "from pyspark.sql import SparkSession\n",
    "spark = SparkSession.builder.appName(\"dataframPractices\").getOrCreate()\n"
   ]
  },
  {
   "cell_type": "code",
   "execution_count": 4,
   "metadata": {},
   "outputs": [
    {
     "name": "stderr",
     "output_type": "stream",
     "text": [
      "                                                                                \r"
     ]
    }
   ],
   "source": [
    "# Add the helper file that contains helper class\n",
    "spark.sparkContext.addPyFile('hdfs:///user/hadoop/movie_helper.py')\n",
    "from movie_helper import *\n",
    "\n",
    "# Before loading data you can check if the folder movieLense100k exists on hadoop HDFS\n",
    "# !hdfs dfs -ls moviesdb/\n",
    "df = DataModel(spark, \"movieLense100k\",delimiter=\",\")"
   ]
  },
  {
   "cell_type": "code",
   "execution_count": 5,
   "metadata": {},
   "outputs": [
    {
     "name": "stdout",
     "output_type": "stream",
     "text": [
      "number of partitions before repartitioning is 1 and after repartitioning is 10\n"
     ]
    }
   ],
   "source": [
    "# check number of partitions\n",
    "dfrating = df.rating.repartition(10)\n",
    "print(f\"number of partitions before repartitioning is {df.rating.rdd.getNumPartitions()} and after repartitioning is {dfrating.rdd.getNumPartitions()}\")"
   ]
  },
  {
   "cell_type": "code",
   "execution_count": 8,
   "metadata": {},
   "outputs": [
    {
     "name": "stdout",
     "output_type": "stream",
     "text": [
      "+------+-------+------+---------+\n",
      "|userId|movieId|rating|timestamp|\n",
      "+------+-------+------+---------+\n",
      "|   196|    242|     3|881250949|\n",
      "|   186|    302|     3|891717742|\n",
      "+------+-------+------+---------+\n",
      "only showing top 2 rows\n",
      "\n"
     ]
    }
   ],
   "source": [
    "df.rating.show(2)"
   ]
  },
  {
   "cell_type": "markdown",
   "metadata": {},
   "source": [
    "# "
   ]
  },
  {
   "cell_type": "markdown",
   "metadata": {},
   "source": [
    "# Data preparation"
   ]
  },
  {
   "cell_type": "code",
   "execution_count": 16,
   "metadata": {},
   "outputs": [],
   "source": [
    "df1 = pd.read_csv(\"data/movieLense100k/users.dat\",sep=\"|\",header=None, names=[\"age\",\"sex\",\"occupation\",\"zip_code\"]) \n",
    "df1.reset_index(inplace=True)\n",
    "df1.rename({\"index\":\"user_id\"},axis=1,inplace=True)"
   ]
  },
  {
   "cell_type": "code",
   "execution_count": 20,
   "metadata": {},
   "outputs": [
    {
     "name": "stdout",
     "output_type": "stream",
     "text": [
      "+-------+---+---+----------+--------+\n",
      "|user_id|sex|age|occupation|zip_code|\n",
      "+-------+---+---+----------+--------+\n",
      "|      0|  M| 24|technician|   85711|\n",
      "|      1|  F| 53|     other|   94043|\n",
      "+-------+---+---+----------+--------+\n",
      "only showing top 2 rows\n",
      "\n"
     ]
    }
   ],
   "source": [
    "# Convert to spark dataframe\n",
    "dfs = spark.createDataFrame (df1[[\"user_id\",\"sex\",\"age\",\"occupation\",\"zip_code\"]])\n",
    "dfs.show(2)"
   ]
  },
  {
   "cell_type": "code",
   "execution_count": 21,
   "metadata": {},
   "outputs": [
    {
     "name": "stdout",
     "output_type": "stream",
     "text": [
      "2022-02-27 01:47:58,834 WARN util.NativeCodeLoader: Unable to load native-hadoop library for your platform... using builtin-java classes where applicable\n",
      "Found 22 items\n",
      "-rw-r--r--   3 hadoop supergroup       6750 2022-02-23 07:18 moviesdb/movieLense100k/README\n",
      "-rw-r--r--   3 hadoop supergroup        716 2022-02-23 07:18 moviesdb/movieLense100k/allbut.pl\n",
      "-rw-r--r--   3 hadoop supergroup        643 2022-02-23 07:18 moviesdb/movieLense100k/mku.sh\n",
      "-rw-r--r--   3 hadoop supergroup     243704 2022-02-26 17:30 moviesdb/movieLense100k/movies.dat\n",
      "-rw-r--r--   3 hadoop supergroup    1979173 2022-02-26 17:54 moviesdb/movieLense100k/ratings.dat\n",
      "-rw-r--r--   3 hadoop supergroup    1979173 2022-02-26 18:47 moviesdb/movieLense100k/ratings.dat1\n",
      "-rw-r--r--   3 hadoop supergroup        202 2022-02-23 07:18 moviesdb/movieLense100k/u.genre\n",
      "-rw-r--r--   3 hadoop supergroup         36 2022-02-23 07:18 moviesdb/movieLense100k/u.info\n",
      "-rw-r--r--   3 hadoop supergroup        193 2022-02-23 07:18 moviesdb/movieLense100k/u.occupation\n",
      "-rw-r--r--   3 hadoop supergroup    1586544 2022-02-23 07:18 moviesdb/movieLense100k/u1.base\n",
      "-rw-r--r--   3 hadoop supergroup     392629 2022-02-23 07:18 moviesdb/movieLense100k/u1.test\n",
      "-rw-r--r--   3 hadoop supergroup    1583948 2022-02-23 07:18 moviesdb/movieLense100k/u2.base\n",
      "-rw-r--r--   3 hadoop supergroup     395225 2022-02-23 07:18 moviesdb/movieLense100k/u2.test\n",
      "-rw-r--r--   3 hadoop supergroup    1582546 2022-02-23 07:18 moviesdb/movieLense100k/u3.base\n",
      "-rw-r--r--   3 hadoop supergroup     396627 2022-02-23 07:18 moviesdb/movieLense100k/u3.test\n",
      "-rw-r--r--   3 hadoop supergroup    1581878 2022-02-23 07:18 moviesdb/movieLense100k/u4.base\n",
      "-rw-r--r--   3 hadoop supergroup     397295 2022-02-23 07:18 moviesdb/movieLense100k/u4.test\n",
      "-rw-r--r--   3 hadoop supergroup    1581776 2022-02-23 07:18 moviesdb/movieLense100k/u5.base\n",
      "-rw-r--r--   3 hadoop supergroup     397397 2022-02-23 07:18 moviesdb/movieLense100k/u5.test\n",
      "-rw-r--r--   3 hadoop supergroup    1792501 2022-02-23 07:18 moviesdb/movieLense100k/ua.base\n",
      "-rw-r--r--   3 hadoop supergroup     186672 2022-02-23 07:18 moviesdb/movieLense100k/ua.test\n",
      "-rw-r--r--   3 hadoop supergroup    1792476 2022-02-23 07:18 moviesdb/movieLense100k/ub.base\n"
     ]
    }
   ],
   "source": [
    "!hdfs dfs -ls moviesdb/movieLense100k"
   ]
  },
  {
   "cell_type": "markdown",
   "metadata": {},
   "source": [
    "Delete unused files"
   ]
  },
  {
   "cell_type": "code",
   "execution_count": 25,
   "metadata": {},
   "outputs": [],
   "source": [
    "files_to_delete = [\"moviesdb/movieLense100k/ub.base\",\"moviesdb/movieLense100k/ua.test\",\"moviesdb/movieLense100k/ua.base\",\"moviesdb/movieLense100k/u5.test\",\n",
    "\"moviesdb/movieLense100k/u5.base\",\"moviesdb/movieLense100k/u4.test\",\"moviesdb/movieLense100k/u4.base\",\"moviesdb/movieLense100k/u3.test\",\n",
    "\"moviesdb/movieLense100k/u3.base\",\"moviesdb/movieLense100k/u2.test\",\"moviesdb/movieLense100k/u2.base\",\"moviesdb/movieLense100k/u1.test\",\"moviesdb/movieLense100k/u1.base\"]\n",
    "sc = spark.sparkContext\n",
    "# Prepare a FileSystem manager\n",
    "fs = (sc._jvm.org\n",
    "      .apache.hadoop\n",
    "      .fs.FileSystem\n",
    "      .get(sc._jsc.hadoopConfiguration())\n",
    "      )\n",
    "for path in files_to_delete:\n",
    "      # use the FileSystem manager to remove the path\n",
    "      fs.delete(sc._jvm.org.apache.hadoop.fs.Path(path), True)\n"
   ]
  },
  {
   "cell_type": "code",
   "execution_count": 28,
   "metadata": {},
   "outputs": [],
   "source": [
    "dfs.write.csv(\"moviesdb/movieLense100k/users\")"
   ]
  },
  {
   "cell_type": "code",
   "execution_count": 29,
   "metadata": {},
   "outputs": [
    {
     "name": "stdout",
     "output_type": "stream",
     "text": [
      "2022-02-27 01:56:16,222 WARN util.NativeCodeLoader: Unable to load native-hadoop library for your platform... using builtin-java classes where applicable\n",
      "Found 9 items\n",
      "-rw-r--r--   3 hadoop supergroup          0 2022-02-27 01:56 moviesdb/movieLense100k/users/_SUCCESS\n",
      "-rw-r--r--   3 hadoop supergroup       2768 2022-02-27 01:56 moviesdb/movieLense100k/users/part-00000-1e4ac3f0-fe67-401e-9c03-ef0b8d43b860-c000.csv\n",
      "-rw-r--r--   3 hadoop supergroup       2836 2022-02-27 01:56 moviesdb/movieLense100k/users/part-00001-1e4ac3f0-fe67-401e-9c03-ef0b8d43b860-c000.csv\n",
      "-rw-r--r--   3 hadoop supergroup       2832 2022-02-27 01:56 moviesdb/movieLense100k/users/part-00002-1e4ac3f0-fe67-401e-9c03-ef0b8d43b860-c000.csv\n",
      "-rw-r--r--   3 hadoop supergroup       2813 2022-02-27 01:56 moviesdb/movieLense100k/users/part-00003-1e4ac3f0-fe67-401e-9c03-ef0b8d43b860-c000.csv\n",
      "-rw-r--r--   3 hadoop supergroup       2819 2022-02-27 01:56 moviesdb/movieLense100k/users/part-00004-1e4ac3f0-fe67-401e-9c03-ef0b8d43b860-c000.csv\n",
      "-rw-r--r--   3 hadoop supergroup       2785 2022-02-27 01:56 moviesdb/movieLense100k/users/part-00005-1e4ac3f0-fe67-401e-9c03-ef0b8d43b860-c000.csv\n",
      "-rw-r--r--   3 hadoop supergroup       2828 2022-02-27 01:56 moviesdb/movieLense100k/users/part-00006-1e4ac3f0-fe67-401e-9c03-ef0b8d43b860-c000.csv\n",
      "-rw-r--r--   3 hadoop supergroup       2945 2022-02-27 01:56 moviesdb/movieLense100k/users/part-00007-1e4ac3f0-fe67-401e-9c03-ef0b8d43b860-c000.csv\n"
     ]
    }
   ],
   "source": [
    "!hdfs dfs -ls moviesdb/movieLense100k/users"
   ]
  },
  {
   "cell_type": "markdown",
   "metadata": {},
   "source": [
    "## Read from remote and write to remote"
   ]
  },
  {
   "cell_type": "code",
   "execution_count": 7,
   "metadata": {},
   "outputs": [],
   "source": [
    "# Since this is just data preparation and we write data with no header to HdFS, then no need for header name here as well. \n",
    "\n",
    "for fil in [\"ratings\",\"movies\"]:\n",
    "    rating = spark.read.csv(\n",
    "        f\"hdfs:///user/hadoop/moviesdb/movieLense100k/{fil}.dat\",inferSchema=True,sep=\"\\t\")\n",
    "    rating.write.csv(f\"hdfs:///user/hadoop/moviesdb/movieLense100k/{fil}\", header=False,sep=\",\")"
   ]
  },
  {
   "cell_type": "markdown",
   "metadata": {},
   "source": [
    "## Read from local and write to HDFS"
   ]
  },
  {
   "cell_type": "code",
   "execution_count": 40,
   "metadata": {},
   "outputs": [
    {
     "name": "stdout",
     "output_type": "stream",
     "text": [
      "2022-02-28 06:09:00,087 WARN util.NativeCodeLoader: Unable to load native-hadoop library for your platform... using builtin-java classes where applicable\n",
      "Deleted moviesdb/movieLense100k/movies\n"
     ]
    }
   ],
   "source": [
    "!hdfs dfs -rm -r moviesdb/movieLense100k/movies\n"
   ]
  },
  {
   "cell_type": "code",
   "execution_count": 50,
   "metadata": {},
   "outputs": [],
   "source": [
    "# local manipulation\n",
    "dfrating = pd.read_csv(\"data/movieLense100k/movies.dat\", sep=\"|\", encoding=\"iso-8859-1\",header=None)\n",
    "dfrating.to_csv(\"data/movieLense100k/movies.dat\",index=False,header=None)"
   ]
  },
  {
   "cell_type": "code",
   "execution_count": 54,
   "metadata": {},
   "outputs": [
    {
     "data": {
      "text/html": [
       "<div>\n",
       "<style scoped>\n",
       "    .dataframe tbody tr th:only-of-type {\n",
       "        vertical-align: middle;\n",
       "    }\n",
       "\n",
       "    .dataframe tbody tr th {\n",
       "        vertical-align: top;\n",
       "    }\n",
       "\n",
       "    .dataframe thead th {\n",
       "        text-align: right;\n",
       "    }\n",
       "</style>\n",
       "<table border=\"1\" class=\"dataframe\">\n",
       "  <thead>\n",
       "    <tr style=\"text-align: right;\">\n",
       "      <th></th>\n",
       "      <th>0</th>\n",
       "      <th>1</th>\n",
       "      <th>2</th>\n",
       "      <th>3</th>\n",
       "      <th>4</th>\n",
       "      <th>5</th>\n",
       "      <th>6</th>\n",
       "      <th>7</th>\n",
       "      <th>8</th>\n",
       "      <th>9</th>\n",
       "      <th>...</th>\n",
       "      <th>15</th>\n",
       "      <th>16</th>\n",
       "      <th>17</th>\n",
       "      <th>18</th>\n",
       "      <th>19</th>\n",
       "      <th>20</th>\n",
       "      <th>21</th>\n",
       "      <th>22</th>\n",
       "      <th>23</th>\n",
       "      <th>24</th>\n",
       "    </tr>\n",
       "  </thead>\n",
       "  <tbody>\n",
       "    <tr>\n",
       "      <th>0</th>\n",
       "      <td>NaN</td>\n",
       "      <td>1</td>\n",
       "      <td>Toy Story (1995)</td>\n",
       "      <td>01-Jan-1995</td>\n",
       "      <td>Unnamed: 3</td>\n",
       "      <td>http://us.imdb.com/M/title-exact?Toy%20Story%2...</td>\n",
       "      <td>0</td>\n",
       "      <td>0.1</td>\n",
       "      <td>0.2</td>\n",
       "      <td>1.1</td>\n",
       "      <td>...</td>\n",
       "      <td>0.6</td>\n",
       "      <td>0.7</td>\n",
       "      <td>0.8</td>\n",
       "      <td>0.9</td>\n",
       "      <td>0.1</td>\n",
       "      <td>0.11</td>\n",
       "      <td>0.12</td>\n",
       "      <td>0.13</td>\n",
       "      <td>0.14</td>\n",
       "      <td>0.15</td>\n",
       "    </tr>\n",
       "    <tr>\n",
       "      <th>1</th>\n",
       "      <td>0.0</td>\n",
       "      <td>2</td>\n",
       "      <td>GoldenEye (1995)</td>\n",
       "      <td>01-Jan-1995</td>\n",
       "      <td>NaN</td>\n",
       "      <td>http://us.imdb.com/M/title-exact?GoldenEye%20(...</td>\n",
       "      <td>0</td>\n",
       "      <td>1.0</td>\n",
       "      <td>1.0</td>\n",
       "      <td>0.0</td>\n",
       "      <td>...</td>\n",
       "      <td>0.0</td>\n",
       "      <td>0.0</td>\n",
       "      <td>0.0</td>\n",
       "      <td>0.0</td>\n",
       "      <td>0.0</td>\n",
       "      <td>0.00</td>\n",
       "      <td>0.00</td>\n",
       "      <td>1.00</td>\n",
       "      <td>0.00</td>\n",
       "      <td>0.00</td>\n",
       "    </tr>\n",
       "    <tr>\n",
       "      <th>2</th>\n",
       "      <td>1.0</td>\n",
       "      <td>3</td>\n",
       "      <td>Four Rooms (1995)</td>\n",
       "      <td>01-Jan-1995</td>\n",
       "      <td>NaN</td>\n",
       "      <td>http://us.imdb.com/M/title-exact?Four%20Rooms%...</td>\n",
       "      <td>0</td>\n",
       "      <td>0.0</td>\n",
       "      <td>0.0</td>\n",
       "      <td>0.0</td>\n",
       "      <td>...</td>\n",
       "      <td>0.0</td>\n",
       "      <td>0.0</td>\n",
       "      <td>0.0</td>\n",
       "      <td>0.0</td>\n",
       "      <td>0.0</td>\n",
       "      <td>0.00</td>\n",
       "      <td>0.00</td>\n",
       "      <td>1.00</td>\n",
       "      <td>0.00</td>\n",
       "      <td>0.00</td>\n",
       "    </tr>\n",
       "    <tr>\n",
       "      <th>3</th>\n",
       "      <td>2.0</td>\n",
       "      <td>4</td>\n",
       "      <td>Get Shorty (1995)</td>\n",
       "      <td>01-Jan-1995</td>\n",
       "      <td>NaN</td>\n",
       "      <td>http://us.imdb.com/M/title-exact?Get%20Shorty%...</td>\n",
       "      <td>0</td>\n",
       "      <td>1.0</td>\n",
       "      <td>0.0</td>\n",
       "      <td>0.0</td>\n",
       "      <td>...</td>\n",
       "      <td>0.0</td>\n",
       "      <td>0.0</td>\n",
       "      <td>0.0</td>\n",
       "      <td>0.0</td>\n",
       "      <td>0.0</td>\n",
       "      <td>0.00</td>\n",
       "      <td>0.00</td>\n",
       "      <td>0.00</td>\n",
       "      <td>0.00</td>\n",
       "      <td>0.00</td>\n",
       "    </tr>\n",
       "    <tr>\n",
       "      <th>4</th>\n",
       "      <td>3.0</td>\n",
       "      <td>5</td>\n",
       "      <td>Copycat (1995)</td>\n",
       "      <td>01-Jan-1995</td>\n",
       "      <td>NaN</td>\n",
       "      <td>http://us.imdb.com/M/title-exact?Copycat%20(1995)</td>\n",
       "      <td>0</td>\n",
       "      <td>0.0</td>\n",
       "      <td>0.0</td>\n",
       "      <td>0.0</td>\n",
       "      <td>...</td>\n",
       "      <td>0.0</td>\n",
       "      <td>0.0</td>\n",
       "      <td>0.0</td>\n",
       "      <td>0.0</td>\n",
       "      <td>0.0</td>\n",
       "      <td>0.00</td>\n",
       "      <td>0.00</td>\n",
       "      <td>1.00</td>\n",
       "      <td>0.00</td>\n",
       "      <td>0.00</td>\n",
       "    </tr>\n",
       "  </tbody>\n",
       "</table>\n",
       "<p>5 rows × 25 columns</p>\n",
       "</div>"
      ],
      "text/plain": [
       "    0   1                  2            3           4   \\\n",
       "0  NaN   1   Toy Story (1995)  01-Jan-1995  Unnamed: 3   \n",
       "1  0.0   2   GoldenEye (1995)  01-Jan-1995         NaN   \n",
       "2  1.0   3  Four Rooms (1995)  01-Jan-1995         NaN   \n",
       "3  2.0   4  Get Shorty (1995)  01-Jan-1995         NaN   \n",
       "4  3.0   5     Copycat (1995)  01-Jan-1995         NaN   \n",
       "\n",
       "                                                  5   6    7    8    9   ...  \\\n",
       "0  http://us.imdb.com/M/title-exact?Toy%20Story%2...   0  0.1  0.2  1.1  ...   \n",
       "1  http://us.imdb.com/M/title-exact?GoldenEye%20(...   0  1.0  1.0  0.0  ...   \n",
       "2  http://us.imdb.com/M/title-exact?Four%20Rooms%...   0  0.0  0.0  0.0  ...   \n",
       "3  http://us.imdb.com/M/title-exact?Get%20Shorty%...   0  1.0  0.0  0.0  ...   \n",
       "4  http://us.imdb.com/M/title-exact?Copycat%20(1995)   0  0.0  0.0  0.0  ...   \n",
       "\n",
       "    15   16   17   18   19    20    21    22    23    24  \n",
       "0  0.6  0.7  0.8  0.9  0.1  0.11  0.12  0.13  0.14  0.15  \n",
       "1  0.0  0.0  0.0  0.0  0.0  0.00  0.00  1.00  0.00  0.00  \n",
       "2  0.0  0.0  0.0  0.0  0.0  0.00  0.00  1.00  0.00  0.00  \n",
       "3  0.0  0.0  0.0  0.0  0.0  0.00  0.00  0.00  0.00  0.00  \n",
       "4  0.0  0.0  0.0  0.0  0.0  0.00  0.00  1.00  0.00  0.00  \n",
       "\n",
       "[5 rows x 25 columns]"
      ]
     },
     "execution_count": 54,
     "metadata": {},
     "output_type": "execute_result"
    }
   ],
   "source": [
    "dfrating.head()"
   ]
  },
  {
   "cell_type": "code",
   "execution_count": 59,
   "metadata": {},
   "outputs": [
    {
     "data": {
      "text/html": [
       "<div>\n",
       "<style scoped>\n",
       "    .dataframe tbody tr th:only-of-type {\n",
       "        vertical-align: middle;\n",
       "    }\n",
       "\n",
       "    .dataframe tbody tr th {\n",
       "        vertical-align: top;\n",
       "    }\n",
       "\n",
       "    .dataframe thead th {\n",
       "        text-align: right;\n",
       "    }\n",
       "</style>\n",
       "<table border=\"1\" class=\"dataframe\">\n",
       "  <thead>\n",
       "    <tr style=\"text-align: right;\">\n",
       "      <th></th>\n",
       "      <th>0</th>\n",
       "      <th>1</th>\n",
       "      <th>2</th>\n",
       "      <th>3</th>\n",
       "      <th>4</th>\n",
       "      <th>5</th>\n",
       "      <th>6</th>\n",
       "      <th>7</th>\n",
       "      <th>8</th>\n",
       "      <th>9</th>\n",
       "      <th>...</th>\n",
       "      <th>15</th>\n",
       "      <th>16</th>\n",
       "      <th>17</th>\n",
       "      <th>18</th>\n",
       "      <th>19</th>\n",
       "      <th>20</th>\n",
       "      <th>21</th>\n",
       "      <th>22</th>\n",
       "      <th>23</th>\n",
       "      <th>24</th>\n",
       "    </tr>\n",
       "  </thead>\n",
       "  <tbody>\n",
       "    <tr>\n",
       "      <th>0</th>\n",
       "      <td>NaN</td>\n",
       "      <td>1</td>\n",
       "      <td>Toy Story (1995)</td>\n",
       "      <td>01-Jan-1995</td>\n",
       "      <td>Unnamed: 3</td>\n",
       "      <td>http://us.imdb.com/M/title-exact?Toy%20Story%2...</td>\n",
       "      <td>0</td>\n",
       "      <td>0.1</td>\n",
       "      <td>0.2</td>\n",
       "      <td>1.1</td>\n",
       "      <td>...</td>\n",
       "      <td>0.6</td>\n",
       "      <td>0.7</td>\n",
       "      <td>0.8</td>\n",
       "      <td>0.9</td>\n",
       "      <td>0.1</td>\n",
       "      <td>0.11</td>\n",
       "      <td>0.12</td>\n",
       "      <td>0.13</td>\n",
       "      <td>0.14</td>\n",
       "      <td>0.15</td>\n",
       "    </tr>\n",
       "  </tbody>\n",
       "</table>\n",
       "<p>1 rows × 25 columns</p>\n",
       "</div>"
      ],
      "text/plain": [
       "   0   1                 2            3           4   \\\n",
       "0 NaN   1  Toy Story (1995)  01-Jan-1995  Unnamed: 3   \n",
       "\n",
       "                                                  5   6    7    8    9   ...  \\\n",
       "0  http://us.imdb.com/M/title-exact?Toy%20Story%2...   0  0.1  0.2  1.1  ...   \n",
       "\n",
       "    15   16   17   18   19    20    21    22    23    24  \n",
       "0  0.6  0.7  0.8  0.9  0.1  0.11  0.12  0.13  0.14  0.15  \n",
       "\n",
       "[1 rows x 25 columns]"
      ]
     },
     "execution_count": 59,
     "metadata": {},
     "output_type": "execute_result"
    }
   ],
   "source": [
    "dfrating = dfrating.drop([0,4],axis=1)\n",
    "dfrating[dfrating[0].isna()]"
   ]
  },
  {
   "cell_type": "code",
   "execution_count": 42,
   "metadata": {},
   "outputs": [
    {
     "name": "stdout",
     "output_type": "stream",
     "text": [
      "+----+-----+----------------+\n",
      "|  id|title|           genre|\n",
      "+----+-----+----------------+\n",
      "|null|    1|Toy Story (1995)|\n",
      "|   0|    2|GoldenEye (1995)|\n",
      "+----+-----+----------------+\n",
      "only showing top 2 rows\n",
      "\n"
     ]
    }
   ],
   "source": [
    "df_movies.write.csv(f\"hdfs:///user/hadoop/moviesdb/movieLense100k/movies\", header=False)\n"
   ]
  },
  {
   "cell_type": "code",
   "execution_count": 23,
   "metadata": {},
   "outputs": [],
   "source": [
    "dfm = pd.read_csv(\"data/movieLense100k/movies.dat\", sep=\",\", encoding=\"iso-8859-1\",header=None)\n",
    "dfm[33] = dfm.iloc[:,4:].apply(list,axis=1)\n",
    "dfm = dfm[[0,1,2,33]]\n",
    "\n",
    "# otherwise throws error\n",
    "dfm[2] = pd.to_datetime(dfm[2])"
   ]
  },
  {
   "cell_type": "code",
   "execution_count": 26,
   "metadata": {},
   "outputs": [
    {
     "data": {
      "text/html": [
       "<div>\n",
       "<style scoped>\n",
       "    .dataframe tbody tr th:only-of-type {\n",
       "        vertical-align: middle;\n",
       "    }\n",
       "\n",
       "    .dataframe tbody tr th {\n",
       "        vertical-align: top;\n",
       "    }\n",
       "\n",
       "    .dataframe thead th {\n",
       "        text-align: right;\n",
       "    }\n",
       "</style>\n",
       "<table border=\"1\" class=\"dataframe\">\n",
       "  <thead>\n",
       "    <tr style=\"text-align: right;\">\n",
       "      <th></th>\n",
       "      <th>0</th>\n",
       "      <th>1</th>\n",
       "      <th>2</th>\n",
       "      <th>33</th>\n",
       "    </tr>\n",
       "  </thead>\n",
       "  <tbody>\n",
       "    <tr>\n",
       "      <th>0</th>\n",
       "      <td>1</td>\n",
       "      <td>Toy Story (1995)</td>\n",
       "      <td>01-Jan-1995</td>\n",
       "      <td>[0.0, 0.1, 0.2, 1.1, 1.2, 1.3, 0.3, 0.4, 0.5, ...</td>\n",
       "    </tr>\n",
       "    <tr>\n",
       "      <th>1</th>\n",
       "      <td>2</td>\n",
       "      <td>GoldenEye (1995)</td>\n",
       "      <td>01-Jan-1995</td>\n",
       "      <td>[0.0, 1.0, 1.0, 0.0, 0.0, 0.0, 0.0, 0.0, 0.0, ...</td>\n",
       "    </tr>\n",
       "    <tr>\n",
       "      <th>2</th>\n",
       "      <td>3</td>\n",
       "      <td>Four Rooms (1995)</td>\n",
       "      <td>01-Jan-1995</td>\n",
       "      <td>[0.0, 0.0, 0.0, 0.0, 0.0, 0.0, 0.0, 0.0, 0.0, ...</td>\n",
       "    </tr>\n",
       "    <tr>\n",
       "      <th>3</th>\n",
       "      <td>4</td>\n",
       "      <td>Get Shorty (1995)</td>\n",
       "      <td>01-Jan-1995</td>\n",
       "      <td>[0.0, 1.0, 0.0, 0.0, 0.0, 1.0, 0.0, 0.0, 1.0, ...</td>\n",
       "    </tr>\n",
       "    <tr>\n",
       "      <th>4</th>\n",
       "      <td>5</td>\n",
       "      <td>Copycat (1995)</td>\n",
       "      <td>01-Jan-1995</td>\n",
       "      <td>[0.0, 0.0, 0.0, 0.0, 0.0, 0.0, 1.0, 0.0, 1.0, ...</td>\n",
       "    </tr>\n",
       "  </tbody>\n",
       "</table>\n",
       "</div>"
      ],
      "text/plain": [
       "   0                  1            2   \\\n",
       "0   1   Toy Story (1995)  01-Jan-1995   \n",
       "1   2   GoldenEye (1995)  01-Jan-1995   \n",
       "2   3  Four Rooms (1995)  01-Jan-1995   \n",
       "3   4  Get Shorty (1995)  01-Jan-1995   \n",
       "4   5     Copycat (1995)  01-Jan-1995   \n",
       "\n",
       "                                                  33  \n",
       "0  [0.0, 0.1, 0.2, 1.1, 1.2, 1.3, 0.3, 0.4, 0.5, ...  \n",
       "1  [0.0, 1.0, 1.0, 0.0, 0.0, 0.0, 0.0, 0.0, 0.0, ...  \n",
       "2  [0.0, 0.0, 0.0, 0.0, 0.0, 0.0, 0.0, 0.0, 0.0, ...  \n",
       "3  [0.0, 1.0, 0.0, 0.0, 0.0, 1.0, 0.0, 0.0, 1.0, ...  \n",
       "4  [0.0, 0.0, 0.0, 0.0, 0.0, 0.0, 1.0, 0.0, 1.0, ...  "
      ]
     },
     "execution_count": 26,
     "metadata": {},
     "output_type": "execute_result"
    }
   ],
   "source": [
    "dfm.head()"
   ]
  },
  {
   "cell_type": "code",
   "execution_count": 62,
   "metadata": {},
   "outputs": [],
   "source": [
    "from pyspark.sql.types import StructField, IntegerType, DoubleType, StringType, StructType, ArrayType, FloatType, DateType\n",
    "\n",
    "schema = StructType([\n",
    "    StructField(\"id\", IntegerType(), True),\n",
    "    StructField(\"title\", StringType(), True),\n",
    "    StructField(\"release_date\", DateType(), True),\n",
    "    StructField(\"genre\", ArrayType(FloatType()), True),\n",
    "])\n",
    "dfmovie2 = spark.createDataFrame(dfm,schema=schema)"
   ]
  },
  {
   "cell_type": "code",
   "execution_count": 63,
   "metadata": {},
   "outputs": [
    {
     "name": "stdout",
     "output_type": "stream",
     "text": [
      "+---+----------------+------------+--------------------+\n",
      "| id|           title|release_date|               genre|\n",
      "+---+----------------+------------+--------------------+\n",
      "|  1|Toy Story (1995)|  1995-01-01|[0.0, 0.1, 0.2, 1...|\n",
      "|  2|GoldenEye (1995)|  1995-01-01|[0.0, 1.0, 1.0, 0...|\n",
      "+---+----------------+------------+--------------------+\n",
      "only showing top 2 rows\n",
      "\n"
     ]
    }
   ],
   "source": [
    "dfmovie2.show(2) "
   ]
  },
  {
   "cell_type": "code",
   "execution_count": 64,
   "metadata": {},
   "outputs": [
    {
     "name": "stdout",
     "output_type": "stream",
     "text": [
      "2022-02-28 06:45:20,198 WARN util.NativeCodeLoader: Unable to load native-hadoop library for your platform... using builtin-java classes where applicable\n",
      "rmr: DEPRECATED: Please use '-rm -r' instead.\n",
      "Deleted moviesdb/movieLense100k/movies\n"
     ]
    }
   ],
   "source": [
    "!hdfs dfs -rmr -r moviesdb/movieLense100k/movies"
   ]
  },
  {
   "cell_type": "code",
   "execution_count": 65,
   "metadata": {},
   "outputs": [],
   "source": [
    "# couldn't wirte to CSV because of the genre column\n",
    "dfmovie2.write.json(f\"hdfs:///user/hadoop/moviesdb/movieLense100k/movies\")"
   ]
  },
  {
   "cell_type": "code",
   "execution_count": 48,
   "metadata": {},
   "outputs": [],
   "source": [
    "ddddd = spark.read.json(\"hdfs:///user/hadoop/moviesdb/movieLense100k/movies\")"
   ]
  },
  {
   "cell_type": "code",
   "execution_count": 54,
   "metadata": {},
   "outputs": [
    {
     "name": "stdout",
     "output_type": "stream",
     "text": [
      "root\n",
      " |-- genre: array (nullable = true)\n",
      " |    |-- element: double (containsNull = true)\n",
      " |-- movieId: long (nullable = true)\n",
      " |-- name: string (nullable = true)\n",
      " |-- release_date: string (nullable = true)\n",
      "\n"
     ]
    }
   ],
   "source": [
    "ddddd.printSchema()"
   ]
  }
 ],
 "metadata": {
  "interpreter": {
   "hash": "916dbcbb3f70747c44a77c7bcd40155683ae19c65e1c03b4aa3499c5328201f1"
  },
  "kernelspec": {
   "display_name": "Python 3.8.10 64-bit",
   "language": "python",
   "name": "python3"
  },
  "language_info": {
   "codemirror_mode": {
    "name": "ipython",
    "version": 3
   },
   "file_extension": ".py",
   "mimetype": "text/x-python",
   "name": "python",
   "nbconvert_exporter": "python",
   "pygments_lexer": "ipython3",
   "version": "3.8.10"
  },
  "orig_nbformat": 4
 },
 "nbformat": 4,
 "nbformat_minor": 2
}
