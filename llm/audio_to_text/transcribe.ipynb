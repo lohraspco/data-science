{
 "cells": [
  {
   "cell_type": "code",
   "execution_count": 2,
   "metadata": {},
   "outputs": [],
   "source": [
    "import os\n",
    "\n",
    "\"\"\"\n",
    "To solve the following error \n",
    " Disposing session as kernel process died ExitCode: 3, Reason: OMP: Error #15: Initializing libiomp5md.dll, but found libiomp5md.dll already initialized.\n",
    "OMP: Hint This means that multiple copies of the OpenMP runtime have been linked into the program.\"\"\"\n",
    "os.environ[\"KMP_DUPLICATE_LIB_OK\"]=\"TRUE\""
   ]
  },
  {
   "cell_type": "code",
   "execution_count": 3,
   "metadata": {},
   "outputs": [
    {
     "name": "stderr",
     "output_type": "stream",
     "text": [
      "c:\\ProgramData\\anaconda3\\envs\\audio_transcription\\lib\\site-packages\\tqdm\\auto.py:21: TqdmWarning: IProgress not found. Please update jupyter and ipywidgets. See https://ipywidgets.readthedocs.io/en/stable/user_install.html\n",
      "  from .autonotebook import tqdm as notebook_tqdm\n"
     ]
    }
   ],
   "source": [
    "from faster_whisper import WhisperModel"
   ]
  },
  {
   "cell_type": "code",
   "execution_count": null,
   "metadata": {},
   "outputs": [],
   "source": [
    "# Path to the faster-whisper model\n",
    "model_path = r\"C:\\Users\\mamma\\.cache\\nexa\\hub\\official\\faster-whisper-large-v3\\bin-cpu-fp16\"\n",
    "\n",
    "# Initialize the model; set device to \"cpu\" or \"cuda\" if available.\n",
    "model = WhisperModel(model_path, device=\"cpu\", compute_type=\"float32\")\n"
   ]
  },
  {
   "cell_type": "code",
   "execution_count": 13,
   "metadata": {},
   "outputs": [
    {
     "name": "stdout",
     "output_type": "stream",
     "text": [
      " she was sick i want to say for a good year before my graduation\n",
      " and then nursing home and it was a rough time my brother came from sydney to see her\n",
      " and uh she was very sick so after that few months later she didn't last longer\n",
      " i'm shutdown i can't stand this anymore i can't stand this anymore\n",
      " it's sad no matter what i don't want to have you think about it or anything\n",
      " preparing for it doesn't help but whatever you can do but don't set your hopes very high\n",
      " some families end up selling their houses and selling their cars and\n",
      " getting money because they tell them there's treatment in germany and this\n",
      " say there's nothing there's nothing from what I'm seeing because I've seen it in\n",
      " clinic this is very advanced again endocarcinoma is not fun so do what you\n",
      " can I can be realistic but if your doctor say no there is this chance and\n",
      " she could live another five years even one year two years and I'm here I'm\n",
      " having I don't care look whatever needed okay don't think about money\n",
      " don't think about anything you know it's hard so let us know whatever needed\n",
      " whatever you need whatever you need just say hey I need some help\n"
     ]
    }
   ],
   "source": [
    "\n",
    "# Path to your audio file (must be in a compatible format, e.g., WAV)\n",
    "audio_file = r\"C:\\Users\\mamma\\Downloads\\PTT-20250406-WA0017.mp3\"\n",
    "\n",
    "# Transcribe the audio file with a beam search (adjust beam_size as needed)\n",
    "segments, info = model.transcribe(audio_file, beam_size=5)\n",
    "\n",
    "# Output the transcription segments with timestamps\n",
    "for segment in segments:\n",
    "    print(f\"{segment.text}\") #[{segment.start:.2f} - {segment.end:.2f}]: "
   ]
  }
 ],
 "metadata": {
  "kernelspec": {
   "display_name": "audio_transcription",
   "language": "python",
   "name": "python3"
  },
  "language_info": {
   "codemirror_mode": {
    "name": "ipython",
    "version": 3
   },
   "file_extension": ".py",
   "mimetype": "text/x-python",
   "name": "python",
   "nbconvert_exporter": "python",
   "pygments_lexer": "ipython3",
   "version": "3.10.16"
  }
 },
 "nbformat": 4,
 "nbformat_minor": 2
}
