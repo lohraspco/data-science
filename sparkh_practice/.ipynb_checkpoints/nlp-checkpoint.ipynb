{
 "cells": [
  {
   "cell_type": "markdown",
   "metadata": {},
   "source": [
    "# Text"
   ]
  },
  {
   "cell_type": "markdown",
   "metadata": {},
   "source": [
    "## RDD"
   ]
  },
  {
   "cell_type": "code",
   "execution_count": 78,
   "metadata": {
    "ExecuteTime": {
     "end_time": "2021-01-20T05:56:04.496446Z",
     "start_time": "2021-01-20T05:56:04.486840Z"
    }
   },
   "outputs": [],
   "source": [
    "import re\n",
    "from pyspark.sql import functions as func"
   ]
  },
  {
   "cell_type": "code",
   "execution_count": 73,
   "metadata": {
    "ExecuteTime": {
     "end_time": "2021-01-20T05:40:40.124392Z",
     "start_time": "2021-01-20T05:40:40.020915Z"
    }
   },
   "outputs": [
    {
     "data": {
      "text/plain": [
       "['the', 'project']"
      ]
     },
     "execution_count": 73,
     "metadata": {},
     "output_type": "execute_result"
    }
   ],
   "source": [
    "def normalize_words(text):\n",
    "    return re.compile(r'\\W+' , re.UNICODE).split(text.lower())\n",
    "book = sc.textFile(\"on_the_origin_of_species.txt\").flatMap(normalize_words)\n",
    "book.take(2)"
   ]
  },
  {
   "cell_type": "code",
   "execution_count": 77,
   "metadata": {
    "ExecuteTime": {
     "end_time": "2021-01-20T05:44:43.192007Z",
     "start_time": "2021-01-20T05:44:42.859811Z"
    }
   },
   "outputs": [
    {
     "data": {
      "text/plain": [
       "[('æstivation', 1), ('ægyptian', 1)]"
      ]
     },
     "execution_count": 77,
     "metadata": {},
     "output_type": "execute_result"
    }
   ],
   "source": [
    "book.map(lambda x: (x,1)).reduceByKey(lambda x,y:x+y).sortByKey().top(2)"
   ]
  },
  {
   "cell_type": "code",
   "execution_count": 23,
   "metadata": {
    "ExecuteTime": {
     "end_time": "2021-01-18T16:23:30.478185Z",
     "start_time": "2021-01-18T16:23:30.445113Z"
    }
   },
   "outputs": [],
   "source": [
    "# not good book.countByValue()\n",
    "# good\n",
    "word_count = book.map(lambda x: (x,1)).reduceByKey(lambda x,y : x+y)\n",
    "wc_sorter = word_count.map(lambda x: (x[1],x[0])).sortByKey()"
   ]
  },
  {
   "cell_type": "code",
   "execution_count": 32,
   "metadata": {
    "ExecuteTime": {
     "end_time": "2021-01-18T16:29:33.239467Z",
     "start_time": "2021-01-18T16:29:33.089123Z"
    }
   },
   "outputs": [
    {
     "data": {
      "text/plain": [
       "[(1, 'title'), (1, '2007')]"
      ]
     },
     "execution_count": 32,
     "metadata": {},
     "output_type": "execute_result"
    }
   ],
   "source": [
    "wc_sorter.take(2)"
   ]
  },
  {
   "cell_type": "code",
   "execution_count": 35,
   "metadata": {
    "ExecuteTime": {
     "end_time": "2021-01-18T18:31:04.801650Z",
     "start_time": "2021-01-18T18:31:04.699408Z"
    },
    "scrolled": true
   },
   "outputs": [
    {
     "data": {
      "text/plain": [
       "[(10541, 'the'), (8036, 'of')]"
      ]
     },
     "execution_count": 35,
     "metadata": {},
     "output_type": "execute_result"
    }
   ],
   "source": [
    "wc_sorter.top(2)"
   ]
  },
  {
   "cell_type": "markdown",
   "metadata": {},
   "source": [
    "## DF"
   ]
  },
  {
   "cell_type": "code",
   "execution_count": 81,
   "metadata": {
    "ExecuteTime": {
     "end_time": "2021-01-20T06:00:50.595094Z",
     "start_time": "2021-01-20T06:00:50.576488Z"
    }
   },
   "outputs": [],
   "source": [
    "boook = spark.read.text('on_the_origin_of_species.txt')"
   ]
  },
  {
   "cell_type": "code",
   "execution_count": 93,
   "metadata": {
    "ExecuteTime": {
     "end_time": "2021-01-20T06:10:12.491197Z",
     "start_time": "2021-01-20T06:10:12.432838Z"
    }
   },
   "outputs": [
    {
     "name": "stdout",
     "output_type": "stream",
     "text": [
      "+--------------------+\n",
      "|               value|\n",
      "+--------------------+\n",
      "|The Project Guten...|\n",
      "|Natural Selection...|\n",
      "+--------------------+\n",
      "only showing top 2 rows\n",
      "\n"
     ]
    }
   ],
   "source": [
    "boook.show(2)"
   ]
  },
  {
   "cell_type": "code",
   "execution_count": 83,
   "metadata": {
    "ExecuteTime": {
     "end_time": "2021-01-20T06:02:14.979837Z",
     "start_time": "2021-01-20T06:02:14.962234Z"
    }
   },
   "outputs": [],
   "source": [
    "words = boook.select(func.explode(func.split(boook.value,\"\\\\W+\")).alias(\"word\"))"
   ]
  },
  {
   "cell_type": "code",
   "execution_count": 88,
   "metadata": {
    "ExecuteTime": {
     "end_time": "2021-01-20T06:04:33.228535Z",
     "start_time": "2021-01-20T06:04:33.213036Z"
    }
   },
   "outputs": [],
   "source": [
    "lowercase_words= words.select(func.lower(words.word).alias('word'))"
   ]
  },
  {
   "cell_type": "code",
   "execution_count": 92,
   "metadata": {
    "ExecuteTime": {
     "end_time": "2021-01-20T06:06:07.448935Z",
     "start_time": "2021-01-20T06:06:07.027940Z"
    }
   },
   "outputs": [
    {
     "name": "stdout",
     "output_type": "stream",
     "text": [
      "+------------+-----+\n",
      "|        word|count|\n",
      "+------------+-----+\n",
      "|      online|    6|\n",
      "|         few|  170|\n",
      "|      voyage|    1|\n",
      "|       those|  264|\n",
      "|  concluding|    7|\n",
      "|        some|  663|\n",
      "|        hope|   22|\n",
      "|    cautious|   10|\n",
      "|   arguments|    9|\n",
      "|       still|  111|\n",
      "|   connected|   43|\n",
      "|      doubts|    7|\n",
      "| transmitted|   20|\n",
      "|accumulation|   25|\n",
      "|         art|    3|\n",
      "|  strawberry|    3|\n",
      "|      waters|   16|\n",
      "|      travel|    8|\n",
      "|       inner|    7|\n",
      "+------------+-----+\n",
      "only showing top 19 rows\n",
      "\n"
     ]
    }
   ],
   "source": [
    "lowercase_words.groupBy('word').count().show(19)"
   ]
  },
  {
   "cell_type": "markdown",
   "metadata": {},
   "source": [
    "# Spark"
   ]
  },
  {
   "cell_type": "code",
   "execution_count": 37,
   "metadata": {
    "ExecuteTime": {
     "end_time": "2021-01-19T04:28:00.501264Z",
     "start_time": "2021-01-19T04:28:00.376320Z"
    }
   },
   "outputs": [],
   "source": [
    "selected_stocks = ('BYND','MSFT','GOOGL','FB','SPCE','LB')\n",
    "df = spark.read.format(\"jdbc\").option('url',\"jdbc:postgresql://192.168.0.108:5432/testdb1\") \\\n",
    "    .options(schema =\"incertae\", user='postgres',password='reallyStrongPwd123') \\\n",
    "    .option(\"driver\", \"org.postgresql.Driver\") \\\n",
    "    .options(dbtable=f\"\"\" (SELECT * FROM incertae.stockdata where symbol in {selected_stocks}) as t1 \"\"\").load()"
   ]
  },
  {
   "cell_type": "code",
   "execution_count": 72,
   "metadata": {
    "ExecuteTime": {
     "end_time": "2021-01-19T05:21:57.101315Z",
     "start_time": "2021-01-19T05:21:57.007588Z"
    }
   },
   "outputs": [
    {
     "name": "stdout",
     "output_type": "stream",
     "text": [
      "+------+------------------+\n",
      "|symbol|    (close + 11.5)|\n",
      "+------+------------------+\n",
      "|  BYND|             162.0|\n",
      "|    FB| 290.2699890136719|\n",
      "| GOOGL|1772.9200439453125|\n",
      "+------+------------------+\n",
      "only showing top 3 rows\n",
      "\n"
     ]
    }
   ],
   "source": [
    "df.select(df.symbol, df.close+11.5).show(3)"
   ]
  },
  {
   "cell_type": "code",
   "execution_count": 54,
   "metadata": {
    "ExecuteTime": {
     "end_time": "2021-01-19T05:01:07.519252Z",
     "start_time": "2021-01-19T05:01:07.506236Z"
    }
   },
   "outputs": [],
   "source": [
    "df.createOrReplaceTempView(\"dummy\")"
   ]
  },
  {
   "cell_type": "code",
   "execution_count": 62,
   "metadata": {
    "ExecuteTime": {
     "end_time": "2021-01-19T05:05:06.011228Z",
     "start_time": "2021-01-19T05:05:05.913465Z"
    }
   },
   "outputs": [
    {
     "name": "stdout",
     "output_type": "stream",
     "text": [
      "+-------------------+------+------------------+------------------+-----------------+------------------+------------------+---------+\n",
      "|               date|symbol|         adj_close|             close|             high|               low|              open|   volume|\n",
      "+-------------------+------+------------------+------------------+-----------------+------------------+------------------+---------+\n",
      "|2020-11-09 00:00:00|  BYND|             150.5|             150.5|170.8000030517578| 141.2519989013672| 164.3699951171875|2.13075E7|\n",
      "|2020-11-10 00:00:00|  BYND|125.01000213623047|125.01000213623047|131.9199981689453|113.26000213623047|118.91999816894531|2.96781E7|\n",
      "+-------------------+------+------------------+------------------+-----------------+------------------+------------------+---------+\n",
      "only showing top 2 rows\n",
      "\n"
     ]
    }
   ],
   "source": [
    "df.filter(df.symbol=='BYND').show(2)"
   ]
  },
  {
   "cell_type": "code",
   "execution_count": 64,
   "metadata": {
    "ExecuteTime": {
     "end_time": "2021-01-19T05:06:47.117668Z",
     "start_time": "2021-01-19T05:06:47.010221Z"
    }
   },
   "outputs": [
    {
     "name": "stdout",
     "output_type": "stream",
     "text": [
      "Row(date=datetime.datetime(2020, 11, 9, 0, 0), symbol='BYND', adj_close=150.5, close=150.5, high=170.8000030517578, low=141.2519989013672, open=164.3699951171875, volume=21307500.0)\n",
      "Row(date=datetime.datetime(2020, 11, 9, 0, 0), symbol='FB', adj_close=278.7699890136719, close=278.7699890136719, high=292.5799865722656, low=278.5299987792969, open=289.8699951171875, volume=25117700.0)\n",
      "Row(date=datetime.datetime(2020, 11, 9, 0, 0), symbol='GOOGL', adj_close=1761.4200439453125, close=1761.4200439453125, high=1816.8900146484375, low=1757.550048828125, open=1795.97998046875, volume=2672000.0)\n",
      "Row(date=datetime.datetime(2020, 11, 9, 0, 0), symbol='MSFT', adj_close=217.81973266601562, close=218.38999938964844, high=228.1199951171875, low=217.8800048828125, open=224.44000244140625, volume=44395000.0)\n",
      "Row(date=datetime.datetime(2020, 11, 10, 0, 0), symbol='BYND', adj_close=125.01000213623047, close=125.01000213623047, high=131.9199981689453, low=113.26000213623047, open=118.91999816894531, volume=29678100.0)\n",
      "Row(date=datetime.datetime(2020, 11, 10, 0, 0), symbol='FB', adj_close=272.42999267578125, close=272.42999267578125, high=274.0, low=264.0, open=273.1000061035156, volume=29067700.0)\n",
      "Row(date=datetime.datetime(2020, 11, 10, 0, 0), symbol='GOOGL', adj_close=1737.719970703125, close=1737.719970703125, high=1759.3800048828125, low=1716.1199951171875, open=1729.77001953125, volume=2151100.0)\n",
      "Row(date=datetime.datetime(2020, 11, 10, 0, 0), symbol='MSFT', adj_close=210.45899963378906, close=211.00999450683594, high=216.5, low=209.72000122070312, open=214.5, volume=44045100.0)\n",
      "Row(date=datetime.datetime(2020, 11, 11, 0, 0), symbol='BYND', adj_close=127.88999938964844, close=127.88999938964844, high=129.89999389648438, low=125.0999984741211, open=127.08999633789062, volume=7151600.0)\n",
      "Row(date=datetime.datetime(2020, 11, 11, 0, 0), symbol='FB', adj_close=276.4800109863281, close=276.4800109863281, high=278.3999938964844, low=272.4800109863281, open=273.4700012207031, volume=14957000.0)\n",
      "Row(date=datetime.datetime(2020, 11, 11, 0, 0), symbol='GOOGL', adj_close=1747.22998046875, close=1747.22998046875, high=1762.9000244140625, low=1743.06005859375, open=1748.4000244140625, volume=1591900.0)\n",
      "Row(date=datetime.datetime(2020, 11, 11, 0, 0), symbol='MSFT', adj_close=215.9845428466797, close=216.5500030517578, high=218.0399932861328, low=212.1999969482422, open=212.38999938964844, volume=29440800.0)\n",
      "Row(date=datetime.datetime(2020, 11, 12, 0, 0), symbol='BYND', adj_close=128.89999389648438, close=128.89999389648438, high=132.41700744628906, low=126.87999725341797, open=129.47000122070312, volume=6376800.0)\n",
      "Row(date=datetime.datetime(2020, 11, 12, 0, 0), symbol='FB', adj_close=275.0799865722656, close=275.0799865722656, high=279.75, low=274.42999267578125, open=277.17999267578125, volume=12899500.0)\n",
      "Row(date=datetime.datetime(2020, 11, 12, 0, 0), symbol='GOOGL', adj_close=1742.8199462890625, close=1742.8199462890625, high=1764.97998046875, low=1737.969970703125, open=1742.0, volume=1323700.0)\n",
      "Row(date=datetime.datetime(2020, 11, 12, 0, 0), symbol='MSFT', adj_close=214.87744140625, close=215.44000244140625, high=219.11000061035156, low=214.4600067138672, open=217.2100067138672, volume=21593900.0)\n",
      "Row(date=datetime.datetime(2020, 11, 13, 0, 0), symbol='BYND', adj_close=124.73999786376953, close=124.73999786376953, high=130.41900634765625, low=123.25, open=130.2899932861328, volume=5332200.0)\n",
      "Row(date=datetime.datetime(2020, 11, 13, 0, 0), symbol='FB', adj_close=276.95001220703125, close=276.95001220703125, high=277.760009765625, low=273.1000061035156, open=277.7200012207031, volume=10391200.0)\n",
      "Row(date=datetime.datetime(2020, 11, 13, 0, 0), symbol='GOOGL', adj_close=1772.260009765625, close=1772.260009765625, high=1777.1300048828125, low=1735.97998046875, open=1748.0, volume=1487200.0)\n",
      "Row(date=datetime.datetime(2020, 11, 13, 0, 0), symbol='MSFT', adj_close=215.94464111328125, close=216.50999450683594, high=217.4199981689453, low=214.16000366210938, open=216.36000061035156, volume=18621100.0)\n",
      "Row(date=datetime.datetime(2020, 11, 16, 0, 0), symbol='BYND', adj_close=127.1500015258789, close=127.1500015258789, high=127.94999694824219, low=121.52999877929688, open=126.30000305175781, volume=5256700.0)\n",
      "Row(date=datetime.datetime(2020, 11, 16, 0, 0), symbol='FB', adj_close=278.9599914550781, close=278.9599914550781, high=279.4100036621094, low=274.6300048828125, open=275.04998779296875, volume=12970400.0)\n",
      "Row(date=datetime.datetime(2020, 11, 16, 0, 0), symbol='GOOGL', adj_close=1774.030029296875, close=1774.030029296875, high=1794.3399658203125, low=1761.3299560546875, open=1764.1400146484375, volume=1273400.0)\n",
      "Row(date=datetime.datetime(2020, 11, 16, 0, 0), symbol='MSFT', adj_close=216.6627655029297, close=217.22999572753906, high=217.74000549316406, low=214.52000427246094, open=214.8699951171875, volume=24953300.0)\n",
      "Row(date=datetime.datetime(2020, 11, 17, 0, 0), symbol='BYND', adj_close=129.89999389648438, close=129.89999389648438, high=129.97000122070312, low=126.15699768066406, open=126.61699676513672, volume=2845600.0)\n",
      "Row(date=datetime.datetime(2020, 11, 17, 0, 0), symbol='FB', adj_close=275.0, close=275.0, high=277.67999267578125, low=273.2900085449219, open=277.67999267578125, volume=15040300.0)\n",
      "Row(date=datetime.datetime(2020, 11, 17, 0, 0), symbol='GOOGL', adj_close=1761.6600341796875, close=1761.6600341796875, high=1777.1400146484375, low=1759.489990234375, open=1767.8599853515625, volume=1065700.0)\n",
      "Row(date=datetime.datetime(2020, 11, 17, 0, 0), symbol='MSFT', adj_close=213.90000915527344, close=214.4600067138672, high=217.67999267578125, low=214.0800018310547, open=216.10000610351562, volume=24154100.0)\n",
      "Row(date=datetime.datetime(2020, 11, 18, 0, 0), symbol='BYND', adj_close=134.00999450683594, close=134.00999450683594, high=137.00999450683594, low=132.0, open=132.0, volume=7279900.0)\n",
      "Row(date=datetime.datetime(2020, 11, 18, 0, 0), symbol='FB', adj_close=271.9700012207031, close=271.9700012207031, high=277.3900146484375, low=271.8399963378906, open=274.5199890136719, volume=12152900.0)\n",
      "Row(date=datetime.datetime(2020, 11, 18, 0, 0), symbol='GOOGL', adj_close=1740.6400146484375, close=1740.6400146484375, high=1765.0, low=1738.5699462890625, open=1756.6400146484375, volume=1005400.0)\n",
      "Row(date=datetime.datetime(2020, 11, 18, 0, 0), symbol='MSFT', adj_close=211.0800018310547, close=211.0800018310547, high=215.1699981689453, low=210.92999267578125, open=213.64999389648438, volume=28372800.0)\n",
      "Row(date=datetime.datetime(2020, 11, 19, 0, 0), symbol='BYND', adj_close=137.4199981689453, close=137.4199981689453, high=139.64999389648438, low=134.0800018310547, open=134.64999389648438, volume=3402300.0)\n",
      "Row(date=datetime.datetime(2020, 11, 19, 0, 0), symbol='FB', adj_close=272.94000244140625, close=272.94000244140625, high=273.4700012207031, low=269.19000244140625, open=271.0199890136719, volume=12963700.0)\n",
      "Row(date=datetime.datetime(2020, 11, 19, 0, 0), symbol='GOOGL', adj_close=1758.5699462890625, close=1758.5699462890625, high=1763.489990234375, low=1730.02001953125, open=1733.22998046875, volume=1005300.0)\n",
      "Row(date=datetime.datetime(2020, 11, 19, 0, 0), symbol='MSFT', adj_close=212.4199981689453, close=212.4199981689453, high=213.02999877929688, low=209.92999267578125, open=211.3800048828125, volume=24792700.0)\n",
      "Row(date=datetime.datetime(2020, 11, 20, 0, 0), symbol='BYND', adj_close=136.55999755859375, close=136.55999755859375, high=138.25, low=133.60000610351562, open=138.1999969482422, volume=2652900.0)\n",
      "Row(date=datetime.datetime(2020, 11, 20, 0, 0), symbol='FB', adj_close=269.70001220703125, close=269.70001220703125, high=273.0, low=269.4100036621094, open=272.55999755859375, volume=18114700.0)\n",
      "Row(date=datetime.datetime(2020, 11, 20, 0, 0), symbol='GOOGL', adj_close=1736.3800048828125, close=1736.3800048828125, high=1768.3599853515625, low=1735.0, open=1762.0, volume=1384700.0)\n",
      "Row(date=datetime.datetime(2020, 11, 20, 0, 0), symbol='MSFT', adj_close=210.38999938964844, close=210.38999938964844, high=213.2899932861328, low=210.0, open=212.1999969482422, volume=22829100.0)\n",
      "Row(date=datetime.datetime(2020, 11, 23, 0, 0), symbol='BYND', adj_close=140.9600067138672, close=140.9600067138672, high=144.14999389648438, low=136.25, open=136.75, volume=3616600.0)\n",
      "Row(date=datetime.datetime(2020, 11, 23, 0, 0), symbol='FB', adj_close=268.42999267578125, close=268.42999267578125, high=270.95001220703125, low=264.5299987792969, open=270.8900146484375, volume=20990800.0)\n",
      "Row(date=datetime.datetime(2020, 11, 23, 0, 0), symbol='GOOGL', adj_close=1727.56005859375, close=1727.56005859375, high=1745.989990234375, low=1710.1800537109375, open=1740.219970703125, volume=1126500.0)\n",
      "Row(date=datetime.datetime(2020, 11, 23, 0, 0), symbol='MSFT', adj_close=210.11000061035156, close=210.11000061035156, high=212.2899932861328, low=208.16000366210938, open=210.9499969482422, volume=25683500.0)\n",
      "Row(date=datetime.datetime(2020, 11, 24, 0, 0), symbol='BYND', adj_close=141.8300018310547, close=141.8300018310547, high=145.88999938964844, low=140.0, open=143.74000549316406, volume=2819700.0)\n",
      "Row(date=datetime.datetime(2020, 11, 24, 0, 0), symbol='FB', adj_close=276.9200134277344, close=276.9200134277344, high=277.82000732421875, low=267.8699951171875, open=268.489990234375, volume=16930400.0)\n",
      "Row(date=datetime.datetime(2020, 11, 24, 0, 0), symbol='GOOGL', adj_close=1763.9000244140625, close=1763.9000244140625, high=1766.47998046875, low=1720.72998046875, open=1727.5, volume=1399200.0)\n",
      "Row(date=datetime.datetime(2020, 11, 24, 0, 0), symbol='MSFT', adj_close=213.86000061035156, close=213.86000061035156, high=214.25, low=208.86000061035156, open=209.58999633789062, volume=33979700.0)\n",
      "Row(date=datetime.datetime(2020, 11, 25, 0, 0), symbol='BYND', adj_close=139.5800018310547, close=139.5800018310547, high=142.60000610351562, low=137.7100067138672, open=140.6699981689453, volume=2143600.0)\n",
      "Row(date=datetime.datetime(2020, 11, 25, 0, 0), symbol='FB', adj_close=275.5899963378906, close=275.5899963378906, high=280.17999267578125, low=272.6499938964844, open=278.1400146484375, volume=12467000.0)\n",
      "Row(date=datetime.datetime(2020, 11, 25, 0, 0), symbol='GOOGL', adj_close=1764.1300048828125, close=1764.1300048828125, high=1770.3800048828125, low=1748.3599853515625, open=1767.81005859375, volume=980000.0)\n",
      "Row(date=datetime.datetime(2020, 11, 25, 0, 0), symbol='MSFT', adj_close=213.8699951171875, close=213.8699951171875, high=215.2899932861328, low=212.4600067138672, open=215.11000061035156, volume=21012900.0)\n",
      "Row(date=datetime.datetime(2020, 10, 26, 0, 0), symbol='BYND', adj_close=171.4199981689453, close=161.83999633789062, high=164.5399932861328, low=175.33999633789062, open=164.5399932861328, volume=2731500.0)\n",
      "Row(date=datetime.datetime(2020, 10, 26, 0, 0), symbol='FB', adj_close=283.1600036621094, close=274.260009765625, high=277.1099853515625, low=285.2300109863281, open=277.1099853515625, volume=21322900.0)\n",
      "Row(date=datetime.datetime(2020, 10, 26, 0, 0), symbol='GOOGL', adj_close=1615.0, close=1567.780029296875, high=1584.2900390625, low=1629.5799560546875, open=1584.2900390625, volume=1791300.0)\n",
      "Row(date=datetime.datetime(2020, 10, 26, 0, 0), symbol='MSFT', adj_close=213.8500061035156, close=208.1000061035156, high=210.0800018310547, low=216.33999633789062, open=210.0800018310547, volume=37111600.0)\n",
      "Row(date=datetime.datetime(2020, 10, 27, 0, 0), symbol='BYND', adj_close=165.0, close=160.85000610351562, high=161.9499969482422, low=167.00999450683594, open=161.9499969482422, volume=1894600.0)\n",
      "Row(date=datetime.datetime(2020, 10, 27, 0, 0), symbol='FB', adj_close=278.760009765625, close=276.3099975585937, high=283.2900085449219, low=284.510009765625, open=283.2900085449219, volume=16287200.0)\n",
      "Row(date=datetime.datetime(2020, 10, 27, 0, 0), symbol='GOOGL', adj_close=1588.9300537109375, close=1576.989990234375, high=1598.8800048828125, low=1602.0, open=1598.8800048828125, volume=1295100.0)\n",
      "Row(date=datetime.datetime(2020, 10, 27, 0, 0), symbol='MSFT', adj_close=211.58999633789062, close=210.3300018310547, high=213.25, low=214.6699981689453, open=213.25, volume=36700300.0)\n",
      "Row(date=datetime.datetime(2020, 10, 28, 0, 0), symbol='BYND', adj_close=159.5, close=154.7449951171875, high=156.0500030517578, low=160.52000427246094, open=156.0500030517578, volume=2426600.0)\n",
      "Row(date=datetime.datetime(2020, 10, 28, 0, 0), symbol='FB', adj_close=278.79000854492193, close=267.260009765625, high=267.67001342773443, low=278.79000854492193, open=267.67001342773443, volume=23121800.0)\n",
      "Row(date=datetime.datetime(2020, 10, 28, 0, 0), symbol='GOOGL', adj_close=1550.010009765625, close=1508.47998046875, high=1510.800048828125, low=1553.81005859375, open=1510.800048828125, volume=2258700.0)\n",
      "Row(date=datetime.datetime(2020, 10, 28, 0, 0), symbol='MSFT', adj_close=207.6699981689453, close=202.1000061035156, high=202.67999267578125, low=208.83999633789062, open=202.67999267578125, volume=51195600.0)\n",
      "Row(date=datetime.datetime(2020, 10, 29, 0, 0), symbol='BYND', adj_close=157.44000244140625, close=151.35000610351562, high=151.85000610351562, low=157.4499969482422, open=151.85000610351562, volume=1985000.0)\n",
      "Row(date=datetime.datetime(2020, 10, 29, 0, 0), symbol='FB', adj_close=276.54998779296875, close=273.77999877929693, high=280.82998657226557, low=283.6000061035156, open=280.82998657226557, volume=32368100.0)\n",
      "Row(date=datetime.datetime(2020, 10, 29, 0, 0), symbol='GOOGL', adj_close=1517.02001953125, close=1516.550048828125, high=1556.8800048828125, low=1588.739990234375, open=1556.8800048828125, volume=2770300.0)\n",
      "Row(date=datetime.datetime(2020, 10, 29, 0, 0), symbol='MSFT', adj_close=204.07000732421875, close=203.3699951171875, high=204.72000122070312, low=207.3600006103516, open=204.72000122070312, volume=31432600.0)\n",
      "Row(date=datetime.datetime(2020, 10, 30, 0, 0), symbol='BYND', adj_close=150.5, close=141.07000732421875, high=142.42999267578125, low=152.3000030517578, open=142.42999267578125, volume=3164100.0)\n",
      "Row(date=datetime.datetime(2020, 10, 30, 0, 0), symbol='FB', adj_close=274.5, close=259.10000610351557, high=263.1099853515625, low=276.70001220703125, open=263.1099853515625, volume=47247800.0)\n",
      "Row(date=datetime.datetime(2020, 10, 30, 0, 0), symbol='GOOGL', adj_close=1667.43994140625, close=1601.5699462890625, high=1616.1099853515625, low=1681.3199462890625, open=1616.1099853515625, volume=4993900.0)\n",
      "Row(date=datetime.datetime(2020, 10, 30, 0, 0), symbol='MSFT', adj_close=203.5, close=199.6199951171875, high=202.47000122070312, low=204.2899932861328, open=202.47000122070312, volume=36953700.0)\n",
      "Row(date=datetime.datetime(2020, 11, 2, 0, 0), symbol='BYND', adj_close=145.35000610351562, close=141.47500610351562, high=143.55999755859375, low=148.0, open=143.55999755859375, volume=2155400.0)\n",
      "Row(date=datetime.datetime(2020, 11, 2, 0, 0), symbol='FB', adj_close=264.60000610351557, close=257.33999633789057, high=261.3599853515625, low=270.47000122070307, open=261.3599853515625, volume=27165700.0)\n",
      "Row(date=datetime.datetime(2020, 11, 2, 0, 0), symbol='GOOGL', adj_close=1623.5400390625, close=1614.239990234375, high=1624.3199462890625, low=1658.239990234375, open=1624.3199462890625, volume=2211400.0)\n",
      "Row(date=datetime.datetime(2020, 11, 2, 0, 0), symbol='MSFT', adj_close=204.2899932861328, close=200.1199951171875, high=202.3300018310547, low=205.27999877929688, open=202.3300018310547, volume=30842200.0)\n",
      "Row(date=datetime.datetime(2020, 11, 3, 0, 0), symbol='BYND', adj_close=146.25999450683594, close=145.7100067138672, high=146.35000610351562, low=150.75999450683594, open=146.35000610351562, volume=2145100.0)\n",
      "Row(date=datetime.datetime(2020, 11, 3, 0, 0), symbol='FB', adj_close=263.16000366210943, close=260.8800048828125, high=265.29998779296875, low=270.04998779296875, open=265.29998779296875, volume=17961900.0)\n",
      "Row(date=datetime.datetime(2020, 11, 3, 0, 0), symbol='GOOGL', adj_close=1630.760009765625, close=1612.1099853515625, high=1645.6600341796875, low=1659.0, open=1645.6600341796875, volume=1571600.0)\n",
      "Row(date=datetime.datetime(2020, 11, 3, 0, 0), symbol='MSFT', adj_close=203.88999938964844, close=203.1199951171875, high=206.42999267578125, low=208.1199951171875, open=206.42999267578125, volume=27512000.0)\n",
      "Row(date=datetime.datetime(2020, 11, 4, 0, 0), symbol='BYND', adj_close=150.10000610351562, close=148.2100067138672, high=149.2899932861328, low=153.11000061035156, open=149.2899932861328, volume=1673400.0)\n",
      "Row(date=datetime.datetime(2020, 11, 4, 0, 0), symbol='FB', adj_close=281.0, close=278.6199951171875, high=287.3800048828125, low=288.94000244140625, open=287.3800048828125, volume=35364400.0)\n",
      "Row(date=datetime.datetime(2020, 11, 4, 0, 0), symbol='GOOGL', adj_close=1705.5799560546875, close=1703.0, high=1745.8499755859375, low=1770.030029296875, open=1745.8499755859375, volume=3567100.0)\n",
      "Row(date=datetime.datetime(2020, 11, 4, 0, 0), symbol='MSFT', adj_close=214.0200042724609, close=212.4199981689453, high=216.38999938964844, low=218.32000732421875, open=216.38999938964844, volume=42311800.0)\n",
      "Row(date=datetime.datetime(2020, 11, 5, 0, 0), symbol='BYND', adj_close=153.5, close=152.31700134277344, high=157.0399932861328, low=157.35000610351562, open=157.0399932861328, volume=2653300.0)\n",
      "Row(date=datetime.datetime(2020, 11, 5, 0, 0), symbol='FB', adj_close=291.8999938964844, close=288.95001220703125, high=294.67999267578125, low=297.3800048828125, open=294.67999267578125, volume=23823600.0)\n",
      "Row(date=datetime.datetime(2020, 11, 5, 0, 0), symbol='GOOGL', adj_close=1770.449951171875, close=1741.030029296875, high=1762.5, low=1791.8199462890625, open=1762.5, volume=1987900.0)\n",
      "Row(date=datetime.datetime(2020, 11, 5, 0, 0), symbol='MSFT', adj_close=222.0399932861328, close=221.1499938964844, high=223.2899932861328, low=224.1199951171875, open=223.2899932861328, volume=36080100.0)\n",
      "Row(date=datetime.datetime(2020, 11, 6, 0, 0), symbol='BYND', adj_close=156.77999877929688, close=154.30999755859375, high=156.86000061035156, low=158.94000244140625, open=156.86000061035156, volume=2291300.0)\n",
      "Row(date=datetime.datetime(2020, 11, 6, 0, 0), symbol='FB', adj_close=293.95001220703125, close=288.05999755859375, high=293.4100036621094, low=294.6000061035156, open=293.4100036621094, volume=13880800.0)\n",
      "Row(date=datetime.datetime(2020, 11, 6, 0, 0), symbol='GOOGL', adj_close=1751.3399658203125, close=1736.6800537109375, high=1759.72998046875, low=1768.5, open=1759.72998046875, volume=1430600.0)\n",
      "Row(date=datetime.datetime(2020, 11, 6, 0, 0), symbol='MSFT', adj_close=222.25999450683597, close=218.02999877929688, high=223.72000122070312, low=224.3600006103516, open=223.72000122070312, volume=25210600.0)\n",
      "Row(date=datetime.datetime(2020, 11, 27, 0, 0), symbol='BYND', adj_close=141.0, close=140.5, high=142.1999969482422, low=144.8000030517578, open=142.1999969482422, volume=1565700.0)\n",
      "Row(date=datetime.datetime(2020, 11, 27, 0, 0), symbol='FB', adj_close=277.3900146484375, close=274.82000732421875, high=277.8099975585937, low=279.1300048828125, open=277.8099975585937, volume=7808400.0)\n",
      "Row(date=datetime.datetime(2020, 11, 27, 0, 0), symbol='GOOGL', adj_close=1764.5400390625, close=1764.5400390625, high=1787.02001953125, low=1797.010009765625, open=1787.02001953125, volume=739500.0)\n",
      "Row(date=datetime.datetime(2020, 11, 27, 0, 0), symbol='MSFT', adj_close=214.8500061035156, close=214.0399932861328, high=215.22999572753903, low=216.2700042724609, open=215.22999572753903, volume=14512200.0)\n",
      "Row(date=datetime.datetime(2020, 11, 30, 0, 0), symbol='BYND', adj_close=142.38999938964844, close=135.58999633789062, high=139.89999389648438, low=143.4499969482422, open=139.89999389648438, volume=2560500.0)\n",
      "Row(date=datetime.datetime(2020, 11, 30, 0, 0), symbol='FB', adj_close=276.02999877929693, close=271.010009765625, high=276.97000122070307, low=277.70001220703125, open=276.97000122070307, volume=16693300.0)\n",
      "Row(date=datetime.datetime(2020, 11, 30, 0, 0), symbol='GOOGL', adj_close=1775.6500244140625, close=1747.8399658203125, high=1754.4000244140625, low=1780.3399658203125, open=1754.4000244140625, volume=1620900.0)\n",
      "Row(date=datetime.datetime(2020, 11, 30, 0, 0), symbol='MSFT', adj_close=214.1000061035156, close=210.83999633789062, high=214.07000732421875, low=214.75999450683597, open=214.07000732421875, volume=33064800.0)\n",
      "Row(date=datetime.datetime(2020, 12, 1, 0, 0), symbol='BYND', adj_close=140.77000427246094, close=134.6300048828125, high=137.25, low=140.91000366210938, open=137.25, volume=2590900.0)\n",
      "Row(date=datetime.datetime(2020, 12, 1, 0, 0), symbol='FB', adj_close=279.16000366210943, close=278.95999145507807, high=286.54998779296875, low=289.29998779296875, open=286.54998779296875, volume=20777900.0)\n",
      "Row(date=datetime.datetime(2020, 12, 1, 0, 0), symbol='GOOGL', adj_close=1766.6600341796875, close=1763.030029296875, high=1795.3599853515625, low=1821.719970703125, open=1795.3599853515625, volume=1868100.0)\n",
      "Row(date=datetime.datetime(2020, 12, 1, 0, 0), symbol='MSFT', adj_close=214.50999450683597, close=213.3500061035156, high=216.2100067138672, low=217.32000732421875, open=216.2100067138672, volume=30931300.0)\n",
      "Row(date=datetime.datetime(2020, 12, 2, 0, 0), symbol='BYND', adj_close=135.64999389648438, close=134.66000366210938, high=138.52999877929688, low=140.0, open=138.52999877929688, volume=2095800.0)\n",
      "Row(date=datetime.datetime(2020, 12, 2, 0, 0), symbol='FB', adj_close=285.3599853515625, close=280.82998657226557, high=287.5199890136719, low=291.7799987792969, open=287.5199890136719, volume=17361600.0)\n",
      "Row(date=datetime.datetime(2020, 12, 2, 0, 0), symbol='GOOGL', adj_close=1795.3599853515625, close=1785.1700439453125, high=1824.969970703125, low=1832.739990234375, open=1824.969970703125, volume=1471200.0)\n",
      "Row(date=datetime.datetime(2020, 12, 2, 0, 0), symbol='MSFT', adj_close=214.8800048828125, close=212.8000030517578, high=215.3699951171875, low=215.47000122070312, open=215.3699951171875, volume=23724500.0)\n",
      "Row(date=datetime.datetime(2020, 12, 3, 0, 0), symbol='BYND', adj_close=140.55999755859378, close=139.00999450683594, high=139.35000610351562, low=144.6999969482422, open=139.35000610351562, volume=3062100.0)\n",
      "Row(date=datetime.datetime(2020, 12, 3, 0, 0), symbol='FB', adj_close=286.25, close=281.07000732421875, high=281.8500061035156, low=286.6499938964844, open=281.8500061035156, volume=12921700.0)\n",
      "Row(date=datetime.datetime(2020, 12, 3, 0, 0), symbol='GOOGL', adj_close=1820.5400390625, close=1817.0, high=1821.8399658203125, low=1843.8299560546875, open=1821.8399658203125, volume=1236400.0)\n",
      "Row(date=datetime.datetime(2020, 12, 3, 0, 0), symbol='MSFT', adj_close=214.6100006103516, close=213.6499938964844, high=214.2400054931641, low=216.3800048828125, open=214.2400054931641, volume=25120900.0)\n",
      "Row(date=datetime.datetime(2020, 12, 4, 0, 0), symbol='BYND', adj_close=140.67999267578122, close=137.89999389648438, high=139.6199951171875, low=140.85299682617188, open=139.6199951171875, volume=1983300.0)\n",
      "Row(date=datetime.datetime(2020, 12, 4, 0, 0), symbol='FB', adj_close=280.29998779296875, close=279.29998779296875, high=279.70001220703125, low=283.4599914550781, open=279.70001220703125, volume=10880300.0)\n",
      "Row(date=datetime.datetime(2020, 12, 4, 0, 0), symbol='GOOGL', adj_close=1820.219970703125, close=1813.5899658203125, high=1823.760009765625, low=1829.5, open=1823.760009765625, volume=1027200.0)\n",
      "Row(date=datetime.datetime(2020, 12, 4, 0, 0), symbol='MSFT', adj_close=214.22000122070312, close=213.17999267578125, high=214.3600006103516, low=215.3800048828125, open=214.3600006103516, volume=24666000.0)\n",
      "Row(date=datetime.datetime(2020, 12, 7, 0, 0), symbol='BYND', adj_close=139.0, close=135.66000366210938, high=136.94000244140622, low=139.77999877929688, open=136.94000244140622, volume=2834900.0)\n",
      "Row(date=datetime.datetime(2020, 12, 7, 0, 0), symbol='FB', adj_close=279.19000244140625, close=278.20001220703125, high=285.5799865722656, low=288.489990234375, open=285.5799865722656, volume=13007700.0)\n",
      "Row(date=datetime.datetime(2020, 12, 7, 0, 0), symbol='GOOGL', adj_close=1815.550048828125, close=1803.0400390625, high=1817.030029296875, low=1829.2900390625, open=1817.030029296875, volume=1114400.0)\n",
      "Row(date=datetime.datetime(2020, 12, 7, 0, 0), symbol='MSFT', adj_close=214.3699951171875, close=212.9900054931641, high=214.2899932861328, low=215.5399932861328, open=214.2899932861328, volume=24620000.0)\n",
      "Row(date=datetime.datetime(2020, 12, 8, 0, 0), symbol='BYND', adj_close=136.61000061035156, close=136.33999633789062, high=140.72000122070312, low=141.6699981689453, open=140.72000122070312, volume=3021200.0)\n",
      "Row(date=datetime.datetime(2020, 12, 8, 0, 0), symbol='FB', adj_close=286.010009765625, close=281.54998779296875, high=283.3999938964844, low=286.42999267578125, open=283.3999938964844, volume=10747700.0)\n",
      "Row(date=datetime.datetime(2020, 12, 8, 0, 0), symbol='GOOGL', adj_close=1808.52001953125, close=1791.280029296875, high=1811.3299560546875, low=1815.969970703125, open=1811.3299560546875, volume=996800.0)\n",
      "Row(date=datetime.datetime(2020, 12, 8, 0, 0), symbol='MSFT', adj_close=213.97000122070312, close=212.88999938964844, high=216.00999450683597, low=216.9499969482422, open=216.00999450683597, volume=23284100.0)\n",
      "Row(date=datetime.datetime(2020, 12, 9, 0, 0), symbol='BYND', adj_close=141.4499969482422, close=136.60000610351562, high=136.92999267578122, low=147.25, open=136.92999267578122, volume=4228700.0)\n",
      "Row(date=datetime.datetime(2020, 12, 9, 0, 0), symbol='FB', adj_close=283.6600036621094, close=271.75, high=277.92001342773443, low=287.6300048828125, open=277.92001342773443, volume=25156400.0)\n",
      "Row(date=datetime.datetime(2020, 12, 9, 0, 0), symbol='GOOGL', adj_close=1810.3599853515625, close=1762.0, high=1777.8599853515625, low=1828.3699951171875, open=1777.8599853515625, volume=1585500.0)\n",
      "Row(date=datetime.datetime(2020, 12, 9, 0, 0), symbol='MSFT', adj_close=215.16000366210938, close=211.2100067138672, high=211.8000030517578, low=215.22999572753903, open=211.8000030517578, volume=32415800.0)\n",
      "Row(date=datetime.datetime(2020, 12, 10, 0, 0), symbol='BYND', adj_close=137.32000732421878, close=134.5675048828125, high=137.46000671386722, low=139.00999450683594, open=137.46000671386722, volume=2103295.0)\n",
      "Row(date=datetime.datetime(2020, 12, 10, 0, 0), symbol='FB', adj_close=275.53500366210943, close=271.8599853515625, high=277.1199951171875, low=278.73001098632807, open=277.1199951171875, volume=17908777.0)\n",
      "Row(date=datetime.datetime(2020, 12, 10, 0, 0), symbol='GOOGL', adj_close=1762.5999755859375, close=1733.719970703125, high=1767.6500244140625, low=1774.989990234375, open=1767.6500244140625, volume=1394931.0)\n",
      "Row(date=datetime.datetime(2020, 12, 10, 0, 0), symbol='MSFT', adj_close=211.7700042724609, close=210.3600006103516, high=210.5200042724609, low=213.07000732421875, open=210.5200042724609, volume=24858082.0)\n",
      "Row(date=datetime.datetime(2020, 12, 10, 0, 0), symbol='BYND', adj_close=137.32000732421878, close=134.5675048828125, high=137.46000671386722, low=139.00999450683594, open=137.46000671386722, volume=2103295.0)\n",
      "Row(date=datetime.datetime(2020, 12, 10, 0, 0), symbol='FB', adj_close=275.53500366210943, close=271.8599853515625, high=277.1199951171875, low=278.73001098632807, open=277.1199951171875, volume=17908777.0)\n",
      "Row(date=datetime.datetime(2020, 12, 10, 0, 0), symbol='GOOGL', adj_close=1762.5999755859375, close=1733.719970703125, high=1767.6500244140625, low=1774.989990234375, open=1767.6500244140625, volume=1394931.0)\n",
      "Row(date=datetime.datetime(2020, 12, 10, 0, 0), symbol='MSFT', adj_close=211.7700042724609, close=210.3600006103516, high=210.5200042724609, low=213.07000732421875, open=210.5200042724609, volume=24858082.0)\n",
      "Row(date=datetime.datetime(2020, 12, 11, 0, 0), symbol='BYND', adj_close=138.6999969482422, close=138.6999969482422, high=141.19000244140625, low=136.23959350585938, open=137.5, volume=1819769.0)\n",
      "Row(date=datetime.datetime(2020, 12, 11, 0, 0), symbol='FB', adj_close=273.54998779296875, close=273.54998779296875, high=276.4700012207031, low=270.25, open=274.5299987792969, volume=13775522.0)\n",
      "Row(date=datetime.datetime(2020, 12, 11, 0, 0), symbol='GOOGL', adj_close=1774.800048828125, close=1774.800048828125, high=1777.31005859375, low=1752.760009765625, open=1760.0, volume=859057.0)\n",
      "Row(date=datetime.datetime(2020, 12, 11, 0, 0), symbol='MSFT', adj_close=213.25999450683594, close=213.25999450683594, high=213.32000732421875, low=209.1199951171875, open=210.0500030517578, volume=28485071.0)\n",
      "Row(date=datetime.datetime(2020, 12, 14, 0, 0), symbol='BYND', adj_close=137.72999572753906, close=137.72999572753906, high=142.58999633789062, low=136.67999267578125, open=139.42999267578125, volume=3124800.0)\n",
      "Row(date=datetime.datetime(2020, 12, 14, 0, 0), symbol='FB', adj_close=274.19000244140625, close=274.19000244140625, high=277.2200012207031, low=271.55999755859375, open=273.3699951171875, volume=16376900.0)\n",
      "Row(date=datetime.datetime(2020, 12, 14, 0, 0), symbol='GOOGL', adj_close=1752.260009765625, close=1752.260009765625, high=1789.800048828125, low=1749.1300048828125, open=1770.719970703125, volume=1652500.0)\n",
      "Row(date=datetime.datetime(2020, 12, 14, 0, 0), symbol='MSFT', adj_close=214.1999969482422, close=214.1999969482422, high=216.2100067138672, low=212.8800048828125, open=213.10000610351562, volume=28798400.0)\n",
      "Row(date=datetime.datetime(2020, 12, 15, 0, 0), symbol='BYND', adj_close=137.61000061035156, close=137.61000061035156, high=140.4499969482422, low=135.1300048828125, open=139.72000122070312, volume=2426600.0)\n",
      "Row(date=datetime.datetime(2020, 12, 15, 0, 0), symbol='FB', adj_close=275.54998779296875, close=275.54998779296875, high=276.0799865722656, low=267.4700012207031, open=274.8299865722656, volume=23979500.0)\n",
      "Row(date=datetime.datetime(2020, 12, 15, 0, 0), symbol='GOOGL', adj_close=1761.0799560546875, close=1761.0799560546875, high=1764.0, low=1741.6700439453125, open=1759.8599853515625, volume=1068300.0)\n",
      "Row(date=datetime.datetime(2020, 12, 15, 0, 0), symbol='MSFT', adj_close=214.1300048828125, close=214.1300048828125, high=215.4199981689453, low=212.24000549316406, open=215.1699981689453, volume=27018100.0)\n",
      "Row(date=datetime.datetime(2020, 12, 16, 0, 0), symbol='BYND', adj_close=139.3699951171875, close=139.3699951171875, high=141.60000610351562, low=137.6300048828125, open=138.14999389648438, volume=2210300.0)\n",
      "Row(date=datetime.datetime(2020, 12, 16, 0, 0), symbol='FB', adj_close=275.6700134277344, close=275.6700134277344, high=277.8599853515625, low=272.510009765625, open=274.760009765625, volume=15885000.0)\n",
      "Row(date=datetime.datetime(2020, 12, 16, 0, 0), symbol='GOOGL', adj_close=1757.18994140625, close=1757.18994140625, high=1769.1099853515625, low=1749.06005859375, open=1769.1099853515625, volume=1233800.0)\n",
      "Row(date=datetime.datetime(2020, 12, 16, 0, 0), symbol='MSFT', adj_close=219.27999877929688, close=219.27999877929688, high=220.11000061035156, low=214.72000122070312, open=214.75, volume=35023300.0)\n",
      "Row(date=datetime.datetime(2020, 12, 17, 0, 0), symbol='BYND', adj_close=143.22999572753906, close=143.22999572753906, high=143.89999389648438, low=138.89999389648438, open=140.0, volume=2947200.0)\n",
      "Row(date=datetime.datetime(2020, 12, 17, 0, 0), symbol='FB', adj_close=274.4800109863281, close=274.4800109863281, high=280.44000244140625, low=273.6099853515625, open=277.07000732421875, volume=16377800.0)\n",
      "Row(date=datetime.datetime(2020, 12, 17, 0, 0), symbol='GOOGL', adj_close=1740.510009765625, close=1740.510009765625, high=1766.7099609375, low=1731.1500244140625, open=1763.9300537109375, volume=1744000.0)\n",
      "Row(date=datetime.datetime(2020, 12, 17, 0, 0), symbol='MSFT', adj_close=219.4199981689453, close=219.4199981689453, high=220.88999938964844, low=217.9199981689453, open=219.8699951171875, volume=32515800.0)\n",
      "Row(date=datetime.datetime(2020, 12, 18, 0, 0), symbol='BYND', adj_close=144.72999572753906, close=144.72999572753906, high=145.7899932861328, low=141.89999389648438, open=143.22999572753906, volume=2686600.0)\n",
      "Row(date=datetime.datetime(2020, 12, 18, 0, 0), symbol='FB', adj_close=276.3999938964844, close=276.3999938964844, high=278.0, low=271.1400146484375, open=275.7699890136719, volume=26693200.0)\n",
      "Row(date=datetime.datetime(2020, 12, 18, 0, 0), symbol='GOOGL', adj_close=1726.219970703125, close=1726.219970703125, high=1748.3599853515625, low=1715.0, open=1746.1700439453125, volume=4262800.0)\n",
      "Row(date=datetime.datetime(2020, 12, 18, 0, 0), symbol='MSFT', adj_close=218.58999633789062, close=218.58999633789062, high=219.69000244140625, low=216.02000427246094, open=218.58999633789062, volume=63354900.0)\n",
      "Row(date=datetime.datetime(2020, 12, 21, 0, 0), symbol='BYND', adj_close=138.57000732421875, close=138.57000732421875, high=143.39999389648438, low=138.11000061035156, open=141.0, volume=3127400.0)\n",
      "Row(date=datetime.datetime(2020, 12, 21, 0, 0), symbol='FB', adj_close=272.7900085449219, close=272.7900085449219, high=274.6700134277344, low=267.7900085449219, open=272.9800109863281, volume=16553700.0)\n",
      "Row(date=datetime.datetime(2020, 12, 21, 0, 0), symbol='GOOGL', adj_close=1734.56005859375, close=1734.56005859375, high=1737.0, low=1694.0, open=1709.1300048828125, volume=1698700.0)\n",
      "Row(date=datetime.datetime(2020, 12, 21, 0, 0), symbol='MSFT', adj_close=222.58999633789062, close=222.58999633789062, high=224.0, low=217.27999877929688, open=217.5500030517578, volume=37181900.0)\n",
      "Row(date=datetime.datetime(2020, 12, 22, 0, 0), symbol='BYND', adj_close=138.67999267578125, close=138.67999267578125, high=141.4600067138672, low=136.4199981689453, open=140.0, volume=2285700.0)\n",
      "Row(date=datetime.datetime(2020, 12, 22, 0, 0), symbol='FB', adj_close=267.0899963378906, close=267.0899963378906, high=271.5, low=264.6300048828125, open=271.5, volume=17312900.0)\n",
      "Row(date=datetime.datetime(2020, 12, 22, 0, 0), symbol='GOOGL', adj_close=1720.219970703125, close=1720.219970703125, high=1732.6099853515625, low=1705.780029296875, open=1729.3299560546875, volume=1018500.0)\n",
      "Row(date=datetime.datetime(2020, 12, 22, 0, 0), symbol='MSFT', adj_close=223.94000244140625, close=223.94000244140625, high=225.6300048828125, low=221.85000610351562, open=222.69000244140625, volume=22612200.0)\n",
      "Row(date=datetime.datetime(2020, 12, 23, 0, 0), symbol='BYND', adj_close=139.9199981689453, close=139.9199981689453, high=141.1699981689453, low=136.13999938964844, open=138.7100067138672, volume=1790800.0)\n",
      "Row(date=datetime.datetime(2020, 12, 23, 0, 0), symbol='FB', adj_close=268.1099853515625, close=268.1099853515625, high=272.1700134277344, low=266.2300109863281, open=266.8900146484375, volume=14329000.0)\n",
      "Row(date=datetime.datetime(2020, 12, 23, 0, 0), symbol='GOOGL', adj_close=1728.22998046875, close=1728.22998046875, high=1744.1099853515625, low=1721.199951171875, open=1723.9300537109375, volume=1148700.0)\n",
      "Row(date=datetime.datetime(2020, 12, 23, 0, 0), symbol='MSFT', adj_close=221.02000427246094, close=221.02000427246094, high=223.55999755859375, low=220.8000030517578, open=223.11000061035156, volume=18699600.0)\n",
      "Row(date=datetime.datetime(2020, 12, 24, 0, 0), symbol='BYND', adj_close=136.58999633789062, close=136.58999633789062, high=140.39999389648438, low=135.05999755859375, open=139.58999633789062, volume=1969700.0)\n",
      "Row(date=datetime.datetime(2020, 12, 24, 0, 0), symbol='FB', adj_close=267.3999938964844, close=267.3999938964844, high=270.3999938964844, low=266.20001220703125, open=268.8800048828125, volume=6702000.0)\n",
      "Row(date=datetime.datetime(2020, 12, 24, 0, 0), symbol='GOOGL', adj_close=1734.1600341796875, close=1734.1600341796875, high=1742.4100341796875, low=1724.3499755859375, open=1729.0, volume=465600.0)\n",
      "Row(date=datetime.datetime(2020, 12, 24, 0, 0), symbol='MSFT', adj_close=222.75, close=222.75, high=223.61000061035156, low=221.1999969482422, open=221.4199981689453, volume=10550600.0)\n",
      "Row(date=datetime.datetime(2020, 12, 28, 0, 0), symbol='BYND', adj_close=126.44000244140625, close=126.44000244140625, high=137.35000610351562, low=126.33000183105469, open=136.64300537109375, volume=5988600.0)\n",
      "Row(date=datetime.datetime(2020, 12, 28, 0, 0), symbol='FB', adj_close=277.0, close=277.0, high=277.29998779296875, low=265.6600036621094, open=268.739990234375, volume=23299700.0)\n",
      "Row(date=datetime.datetime(2020, 12, 28, 0, 0), symbol='GOOGL', adj_close=1773.9599609375, close=1773.9599609375, high=1787.0, low=1741.8199462890625, open=1744.9100341796875, volume=1382500.0)\n",
      "Row(date=datetime.datetime(2020, 12, 28, 0, 0), symbol='MSFT', adj_close=224.9600067138672, close=224.9600067138672, high=226.02999877929688, low=223.02000427246094, open=224.4499969482422, volume=17933500.0)\n",
      "Row(date=datetime.datetime(2020, 12, 29, 0, 0), symbol='BYND', adj_close=125.9000015258789, close=125.9000015258789, high=129.9199981689453, low=123.87999725341797, open=127.7699966430664, volume=3489600.0)\n",
      "Row(date=datetime.datetime(2020, 12, 29, 0, 0), symbol='FB', adj_close=276.7799987792969, close=276.7799987792969, high=280.510009765625, low=276.2799987792969, open=276.95001220703125, volume=16383000.0)\n",
      "Row(date=datetime.datetime(2020, 12, 29, 0, 0), symbol='GOOGL', adj_close=1757.760009765625, close=1757.760009765625, high=1788.469970703125, low=1755.1099853515625, open=1787.22998046875, volume=986300.0)\n",
      "Row(date=datetime.datetime(2020, 12, 29, 0, 0), symbol='MSFT', adj_close=224.14999389648438, close=224.14999389648438, high=227.17999267578125, low=223.5800018310547, open=226.30999755859375, volume=17403200.0)\n",
      "Row(date=datetime.datetime(2020, 12, 30, 0, 0), symbol='BYND', adj_close=126.48999786376953, close=126.48999786376953, high=128.5800018310547, low=125.05999755859375, open=126.79000091552734, volume=2606000.0)\n",
      "Row(date=datetime.datetime(2020, 12, 30, 0, 0), symbol='FB', adj_close=271.8699951171875, close=271.8699951171875, high=278.0799865722656, low=271.7099914550781, open=277.95001220703125, volume=11803800.0)\n",
      "Row(date=datetime.datetime(2020, 12, 30, 0, 0), symbol='GOOGL', adj_close=1736.25, close=1736.25, high=1767.760009765625, low=1728.0, open=1765.0, volume=1051300.0)\n",
      "Row(date=datetime.datetime(2020, 12, 30, 0, 0), symbol='MSFT', adj_close=221.67999267578125, close=221.67999267578125, high=225.6300048828125, low=221.47000122070312, open=225.22999572753906, volume=20272300.0)\n",
      "Row(date=datetime.datetime(2020, 12, 31, 0, 0), symbol='BYND', adj_close=125.0, close=125.0, high=126.62000274658203, low=123.22000122070312, open=126.55999755859375, volume=2646100.0)\n",
      "Row(date=datetime.datetime(2020, 12, 31, 0, 0), symbol='FB', adj_close=273.1600036621094, close=273.1600036621094, high=277.0899963378906, low=269.80999755859375, open=272.0, volume=12892900.0)\n",
      "Row(date=datetime.datetime(2020, 12, 31, 0, 0), symbol='GOOGL', adj_close=1752.6400146484375, close=1752.6400146484375, high=1757.5, low=1736.0899658203125, open=1737.27001953125, volume=1052900.0)\n",
      "Row(date=datetime.datetime(2020, 12, 31, 0, 0), symbol='MSFT', adj_close=222.4199981689453, close=222.4199981689453, high=223.0, low=219.67999267578125, open=221.6999969482422, volume=20926900.0)\n",
      "Row(date=datetime.datetime(2021, 1, 4, 0, 0), symbol='BYND', adj_close=125.56999969482422, close=125.56999969482422, high=126.08000183105469, low=121.5999984741211, open=125.83000183105469, volume=2912300.0)\n",
      "Row(date=datetime.datetime(2021, 1, 4, 0, 0), symbol='FB', adj_close=268.94000244140625, close=268.94000244140625, high=275.0, low=265.20001220703125, open=274.7799987792969, volume=15106100.0)\n",
      "Row(date=datetime.datetime(2021, 1, 4, 0, 0), symbol='GOOGL', adj_close=1726.1300048828125, close=1726.1300048828125, high=1762.489990234375, low=1707.1400146484375, open=1760.0, volume=1866200.0)\n",
      "Row(date=datetime.datetime(2021, 1, 4, 0, 0), symbol='MSFT', adj_close=217.69000244140625, close=217.69000244140625, high=223.0, low=214.80999755859375, open=222.52999877929688, volume=37130100.0)\n",
      "Row(date=datetime.datetime(2021, 1, 5, 0, 0), symbol='BYND', adj_close=126.06999969482422, close=126.06999969482422, high=128.8800048828125, low=124.31999969482422, open=125.55000305175781, volume=2368000.0)\n",
      "Row(date=datetime.datetime(2021, 1, 5, 0, 0), symbol='FB', adj_close=270.9700012207031, close=270.9700012207031, high=272.3999938964844, low=268.2099914550781, open=268.2900085449219, volume=9855800.0)\n",
      "Row(date=datetime.datetime(2021, 1, 5, 0, 0), symbol='GOOGL', adj_close=1740.050048828125, close=1740.050048828125, high=1746.8299560546875, low=1716.9000244140625, open=1725.0899658203125, volume=1017100.0)\n",
      "Row(date=datetime.datetime(2021, 1, 5, 0, 0), symbol='MSFT', adj_close=217.89999389648438, close=217.89999389648438, high=218.52000427246094, low=215.6999969482422, open=217.25999450683594, volume=23800200.0)\n",
      "Row(date=datetime.datetime(2021, 1, 6, 0, 0), symbol='BYND', adj_close=117.62999725341797, close=117.62999725341797, high=125.7698974609375, low=117.36000061035156, open=123.28500366210938, volume=8372822.0)\n",
      "Row(date=datetime.datetime(2021, 1, 6, 0, 0), symbol='FB', adj_close=263.30999755859375, close=263.30999755859375, high=267.75, low=260.010009765625, open=262.0, volume=23302984.0)\n",
      "Row(date=datetime.datetime(2021, 1, 6, 0, 0), symbol='GOOGL', adj_close=1722.8800048828125, close=1722.8800048828125, high=1743.9649658203125, low=1696.6119384765625, open=1700.260009765625, volume=2257928.0)\n",
      "Row(date=datetime.datetime(2021, 1, 6, 0, 0), symbol='MSFT', adj_close=212.25, close=212.25, high=216.48989868164062, low=211.94000244140625, open=212.1699981689453, volume=34595343.0)\n",
      "Row(date=datetime.datetime(2021, 1, 7, 0, 0), symbol='BYND', adj_close=120.69999694824219, close=120.69999694824219, high=121.5, low=116.5, open=119.5, volume=4585100.0)\n",
      "Row(date=datetime.datetime(2021, 1, 7, 0, 0), symbol='FB', adj_close=268.739990234375, close=268.739990234375, high=271.6099853515625, low=264.7799987792969, open=265.8999938964844, volume=15789800.0)\n",
      "Row(date=datetime.datetime(2021, 1, 7, 0, 0), symbol='GOOGL', adj_close=1774.3399658203125, close=1774.3399658203125, high=1777.8199462890625, low=1726.760009765625, open=1726.760009765625, volume=2096800.0)\n",
      "Row(date=datetime.datetime(2021, 1, 7, 0, 0), symbol='MSFT', adj_close=218.2899932861328, close=218.2899932861328, high=219.33999633789062, low=213.7100067138672, open=214.0399932861328, volume=27694500.0)\n",
      "Row(date=datetime.datetime(2021, 1, 8, 0, 0), symbol='BYND', adj_close=118.0999984741211, close=118.0999984741211, high=121.48999786376953, low=116.73699951171875, open=121.19999694824219, volume=4443900.0)\n",
      "Row(date=datetime.datetime(2021, 1, 8, 0, 0), symbol='FB', adj_close=267.57000732421875, close=267.57000732421875, high=268.95001220703125, low=263.17999267578125, open=268.30999755859375, volume=18528300.0)\n",
      "Row(date=datetime.datetime(2021, 1, 8, 0, 0), symbol='GOOGL', adj_close=1797.8299560546875, close=1797.8299560546875, high=1799.3599853515625, low=1761.219970703125, open=1777.1600341796875, volume=1774200.0)\n",
      "Row(date=datetime.datetime(2021, 1, 8, 0, 0), symbol='MSFT', adj_close=219.6199951171875, close=219.6199951171875, high=220.5800018310547, low=217.02999877929688, open=218.67999267578125, volume=22956200.0)\n",
      "Row(date=datetime.datetime(2021, 1, 11, 0, 0), symbol='BYND', adj_close=116.63999938964844, close=116.63999938964844, high=117.9800033569336, low=114.05000305175781, open=116.70999908447266, volume=3986300.0)\n",
      "Row(date=datetime.datetime(2021, 1, 11, 0, 0), symbol='FB', adj_close=256.8399963378906, close=256.8399963378906, high=263.4700012207031, low=255.89999389648438, open=260.4800109863281, volume=30412300.0)\n",
      "Row(date=datetime.datetime(2021, 1, 11, 0, 0), symbol='GOOGL', adj_close=1756.2900390625, close=1756.2900390625, high=1784.3800048828125, low=1752.1400146484375, open=1777.02001953125, volume=1740600.0)\n",
      "Row(date=datetime.datetime(2021, 1, 11, 0, 0), symbol='MSFT', adj_close=217.49000549316406, close=217.49000549316406, high=218.91000366210938, low=216.72999572753906, open=218.47000122070312, volume=23047000.0)\n",
      "Row(date=datetime.datetime(2021, 1, 12, 0, 0), symbol='BYND', adj_close=120.51000213623047, close=120.51000213623047, high=120.69999694824219, low=116.12000274658203, open=117.44999694824219, volume=3261900.0)\n",
      "Row(date=datetime.datetime(2021, 1, 12, 0, 0), symbol='FB', adj_close=251.08999633789062, close=251.08999633789062, high=259.7200012207031, low=250.3000030517578, open=256.6300048828125, volume=26449900.0)\n",
      "Row(date=datetime.datetime(2021, 1, 12, 0, 0), symbol='GOOGL', adj_close=1737.4300537109375, close=1737.4300537109375, high=1767.9000244140625, low=1716.3800048828125, open=1745.3599853515625, volume=1476400.0)\n",
      "Row(date=datetime.datetime(2021, 1, 12, 0, 0), symbol='MSFT', adj_close=214.92999267578125, close=214.92999267578125, high=217.10000610351562, low=213.32000732421875, open=216.5, volume=23249300.0)\n",
      "Row(date=datetime.datetime(2021, 1, 13, 0, 0), symbol='BYND', adj_close=125.3499984741211, close=125.3499984741211, high=128.80999755859375, low=120.21499633789062, open=120.93000030517578, volume=5691100.0)\n",
      "Row(date=datetime.datetime(2021, 1, 13, 0, 0), symbol='FB', adj_close=251.63999938964844, close=251.63999938964844, high=253.9499969482422, low=249.1999969482422, open=251.5500030517578, volume=19528900.0)\n",
      "Row(date=datetime.datetime(2021, 1, 13, 0, 0), symbol='GOOGL', adj_close=1747.25, close=1747.25, high=1756.3900146484375, low=1727.3199462890625, open=1727.3199462890625, volume=1171600.0)\n",
      "Row(date=datetime.datetime(2021, 1, 13, 0, 0), symbol='MSFT', adj_close=216.33999633789062, close=216.33999633789062, high=216.75999450683594, low=213.92999267578125, open=214.02000427246094, volume=20087100.0)\n",
      "Row(date=datetime.datetime(2021, 1, 14, 0, 0), symbol='BYND', adj_close=142.47000122070312, close=142.47000122070312, high=144.77999877929688, low=129.5, open=130.4969940185547, volume=12970600.0)\n",
      "Row(date=datetime.datetime(2021, 1, 14, 0, 0), symbol='FB', adj_close=245.63999938964844, close=245.63999938964844, high=255.02999877929688, low=244.61000061035156, open=253.39999389648438, volume=29739400.0)\n",
      "Row(date=datetime.datetime(2021, 1, 14, 0, 0), symbol='GOOGL', adj_close=1730.9200439453125, close=1730.9200439453125, high=1767.550048828125, low=1726.0699462890625, open=1748.8699951171875, volume=1460600.0)\n",
      "Row(date=datetime.datetime(2021, 1, 14, 0, 0), symbol='MSFT', adj_close=213.02000427246094, close=213.02000427246094, high=217.4600067138672, low=212.74000549316406, open=215.91000366210938, volume=29480800.0)\n",
      "Row(date=datetime.datetime(2021, 1, 15, 0, 0), symbol='BYND', adj_close=140.10000610351562, close=140.10000610351562, high=143.8000030517578, low=135.8300018310547, open=138.7469940185547, volume=5554200.0)\n",
      "Row(date=datetime.datetime(2021, 1, 15, 0, 0), symbol='FB', adj_close=251.36000061035156, close=251.36000061035156, high=253.86000061035156, low=247.16000366210938, open=247.89999389648438, volume=24786100.0)\n",
      "Row(date=datetime.datetime(2021, 1, 15, 0, 0), symbol='GOOGL', adj_close=1727.6199951171875, close=1727.6199951171875, high=1747.6199951171875, low=1711.7099609375, open=1729.02001953125, volume=1570200.0)\n",
      "Row(date=datetime.datetime(2021, 1, 15, 0, 0), symbol='MSFT', adj_close=212.64999389648438, close=212.64999389648438, high=214.50999450683594, low=212.02999877929688, open=213.52000427246094, volume=31691500.0)\n"
     ]
    }
   ],
   "source": [
    "geroon = spark.sql(\"SELECT * FROM dummy where open>100\")\n",
    "#result of sql are rdd\n",
    "for g in geroon.collect():\n",
    "    print(g)"
   ]
  },
  {
   "cell_type": "code",
   "execution_count": 70,
   "metadata": {
    "ExecuteTime": {
     "end_time": "2021-01-19T05:08:49.148628Z",
     "start_time": "2021-01-19T05:08:49.131006Z"
    }
   },
   "outputs": [
    {
     "data": {
      "text/plain": [
       "[('spark.sql.catalogImplementation', 'hive'),\n",
       " ('spark.master', 'spark://master:7077'),\n",
       " ('spark.rdd.compress', 'True'),\n",
       " ('spark.driver.host', 'master'),\n",
       " ('spark.driver.port', '34939'),\n",
       " ('spark.serializer.objectStreamReset', '100'),\n",
       " ('spark.submit.pyFiles', ''),\n",
       " ('spark.executor.id', 'driver'),\n",
       " ('spark.submit.deployMode', 'client'),\n",
       " ('spark.app.id', 'app-20210118100727-0000'),\n",
       " ('spark.app.name', 'PySparkShell'),\n",
       " ('spark.ui.showConsoleProgress', 'true')]"
      ]
     },
     "execution_count": 70,
     "metadata": {},
     "output_type": "execute_result"
    }
   ],
   "source": [
    "sc.getConf().getAll()"
   ]
  },
  {
   "cell_type": "code",
   "execution_count": 98,
   "metadata": {
    "ExecuteTime": {
     "end_time": "2021-01-23T07:25:51.691496Z",
     "start_time": "2021-01-23T07:25:51.606700Z"
    }
   },
   "outputs": [
    {
     "data": {
      "text/html": [
       "<div>\n",
       "<style scoped>\n",
       "    .dataframe tbody tr th:only-of-type {\n",
       "        vertical-align: middle;\n",
       "    }\n",
       "\n",
       "    .dataframe tbody tr th {\n",
       "        vertical-align: top;\n",
       "    }\n",
       "\n",
       "    .dataframe thead th {\n",
       "        text-align: right;\n",
       "    }\n",
       "</style>\n",
       "<table border=\"1\" class=\"dataframe\">\n",
       "  <thead>\n",
       "    <tr style=\"text-align: right;\">\n",
       "      <th></th>\n",
       "      <th>date</th>\n",
       "      <th>symbol</th>\n",
       "      <th>adj_close</th>\n",
       "      <th>close</th>\n",
       "      <th>high</th>\n",
       "      <th>low</th>\n",
       "      <th>open</th>\n",
       "      <th>volume</th>\n",
       "    </tr>\n",
       "  </thead>\n",
       "  <tbody>\n",
       "    <tr>\n",
       "      <th>0</th>\n",
       "      <td>2020-11-09</td>\n",
       "      <td>BYND</td>\n",
       "      <td>150.500000</td>\n",
       "      <td>150.500000</td>\n",
       "      <td>170.800003</td>\n",
       "      <td>141.251999</td>\n",
       "      <td>164.369995</td>\n",
       "      <td>21307500.0</td>\n",
       "    </tr>\n",
       "    <tr>\n",
       "      <th>1</th>\n",
       "      <td>2020-11-09</td>\n",
       "      <td>FB</td>\n",
       "      <td>278.769989</td>\n",
       "      <td>278.769989</td>\n",
       "      <td>292.579987</td>\n",
       "      <td>278.529999</td>\n",
       "      <td>289.869995</td>\n",
       "      <td>25117700.0</td>\n",
       "    </tr>\n",
       "  </tbody>\n",
       "</table>\n",
       "</div>"
      ],
      "text/plain": [
       "        date symbol   adj_close       close        high         low  \\\n",
       "0 2020-11-09   BYND  150.500000  150.500000  170.800003  141.251999   \n",
       "1 2020-11-09     FB  278.769989  278.769989  292.579987  278.529999   \n",
       "\n",
       "         open      volume  \n",
       "0  164.369995  21307500.0  \n",
       "1  289.869995  25117700.0  "
      ]
     },
     "execution_count": 98,
     "metadata": {},
     "output_type": "execute_result"
    }
   ],
   "source": [
    "df. "
   ]
  },
  {
   "cell_type": "markdown",
   "metadata": {},
   "source": [
    "# Machine learning"
   ]
  },
  {
   "cell_type": "code",
   "execution_count": 107,
   "metadata": {
    "ExecuteTime": {
     "end_time": "2021-01-23T07:48:51.489555Z",
     "start_time": "2021-01-23T07:48:51.486165Z"
    }
   },
   "outputs": [],
   "source": [
    "from pyspark.ml.regression import LinearRegression\n",
    "from pyspark.ml.linalg import Vectors\n",
    "from pyspark.ml.feature import VectorAssembler"
   ]
  },
  {
   "cell_type": "code",
   "execution_count": 110,
   "metadata": {
    "ExecuteTime": {
     "end_time": "2021-01-23T07:51:11.349386Z",
     "start_time": "2021-01-23T07:51:11.341397Z"
    }
   },
   "outputs": [],
   "source": [
    "assembler = VectorAssembler (inputCols=['high','open','low','volume'],outputCol='features')"
   ]
  },
  {
   "cell_type": "code",
   "execution_count": 111,
   "metadata": {
    "ExecuteTime": {
     "end_time": "2021-01-23T07:51:12.368141Z",
     "start_time": "2021-01-23T07:51:12.235199Z"
    }
   },
   "outputs": [],
   "source": [
    "data_2 = assembler.transform(df)"
   ]
  },
  {
   "cell_type": "code",
   "execution_count": 114,
   "metadata": {
    "ExecuteTime": {
     "end_time": "2021-01-23T07:51:57.368973Z",
     "start_time": "2021-01-23T07:51:57.274552Z"
    }
   },
   "outputs": [
    {
     "name": "stdout",
     "output_type": "stream",
     "text": [
      "+--------------------+\n",
      "|            features|\n",
      "+--------------------+\n",
      "|[170.800003051757...|\n",
      "|[292.579986572265...|\n",
      "+--------------------+\n",
      "only showing top 2 rows\n",
      "\n"
     ]
    }
   ],
   "source": [
    "data_2.select('features').show(2)"
   ]
  },
  {
   "cell_type": "code",
   "execution_count": 115,
   "metadata": {
    "ExecuteTime": {
     "end_time": "2021-01-23T07:52:53.921065Z",
     "start_time": "2021-01-23T07:52:53.908376Z"
    }
   },
   "outputs": [],
   "source": [
    "traindf, testdf = data_2.randomSplit([0.5,0.5])\n"
   ]
  },
  {
   "cell_type": "code",
   "execution_count": 116,
   "metadata": {
    "ExecuteTime": {
     "end_time": "2021-01-23T07:53:10.479734Z",
     "start_time": "2021-01-23T07:53:10.473292Z"
    }
   },
   "outputs": [],
   "source": [
    "model = LinearRegression(maxIter=10, regParam=0.3, elasticNetParam=0.8)"
   ]
  },
  {
   "cell_type": "code",
   "execution_count": 118,
   "metadata": {
    "ExecuteTime": {
     "end_time": "2021-01-23T07:57:35.919957Z",
     "start_time": "2021-01-23T07:57:34.752822Z"
    }
   },
   "outputs": [],
   "source": [
    "fitted = model.fit(traindf.withColumnRenamed('close','label'))"
   ]
  },
  {
   "cell_type": "code",
   "execution_count": 123,
   "metadata": {
    "ExecuteTime": {
     "end_time": "2021-01-23T07:59:18.165732Z",
     "start_time": "2021-01-23T07:59:17.983151Z"
    }
   },
   "outputs": [],
   "source": [
    "evaluation_summary = fitted.evaluate(testdf.withColumnRenamed('close','label'))"
   ]
  },
  {
   "cell_type": "code",
   "execution_count": 127,
   "metadata": {
    "ExecuteTime": {
     "end_time": "2021-01-23T08:00:19.564461Z",
     "start_time": "2021-01-23T08:00:19.557586Z"
    }
   },
   "outputs": [
    {
     "data": {
      "text/plain": [
       "(3.429794765743681, 6.561775574980009, 0.9998722474928915)"
      ]
     },
     "execution_count": 127,
     "metadata": {},
     "output_type": "execute_result"
    }
   ],
   "source": [
    "evaluation_summary.meanAbsoluteError , evaluation_summary.rootMeanSquaredError , evaluation_summary.r2"
   ]
  },
  {
   "cell_type": "code",
   "execution_count": 128,
   "metadata": {
    "ExecuteTime": {
     "end_time": "2021-01-23T08:00:45.732982Z",
     "start_time": "2021-01-23T08:00:45.713499Z"
    }
   },
   "outputs": [],
   "source": [
    "predictions = fitted.transform(testdf)"
   ]
  },
  {
   "cell_type": "code",
   "execution_count": 130,
   "metadata": {
    "ExecuteTime": {
     "end_time": "2021-01-23T08:01:22.832261Z",
     "start_time": "2021-01-23T08:01:22.698868Z"
    }
   },
   "outputs": [
    {
     "name": "stdout",
     "output_type": "stream",
     "text": [
      "+------------------+-----------------+\n",
      "|             close|       prediction|\n",
      "+------------------+-----------------+\n",
      "|161.83999633789062|165.9013753221952|\n",
      "|  274.260009765625|277.0192575809388|\n",
      "+------------------+-----------------+\n",
      "only showing top 2 rows\n",
      "\n"
     ]
    }
   ],
   "source": [
    "predictions.select(['close','prediction']).show(2)"
   ]
  },
  {
   "cell_type": "code",
   "execution_count": 135,
   "metadata": {
    "ExecuteTime": {
     "end_time": "2021-01-24T06:18:12.987169Z",
     "start_time": "2021-01-24T06:18:12.971082Z"
    }
   },
   "outputs": [],
   "source": [
    "haa = predictions.select(['close','prediction'])"
   ]
  },
  {
   "cell_type": "code",
   "execution_count": 137,
   "metadata": {
    "ExecuteTime": {
     "end_time": "2021-01-24T06:18:24.662262Z",
     "start_time": "2021-01-24T06:18:24.530675Z"
    }
   },
   "outputs": [
    {
     "name": "stdout",
     "output_type": "stream",
     "text": [
      "+------------------+-----------------+\n",
      "|             close|       prediction|\n",
      "+------------------+-----------------+\n",
      "|161.83999633789062|165.9013753221952|\n",
      "|  274.260009765625|277.0192575809388|\n",
      "+------------------+-----------------+\n",
      "only showing top 2 rows\n",
      "\n"
     ]
    }
   ],
   "source": [
    "haa.show(2)"
   ]
  },
  {
   "cell_type": "code",
   "execution_count": 134,
   "metadata": {
    "ExecuteTime": {
     "end_time": "2021-01-23T08:04:29.239055Z",
     "start_time": "2021-01-23T08:04:29.168926Z"
    }
   },
   "outputs": [
    {
     "data": {
      "text/plain": [
       "[161.83999633789062, 274.260009765625, 1567.780029296875, 33.639999389648445]"
      ]
     },
     "execution_count": 134,
     "metadata": {},
     "output_type": "execute_result"
    }
   ],
   "source": [
    "labels = predictions.select(\"\")"
   ]
  },
  {
   "cell_type": "code",
   "execution_count": 94,
   "metadata": {
    "ExecuteTime": {
     "end_time": "2021-01-20T06:16:22.297732Z",
     "start_time": "2021-01-20T06:16:21.617101Z"
    }
   },
   "outputs": [
    {
     "name": "stdout",
     "output_type": "stream",
     "text": [
      "+------+------+\n",
      "|symbol|   avg|\n",
      "+------+------+\n",
      "| GOOGL|1730.9|\n",
      "|    FB|271.64|\n",
      "|  MSFT|214.45|\n",
      "|  BYND|136.35|\n",
      "|    LB|  38.1|\n",
      "|  SPCE| 24.24|\n",
      "+------+------+\n",
      "\n"
     ]
    }
   ],
   "source": [
    "df.groupBy(\"symbol\").agg(func.round(func.avg(\"close\"),2).alias(\"avg\")).orderBy(func.desc( 'avg')).show()"
   ]
  },
  {
   "cell_type": "markdown",
   "metadata": {},
   "source": [
    "# Decision Tree"
   ]
  },
  {
   "cell_type": "code",
   "execution_count": 138,
   "metadata": {
    "ExecuteTime": {
     "end_time": "2021-01-24T06:23:40.810453Z",
     "start_time": "2021-01-24T06:23:40.807601Z"
    }
   },
   "outputs": [],
   "source": [
    "from pyspark.ml.regression import DecisionTreeRegressor"
   ]
  },
  {
   "cell_type": "code",
   "execution_count": 151,
   "metadata": {
    "ExecuteTime": {
     "end_time": "2021-01-24T06:27:53.343337Z",
     "start_time": "2021-01-24T06:27:53.333619Z"
    }
   },
   "outputs": [],
   "source": [
    "m = DecisionTreeRegressor().setLabelCol(\"close\")\n"
   ]
  },
  {
   "cell_type": "code",
   "execution_count": 152,
   "metadata": {
    "ExecuteTime": {
     "end_time": "2021-01-24T06:28:06.190578Z",
     "start_time": "2021-01-24T06:28:05.747350Z"
    }
   },
   "outputs": [],
   "source": [
    "ft = m.fit(traindf)"
   ]
  },
  {
   "cell_type": "code",
   "execution_count": 153,
   "metadata": {
    "ExecuteTime": {
     "end_time": "2021-01-24T06:28:08.062218Z",
     "start_time": "2021-01-24T06:28:08.034574Z"
    }
   },
   "outputs": [],
   "source": [
    "pred = ft.transform(testdf)"
   ]
  },
  {
   "cell_type": "code",
   "execution_count": 155,
   "metadata": {
    "ExecuteTime": {
     "end_time": "2021-01-24T06:30:23.889034Z",
     "start_time": "2021-01-24T06:30:23.817968Z"
    }
   },
   "outputs": [],
   "source": [
    "prv = pred.select(\"prediction\").rdd.map(lambda x: x[0])"
   ]
  },
  {
   "cell_type": "code",
   "execution_count": 156,
   "metadata": {
    "ExecuteTime": {
     "end_time": "2021-01-24T06:31:01.387152Z",
     "start_time": "2021-01-24T06:31:01.338877Z"
    }
   },
   "outputs": [],
   "source": [
    "labl = pred.select('close').rdd.map(lambda x:x[0])\n"
   ]
  },
  {
   "cell_type": "code",
   "execution_count": null,
   "metadata": {},
   "outputs": [],
   "source": [
    "predAndLabel = prv.zip(labl).collect()"
   ]
  }
 ],
 "metadata": {
  "kernelspec": {
   "display_name": "Python 3",
   "language": "python",
   "name": "python3"
  },
  "language_info": {
   "codemirror_mode": {
    "name": "ipython",
    "version": 3
   },
   "file_extension": ".py",
   "mimetype": "text/x-python",
   "name": "python",
   "nbconvert_exporter": "python",
   "pygments_lexer": "ipython3",
   "version": "3.8.5"
  },
  "toc": {
   "base_numbering": 1,
   "nav_menu": {},
   "number_sections": true,
   "sideBar": true,
   "skip_h1_title": false,
   "title_cell": "Table of Contents",
   "title_sidebar": "Contents",
   "toc_cell": false,
   "toc_position": {},
   "toc_section_display": true,
   "toc_window_display": false
  }
 },
 "nbformat": 4,
 "nbformat_minor": 4
}
