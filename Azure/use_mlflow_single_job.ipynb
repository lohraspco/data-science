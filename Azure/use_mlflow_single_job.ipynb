{
 "cells": [
  {
   "cell_type": "code",
   "execution_count": null,
   "metadata": {},
   "outputs": [],
   "source": []
  },
  {
   "cell_type": "code",
   "execution_count": 1,
   "metadata": {},
   "outputs": [
    {
     "name": "stderr",
     "output_type": "stream",
     "text": [
      "/tmp/ipykernel_50005/2830835052.py:11: TqdmWarning: IProgress not found. Please update jupyter and ipywidgets. See https://ipywidgets.readthedocs.io/en/stable/user_install.html\n",
      "  from tqdm.autonotebook import tqdm\n"
     ]
    }
   ],
   "source": [
    "import pandas as pd\n",
    "import pyarrow.parquet as pa\n",
    "import pyarrow.dataset as ds\n",
    "\n",
    "from azure.ai.ml import MLClient\n",
    "from azure.identity import ClientSecretCredential\n",
    "from azure.mgmt.storage import StorageManagementClient\n",
    "from azure.ai.ml import Input, Output, command\n",
    "from azureml.core import Workspace\n",
    "from azureml.fsspec import AzureMachineLearningFileSystem\n",
    "from tqdm.autonotebook import tqdm\n",
    "import sys, os\n",
    "from azure.ai.ml.entities import Data\n",
    "from azure.ai.ml.constants import AssetTypes\n",
    "from azure.ai.ml.entities import Environment"
   ]
  },
  {
   "cell_type": "code",
   "execution_count": 2,
   "metadata": {},
   "outputs": [],
   "source": [
    "# At the time I developed this code I couldn't find any SDK V2 version to do this\n",
    "\n",
    "ws = Workspace.from_config()\n",
    "kv = ws.get_default_keyvault()"
   ]
  },
  {
   "cell_type": "code",
   "execution_count": 3,
   "metadata": {},
   "outputs": [],
   "source": [
    "sp_id = kv.get_secret('SP-APPID')\n",
    "sp_secret = kv.get_secret('SP-SECRET')\n",
    "tenant_id = kv.get_secret('TENANT-ID')"
   ]
  },
  {
   "cell_type": "code",
   "execution_count": 4,
   "metadata": {},
   "outputs": [],
   "source": [
    "\n",
    "credentials = ClientSecretCredential(tenant_id,sp_id,sp_secret)\n",
    "ml_client = MLClient(credentials, ws.subscription_id,ws.resource_group, ws._workspace_name)"
   ]
  },
  {
   "cell_type": "markdown",
   "metadata": {},
   "source": [
    "# Create new env"
   ]
  },
  {
   "cell_type": "code",
   "execution_count": 5,
   "metadata": {},
   "outputs": [
    {
     "name": "stdout",
     "output_type": "stream",
     "text": [
      "env/env3.yml\n"
     ]
    }
   ],
   "source": [
    "dependencies_dir = \"./env\"\n",
    "os.makedirs(dependencies_dir, exist_ok=True)\n",
    "def create_environment(custom_env_name, dependencies_dir):\n",
    "    file_path = os.path.join (dependencies_dir,f\"{custom_env_name}.yml\")\n",
    "    print(file_path)\n",
    "\n",
    "    assert os.path.isfile(file_path)\n",
    "    job_env = Environment(\n",
    "        name=custom_env_name,\n",
    "        description=\"mlflow sklearn environment\",\n",
    "        conda_file=os.path.join(dependencies_dir, f\"{custom_env_name}.yml\"),\n",
    "        image=\"mcr.microsoft.com/azureml/openmpi4.1.0-ubuntu20.04:latest\",\n",
    "        )\n",
    "    job_env = ml_client.environments.create_or_update(job_env)\n",
    "    return job_env\n",
    "env2 = create_environment(\"env3\", \"env\")"
   ]
  },
  {
   "cell_type": "code",
   "execution_count": null,
   "metadata": {},
   "outputs": [],
   "source": [
    "for env in ml_client.environments.list():\n",
    "    print(env.name, env.latest_version)"
   ]
  },
  {
   "cell_type": "code",
   "execution_count": 7,
   "metadata": {},
   "outputs": [],
   "source": [
    "env = ml_client.environments.get(\"env3\",\"2\")"
   ]
  },
  {
   "cell_type": "code",
   "execution_count": 9,
   "metadata": {},
   "outputs": [],
   "source": [
    "cpu_compute_target_name = \"CLUSTER-001\"\n",
    "cpu_compute_target = ml_client.compute.get(cpu_compute_target_name)"
   ]
  },
  {
   "cell_type": "markdown",
   "metadata": {},
   "source": [
    "# Data"
   ]
  },
  {
   "cell_type": "markdown",
   "metadata": {},
   "source": [
    "## datastore"
   ]
  },
  {
   "cell_type": "code",
   "execution_count": 10,
   "metadata": {},
   "outputs": [
    {
     "name": "stdout",
     "output_type": "stream",
     "text": [
      "azureml_globaldatasets\n",
      "workspaceworkingdirectory\n",
      "workspacefilestore\n",
      "workspaceartifactstore\n",
      "workspaceblobstore\n"
     ]
    }
   ],
   "source": [
    "for ds in ml_client.datastores.list():\n",
    "    print(ds.name)"
   ]
  },
  {
   "cell_type": "code",
   "execution_count": 11,
   "metadata": {},
   "outputs": [],
   "source": [
    "blb_store = ml_client.datastores.get(\"workspaceblobstore\")"
   ]
  },
  {
   "cell_type": "markdown",
   "metadata": {},
   "source": [
    "## Upload to azure"
   ]
  },
  {
   "cell_type": "markdown",
   "metadata": {},
   "source": [
    "### parquet files"
   ]
  },
  {
   "cell_type": "code",
   "execution_count": 12,
   "metadata": {},
   "outputs": [
    {
     "name": "stderr",
     "output_type": "stream",
     "text": [
      "\u001b[32mUploading price_promo_compass.parquet (5.49 MBs): 100%|████████████████████████████████████████████████████████████████████████████████████████████████████████████████████████████████████████████████████████████████████████████████████████████████████████████████████████████████████████████████████████████████████████████████████████████████████████████████████████████████████████████████████████████████████████████████████████████████████████████████████████████████████████████████████████████████████████████████████████████████████████████████████████████████████████████████████████████████████████████████████████████████████████████████████████████████████████████████████████████████████████████████████████████████████████████████████████████████████████████████████████████████████████████████████████████████████████████████████████████████████████████████████████████████████████████████████████████████████████████████████████████████| 5487092/5487092 [00:00<00:00, 12899661.92it/s]\u001b[0m\n",
      "\u001b[39m\n",
      "\n"
     ]
    },
    {
     "data": {
      "text/plain": [
       "Data({'skip_validation': False, 'mltable_schema_url': None, 'referenced_uris': None, 'type': 'uri_folder', 'is_anonymous': False, 'auto_increment_version': False, 'name': 'price_promo_compass_5cat_2023_w38', 'description': 'price_promo_compass for 5 categories 050_026_233_227_239 for week 2023-W38', 'tags': {}, 'properties': {}, 'print_as_yaml': True, 'id': '/subscriptions/4af96d0b-502f-44fc-a9b8-18cef735f3f6/resourceGroups/KHAZ-EUS2-RG-USO9-001-EXPD/providers/Microsoft.MachineLearningServices/workspaces/ML-EXPD-CI5220-USO9-001/data/price_promo_compass_5cat_2023_w38/versions/3', 'Resource__source_path': None, 'base_path': '/mnt/batch/tasks/shared/LS_root/mounts/clusters/matt-uso9-expd-ci03/code/Users/mohammad.najarian/azureml_practice', 'creation_context': <azure.ai.ml.entities._system_data.SystemData object at 0x7fe18558cbb0>, 'serialize': <msrest.serialization.Serializer object at 0x7fe18558c5b0>, 'version': '3', 'latest_version': None, 'path': 'azureml://subscriptions/4af96d0b-502f-44fc-a9b8-18cef735f3f6/resourcegroups/KHAZ-EUS2-RG-USO9-001-EXPD/workspaces/ML-EXPD-CI5220-USO9-001/datastores/workspaceblobstore/paths/LocalUpload/835fec20e11586397a91da43a5b68043/price_promo_compass.parquet/', 'datastore': None})"
      ]
     },
     "execution_count": 12,
     "metadata": {},
     "output_type": "execute_result"
    }
   ],
   "source": [
    "data_path = \"data\"\n",
    "file_name = \"promotion\"\n",
    "ship_df = pd.read_csv(f\"{data_path}{file_name}.csv\", dtype=str)\n",
    "ship_df.to_parquet(f\"{data_path}{file_name}.parquet\",partition_cols=[\"Item.[L6]\"],index=False)\n",
    "\n",
    "ship_data = Data(\n",
    "    name=f\"{file_name}_5cat_2023_w38\",\n",
    "    description=f\"{file_name} for 5 partitions of data and week 2023-W38\",\n",
    "    path= f\"./{data_path}{file_name}.parquet\",\n",
    "    type=AssetTypes.URI_FOLDER,\n",
    ")\n",
    "ml_client.data.create_or_update(ship_data)"
   ]
  },
  {
   "cell_type": "markdown",
   "metadata": {},
   "source": [
    "### CSV files"
   ]
  },
  {
   "cell_type": "code",
   "execution_count": 13,
   "metadata": {},
   "outputs": [
    {
     "data": {
      "text/plain": [
       "Data({'skip_validation': False, 'mltable_schema_url': None, 'referenced_uris': None, 'type': 'uri_file', 'is_anonymous': False, 'auto_increment_version': False, 'name': 'prod_hierarchy_5cat_2023_w38', 'description': 'prod_hierarchy for 5 categories 050_026_233_227_239 for week 2023-W38', 'tags': {}, 'properties': {}, 'print_as_yaml': True, 'id': '/subscriptions/4af96d0b-502f-44fc-a9b8-18cef735f3f6/resourceGroups/KHAZ-EUS2-RG-USO9-001-EXPD/providers/Microsoft.MachineLearningServices/workspaces/ML-EXPD-CI5220-USO9-001/data/prod_hierarchy_5cat_2023_w38/versions/3', 'Resource__source_path': None, 'base_path': '/mnt/batch/tasks/shared/LS_root/mounts/clusters/matt-uso9-expd-ci03/code/Users/mohammad.najarian/azureml_practice', 'creation_context': <azure.ai.ml.entities._system_data.SystemData object at 0x7fe1873c7280>, 'serialize': <msrest.serialization.Serializer object at 0x7fe1873c6770>, 'version': '3', 'latest_version': None, 'path': 'azureml://subscriptions/4af96d0b-502f-44fc-a9b8-18cef735f3f6/resourcegroups/KHAZ-EUS2-RG-USO9-001-EXPD/workspaces/ML-EXPD-CI5220-USO9-001/datastores/workspaceblobstore/paths/LocalUpload/c89c6a41ab2304d12b35717084c5023c/prod_hierarchy.csv', 'datastore': None})"
      ]
     },
     "execution_count": 13,
     "metadata": {},
     "output_type": "execute_result"
    }
   ],
   "source": [
    "data_path = \"data\"\n",
    "file_name = \"prod_hierarchy\"\n",
    "ship_df = pd.read_csv(f\"{data_path}{file_name}.csv\", dtype=str)\n",
    "ship_data = Data(\n",
    "    name=f\"{file_name}_5part_2023_w38\",\n",
    "    description=f\"{file_name} for 5 partitions of data and week 2023-W38\",\n",
    "    path= f\"./{data_path}{file_name}.csv\",\n",
    "    type=AssetTypes.URI_FILE,\n",
    ")\n",
    "ml_client.data.create_or_update(ship_data)"
   ]
  },
  {
   "cell_type": "code",
   "execution_count": 14,
   "metadata": {},
   "outputs": [
    {
     "name": "stdout",
     "output_type": "stream",
     "text": [
      "data exists\n"
     ]
    }
   ],
   "source": [
    "try:\n",
    "    compass_data = ml_client.data.get(\"promotion\", version=1)\n",
    "    print(\"data exists\")\n",
    "except:\n",
    "    compass_data = Data(\n",
    "        name=\"promotion\",\n",
    "        description=\"the promotion data\",\n",
    "        path=\"./data/promotion_2022_W49.parquet/\",\n",
    "        type=AssetTypes.URI_FOLDER\n",
    "    )\n",
    "    ml_client.data.create_or_update(compass_data)\n",
    "    print(\"data diden't exist and we uploaded the data from local\")"
   ]
  },
  {
   "cell_type": "markdown",
   "metadata": {},
   "source": [
    "### get data objects"
   ]
  },
  {
   "cell_type": "code",
   "execution_count": null,
   "metadata": {},
   "outputs": [],
   "source": [
    "for dd in ml_client.data.list():\n",
    "    print(dd.name, dd.latest_version)\n"
   ]
  },
  {
   "cell_type": "code",
   "execution_count": 16,
   "metadata": {},
   "outputs": [],
   "source": [
    "gen_week = \"2023_w38\"\n",
    "tag = '5promo'\n",
    "price_promo_data = ml_client.data.get(f\"promotion_{tag}_{gen_week}\", version=1)\n",
    "shipment_data = ml_client.data.get(f\"shipment_{tag}_{gen_week}\", version=1)\n",
    "prod_hierarchy_data = ml_client.data.get(f\"prod_hierarchy_{tag}_{gen_week}\", version=1)\n",
    "holidays_data = ml_client.data.get(f\"holidays_{tag}_{gen_week}\", version=1)"
   ]
  },
  {
   "cell_type": "markdown",
   "metadata": {},
   "source": [
    "## Construct connection string"
   ]
  },
  {
   "cell_type": "code",
   "execution_count": null,
   "metadata": {},
   "outputs": [],
   "source": [
    "storage_client = StorageManagementClient(credentials, ws.subscription_id)\n",
    "keys = storage_client.storage_accounts.list_keys(ws.resource_group, blb_store.account_name)\n",
    "print(f\"Primary key for storage account: {keys.keys[0].value}\")\n",
    "conn_string = f\"DefaultEndpointsProtocol=https;EndpointSuffix=core.windows.net;AccountName={blb_store.account_name};AccountKey={keys.keys[0].value}\"\n",
    "\n"
   ]
  },
  {
   "cell_type": "code",
   "execution_count": 19,
   "metadata": {},
   "outputs": [],
   "source": [
    "aml_fs = AzureMachineLearningFileSystem(compass_data.path)\n",
    "files = aml_fs.glob()"
   ]
  },
  {
   "cell_type": "markdown",
   "metadata": {},
   "source": [
    "## Read data\n"
   ]
  },
  {
   "cell_type": "markdown",
   "metadata": {},
   "source": [
    "### Using AzureMachineLearningFileSystem (works)"
   ]
  },
  {
   "cell_type": "code",
   "execution_count": 23,
   "metadata": {},
   "outputs": [
    {
     "name": "stderr",
     "output_type": "stream",
     "text": [
      "  0%|                                                                                                                                                                                                                                                                                                                                                                                                                                                                                                                                                                                                                                                                                                                                                                                                                                                                                                                                                                                                            | 0/5 [00:00<?, ?it/s]"
     ]
    },
    {
     "name": "stderr",
     "output_type": "stream",
     "text": [
      "100%|████████████████████████████████████████████████████████████████████████████████████████████████████████████████████████████████████████████████████████████████████████████████████████████████████████████████████████████████████████████████████████████████████████████████████████████████████████████████████████████████████████████████████████████████████████████████████████████████████████████████████████████████████████████████████████████████████████████████████████████████████████████████████████████████████████████████████████████████████████████████████████████████████████████████████████████████████████████████████████████████████████████████████████████████████████████████████████████████████████████████████████████████████████████████████████████████████████████████████████████████████████████████████████████████████████████████████████████████████████████████████████████████████████████████████████████████████████████████████████████████████| 5/5 [00:00<00:00,  9.15it/s]\n"
     ]
    }
   ],
   "source": [
    "import pandas as pd\n",
    "\n",
    "# define the URI - update <> placeholders\n",
    "def read_parqut_from_azure(path, partition = None):\n",
    "\n",
    "\n",
    "    # create the filesystem\n",
    "    fs = AzureMachineLearningFileSystem(path)\n",
    "\n",
    "    # append csv files in folder to a list\n",
    "    dflist = []\n",
    "    if partition is not None:\n",
    "        path = path + partition\n",
    "    for path in tqdm (fs.ls()):\n",
    "        with fs.open(path) as f:\n",
    "            dflist.append(pd.read_parquet(f))\n",
    "\n",
    "    # # concatenate data frames\n",
    "    df = pd.concat(dflist)\n",
    "    return df\n",
    "df = read_parqut_from_azure(price_promo_data.path, 'Item.[L6]=227')"
   ]
  },
  {
   "cell_type": "code",
   "execution_count": 24,
   "metadata": {},
   "outputs": [
    {
     "data": {
      "text/plain": [
       "253.72820949554443"
      ]
     },
     "execution_count": 24,
     "metadata": {},
     "output_type": "execute_result"
    }
   ],
   "source": [
    "sys.getsizeof(df) / 2**20"
   ]
  },
  {
   "cell_type": "markdown",
   "metadata": {},
   "source": [
    "# Create Components"
   ]
  },
  {
   "cell_type": "code",
   "execution_count": 25,
   "metadata": {},
   "outputs": [],
   "source": [
    "from azure.ai.ml import Input, Output, command"
   ]
  },
  {
   "cell_type": "markdown",
   "metadata": {},
   "source": [
    "input types:  'uri_folder', 'uri_file', 'mltable', 'mlflow_model', 'custom_model', 'integer', 'number', 'string', and 'boolean'. Defaults to 'uri_folder'."
   ]
  },
  {
   "cell_type": "code",
   "execution_count": 26,
   "metadata": {},
   "outputs": [],
   "source": [
    "def command_gen(code_file=None, input=None, output=None):\n",
    "    \"\"\"A function to generate commands automatically\n",
    "\n",
    "    Args:\n",
    "        code_file (string, optional): file name. Defaults to None.\n",
    "        input (dict, optional): the inputs object. Defaults to None.\n",
    "        output (dict, optional): the outputs object. Defaults to None.\n",
    "\n",
    "    Returns:\n",
    "        string: the command\n",
    "    \"\"\"\n",
    "    cmd = f\"\"\"python {code_file} \"\"\"\n",
    "    if input is not None:\n",
    "        for k in input.keys():\n",
    "            cmd += \"\"\"--{0} ${1}{0}{2} \"\"\".format(k,\"{{inputs.\", \"}}  \")\n",
    "    if output is not None:\n",
    "        for k in output.keys():\n",
    "            cmd += \"\"\"--{0} ${1}{0}{2} \"\"\".format(k,\"{{outputs.\", \"}}  \")\n",
    "    return cmd\n"
   ]
  },
  {
   "cell_type": "code",
   "execution_count": 27,
   "metadata": {},
   "outputs": [
    {
     "data": {
      "text/plain": [
       "'2'"
      ]
     },
     "execution_count": 27,
     "metadata": {},
     "output_type": "execute_result"
    }
   ],
   "source": [
    "\n",
    "env.version"
   ]
  },
  {
   "cell_type": "code",
   "execution_count": 53,
   "metadata": {},
   "outputs": [
    {
     "name": "stderr",
     "output_type": "stream",
     "text": [
      "\u001b[32mUploading src (0.01 MBs): 100%|█████████████████████████████████████████████████████████████████████████████████████████████████████████████████████████████████████████████████████████████████████████████████████████████████████████████████████████████████████████████████████████████████████████████████████████████████████████████████████████████████████████████████████████████████████████████████████████████████████████████████████████████████████████████████████████████████████████████████████████████████████████████████████████████████████████████████████████████████████████████████████████████████████████████████████████████████████████████████████████████████████████████████████████████████████████████████████████████████████████████████████████████████████████████████████████████████████████████████████████████████████████████████████████████████████████████████████████████████████████████████████████████████████████████████████████████████| 9174/9174 [00:00<00:00, 83263.10it/s]\u001b[0m\n",
      "\u001b[39m\n",
      "\n"
     ]
    }
   ],
   "source": [
    "inputs={\n",
    "    \"shipment\" : Input(type='uri_folder'),\n",
    "    \"promotion\": Input(type=\"uri_folder\"),\n",
    "    \"holidays\":Input(type='uri_file'),\n",
    "    'product_hierarchy':Input(type='uri_file'),\n",
    "    'category':Input(type=\"number\"),\n",
    "    'generation_week':Input(type='string'),\n",
    "    'period':Input(type='string')\n",
    "}\n",
    "\n",
    "outputs={\n",
    "    'train_data':Output(type=\"uri_file\", mode=\"rw_mount\"),\n",
    "    'pred_data':Output(type=\"uri_file\", mode=\"rw_mount\"),\n",
    "}\n",
    "data_prep = command(\n",
    "    name=\"data_prep_hierarchical\",\n",
    "    display_name=\"data prep for hierarchical forecasting\",\n",
    "    description=\"read category data for hierarchical forecasting\",\n",
    "    inputs=inputs,\n",
    "    outputs=outputs,\n",
    "    code=\"./src\",\n",
    "    command=command_gen(\"prepare_data_v2.py\", inputs,outputs),\n",
    "    environment=f\"{env.name}:{env.version}\",\n",
    ")\n",
    "data_prep_component = ml_client.create_or_update(data_prep.component)"
   ]
  },
  {
   "cell_type": "code",
   "execution_count": 46,
   "metadata": {},
   "outputs": [],
   "source": [
    "data_prep = ml_client.components.get(\"data_prep_hierarchical\")"
   ]
  },
  {
   "cell_type": "markdown",
   "metadata": {},
   "source": [
    "# Create pipeline"
   ]
  },
  {
   "cell_type": "code",
   "execution_count": 47,
   "metadata": {},
   "outputs": [],
   "source": [
    "from azure.ai.ml import dsl\n",
    "\n",
    "\n",
    "@dsl.pipeline(\n",
    "    compute=cpu_compute_target if (cpu_compute_target) else \"serverless\",\n",
    "    description=\"hierarchical data_perp-train pipeline\",\n",
    ")\n",
    "def hierarchical_pipeline(\n",
    "    shipment_path, promotion_path, holiday_path, prod_hierarchy_path, category, generation_week\n",
    "):\n",
    "    data_prep_job = data_prep(\n",
    "        shipment=shipment_path,\n",
    "        promotion=promotion_path,\n",
    "        holidays=holiday_path,\n",
    "        product_hierarchy=prod_hierarchy_path,\n",
    "        category=category,\n",
    "        generation_week=generation_week,\n",
    "        period=\"W\",\n",
    "    )\n",
    "\n",
    "    return {\n",
    "        \"pipeline_job_train_data\": data_prep_job.outputs.train_data,\n",
    "        \"pipeline_job_test_data\": data_prep_job.outputs.pred_data,\n",
    "    }\n"
   ]
  },
  {
   "cell_type": "markdown",
   "metadata": {},
   "source": [
    "\n",
    "\n",
    "@dsl.pipeline(\n",
    "    compute=cpu_compute_target if (cpu_compute_target) else \"serverless\",\n",
    "    description=\"hierarchical data_perp-train pipeline\",\n",
    ")\n",
    "def hierarchical_pipeline(\n",
    "    shipment_path, promotion_path, holiday_path, prod_hierarchy_path, category\n",
    "):\n",
    "    data_prep_job = data_prep(\n",
    "        shipment=Input(type=\"uri_folder\", path=shipment_path),\n",
    "        promotion=Input(type=\"uri_folder\", path=promotion_path),\n",
    "        holidays=Input(type=\"uri_file\", path=holiday_path),\n",
    "        product_hierarchy=Input(type=\"uri_file\", path=prod_hierarchy_path),\n",
    "        category=category,\n",
    "        generation_week=\"2023-W16\",\n",
    "        period=\"W\",\n",
    "    )\n",
    "\n",
    "    return {\n",
    "        \"pipeline_job_train_data\": data_prep_job.outputs.train_data,\n",
    "        \"pipeline_job_test_data\": data_prep_job.outputs.pred_data,\n",
    "    }"
   ]
  },
  {
   "cell_type": "code",
   "execution_count": null,
   "metadata": {},
   "outputs": [],
   "source": [
    "read_parqut_from_azure(shipment_data.path,\"Item.[L6]=227\")"
   ]
  },
  {
   "cell_type": "code",
   "execution_count": 48,
   "metadata": {},
   "outputs": [],
   "source": [
    "gen_week = \"2023_w38\"\n",
    "tag = '5cat'\n",
    "price_promo_data = ml_client.data.get(f\"promotion{tag}_{gen_week}\", version=1)\n",
    "shipment_data = ml_client.data.get(f\"shipment_{tag}_{gen_week}\", version=1)\n",
    "prod_hierarchy_data = ml_client.data.get(f\"prod_hierarchy_{tag}_{gen_week}\", version=1)\n",
    "holidays_data = ml_client.data.get(f\"holidays_{tag}_{gen_week}\", version=1)"
   ]
  },
  {
   "cell_type": "code",
   "execution_count": 54,
   "metadata": {},
   "outputs": [
    {
     "name": "stdout",
     "output_type": "stream",
     "text": [
      "RunId: sharp_lock_qcmm60phsn\n",
      "Web View: https://ml.azure.com/runs/sharp_lock_qcmm60phsn?wsid=/subscriptions/4af96d0b-502f-44fc-a9b8-18cef735f3f6/resourcegroups/KHAZ-EUS2-RG-USO9-001-EXPD/workspaces/ML-EXPD-CI5220-USO9-001\n",
      "\n",
      "Streaming logs/azureml/executionlogs.txt\n",
      "========================================\n",
      "\n",
      "[2023-10-21 20:50:00Z] Submitting 1 runs, first five are: 5d825935:8ca997b5-93e8-4dc7-937c-860225427b0a\n",
      "[2023-10-21 20:55:34Z] Completing processing run id 8ca997b5-93e8-4dc7-937c-860225427b0a.\n",
      "\n",
      "Execution Summary\n",
      "=================\n",
      "RunId: sharp_lock_qcmm60phsn\n",
      "Web View: https://ml.azure.com/runs/sharp_lock_qcmm60phsn?wsid=/subscriptions/4af96d0b-502f-44fc-a9b8-18cef735f3f6/resourcegroups/KHAZ-EUS2-RG-USO9-001-EXPD/workspaces/ML-EXPD-CI5220-USO9-001\n",
      "\n"
     ]
    }
   ],
   "source": [
    "pipeline = hierarchical_pipeline(\n",
    "    shipment_path=Input(type=\"uri_folder\", path=shipment_data.path),\n",
    "    promotion_path=Input(type=\"uri_folder\", path=price_promo_data.path),\n",
    "    prod_hierarchy_path=Input(type=\"uri_file\", path=prod_hierarchy_data.path),\n",
    "    holiday_path=Input(type=\"uri_file\", path=holidays_data.path),\n",
    "    category=26,\n",
    "    generation_week=gen_week,\n",
    ")\n",
    "pipeline_job = ml_client.jobs.create_or_update(\n",
    "    pipeline, experiment_name=\"hierarchical_test_data_read\"\n",
    ")\n",
    "ml_client.jobs.stream(pipeline_job.name)\n"
   ]
  }
 ],
 "metadata": {
  "kernelspec": {
   "display_name": "azureml_py38",
   "language": "python",
   "name": "python3"
  },
  "language_info": {
   "codemirror_mode": {
    "name": "ipython",
    "version": 3
   },
   "file_extension": ".py",
   "mimetype": "text/x-python",
   "name": "python",
   "nbconvert_exporter": "python",
   "pygments_lexer": "ipython3",
   "version": "3.10.10"
  },
  "orig_nbformat": 4
 },
 "nbformat": 4,
 "nbformat_minor": 2
}
